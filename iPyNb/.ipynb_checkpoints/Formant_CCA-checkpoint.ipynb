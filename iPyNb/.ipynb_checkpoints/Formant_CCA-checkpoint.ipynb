{
 "metadata": {
  "name": "",
  "signature": "sha256:2ed0dfd7f06fd3c33f9c73933be253cf94e980a48c5f246644b1af03e802ed9b"
 },
 "nbformat": 3,
 "nbformat_minor": 0,
 "worksheets": [
  {
   "cells": [
    {
     "cell_type": "code",
     "collapsed": false,
     "input": [
      "#Intitialize\n",
      "%load_ext autoreload\n",
      "%autoreload 2\n",
      "%matplotlib inline\n",
      "import scipy as sp\n",
      "import scipy.stats as stats\n",
      "import numpy as np\n",
      "from sklearn.cross_validation import train_test_split, LeaveOneOut, LeaveOneLabelOut, ShuffleSplit\n",
      "from sklearn.decomposition import PCA\n",
      "from sklearn.cross_decomposition import CCA\n",
      "from sklearn.linear_model import Lars, Ridge\n",
      "import pandas as pd\n",
      "import pdb\n",
      "import prettyplotlib as ppl\n",
      "from BDutils import ProgressBar\n",
      "from scipy.signal import savgol_filter\n",
      "import seaborn as sns\n",
      "import matplotlib.gridspec as gridspec\n",
      "from ECoGstats import makeD_multi, smooth_formants, shuffle_df\n",
      "from __future__ import division\n",
      "from matplotlib.backends.backend_agg import (FigureCanvasAgg as FigureCanvas)\n"
     ],
     "language": "python",
     "metadata": {},
     "outputs": [
      {
       "output_type": "stream",
       "stream": "stdout",
       "text": [
        "The autoreload extension is already loaded. To reload it, use:\n",
        "  %reload_ext autoreload\n"
       ]
      }
     ],
     "prompt_number": 3
    },
    {
     "cell_type": "code",
     "collapsed": false,
     "input": [
      "def Ds2Xy(Es,Fs,anat,ncomp = 10,erange = np.arange(366,370),frange = np.arange(105,115),elects = range(256)):\n",
      "    #Feature labels\n",
      "    forms = ['F0','F1','F2','F3','F4']\n",
      "    \n",
      "    #Anatomy\n",
      "    #vSMC = np.concatenate((np.where(anat=='preCG')[0],np.where(anat=='postCG')[0]))\n",
      "    vSMC = np.array(elects)\n",
      "    #Formants\n",
      "    Fall = np.concatenate(Fs,axis=2)\n",
      "    dat = dict(zip(forms,np.nanmean(Fall[:,frange,:],axis = 1)))\n",
      "    Fmid = pd.DataFrame.from_dict(dat)\n",
      "    Fmid = Fmid.fillna(Fmid.median(),inplace=True)\n",
      "    F2_1 = pd.Series(Fmid['F2']/Fmid['F1'],name = 'F2/F1')\n",
      "    y = pd.concat((Fmid,F2_1),axis=1)\n",
      "    ##Adjacent Points\n",
      "    #tmp = pd.concat((y,y),axis = 0,ignore_index=True)\n",
      "    #y = pd.concat((tmp,y),axis = 0,ignore_index=True)\n",
      "    ##\n",
      "    y.apply(np.log10,axis = 0)\n",
      "    y = (y - y.mean())/y.std(ddof=0)\n",
      "    yrnd = shuffle_df(y,10,axis=0)\n",
      "    y = y.values\n",
      "    yrnd = yrnd.values\n",
      "    \n",
      "    Eall = np.concatenate(Es,axis=2)\n",
      "    Eall = Eall[vSMC,:,:]\n",
      "    X = np.nanmean(Eall[:,erange,:],axis = 1).transpose()\n",
      "    ##Adjacent Points\n",
      "    #X1 = np.nanmean(Eall[:,erange-4,:],axis = 1).transpose()\n",
      "    #X3 = np.nanmean(Eall[:,erange+4,:],axis = 1).transpose()\n",
      "    #X = np.concatenate((X,X1,X3),axis = 0)\n",
      "    ##\n",
      "    X = pd.DataFrame(X)\n",
      "    X = X.fillna(X.median(),inplace=True)\n",
      "    X = X.dropna(axis =1,how='any')\n",
      "    clf = PCA(n_components = ncomp) \n",
      "    clf.fit(X)\n",
      "    var_ex = clf.explained_variance_ratio_\n",
      "    plot(cumsum(var_ex))\n",
      "    X = clf.transform(X)\n",
      "    return X,y,yrnd"
     ],
     "language": "python",
     "metadata": {},
     "outputs": [],
     "prompt_number": 35
    },
    {
     "cell_type": "code",
     "collapsed": false,
     "input": [
      "def form_CCA(X,y,n_components,max_iter,boot):\n",
      "    r2 = np.empty((y.shape[1],boot))\n",
      "    score = np.empty((y.shape[1],boot))\n",
      "    yhat = np.empty((y.shape))\n",
      "    cnt = 0\n",
      "    for b in range(boot):\n",
      "        X_train, X_test, y_train, y_test = train_test_split(X, y, test_size=0.2)\n",
      "\n",
      "        cca = CCA(n_components=n_components,max_iter=max_iter)\n",
      "        cca.fit(X_train,y_train)\n",
      "        yhat = cca.predict(X_test)\n",
      "        score[:,b] = cca.score(X_test,y_test)\n",
      "        for c in range(y.shape[1]):\n",
      "            r = stats.pearsonr(yhat[:,c],y_test[:,c])[0]\n",
      "            r2[c,b] = r**2\n",
      "    return r2"
     ],
     "language": "python",
     "metadata": {},
     "outputs": [],
     "prompt_number": 32
    },
    {
     "cell_type": "code",
     "collapsed": false,
     "input": [
      "#Load data\n",
      "pth = '/Users/david_conant/Dropbox/Vowels/EC41/'\n",
      "blocks = [19,20,22,27]\n",
      "tokens = ['AAA','IYY','UWW']\n",
      "elects = [90,25,53,55,59,58,73,37,102,135,4]\n",
      "CV = 'split'\n",
      "boot = 200\n",
      "ncomp = 6\n",
      "\n",
      "window = np.array([-1, 1])\n",
      "[E,anat,stop_times,start_times] = makeD_multi(pth,blocks,tokens,align_window = window, dtype='HG')\n",
      "Es = [E[d] for d in tokens]\n",
      "window = np.array([-1, 1])\n",
      "[F,anat,stop_times,start_times] = makeD_multi(pth,blocks,tokens,align_window = window, dtype='form')\n",
      "Fs = [F[d] for d in tokens]\n",
      "stops = [stop_times[d] for d in tokens]\n",
      "starts = [start_times[d] for d in tokens]\n",
      "Fs = smooth_formants(Fs,starts,stops,window)\n",
      "\n",
      "#Over time\n",
      "r2 = np.empty((6,boot,200,6))\n",
      "prog = ProgressBar(200)\n",
      "for indt,t in enumerate(np.linspace(0,500,200)):\n",
      "    erange = np.arange(t,t+4)   #Try playing with window size\n",
      "\n",
      "    #Organize data into X and y\n",
      "    X,y,yrnd = Ds2Xy(Es,Fs,anat,ncomp = ncomp,erange = erange.astype(int),frange = np.arange(105,115),elects = elects)\n",
      "\n",
      "    #CCA\n",
      "    for inda,a in enumerate(range(1,6)):\n",
      "        r2[:,:,indt,inda] = form_CCA(X, y, n_components = a, max_iter=1000, boot = boot)\n",
      "    prog.animate(indt)"
     ],
     "language": "python",
     "metadata": {},
     "outputs": [
      {
       "output_type": "stream",
       "stream": "stdout",
       "text": [
        "File found; Loading...\n",
        "Loaded"
       ]
      },
      {
       "output_type": "stream",
       "stream": "stdout",
       "text": [
        "\n",
        "File found; Loading...\n",
        "Loaded"
       ]
      },
      {
       "output_type": "stream",
       "stream": "stdout",
       "text": [
        "\n",
        "\r"
       ]
      },
      {
       "output_type": "stream",
       "stream": "stdout",
       "text": [
        " [                       0%                       ]"
       ]
      },
      {
       "output_type": "stream",
       "stream": "stdout",
       "text": [
        "\r",
        " [                       1%                       ]  1 of 200 complete"
       ]
      },
      {
       "output_type": "stream",
       "stream": "stdout",
       "text": [
        "\r",
        " [                       1%                       ]  2 of 200 complete"
       ]
      },
      {
       "output_type": "stream",
       "stream": "stdout",
       "text": [
        "\r",
        " [*                      2%                       ]  3 of 200 complete"
       ]
      },
      {
       "output_type": "stream",
       "stream": "stdout",
       "text": [
        "\r",
        " [*                      2%                       ]  4 of 200 complete"
       ]
      },
      {
       "output_type": "stream",
       "stream": "stdout",
       "text": [
        "\r",
        " [*                      3%                       ]  5 of 200 complete"
       ]
      },
      {
       "output_type": "stream",
       "stream": "stdout",
       "text": [
        "\r",
        " [*                      3%                       ]  6 of 200 complete"
       ]
      },
      {
       "output_type": "stream",
       "stream": "stdout",
       "text": [
        "\r",
        " [**                     4%                       ]  7 of 200 complete"
       ]
      },
      {
       "output_type": "stream",
       "stream": "stdout",
       "text": [
        "\r",
        " [**                     4%                       ]  8 of 200 complete"
       ]
      },
      {
       "output_type": "stream",
       "stream": "stdout",
       "text": [
        "\r",
        " [**                     5%                       ]  9 of 200 complete"
       ]
      },
      {
       "output_type": "stream",
       "stream": "stdout",
       "text": [
        "\r",
        " [**                     5%                       ]  10 of 200 complete"
       ]
      },
      {
       "output_type": "stream",
       "stream": "stdout",
       "text": [
        "\r",
        " [***                    6%                       ]  11 of 200 complete"
       ]
      },
      {
       "output_type": "stream",
       "stream": "stdout",
       "text": [
        "\r",
        " [***                    6%                       ]  12 of 200 complete"
       ]
      },
      {
       "output_type": "stream",
       "stream": "stdout",
       "text": [
        "\r",
        " [***                    7%                       ]  13 of 200 complete"
       ]
      },
      {
       "output_type": "stream",
       "stream": "stdout",
       "text": [
        "\r",
        " [***                    7%                       ]  14 of 200 complete"
       ]
      },
      {
       "output_type": "stream",
       "stream": "stdout",
       "text": [
        "\r",
        " [****                   8%                       ]  15 of 200 complete"
       ]
      },
      {
       "output_type": "stream",
       "stream": "stdout",
       "text": [
        "\r",
        " [****                   8%                       ]  16 of 200 complete"
       ]
      },
      {
       "output_type": "stream",
       "stream": "stdout",
       "text": [
        "\r",
        " [****                   9%                       ]  17 of 200 complete"
       ]
      },
      {
       "output_type": "stream",
       "stream": "stdout",
       "text": [
        "\r",
        " [****                   9%                       ]  18 of 200 complete"
       ]
      },
      {
       "output_type": "stream",
       "stream": "stdout",
       "text": [
        "\r",
        " [*****                 10%                       ]  19 of 200 complete"
       ]
      },
      {
       "output_type": "stream",
       "stream": "stdout",
       "text": [
        "\r",
        " [*****                 10%                       ]  20 of 200 complete"
       ]
      },
      {
       "output_type": "stream",
       "stream": "stdout",
       "text": [
        "\r",
        " [*****                 11%                       ]  21 of 200 complete"
       ]
      },
      {
       "output_type": "stream",
       "stream": "stdout",
       "text": [
        "\r",
        " [*****                 11%                       ]  22 of 200 complete"
       ]
      },
      {
       "output_type": "stream",
       "stream": "stdout",
       "text": [
        "\r",
        " [******                12%                       ]  23 of 200 complete"
       ]
      },
      {
       "output_type": "stream",
       "stream": "stdout",
       "text": [
        "\r",
        " [******                12%                       ]  24 of 200 complete"
       ]
      },
      {
       "output_type": "stream",
       "stream": "stdout",
       "text": [
        "\r",
        " [******                13%                       ]  25 of 200 complete"
       ]
      },
      {
       "output_type": "stream",
       "stream": "stdout",
       "text": [
        "\r",
        " [******                13%                       ]  26 of 200 complete"
       ]
      },
      {
       "output_type": "stream",
       "stream": "stdout",
       "text": [
        "\r",
        " [*******               14%                       ]  27 of 200 complete"
       ]
      },
      {
       "output_type": "stream",
       "stream": "stdout",
       "text": [
        "\r",
        " [*******               14%                       ]  28 of 200 complete"
       ]
      },
      {
       "output_type": "stream",
       "stream": "stdout",
       "text": [
        "\r",
        " [*******               14%                       ]  29 of 200 complete"
       ]
      },
      {
       "output_type": "stream",
       "stream": "stdout",
       "text": [
        "\r",
        " [*******               15%                       ]  30 of 200 complete"
       ]
      },
      {
       "output_type": "stream",
       "stream": "stdout",
       "text": [
        "\r",
        " [********              16%                       ]  31 of 200 complete"
       ]
      },
      {
       "output_type": "stream",
       "stream": "stdout",
       "text": [
        "\r",
        " [********              16%                       ]  32 of 200 complete"
       ]
      },
      {
       "output_type": "stream",
       "stream": "stdout",
       "text": [
        "\r",
        " [********              17%                       ]  33 of 200 complete"
       ]
      },
      {
       "output_type": "stream",
       "stream": "stdout",
       "text": [
        "\r",
        " [********              17%                       ]  34 of 200 complete"
       ]
      },
      {
       "output_type": "stream",
       "stream": "stdout",
       "text": [
        "\r",
        " [*********             18%                       ]  35 of 200 complete"
       ]
      },
      {
       "output_type": "stream",
       "stream": "stdout",
       "text": [
        "\r",
        " [*********             18%                       ]  36 of 200 complete"
       ]
      },
      {
       "output_type": "stream",
       "stream": "stdout",
       "text": [
        "\r",
        " [*********             19%                       ]  37 of 200 complete"
       ]
      },
      {
       "output_type": "stream",
       "stream": "stdout",
       "text": [
        "\r",
        " [*********             19%                       ]  38 of 200 complete"
       ]
      },
      {
       "output_type": "stream",
       "stream": "stdout",
       "text": [
        "\r",
        " [**********            20%                       ]  39 of 200 complete"
       ]
      },
      {
       "output_type": "stream",
       "stream": "stdout",
       "text": [
        "\r",
        " [**********            20%                       ]  40 of 200 complete"
       ]
      },
      {
       "output_type": "stream",
       "stream": "stdout",
       "text": [
        "\r",
        " [**********            21%                       ]  41 of 200 complete"
       ]
      },
      {
       "output_type": "stream",
       "stream": "stdout",
       "text": [
        "\r",
        " [**********            21%                       ]  42 of 200 complete"
       ]
      },
      {
       "output_type": "stream",
       "stream": "stdout",
       "text": [
        "\r",
        " [***********           22%                       ]  43 of 200 complete"
       ]
      },
      {
       "output_type": "stream",
       "stream": "stdout",
       "text": [
        "\r",
        " [***********           22%                       ]  44 of 200 complete"
       ]
      },
      {
       "output_type": "stream",
       "stream": "stdout",
       "text": [
        "\r",
        " [***********           23%                       ]  45 of 200 complete"
       ]
      },
      {
       "output_type": "stream",
       "stream": "stdout",
       "text": [
        "\r",
        " [***********           23%                       ]  46 of 200 complete"
       ]
      },
      {
       "output_type": "stream",
       "stream": "stdout",
       "text": [
        "\r",
        " [************          24%                       ]  47 of 200 complete"
       ]
      },
      {
       "output_type": "stream",
       "stream": "stdout",
       "text": [
        "\r",
        " [************          24%                       ]  48 of 200 complete"
       ]
      },
      {
       "output_type": "stream",
       "stream": "stdout",
       "text": [
        "\r",
        " [************          25%                       ]  49 of 200 complete"
       ]
      },
      {
       "output_type": "stream",
       "stream": "stdout",
       "text": [
        "\r",
        " [************          25%                       ]  50 of 200 complete"
       ]
      },
      {
       "output_type": "stream",
       "stream": "stdout",
       "text": [
        "\r",
        " [************          26%                       ]  51 of 200 complete"
       ]
      },
      {
       "output_type": "stream",
       "stream": "stdout",
       "text": [
        "\r",
        " [************          26%                       ]  52 of 200 complete"
       ]
      },
      {
       "output_type": "stream",
       "stream": "stdout",
       "text": [
        "\r",
        " [*************         27%                       ]  53 of 200 complete"
       ]
      },
      {
       "output_type": "stream",
       "stream": "stdout",
       "text": [
        "\r",
        " [*************         27%                       ]  54 of 200 complete"
       ]
      },
      {
       "output_type": "stream",
       "stream": "stdout",
       "text": [
        "\r",
        " [*************         28%                       ]  55 of 200 complete"
       ]
      },
      {
       "output_type": "stream",
       "stream": "stdout",
       "text": [
        "\r",
        " [*************         28%                       ]  56 of 200 complete"
       ]
      },
      {
       "output_type": "stream",
       "stream": "stdout",
       "text": [
        "\r",
        " [*************         28%                       ]  57 of 200 complete"
       ]
      },
      {
       "output_type": "stream",
       "stream": "stdout",
       "text": [
        "\r",
        " [**************        29%                       ]  58 of 200 complete"
       ]
      },
      {
       "output_type": "stream",
       "stream": "stdout",
       "text": [
        "\r",
        " [**************        30%                       ]  59 of 200 complete"
       ]
      },
      {
       "output_type": "stream",
       "stream": "stdout",
       "text": [
        "\r",
        " [**************        30%                       ]  60 of 200 complete"
       ]
      },
      {
       "output_type": "stream",
       "stream": "stdout",
       "text": [
        "\r",
        " [***************       31%                       ]  61 of 200 complete"
       ]
      },
      {
       "output_type": "stream",
       "stream": "stdout",
       "text": [
        "\r",
        " [***************       31%                       ]  62 of 200 complete"
       ]
      },
      {
       "output_type": "stream",
       "stream": "stdout",
       "text": [
        "\r",
        " [***************       32%                       ]  63 of 200 complete"
       ]
      },
      {
       "output_type": "stream",
       "stream": "stdout",
       "text": [
        "\r",
        " [***************       32%                       ]  64 of 200 complete"
       ]
      },
      {
       "output_type": "stream",
       "stream": "stdout",
       "text": [
        "\r",
        " [****************      33%                       ]  65 of 200 complete"
       ]
      },
      {
       "output_type": "stream",
       "stream": "stdout",
       "text": [
        "\r",
        " [****************      33%                       ]  66 of 200 complete"
       ]
      },
      {
       "output_type": "stream",
       "stream": "stdout",
       "text": [
        "\r",
        " [****************      34%                       ]  67 of 200 complete"
       ]
      },
      {
       "output_type": "stream",
       "stream": "stdout",
       "text": [
        "\r",
        " [****************      34%                       ]  68 of 200 complete"
       ]
      },
      {
       "output_type": "stream",
       "stream": "stdout",
       "text": [
        "\r",
        " [*****************     35%                       ]  69 of 200 complete"
       ]
      },
      {
       "output_type": "stream",
       "stream": "stdout",
       "text": [
        "\r",
        " [*****************     35%                       ]  70 of 200 complete"
       ]
      },
      {
       "output_type": "stream",
       "stream": "stdout",
       "text": [
        "\r",
        " [*****************     36%                       ]  71 of 200 complete"
       ]
      },
      {
       "output_type": "stream",
       "stream": "stdout",
       "text": [
        "\r",
        " [*****************     36%                       ]  72 of 200 complete"
       ]
      },
      {
       "output_type": "stream",
       "stream": "stdout",
       "text": [
        "\r",
        " [******************    37%                       ]  73 of 200 complete"
       ]
      },
      {
       "output_type": "stream",
       "stream": "stdout",
       "text": [
        "\r",
        " [******************    37%                       ]  74 of 200 complete"
       ]
      },
      {
       "output_type": "stream",
       "stream": "stdout",
       "text": [
        "\r",
        " [******************    38%                       ]  75 of 200 complete"
       ]
      },
      {
       "output_type": "stream",
       "stream": "stdout",
       "text": [
        "\r",
        " [******************    38%                       ]  76 of 200 complete"
       ]
      },
      {
       "output_type": "stream",
       "stream": "stdout",
       "text": [
        "\r",
        " [*******************   39%                       ]  77 of 200 complete"
       ]
      },
      {
       "output_type": "stream",
       "stream": "stdout",
       "text": [
        "\r",
        " [*******************   39%                       ]  78 of 200 complete"
       ]
      },
      {
       "output_type": "stream",
       "stream": "stdout",
       "text": [
        "\r",
        " [*******************   40%                       ]  79 of 200 complete"
       ]
      },
      {
       "output_type": "stream",
       "stream": "stdout",
       "text": [
        "\r",
        " [*******************   40%                       ]  80 of 200 complete"
       ]
      },
      {
       "output_type": "stream",
       "stream": "stdout",
       "text": [
        "\r",
        " [********************  41%                       ]  81 of 200 complete"
       ]
      },
      {
       "output_type": "stream",
       "stream": "stdout",
       "text": [
        "\r",
        " [********************  41%                       ]  82 of 200 complete"
       ]
      },
      {
       "output_type": "stream",
       "stream": "stdout",
       "text": [
        "\r",
        " [********************  42%                       ]  83 of 200 complete"
       ]
      },
      {
       "output_type": "stream",
       "stream": "stdout",
       "text": [
        "\r",
        " [********************  42%                       ]  84 of 200 complete"
       ]
      },
      {
       "output_type": "stream",
       "stream": "stdout",
       "text": [
        "\r",
        " [********************* 43%                       ]  85 of 200 complete"
       ]
      },
      {
       "output_type": "stream",
       "stream": "stdout",
       "text": [
        "\r",
        " [********************* 43%                       ]  86 of 200 complete"
       ]
      },
      {
       "output_type": "stream",
       "stream": "stdout",
       "text": [
        "\r",
        " [********************* 44%                       ]  87 of 200 complete"
       ]
      },
      {
       "output_type": "stream",
       "stream": "stdout",
       "text": [
        "\r",
        " [********************* 44%                       ]  88 of 200 complete"
       ]
      },
      {
       "output_type": "stream",
       "stream": "stdout",
       "text": [
        "\r",
        " [**********************45%                       ]  89 of 200 complete"
       ]
      },
      {
       "output_type": "stream",
       "stream": "stdout",
       "text": [
        "\r",
        " [**********************45%                       ]  90 of 200 complete"
       ]
      },
      {
       "output_type": "stream",
       "stream": "stdout",
       "text": [
        "\r",
        " [**********************46%                       ]  91 of 200 complete"
       ]
      },
      {
       "output_type": "stream",
       "stream": "stdout",
       "text": [
        "\r",
        " [**********************46%                       ]  92 of 200 complete"
       ]
      },
      {
       "output_type": "stream",
       "stream": "stdout",
       "text": [
        "\r",
        " [**********************47%                       ]  93 of 200 complete"
       ]
      },
      {
       "output_type": "stream",
       "stream": "stdout",
       "text": [
        "\r",
        " [**********************47%                       ]  94 of 200 complete"
       ]
      },
      {
       "output_type": "stream",
       "stream": "stdout",
       "text": [
        "\r",
        " [**********************48%                       ]  95 of 200 complete"
       ]
      },
      {
       "output_type": "stream",
       "stream": "stdout",
       "text": [
        "\r",
        " [**********************48%                       ]  96 of 200 complete"
       ]
      },
      {
       "output_type": "stream",
       "stream": "stdout",
       "text": [
        "\r",
        " [**********************49%                       ]  97 of 200 complete"
       ]
      },
      {
       "output_type": "stream",
       "stream": "stdout",
       "text": [
        "\r",
        " [**********************49%                       ]  98 of 200 complete"
       ]
      },
      {
       "output_type": "stream",
       "stream": "stdout",
       "text": [
        "\r",
        " [**********************50%                       ]  99 of 200 complete"
       ]
      },
      {
       "output_type": "stream",
       "stream": "stdout",
       "text": [
        "\r",
        " [**********************50%                       ]  100 of 200 complete"
       ]
      },
      {
       "output_type": "stream",
       "stream": "stdout",
       "text": [
        "\r",
        " [**********************51%                       ]  101 of 200 complete"
       ]
      },
      {
       "output_type": "stream",
       "stream": "stdout",
       "text": [
        "\r",
        " [**********************51%                       ]  102 of 200 complete"
       ]
      },
      {
       "output_type": "stream",
       "stream": "stdout",
       "text": [
        "\r",
        " [**********************52%                       ]  103 of 200 complete"
       ]
      },
      {
       "output_type": "stream",
       "stream": "stdout",
       "text": [
        "\r",
        " [**********************52%                       ]  104 of 200 complete"
       ]
      },
      {
       "output_type": "stream",
       "stream": "stdout",
       "text": [
        "\r",
        " [**********************53%                       ]  105 of 200 complete"
       ]
      },
      {
       "output_type": "stream",
       "stream": "stdout",
       "text": [
        "\r",
        " [**********************53%                       ]  106 of 200 complete"
       ]
      },
      {
       "output_type": "stream",
       "stream": "stdout",
       "text": [
        "\r",
        " [**********************54%*                      ]  107 of 200 complete"
       ]
      },
      {
       "output_type": "stream",
       "stream": "stdout",
       "text": [
        "\r",
        " [**********************54%*                      ]  108 of 200 complete"
       ]
      },
      {
       "output_type": "stream",
       "stream": "stdout",
       "text": [
        "\r",
        " [**********************55%*                      ]  109 of 200 complete"
       ]
      },
      {
       "output_type": "stream",
       "stream": "stdout",
       "text": [
        "\r",
        " [**********************55%*                      ]  110 of 200 complete"
       ]
      },
      {
       "output_type": "stream",
       "stream": "stdout",
       "text": [
        "\r",
        " [**********************56%**                     ]  111 of 200 complete"
       ]
      },
      {
       "output_type": "stream",
       "stream": "stdout",
       "text": [
        "\r",
        " [**********************56%**                     ]  112 of 200 complete"
       ]
      },
      {
       "output_type": "stream",
       "stream": "stdout",
       "text": [
        "\r",
        " [**********************56%**                     ]  113 of 200 complete"
       ]
      },
      {
       "output_type": "stream",
       "stream": "stdout",
       "text": [
        "\r",
        " [**********************57%**                     ]  114 of 200 complete"
       ]
      },
      {
       "output_type": "stream",
       "stream": "stdout",
       "text": [
        "\r",
        " [**********************57%**                     ]  115 of 200 complete"
       ]
      },
      {
       "output_type": "stream",
       "stream": "stdout",
       "text": [
        "\r",
        " [**********************58%***                    ]  116 of 200 complete"
       ]
      },
      {
       "output_type": "stream",
       "stream": "stdout",
       "text": [
        "\r",
        " [**********************59%***                    ]  117 of 200 complete"
       ]
      },
      {
       "output_type": "stream",
       "stream": "stdout",
       "text": [
        "\r",
        " [**********************59%***                    ]  118 of 200 complete"
       ]
      },
      {
       "output_type": "stream",
       "stream": "stdout",
       "text": [
        "\r",
        " [**********************60%****                   ]  119 of 200 complete"
       ]
      },
      {
       "output_type": "stream",
       "stream": "stdout",
       "text": [
        "\r",
        " [**********************60%****                   ]  120 of 200 complete"
       ]
      },
      {
       "output_type": "stream",
       "stream": "stdout",
       "text": [
        "\r",
        " [**********************61%****                   ]  121 of 200 complete"
       ]
      },
      {
       "output_type": "stream",
       "stream": "stdout",
       "text": [
        "\r",
        " [**********************61%****                   ]  122 of 200 complete"
       ]
      },
      {
       "output_type": "stream",
       "stream": "stdout",
       "text": [
        "\r",
        " [**********************62%*****                  ]  123 of 200 complete"
       ]
      },
      {
       "output_type": "stream",
       "stream": "stdout",
       "text": [
        "\r",
        " [**********************62%*****                  ]  124 of 200 complete"
       ]
      },
      {
       "output_type": "stream",
       "stream": "stdout",
       "text": [
        "\r",
        " [**********************63%*****                  ]  125 of 200 complete"
       ]
      },
      {
       "output_type": "stream",
       "stream": "stdout",
       "text": [
        "\r",
        " [**********************63%*****                  ]  126 of 200 complete"
       ]
      },
      {
       "output_type": "stream",
       "stream": "stdout",
       "text": [
        "\r",
        " [**********************64%******                 ]  127 of 200 complete"
       ]
      },
      {
       "output_type": "stream",
       "stream": "stdout",
       "text": [
        "\r",
        " [**********************64%******                 ]  128 of 200 complete"
       ]
      },
      {
       "output_type": "stream",
       "stream": "stdout",
       "text": [
        "\r",
        " [**********************65%******                 ]  129 of 200 complete"
       ]
      },
      {
       "output_type": "stream",
       "stream": "stdout",
       "text": [
        "\r",
        " [**********************65%******                 ]  130 of 200 complete"
       ]
      },
      {
       "output_type": "stream",
       "stream": "stdout",
       "text": [
        "\r",
        " [**********************66%*******                ]  131 of 200 complete"
       ]
      },
      {
       "output_type": "stream",
       "stream": "stdout",
       "text": [
        "\r",
        " [**********************66%*******                ]  132 of 200 complete"
       ]
      },
      {
       "output_type": "stream",
       "stream": "stdout",
       "text": [
        "\r",
        " [**********************67%*******                ]  133 of 200 complete"
       ]
      },
      {
       "output_type": "stream",
       "stream": "stdout",
       "text": [
        "\r",
        " [**********************67%*******                ]  134 of 200 complete"
       ]
      },
      {
       "output_type": "stream",
       "stream": "stdout",
       "text": [
        "\r",
        " [**********************68%********               ]  135 of 200 complete"
       ]
      },
      {
       "output_type": "stream",
       "stream": "stdout",
       "text": [
        "\r",
        " [**********************68%********               ]  136 of 200 complete"
       ]
      },
      {
       "output_type": "stream",
       "stream": "stdout",
       "text": [
        "\r",
        " [**********************69%********               ]  137 of 200 complete"
       ]
      },
      {
       "output_type": "stream",
       "stream": "stdout",
       "text": [
        "\r",
        " [**********************69%********               ]  138 of 200 complete"
       ]
      },
      {
       "output_type": "stream",
       "stream": "stdout",
       "text": [
        "\r",
        " [**********************70%*********              ]  139 of 200 complete"
       ]
      },
      {
       "output_type": "stream",
       "stream": "stdout",
       "text": [
        "\r",
        " [**********************70%*********              ]  140 of 200 complete"
       ]
      },
      {
       "output_type": "stream",
       "stream": "stdout",
       "text": [
        "\r",
        " [**********************71%*********              ]  141 of 200 complete"
       ]
      },
      {
       "output_type": "stream",
       "stream": "stdout",
       "text": [
        "\r",
        " [**********************71%*********              ]  142 of 200 complete"
       ]
      },
      {
       "output_type": "stream",
       "stream": "stdout",
       "text": [
        "\r",
        " [**********************72%**********             ]  143 of 200 complete"
       ]
      },
      {
       "output_type": "stream",
       "stream": "stdout",
       "text": [
        "\r",
        " [**********************72%**********             ]  144 of 200 complete"
       ]
      },
      {
       "output_type": "stream",
       "stream": "stdout",
       "text": [
        "\r",
        " [**********************73%**********             ]  145 of 200 complete"
       ]
      },
      {
       "output_type": "stream",
       "stream": "stdout",
       "text": [
        "\r",
        " [**********************73%**********             ]  146 of 200 complete"
       ]
      },
      {
       "output_type": "stream",
       "stream": "stdout",
       "text": [
        "\r",
        " [**********************74%***********            ]  147 of 200 complete"
       ]
      },
      {
       "output_type": "stream",
       "stream": "stdout",
       "text": [
        "\r",
        " [**********************74%***********            ]  148 of 200 complete"
       ]
      },
      {
       "output_type": "stream",
       "stream": "stdout",
       "text": [
        "\r",
        " [**********************75%***********            ]  149 of 200 complete"
       ]
      },
      {
       "output_type": "stream",
       "stream": "stdout",
       "text": [
        "\r",
        " [**********************75%***********            ]  150 of 200 complete"
       ]
      },
      {
       "output_type": "stream",
       "stream": "stdout",
       "text": [
        "\r",
        " [**********************76%***********            ]  151 of 200 complete"
       ]
      },
      {
       "output_type": "stream",
       "stream": "stdout",
       "text": [
        "\r",
        " [**********************76%***********            ]  152 of 200 complete"
       ]
      },
      {
       "output_type": "stream",
       "stream": "stdout",
       "text": [
        "\r",
        " [**********************77%************           ]  153 of 200 complete"
       ]
      },
      {
       "output_type": "stream",
       "stream": "stdout",
       "text": [
        "\r",
        " [**********************77%************           ]  154 of 200 complete"
       ]
      },
      {
       "output_type": "stream",
       "stream": "stdout",
       "text": [
        "\r",
        " [**********************78%************           ]  155 of 200 complete"
       ]
      },
      {
       "output_type": "stream",
       "stream": "stdout",
       "text": [
        "\r",
        " [**********************78%************           ]  156 of 200 complete"
       ]
      },
      {
       "output_type": "stream",
       "stream": "stdout",
       "text": [
        "\r",
        " [**********************79%*************          ]  157 of 200 complete"
       ]
      },
      {
       "output_type": "stream",
       "stream": "stdout",
       "text": [
        "\r",
        " [**********************79%*************          ]  158 of 200 complete"
       ]
      },
      {
       "output_type": "stream",
       "stream": "stdout",
       "text": [
        "\r",
        " [**********************80%*************          ]  159 of 200 complete"
       ]
      },
      {
       "output_type": "stream",
       "stream": "stdout",
       "text": [
        "\r",
        " [**********************80%*************          ]  160 of 200 complete"
       ]
      },
      {
       "output_type": "stream",
       "stream": "stdout",
       "text": [
        "\r",
        " [**********************81%**************         ]  161 of 200 complete"
       ]
      },
      {
       "output_type": "stream",
       "stream": "stdout",
       "text": [
        "\r",
        " [**********************81%**************         ]  162 of 200 complete"
       ]
      },
      {
       "output_type": "stream",
       "stream": "stdout",
       "text": [
        "\r",
        " [**********************82%**************         ]  163 of 200 complete"
       ]
      },
      {
       "output_type": "stream",
       "stream": "stdout",
       "text": [
        "\r",
        " [**********************82%**************         ]  164 of 200 complete"
       ]
      },
      {
       "output_type": "stream",
       "stream": "stdout",
       "text": [
        "\r",
        " [**********************83%***************        ]  165 of 200 complete"
       ]
      },
      {
       "output_type": "stream",
       "stream": "stdout",
       "text": [
        "\r",
        " [**********************83%***************        ]  166 of 200 complete"
       ]
      },
      {
       "output_type": "stream",
       "stream": "stdout",
       "text": [
        "\r",
        " [**********************84%***************        ]  167 of 200 complete"
       ]
      },
      {
       "output_type": "stream",
       "stream": "stdout",
       "text": [
        "\r",
        " [**********************84%***************        ]  168 of 200 complete"
       ]
      },
      {
       "output_type": "stream",
       "stream": "stdout",
       "text": [
        "\r",
        " [**********************85%****************       ]  169 of 200 complete"
       ]
      },
      {
       "output_type": "stream",
       "stream": "stdout",
       "text": [
        "\r",
        " [**********************85%****************       ]  170 of 200 complete"
       ]
      },
      {
       "output_type": "stream",
       "stream": "stdout",
       "text": [
        "\r",
        " [**********************86%****************       ]  171 of 200 complete"
       ]
      },
      {
       "output_type": "stream",
       "stream": "stdout",
       "text": [
        "\r",
        " [**********************86%****************       ]  172 of 200 complete"
       ]
      },
      {
       "output_type": "stream",
       "stream": "stdout",
       "text": [
        "\r",
        " [**********************87%*****************      ]  173 of 200 complete"
       ]
      },
      {
       "output_type": "stream",
       "stream": "stdout",
       "text": [
        "\r",
        " [**********************87%*****************      ]  174 of 200 complete"
       ]
      },
      {
       "output_type": "stream",
       "stream": "stdout",
       "text": [
        "\r",
        " [**********************88%*****************      ]  175 of 200 complete"
       ]
      },
      {
       "output_type": "stream",
       "stream": "stdout",
       "text": [
        "\r",
        " [**********************88%*****************      ]  176 of 200 complete"
       ]
      },
      {
       "output_type": "stream",
       "stream": "stdout",
       "text": [
        "\r",
        " [**********************89%******************     ]  177 of 200 complete"
       ]
      },
      {
       "output_type": "stream",
       "stream": "stdout",
       "text": [
        "\r",
        " [**********************89%******************     ]  178 of 200 complete"
       ]
      },
      {
       "output_type": "stream",
       "stream": "stdout",
       "text": [
        "\r",
        " [**********************90%******************     ]  179 of 200 complete"
       ]
      },
      {
       "output_type": "stream",
       "stream": "stdout",
       "text": [
        "\r",
        " [**********************90%******************     ]  180 of 200 complete"
       ]
      },
      {
       "output_type": "stream",
       "stream": "stdout",
       "text": [
        "\r",
        " [**********************91%*******************    ]  181 of 200 complete"
       ]
      },
      {
       "output_type": "stream",
       "stream": "stdout",
       "text": [
        "\r",
        " [**********************91%*******************    ]  182 of 200 complete"
       ]
      },
      {
       "output_type": "stream",
       "stream": "stdout",
       "text": [
        "\r",
        " [**********************92%*******************    ]  183 of 200 complete"
       ]
      },
      {
       "output_type": "stream",
       "stream": "stdout",
       "text": [
        "\r",
        " [**********************92%*******************    ]  184 of 200 complete"
       ]
      },
      {
       "output_type": "stream",
       "stream": "stdout",
       "text": [
        "\r",
        " [**********************93%********************   ]  185 of 200 complete"
       ]
      },
      {
       "output_type": "stream",
       "stream": "stdout",
       "text": [
        "\r",
        " [**********************93%********************   ]  186 of 200 complete"
       ]
      },
      {
       "output_type": "stream",
       "stream": "stdout",
       "text": [
        "\r",
        " [**********************94%********************   ]  187 of 200 complete"
       ]
      },
      {
       "output_type": "stream",
       "stream": "stdout",
       "text": [
        "\r",
        " [**********************94%********************   ]  188 of 200 complete"
       ]
      },
      {
       "output_type": "stream",
       "stream": "stdout",
       "text": [
        "\r",
        " [**********************95%*********************  ]  189 of 200 complete"
       ]
      },
      {
       "output_type": "stream",
       "stream": "stdout",
       "text": [
        "\r",
        " [**********************95%*********************  ]  190 of 200 complete"
       ]
      },
      {
       "output_type": "stream",
       "stream": "stdout",
       "text": [
        "\r",
        " [**********************96%*********************  ]  191 of 200 complete"
       ]
      },
      {
       "output_type": "stream",
       "stream": "stdout",
       "text": [
        "\r",
        " [**********************96%*********************  ]  192 of 200 complete"
       ]
      },
      {
       "output_type": "stream",
       "stream": "stdout",
       "text": [
        "\r",
        " [**********************97%********************** ]  193 of 200 complete"
       ]
      },
      {
       "output_type": "stream",
       "stream": "stdout",
       "text": [
        "\r",
        " [**********************97%********************** ]  194 of 200 complete"
       ]
      },
      {
       "output_type": "stream",
       "stream": "stdout",
       "text": [
        "\r",
        " [**********************98%********************** ]  195 of 200 complete"
       ]
      },
      {
       "output_type": "stream",
       "stream": "stdout",
       "text": [
        "\r",
        " [**********************98%********************** ]  196 of 200 complete"
       ]
      },
      {
       "output_type": "stream",
       "stream": "stdout",
       "text": [
        "\r",
        " [**********************99%***********************]  197 of 200 complete"
       ]
      },
      {
       "output_type": "stream",
       "stream": "stdout",
       "text": [
        "\r",
        " [**********************99%***********************]  198 of 200 complete"
       ]
      },
      {
       "output_type": "stream",
       "stream": "stdout",
       "text": [
        "\r",
        " [*********************100%***********************]  199 of 200 complete"
       ]
      }
     ],
     "prompt_number": 42
    },
    {
     "cell_type": "code",
     "collapsed": false,
     "input": [
      "fig = plt.figure(figsize = (10,10))\n",
      "gs1 = gridspec.GridSpec(10,5)\n",
      "\n",
      "ax1 = plt.subplot(gs1[1:5,1:5])\n",
      "plt.pcolor(np.mean(r2[:,:,:,3],axis = 1))\n",
      "plt.colorbar()\n",
      "\n",
      "ax2 = plt.subplot(gs1[6:10,1:5])\n",
      "plt.pcolor(np.mean(r2[5,:,:,:],axis = 0))\n",
      "plt.colorbar()"
     ],
     "language": "python",
     "metadata": {},
     "outputs": [
      {
       "metadata": {},
       "output_type": "pyout",
       "prompt_number": 41,
       "text": [
        "<matplotlib.colorbar.Colorbar instance at 0x12a256a28>"
       ]
      },
      {
       "metadata": {},
       "output_type": "display_data",
       "png": "[encoded data removed]",
       "text": [
        "<matplotlib.figure.Figure at 0x11e168ad0>"
       ]
      }
     ],
     "prompt_number": 41
    },
    {
     "cell_type": "code",
     "collapsed": false,
     "input": [],
     "language": "python",
     "metadata": {},
     "outputs": [
      {
       "metadata": {},
       "output_type": "pyout",
       "prompt_number": 8,
       "text": [
        "(57, 6)"
       ]
      }
     ],
     "prompt_number": 8
    },
    {
     "cell_type": "code",
     "collapsed": false,
     "input": [
      "n_components = 2"
     ],
     "language": "python",
     "metadata": {},
     "outputs": [],
     "prompt_number": 10
    },
    {
     "cell_type": "code",
     "collapsed": false,
     "input": [
      "max_iter = 500"
     ],
     "language": "python",
     "metadata": {},
     "outputs": [],
     "prompt_number": 11
    },
    {
     "cell_type": "code",
     "collapsed": false,
     "input": [
      "cca.score(X_test,y_test)"
     ],
     "language": "python",
     "metadata": {},
     "outputs": [
      {
       "metadata": {},
       "output_type": "pyout",
       "prompt_number": 15,
       "text": [
        "-0.81578566825705501"
       ]
      }
     ],
     "prompt_number": 15
    },
    {
     "cell_type": "code",
     "collapsed": false,
     "input": [
      "yhat.shape"
     ],
     "language": "python",
     "metadata": {},
     "outputs": [
      {
       "metadata": {},
       "output_type": "pyout",
       "prompt_number": 16,
       "text": [
        "(12, 6)"
       ]
      }
     ],
     "prompt_number": 16
    },
    {
     "cell_type": "code",
     "collapsed": false,
     "input": [
      "y_test.shape"
     ],
     "language": "python",
     "metadata": {},
     "outputs": [
      {
       "metadata": {},
       "output_type": "pyout",
       "prompt_number": 17,
       "text": [
        "(12, 6)"
       ]
      }
     ],
     "prompt_number": 17
    },
    {
     "cell_type": "code",
     "collapsed": false,
     "input": [
      "plt.pcolor(r2)\n",
      "plt.colorbar()"
     ],
     "language": "python",
     "metadata": {},
     "outputs": [
      {
       "metadata": {},
       "output_type": "pyout",
       "prompt_number": 23,
       "text": [
        "<matplotlib.colorbar.Colorbar instance at 0x11f1e73f8>"
       ]
      },
      {
       "metadata": {},
       "output_type": "display_data",
       "png": "[encoded data removed]",
       "text": [
        "<matplotlib.figure.Figure at 0x11f06ac50>"
       ]
      }
     ],
     "prompt_number": 23
    },
    {
     "cell_type": "code",
     "collapsed": false,
     "input": [
      "np.mean(r2,axis=1)"
     ],
     "language": "python",
     "metadata": {},
     "outputs": [
      {
       "metadata": {},
       "output_type": "pyout",
       "prompt_number": 24,
       "text": [
        "array([ 0.16681607,  0.14959889,  0.10905268,  0.15471749,  0.09031893,\n",
        "        0.0614584 ])"
       ]
      }
     ],
     "prompt_number": 24
    },
    {
     "cell_type": "code",
     "collapsed": false,
     "input": [
      "from scipy.io import loadmat\n",
      "swap_ids = loadmat('/Users/david_conant/Dropbox/Vowels/EC34/correct_regdata_ids.mat')\n",
      "anatomy = loadmat('/Users/david_conant/Dropbox/Vowels/EC34/EC34_anat.mat')"
     ],
     "language": "python",
     "metadata": {},
     "outputs": [],
     "prompt_number": 44
    },
    {
     "cell_type": "code",
     "collapsed": false,
     "input": [],
     "language": "python",
     "metadata": {},
     "outputs": []
    }
   ],
   "metadata": {}
  }
 ]
}