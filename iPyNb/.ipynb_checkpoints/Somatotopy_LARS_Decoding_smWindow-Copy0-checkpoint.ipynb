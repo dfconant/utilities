{
 "metadata": {
  "name": "",
  "signature": "sha256:25274d9e179b046705add91893a65075633df192f25cfdb0236076d5efb242e4"
 },
 "nbformat": 3,
 "nbformat_minor": 0,
 "worksheets": [
  {
   "cells": [
    {
     "cell_type": "code",
     "collapsed": false,
     "input": [
      "%load_ext autoreload\n",
      "%autoreload 2\n",
      "from ECoGstats import makeD_multi, smooth_formants, smooth_warp_formants, process_kin, normalize_contour_length, shuffle_df,SemiPartialCorrelation\n",
      "import seaborn as sns\n",
      "import prettyplotlib as ppl\n",
      "from matplotlib.backends.backend_agg import (FigureCanvasAgg as FigureCanvas)\n",
      "from scipy.signal import savgol_filter\n",
      "import pandas as pd\n",
      "from BDutils import ProgressBar, resample_array, smart_toeplitz, smooth_derivative,seq_labels\n",
      "from ecog_viz import plotWeights, gestural_score, R2viz\n",
      "from sklearn.cross_validation import train_test_split, LeavePLabelOut\n",
      "from sklearn.decomposition import PCA\n",
      "from sklearn.lda import LDA\n",
      "from sklearn.linear_model import Lars\n",
      "import scipy as sp\n",
      "import itertools\n",
      "import matplotlib as mpl\n",
      "import scipy.stats as stats\n",
      "import matplotlib.gridspec as gridspec\n",
      "import numpy as np\n",
      "import matplotlib.pyplot as plt\n",
      "import VisEcog\n",
      "import imaging\n",
      "import os\n",
      "import matplotlib.image as mpimg\n",
      "import brewer2mpl\n",
      "import re\n",
      "import pdb"
     ],
     "language": "python",
     "metadata": {},
     "outputs": [
      {
       "metadata": {},
       "output_type": "display_data",
       "png": "[encoded data removed]",
       "text": [
        "<matplotlib.figure.Figure at 0x113ce45d0>"
       ]
      }
     ],
     "prompt_number": 1
    },
    {
     "cell_type": "code",
     "collapsed": false,
     "input": [
      "pth = '/Users/david_conant/Dropbox/Vowels/EC41/'\n",
      "blocks = [19,20,22,27]\n",
      "tokens = ['AAA','IYY','UWW','AEE','AHH','EHH','ERR','IHH','UHH']\n",
      "#tokens = ['HAWED','HEED','WHOOD','HAD','HUD','HEAD','HEARD','HID','HOOD']\n",
      "kfeats = ['kFrontTongueX','kFMidTongueX','kMidTongueX','kBMidTongueX','kBackTongueX','kFrontTongueY','kFMidTongueY','kMidTongueY',\n",
      "          'kBMidTongueY','kBackTongueY','kLipOpening','kLipWidth','kJawX','kJawY']\n",
      "efeats = seq_labels('e',256)\n",
      "fs = 100\n",
      "#Load in Dmatrices\n",
      "\n",
      "#Electrodes\n",
      "window = np.array([-1,1])   #TODO: try wider window for more timepoints\n",
      "[E,anat,stop_times,start_times] = makeD_multi(pth,blocks,tokens,align_window = window, dtype='HG')\n",
      "Es = [E[d] for d in tokens]\n",
      "vSMC = np.concatenate((np.where(anat=='preCG')[0],np.where(anat=='postCG')[0]))\n",
      "vSMC_logic = np.zeros(256,dtype=bool)\n",
      "vSMC_logic[vSMC] = True\n",
      "Eall = np.concatenate(Es,axis=2)\n",
      "Eall = resample_array(Eall,[Eall.shape[0],np.diff(window)[0]*fs,Eall.shape[2]])\n",
      "\n",
      "#Kinematics\n",
      "#window = np.array([0.25,0.75])\n",
      "[K,anat,stop_times,start_times] = makeD_multi(pth,blocks,tokens,dtype='kin',align_window = window)\n",
      "Ks = [K[d] for d in tokens]\n",
      "stops = [stop_times[d] for d in tokens]\n",
      "starts = [start_times[d] for d in tokens]\n",
      "Ks = process_kin(Ks,stops,starts,window,numTongue=10,wrt_start=True,norm_length=False)\n",
      "Kall = np.concatenate(Ks,axis=2)\n",
      "Kall = resample_array(Kall,[Kall.shape[0],np.diff(window)[0]*fs,Kall.shape[2]])\n",
      "\n",
      "\n",
      "#gestural_score(Ks,kfeats,tokens)"
     ],
     "language": "python",
     "metadata": {},
     "outputs": [
      {
       "output_type": "stream",
       "stream": "stdout",
       "text": [
        "File found; Loading...\n",
        "Loaded"
       ]
      },
      {
       "output_type": "stream",
       "stream": "stdout",
       "text": [
        "\n",
        "File found; Loading..."
       ]
      },
      {
       "output_type": "stream",
       "stream": "stdout",
       "text": [
        "\n",
        "Loaded"
       ]
      },
      {
       "output_type": "stream",
       "stream": "stdout",
       "text": [
        "\n"
       ]
      }
     ],
     "prompt_number": 2
    },
    {
     "cell_type": "code",
     "collapsed": false,
     "input": [],
     "language": "python",
     "metadata": {},
     "outputs": [],
     "prompt_number": 4
    },
    {
     "cell_type": "code",
     "collapsed": false,
     "input": [
      "n_coefs = range(1,86)\n",
      "lags = np.linspace(-1,0.25,40)\n",
      "n_cv = 10\n",
      "R2 = np.empty((Kall.shape[0],len(lags),len(n_coefs),n_cv))\n",
      "R2_null = np.empty((Kall.shape[0],len(lags),len(n_coefs),n_cv))\n",
      "coefs = np.empty((Kall.shape[0],256,len(lags),len(n_coefs),n_cv))\n",
      "coefs_null = np.empty((Kall.shape[0],256,len(lags),len(n_coefs),n_cv))\n",
      "\n",
      "\n",
      "prog = ProgressBar(len(lags))\n",
      "groups = [range(10),range(10,12),range(12,14)]\n",
      "win_size=0.75\n",
      "win_start = 1\n",
      "\n",
      "for ilag, lag in enumerate(lags):\n",
      "    \n",
      "    #Lag by removing data\n",
      "    #t_unlagged = np.round(np.arange(win_start*fs,(win_start+win_size)*fs)).astype(int)\n",
      "    t_unlagged = np.arange(50,125)\n",
      "    t_lagged = np.arange(np.floor((win_start+lag)*fs),np.floor((win_start+win_size)*fs+lag*fs)).astype(int)\n",
      "    Klagged =Kall[:,t_unlagged,:]\n",
      "    Elagged = Eall[:,t_lagged,:]    #behavior-leading lag\n",
      "    trial_blank  = numpy.tile(range(Eall.shape[2]),(1,len(t_unlagged),1))\n",
      "    trial_label = pd.Series(np.reshape(trial_blank,(1,-1),order='F').transpose().squeeze(),name='Trial_Label')\n",
      "    #Reshape across trials\n",
      "    Kinematics = np.reshape(Klagged,(Klagged.shape[0],-1),order='F').transpose()\n",
      "    Kinematics = pd.DataFrame(Kinematics,columns = kfeats)\n",
      "    #Kinematics.fillna(Kinematics.median(),inplace=True)\n",
      "    #Kinematics = pd.Series(dict(enumerate(Eall.transpose())))\n",
      "\n",
      "    HG = np.reshape(Elagged,(Elagged.shape[0],-1),order='F').transpose()\n",
      "    HG = pd.DataFrame(HG,columns = efeats)\n",
      "    vsmcHG = HG.iloc[:,vSMC]\n",
      "    vsmcHG.fillna(vsmcHG.median(),inplace=True)\n",
      "    #vsmcHG.dropna(axis =1,how='any',inplace=True)\n",
      "    #hat,tilde = SemiPartialCorrelation(vsmcHG)\n",
      "    #vsmcHG = tilde\n",
      "    data = pd.concat([vsmcHG,Kinematics,trial_label],axis=1)\n",
      "    data.dropna(axis=1,how='all',inplace=True)   #Drop bad features\n",
      "    data.dropna(axis=0,how='all',inplace=True)   #Drop bad observations\n",
      "    data.dropna(axis=0,how='any',inplace=True)   #Drop bad observations\n",
      "    data.dropna(axis=1,how='any',inplace=True)   #Drop bad features\n",
      "    good_efeats = data.filter(regex=r'^e\\S', axis=1).columns.values\n",
      "    good_kfeats = data.filter(regex=r'^k\\S', axis=1).columns.values\n",
      "    good_elects = [int(e[1:]) for e in good_efeats]\n",
      "    y = data[good_kfeats]\n",
      "    X = data[good_efeats]\n",
      "    trial_label = data['Trial_Label']\n",
      "    #Unsupervised outlier removal\n",
      "    #clf = svm.OneClassSVM()\n",
      "    #X = data.loc[:,good_kfeats]\n",
      "    #clf.fit(X)\n",
      "    #outs = clf.predict(X)\n",
      "    #data = data.iloc[np.where(outs==1)[0],:]\n",
      "    \n",
      "    #Decorrelate kinematic features\n",
      "    #hat,tilde = SemiPartialCorrelation(data[Kinematics.columns],groups)\n",
      "    #data[Kinematics.columns] = tilde\n",
      "    \n",
      "    #Split into train and test\n",
      "    num_trials = len(np.unique(trial_label))\n",
      "    \n",
      "    for icv in range(n_cv):\n",
      "        \n",
      "        #Cross validate on randomly permuted trials\n",
      "        shuf1 = np.random.permutation(range(num_trials))\n",
      "        train_trials = shuf1[:np.round(num_trials*0.8)]\n",
      "        train_index = trial_label.isin(train_trials)\n",
      "        test_trials = shuf1[np.round(num_trials*0.8):]\n",
      "        test_index = trial_label.isin(test_trials)\n",
      "        X_train , y_train, X_test, y_test = X.loc[train_index,:],y.loc[train_index,:],X.loc[test_index,:],y.loc[test_index,:]\n",
      "        \n",
      "        #create null dataset\n",
      "        null_train = []\n",
      "        null_test = []\n",
      "        [null_train.append(np.where(trial_label.isin([t]))[0]) for t in np.random.permutation(train_trials)]\n",
      "        [null_test.append(np.where(trial_label.isin([t]))[0]) for t in np.random.permutation(test_trials)]\n",
      "        null_train = np.concatenate(np.asarray(null_train),axis=0)\n",
      "        null_test = np.concatenate(np.asarray(null_test),axis=0)\n",
      "        X_train_null,X_test_null = X.iloc[null_train,:],X.iloc[null_test,:]\n",
      "\n",
      "        for inc,nc in enumerate(n_coefs):\n",
      "            lars = Lars(n_nonzero_coefs = nc)\n",
      "            lars.fit(X_train,y_train)\n",
      "            coefs[:,good_elects,ilag,inc,icv] = lars.coef_\n",
      "            y_hat = lars.predict(X_test)\n",
      "            R2[:,ilag,inc,icv] = [stats.pearsonr(y_test.iloc[:,c],y_hat[:,c])[0] for c in range(y.shape[1])]\n",
      "            \n",
      "            lars_null = Lars(n_nonzero_coefs = nc)\n",
      "            lars_null.fit(X_train_null,y_train)\n",
      "            coefs_null[:,good_elects,ilag,inc,icv] = lars_null.coef_\n",
      "            y_hat_null = lars_null.predict(X_test_null)\n",
      "            R2_null[:,ilag,inc,icv] = [stats.pearsonr(y_test.iloc[:,c],y_hat_null[:,c])[0] for c in range(y.shape[1])]\n",
      "            \n",
      "    prog.animate(ilag+1)"
     ],
     "language": "python",
     "metadata": {},
     "outputs": [
      {
       "output_type": "stream",
       "stream": "stdout",
       "text": [
        "\r",
        " [                       0%                       ]"
       ]
      },
      {
       "output_type": "stream",
       "stream": "stdout",
       "text": [
        "\r",
        " [**                     5%                       ]  2 of 40 complete"
       ]
      },
      {
       "output_type": "stream",
       "stream": "stdout",
       "text": [
        "\r",
        " [****                   8%                       ]  3 of 40 complete"
       ]
      },
      {
       "output_type": "stream",
       "stream": "stdout",
       "text": [
        "\r",
        " [*****                 10%                       ]  4 of 40 complete"
       ]
      },
      {
       "output_type": "stream",
       "stream": "stdout",
       "text": [
        "\r",
        " [******                13%                       ]  5 of 40 complete"
       ]
      },
      {
       "output_type": "stream",
       "stream": "stdout",
       "text": [
        "\r",
        " [*******               15%                       ]  6 of 40 complete"
       ]
      },
      {
       "output_type": "stream",
       "stream": "stdout",
       "text": [
        "\r",
        " [*********             18%                       ]  7 of 40 complete"
       ]
      },
      {
       "output_type": "stream",
       "stream": "stdout",
       "text": [
        "\r",
        " [**********            20%                       ]  8 of 40 complete"
       ]
      },
      {
       "output_type": "stream",
       "stream": "stdout",
       "text": [
        "\r",
        " [***********           23%                       ]  9 of 40 complete"
       ]
      },
      {
       "output_type": "stream",
       "stream": "stdout",
       "text": [
        "\r",
        " [************          25%                       ]  10 of 40 complete"
       ]
      },
      {
       "output_type": "stream",
       "stream": "stdout",
       "text": [
        "\r",
        " [*************         28%                       ]  11 of 40 complete"
       ]
      },
      {
       "output_type": "stream",
       "stream": "stdout",
       "text": [
        "\r",
        " [**************        30%                       ]  12 of 40 complete"
       ]
      },
      {
       "output_type": "stream",
       "stream": "stdout",
       "text": [
        "\r",
        " [****************      33%                       ]  13 of 40 complete"
       ]
      },
      {
       "output_type": "stream",
       "stream": "stdout",
       "text": [
        "\r",
        " [*****************     35%                       ]  14 of 40 complete"
       ]
      },
      {
       "output_type": "stream",
       "stream": "stdout",
       "text": [
        "\r",
        " [******************    38%                       ]  15 of 40 complete"
       ]
      },
      {
       "output_type": "stream",
       "stream": "stdout",
       "text": [
        "\r",
        " [*******************   40%                       ]  16 of 40 complete"
       ]
      },
      {
       "output_type": "stream",
       "stream": "stdout",
       "text": [
        "\r",
        " [********************* 43%                       ]  17 of 40 complete"
       ]
      },
      {
       "output_type": "stream",
       "stream": "stdout",
       "text": [
        "\r",
        " [**********************45%                       ]  18 of 40 complete"
       ]
      },
      {
       "output_type": "stream",
       "stream": "stdout",
       "text": [
        "\r",
        " [**********************48%                       ]  19 of 40 complete"
       ]
      },
      {
       "output_type": "stream",
       "stream": "stdout",
       "text": [
        "\r",
        " [**********************50%                       ]  20 of 40 complete"
       ]
      },
      {
       "output_type": "stream",
       "stream": "stdout",
       "text": [
        "\r",
        " [**********************53%                       ]  21 of 40 complete"
       ]
      },
      {
       "output_type": "stream",
       "stream": "stdout",
       "text": [
        "\r",
        " [**********************55%*                      ]  22 of 40 complete"
       ]
      },
      {
       "output_type": "stream",
       "stream": "stdout",
       "text": [
        "\r",
        " [**********************57%**                     ]  23 of 40 complete"
       ]
      },
      {
       "output_type": "stream",
       "stream": "stdout",
       "text": [
        "\r",
        " [**********************60%****                   ]  24 of 40 complete"
       ]
      },
      {
       "output_type": "stream",
       "stream": "stdout",
       "text": [
        "\r",
        " [**********************63%*****                  ]  25 of 40 complete"
       ]
      },
      {
       "output_type": "stream",
       "stream": "stdout",
       "text": [
        "\r",
        " [**********************65%******                 ]  26 of 40 complete"
       ]
      },
      {
       "output_type": "stream",
       "stream": "stdout",
       "text": [
        "\r",
        " [**********************68%********               ]  27 of 40 complete"
       ]
      },
      {
       "output_type": "stream",
       "stream": "stdout",
       "text": [
        "\r",
        " [**********************70%*********              ]  28 of 40 complete"
       ]
      },
      {
       "output_type": "stream",
       "stream": "stdout",
       "text": [
        "\r",
        " [**********************73%**********             ]  29 of 40 complete"
       ]
      },
      {
       "output_type": "stream",
       "stream": "stdout",
       "text": [
        "\r",
        " [**********************75%***********            ]  30 of 40 complete"
       ]
      },
      {
       "output_type": "stream",
       "stream": "stdout",
       "text": [
        "\r",
        " [**********************78%************           ]  31 of 40 complete"
       ]
      },
      {
       "output_type": "stream",
       "stream": "stdout",
       "text": [
        "\r",
        " [**********************80%*************          ]  32 of 40 complete"
       ]
      },
      {
       "output_type": "stream",
       "stream": "stdout",
       "text": [
        "\r",
        " [**********************83%***************        ]  33 of 40 complete"
       ]
      },
      {
       "output_type": "stream",
       "stream": "stdout",
       "text": [
        "\r",
        " [**********************85%****************       ]  34 of 40 complete"
       ]
      },
      {
       "output_type": "stream",
       "stream": "stdout",
       "text": [
        "\r",
        " [**********************88%*****************      ]  35 of 40 complete"
       ]
      },
      {
       "output_type": "stream",
       "stream": "stdout",
       "text": [
        "\r",
        " [**********************90%******************     ]  36 of 40 complete"
       ]
      },
      {
       "output_type": "stream",
       "stream": "stdout",
       "text": [
        "\r",
        " [**********************93%********************   ]  37 of 40 complete"
       ]
      },
      {
       "output_type": "stream",
       "stream": "stdout",
       "text": [
        "\r",
        " [**********************95%*********************  ]  38 of 40 complete"
       ]
      },
      {
       "output_type": "stream",
       "stream": "stdout",
       "text": [
        "\r",
        " [**********************98%********************** ]  39 of 40 complete"
       ]
      },
      {
       "output_type": "stream",
       "stream": "stdout",
       "text": [
        "\r",
        " [*********************100%***********************]  40 of 40 complete"
       ]
      }
     ],
     "prompt_number": 26
    },
    {
     "cell_type": "code",
     "collapsed": false,
     "input": [
      "nc = 10\n",
      "group = range(14)\n",
      "fig = plt.subplots(figsize=(12,8))\n",
      "plt.subplot(2,2,1)\n",
      "plt.pcolor(np.nanmean(R2[:,:,nc,:],axis=2))\n",
      "plt.colorbar()\n",
      "plt.subplot(2,2,3)\n",
      "plt.plot(lags,np.nanmean(np.nanmean(R2[group,:,nc,:],axis=2),axis=0))\n",
      "\n",
      "plt.subplot(2,2,2)\n",
      "plt.pcolor(np.nanmean(R2_null[:,:,nc,:],axis=2))\n",
      "plt.colorbar()\n",
      "plt.subplot(2,2,4)\n",
      "plt.plot(lags,np.nanmean(np.nanmean(R2_null[group,:,nc,:],axis=2),axis=0))"
     ],
     "language": "python",
     "metadata": {},
     "outputs": [
      {
       "metadata": {},
       "output_type": "pyout",
       "prompt_number": 45,
       "text": [
        "[<matplotlib.lines.Line2D at 0x13a8734d0>]"
       ]
      },
      {
       "metadata": {},
       "output_type": "display_data",
       "png": "[encoded data removed]",
       "text": [
        "<matplotlib.figure.Figure at 0x13a118b10>"
       ]
      }
     ],
     "prompt_number": 45
    },
    {
     "cell_type": "code",
     "collapsed": false,
     "input": [
      "X_test.shape"
     ],
     "language": "python",
     "metadata": {},
     "outputs": [
      {
       "metadata": {},
       "output_type": "pyout",
       "prompt_number": 65,
       "text": [
        "(1550, 85)"
       ]
      }
     ],
     "prompt_number": 65
    },
    {
     "cell_type": "code",
     "collapsed": false,
     "input": [
      "traintrial_label.loc[trial_label.isin(train_index)]"
     ],
     "language": "python",
     "metadata": {},
     "outputs": []
    },
    {
     "cell_type": "code",
     "collapsed": false,
     "input": [
      "plot(tri[0,50,:])"
     ],
     "language": "python",
     "metadata": {},
     "outputs": []
    },
    {
     "cell_type": "code",
     "collapsed": false,
     "input": [
      "nc = 78\n",
      "group = range(14)\n",
      "plt.subplot(2,1,1)\n",
      "plt.pcolor(np.nanmean(R2[:,:,nc,:],axis=2))\n",
      "plt.colorbar()\n",
      "plt.subplot(2,1,2)\n",
      "plt.plot(lags,np.nanmean(np.nanmean(R2[group,:,nc,:],axis=2),axis=0))"
     ],
     "language": "python",
     "metadata": {},
     "outputs": []
    },
    {
     "cell_type": "code",
     "collapsed": false,
     "input": [
      "plt.plot(np.nanmean(np.nanmean(R2[:,30,:,:],axis=0),axis=1))"
     ],
     "language": "python",
     "metadata": {},
     "outputs": [
      {
       "metadata": {},
       "output_type": "pyout",
       "prompt_number": 82,
       "text": [
        "[<matplotlib.lines.Line2D at 0x140f97890>]"
       ]
      },
      {
       "metadata": {},
       "output_type": "display_data",
       "png": "[encoded data removed]",
       "text": [
        "<matplotlib.figure.Figure at 0x140eb0910>"
       ]
      }
     ],
     "prompt_number": 82
    },
    {
     "cell_type": "code",
     "collapsed": false,
     "input": [
      "plt.plot(np.nanmean(np.nanmean(R2[:,:,1,:],axis=0),axis=1))"
     ],
     "language": "python",
     "metadata": {},
     "outputs": [
      {
       "metadata": {},
       "output_type": "pyout",
       "prompt_number": 43,
       "text": [
        "[<matplotlib.lines.Line2D at 0x1397cd150>]"
       ]
      },
      {
       "metadata": {},
       "output_type": "display_data",
       "png": "[encoded data removed]",
       "text": [
        "<matplotlib.figure.Figure at 0x1385f6e10>"
       ]
      }
     ],
     "prompt_number": 43
    },
    {
     "cell_type": "code",
     "collapsed": false,
     "input": [
      "nc = 15\n",
      "feat = 7\n",
      "plt.subplot(2,1,1)\n",
      "plt.pcolor(np.nanmean(coefs[feat,:,:,nc,:],axis=2))\n",
      "plt.colorbar()\n",
      "plt.subplot(2,1,2)\n",
      "plt.plot(lags,np.nanmean(R2[feat,:,nc,:],axis=1))"
     ],
     "language": "python",
     "metadata": {},
     "outputs": [
      {
       "metadata": {},
       "output_type": "pyout",
       "prompt_number": 95,
       "text": [
        "[<matplotlib.lines.Line2D at 0x14963a3d0>]"
       ]
      },
      {
       "metadata": {},
       "output_type": "display_data",
       "png": "[encoded data removed]",
       "text": [
        "<matplotlib.figure.Figure at 0x146331b90>"
       ]
      }
     ],
     "prompt_number": 95
    },
    {
     "cell_type": "code",
     "collapsed": false,
     "input": [
      "\n",
      "alphas = np.nanmean(R2[:,:,40,:],axis=2)\n",
      "\n",
      "alphas[alphas<0.35] = 0\n",
      "#plt.hist(alphas.flatten())\n",
      "#alphas *= 1/alphas.max()"
     ],
     "language": "python",
     "metadata": {},
     "outputs": []
    },
    {
     "cell_type": "code",
     "collapsed": false,
     "input": [
      "alphas"
     ],
     "language": "python",
     "metadata": {},
     "outputs": []
    },
    {
     "cell_type": "code",
     "collapsed": false,
     "input": [
      "%matplotlib osx\n",
      "activity = nanmean(abs(coefs[9,:,:,40,:]),axis=2)\n",
      "\n",
      "blockpath = '/Users/david_conant/Dropbox/Vowels/EC41/EC41_B20'\n",
      "patient_dir = '/Users/david_conant/Dropbox/Vowels/EC41'\n",
      "subject = 'EC41'\n",
      "#vis brain\n",
      "anatomy = imaging.load_anatomy(patient_dir)\n",
      "\n",
      "regdata_load = sp.io.loadmat(os.path.expanduser(patient_dir + '/'+ subject + '_elec_pos2D.mat'))\n",
      "electrode_positions = regdata_load['xy']\n",
      "brain_img = 1-mpimg.imread(os.path.expanduser(patient_dir + '/'+ subject + '_brain2D.png'))\n",
      "vb = VisEcog.VisBrain(brain_img,electrode_positions,anatomy)\n",
      "fig,ax,anim = vb.animateAct(activity.transpose(),t_window=(-1.,0.25))\n"
     ],
     "language": "python",
     "metadata": {},
     "outputs": [],
     "prompt_number": 30
    },
    {
     "cell_type": "code",
     "collapsed": false,
     "input": [
      "%matplotlib inline"
     ],
     "language": "python",
     "metadata": {},
     "outputs": [],
     "prompt_number": 31
    },
    {
     "cell_type": "code",
     "collapsed": false,
     "input": [],
     "language": "python",
     "metadata": {},
     "outputs": []
    }
   ],
   "metadata": {}
  }
 ]
}