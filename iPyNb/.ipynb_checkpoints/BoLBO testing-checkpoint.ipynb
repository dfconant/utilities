{
 "metadata": {
  "name": "",
  "signature": "sha256:892c629e5c15119d6ec3f9f3e05dc981f7ec0cd27b70fb627922acbb04612ffc"
 },
 "nbformat": 3,
 "nbformat_minor": 0,
 "worksheets": [
  {
   "cells": [
    {
     "cell_type": "code",
     "collapsed": false,
     "input": [
      "#Intitialize\n",
      "%load_ext autoreload\n",
      "%autoreload 2\n",
      "%matplotlib inline\n",
      "import scipy as sp\n",
      "import scipy.stats as stats\n",
      "import numpy as np\n",
      "from sklearn.cross_validation import train_test_split, LeaveOneOut, LeaveOneLabelOut, ShuffleSplit\n",
      "from sklearn.decomposition import PCA\n",
      "from sklearn.lda import LDA\n",
      "from sklearn.linear_model import Lars, Ridge\n",
      "import pandas as pd\n",
      "import pdb\n",
      "import prettyplotlib as ppl\n",
      "from BDutils import ProgressBar, moving_average\n",
      "from scipy.signal import savgol_filter\n",
      "import seaborn as sns\n",
      "import matplotlib.gridspec as gridspec\n",
      "from ECoGstats import makeD_multi, process_kin, shuffle_df, smooth_formants, Ridge_MLR, Ds2Xy, smooth_derivative,ClusterSeparability\n",
      "from ecog_viz import LDA_proj_scatter, gestural_score, separability_timecourse,feature_correlations,vowel_svm\n",
      "from __future__ import division\n",
      "from matplotlib.backends.backend_agg import (FigureCanvasAgg as FigureCanvas)\n",
      "from scipy.stats import mstats\n",
      "from BoLASSO_BgdOLS import BoLASSO_BgdOLS as BoLBO"
     ],
     "language": "python",
     "metadata": {},
     "outputs": [],
     "prompt_number": 6
    },
    {
     "cell_type": "markdown",
     "metadata": {},
     "source": [
      "Create hdf5 data groups"
     ]
    },
    {
     "cell_type": "code",
     "collapsed": false,
     "input": [
      "#Neural Decoding\n",
      "subj = 'EC41'\n",
      "blocks = [19,20,22,27]\n",
      "elects = [21,25,35,37,43,53,55,58,59,67,72,73,86,90,102]\n",
      "pth = '/Users/david_conant/Dropbox/Vowels/'+subj + '/'\n",
      "savpth = pth + 'BoLBO_out/out' \n",
      "tokens = ['AAA','IYY','UWW','AEE','AHH','EHH','ERR','IHH','UHH']\n",
      "#tokens = ['AAA','IYY','UWW']\n",
      "window = np.array([-0.5,0.5])\n",
      "[E,anat,stop_times,start_times] = makeD_multi(pth,blocks,tokens,align_window = window, dtype='HG')\n",
      "Es = [E[d] for d in tokens]\n",
      "[K,anat,stop_times,start_times] = makeD_multi(pth,blocks,tokens,align_window = window, dtype='kin')\n",
      "Ks = [K[d].copy() for d in tokens]\n",
      "stops = [stop_times[d] for d in tokens]\n",
      "starts = [start_times[d] for d in tokens]\n",
      "Ks = process_kin(Ks,stops,starts,window,numTongue=3, norm_length=True, velocity = False, wrt_start=True)\n",
      "\n",
      "CV = 'split'\n",
      "boot = 100\n",
      "ncomp = 8\n",
      "alphas = np.logspace(0,10,20)\n",
      "Kr2 = np.empty((Ks[0].shape[0],boot,200,len(alphas)))\n",
      "Kr2null = np.empty((Ks[0].shape[0],boot,200,len(alphas)))\n",
      "prog = ProgressBar(200)\n",
      "for indt,t in enumerate(np.linspace(0,396,200)):\n",
      "    erange = np.arange(t,t+4)   \n",
      "\n",
      "    #Organize data into X and y\n",
      "    X,y,yrnd = Ds2Xy(Es,Ks,dt1='HG',dt2='kin',ncomp = ncomp,erange = erange.astype(int),elects = elects,frange=np.arange(55,65),krange=np.arange(22,25))\n",
      "    for feat in range(y.shape[1]):\n",
      "        outpth = savpth+str(indt)+'_'+str(feat)\n",
      "        BoLBO(X,y[:,feat],name=outpth)\n",
      "    prog.animate(indt)"
     ],
     "language": "python",
     "metadata": {},
     "outputs": [
      {
       "output_type": "stream",
       "stream": "stdout",
       "text": [
        "File found; Loading...\n",
        "Loaded"
       ]
      },
      {
       "output_type": "stream",
       "stream": "stdout",
       "text": [
        "\n",
        "File found; Loading...\n",
        "Loaded"
       ]
      },
      {
       "output_type": "stream",
       "stream": "stdout",
       "text": [
        "\n",
        ">"
       ]
      },
      {
       "output_type": "stream",
       "stream": "stdout",
       "text": [
        " /Users/david_conant/Dropbox/changrepo/python/analysis/BoLASSO_BgdOLS.py(68)BoLASSO_BgdOLS()\n",
        "-> v = lamb0[Lids[len(Lids)/2]]\n"
       ]
      },
      {
       "name": "stdout",
       "output_type": "stream",
       "stream": "stdout",
       "text": [
        "(Pdb) Lids\n"
       ]
      },
      {
       "output_type": "stream",
       "stream": "stdout",
       "text": [
        "array([], dtype=int64)\n"
       ]
      },
      {
       "name": "stdout",
       "output_type": "stream",
       "stream": "stdout",
       "text": [
        "(Pdb) m_frac\n"
       ]
      },
      {
       "output_type": "stream",
       "stream": "stdout",
       "text": [
        "7\n"
       ]
      },
      {
       "name": "stdout",
       "output_type": "stream",
       "stream": "stdout",
       "text": [
        "(Pdb) x\n"
       ]
      },
      {
       "output_type": "stream",
       "stream": "stdout",
       "text": [
        "array([[-1.47138415, -0.28476864,  0.65578803, ...,  1.12919764,\n",
        "        -0.94035645,  1.47466987],\n",
        "       [ 0.62505014, -0.50756039, -0.40464307, ..., -1.35677672,\n",
        "         0.57628018, -0.36166729],\n",
        "       [-0.64767856,  1.06145847, -1.03587985, ..., -0.40748883,\n",
        "        -1.03414577, -1.21953276],\n",
        "       ..., \n",
        "       [ 0.3032823 ,  1.16549915, -0.87262868, ...,  0.2052711 ,\n",
        "         0.23181547,  0.66921217],\n",
        "       [ 0.28710553, -0.98805559, -0.12638379, ..., -0.99038781,\n",
        "         0.93522365,  0.46747358],\n",
        "       [-0.70347554,  0.0664582 ,  0.10376861, ...,  0.4545711 ,\n",
        "        -0.88115595,  0.69310319]])\n"
       ]
      },
      {
       "name": "stdout",
       "output_type": "stream",
       "stream": "stdout",
       "text": [
        "(Pdb) x.shape\n"
       ]
      },
      {
       "output_type": "stream",
       "stream": "stdout",
       "text": [
        "(8, 174)\n"
       ]
      },
      {
       "name": "stdout",
       "output_type": "stream",
       "stream": "stdout",
       "text": [
        "(Pdb) y.shape\n"
       ]
      },
      {
       "output_type": "stream",
       "stream": "stdout",
       "text": [
        "(174,)\n"
       ]
      },
      {
       "name": "stdout",
       "output_type": "stream",
       "stream": "stdout",
       "text": [
        "(Pdb) stdf\n"
       ]
      },
      {
       "output_type": "stream",
       "stream": "stdout",
       "text": [
        "array([3])\n"
       ]
      },
      {
       "name": "stdout",
       "output_type": "stream",
       "stream": "stdout",
       "text": [
        "(Pdb) nMP\n"
       ]
      },
      {
       "output_type": "stream",
       "stream": "stdout",
       "text": [
        "100\n"
       ]
      },
      {
       "name": "stdout",
       "output_type": "stream",
       "stream": "stdout",
       "text": [
        "(Pdb) outLas\n"
       ]
      },
      {
       "output_type": "stream",
       "stream": "stdout",
       "text": [
        "Lasso(alpha=10000.0, copy_X=True, fit_intercept=True, max_iter=1000,\n",
        "   normalize=False, positive=False, precompute=False, random_state=None,\n",
        "   selection='cyclic', tol=0.0001, warm_start=False)\n"
       ]
      },
      {
       "name": "stdout",
       "output_type": "stream",
       "stream": "stdout",
       "text": [
        "(Pdb) lamb0\n"
       ]
      },
      {
       "output_type": "stream",
       "stream": "stdout",
       "text": [
        "array([  1.00000000e-02,   1.14975700e-02,   1.32194115e-02,\n",
        "         1.51991108e-02,   1.74752840e-02,   2.00923300e-02,\n",
        "         2.31012970e-02,   2.65608778e-02,   3.05385551e-02,\n",
        "         3.51119173e-02,   4.03701726e-02,   4.64158883e-02,\n",
        "         5.33669923e-02,   6.13590727e-02,   7.05480231e-02,\n",
        "         8.11130831e-02,   9.32603347e-02,   1.07226722e-01,\n",
        "         1.23284674e-01,   1.41747416e-01,   1.62975083e-01,\n",
        "         1.87381742e-01,   2.15443469e-01,   2.47707636e-01,\n",
        "         2.84803587e-01,   3.27454916e-01,   3.76493581e-01,\n",
        "         4.32876128e-01,   4.97702356e-01,   5.72236766e-01,\n",
        "         6.57933225e-01,   7.56463328e-01,   8.69749003e-01,\n",
        "         1.00000000e+00,   1.14975700e+00,   1.32194115e+00,\n",
        "         1.51991108e+00,   1.74752840e+00,   2.00923300e+00,\n",
        "         2.31012970e+00,   2.65608778e+00,   3.05385551e+00,\n",
        "         3.51119173e+00,   4.03701726e+00,   4.64158883e+00,\n",
        "         5.33669923e+00,   6.13590727e+00,   7.05480231e+00,\n",
        "         8.11130831e+00,   9.32603347e+00,   1.07226722e+01,\n",
        "         1.23284674e+01,   1.41747416e+01,   1.62975083e+01,\n",
        "         1.87381742e+01,   2.15443469e+01,   2.47707636e+01,\n",
        "         2.84803587e+01,   3.27454916e+01,   3.76493581e+01,\n",
        "         4.32876128e+01,   4.97702356e+01,   5.72236766e+01,\n",
        "         6.57933225e+01,   7.56463328e+01,   8.69749003e+01,\n",
        "         1.00000000e+02,   1.14975700e+02,   1.32194115e+02,\n",
        "         1.51991108e+02,   1.74752840e+02,   2.00923300e+02,\n",
        "         2.31012970e+02,   2.65608778e+02,   3.05385551e+02,\n",
        "         3.51119173e+02,   4.03701726e+02,   4.64158883e+02,\n",
        "         5.33669923e+02,   6.13590727e+02,   7.05480231e+02,\n",
        "         8.11130831e+02,   9.32603347e+02,   1.07226722e+03,\n",
        "         1.23284674e+03,   1.41747416e+03,   1.62975083e+03,\n",
        "         1.87381742e+03,   2.15443469e+03,   2.47707636e+03,\n",
        "         2.84803587e+03,   3.27454916e+03,   3.76493581e+03,\n",
        "         4.32876128e+03,   4.97702356e+03,   5.72236766e+03,\n",
        "         6.57933225e+03,   7.56463328e+03,   8.69749003e+03,\n",
        "         1.00000000e+04])\n"
       ]
      },
      {
       "name": "stdout",
       "output_type": "stream",
       "stream": "stdout",
       "text": [
        "(Pdb) rndsd\n"
       ]
      },
      {
       "output_type": "stream",
       "stream": "stdout",
       "text": [
        "array([2, 0, 1, 5, 6, 4, 7])\n"
       ]
      },
      {
       "name": "stdout",
       "output_type": "stream",
       "stream": "stdout",
       "text": [
        "(Pdb) m\n"
       ]
      },
      {
       "output_type": "stream",
       "stream": "stdout",
       "text": [
        "8\n"
       ]
      }
     ]
    },
    {
     "cell_type": "code",
     "collapsed": false,
     "input": [
      "y.shape[2]"
     ],
     "language": "python",
     "metadata": {},
     "outputs": [
      {
       "ename": "IndexError",
       "evalue": "tuple index out of range",
       "output_type": "pyerr",
       "traceback": [
        "\u001b[0;31m---------------------------------------------------------------------------\u001b[0m\n\u001b[0;31mIndexError\u001b[0m                                Traceback (most recent call last)",
        "\u001b[0;32m<ipython-input-16-19ccfa0bae7c>\u001b[0m in \u001b[0;36m<module>\u001b[0;34m()\u001b[0m\n\u001b[0;32m----> 1\u001b[0;31m \u001b[0my\u001b[0m\u001b[0;34m.\u001b[0m\u001b[0mshape\u001b[0m\u001b[0;34m[\u001b[0m\u001b[0;36m2\u001b[0m\u001b[0;34m]\u001b[0m\u001b[0;34m\u001b[0m\u001b[0m\n\u001b[0m",
        "\u001b[0;31mIndexError\u001b[0m: tuple index out of range"
       ]
      }
     ],
     "prompt_number": 16
    },
    {
     "cell_type": "code",
     "collapsed": false,
     "input": [
      "y.shape"
     ],
     "language": "python",
     "metadata": {},
     "outputs": [
      {
       "metadata": {},
       "output_type": "pyout",
       "prompt_number": 13,
       "text": [
        "(57, 10)"
       ]
      }
     ],
     "prompt_number": 13
    },
    {
     "cell_type": "code",
     "collapsed": false,
     "input": [],
     "language": "python",
     "metadata": {},
     "outputs": []
    }
   ],
   "metadata": {}
  }
 ]
}