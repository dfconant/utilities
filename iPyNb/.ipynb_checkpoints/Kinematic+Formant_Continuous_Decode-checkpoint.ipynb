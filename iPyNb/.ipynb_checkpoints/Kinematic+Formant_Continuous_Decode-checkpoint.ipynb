{
 "metadata": {
  "name": "",
  "signature": "sha256:0f4659fc8ef38e516870f4366fa9075aebe44c760a05bdb20520ccb086f94f1f"
 },
 "nbformat": 3,
 "nbformat_minor": 0,
 "worksheets": [
  {
   "cells": [
    {
     "cell_type": "code",
     "collapsed": false,
     "input": [
      "%load_ext autoreload\n",
      "%autoreload 2\n",
      "from ECoGstats import makeD_multi, smooth_formants, smooth_warp_formants, process_kin, normalize_contour_length\n",
      "import seaborn as sns\n",
      "import prettyplotlib as ppl\n",
      "from matplotlib.backends.backend_agg import (FigureCanvasAgg as FigureCanvas)\n",
      "from scipy.signal import savgol_filter\n",
      "import pandas as pd\n",
      "from BDutils import ProgressBar, resample_array, smart_toeplitz\n",
      "from sklearn.cross_validation import train_test_split\n",
      "from sklearn.decomposition import PCA\n",
      "from sklearn.linear_model import Ridge\n",
      "import scipy.stats as stats"
     ],
     "language": "python",
     "metadata": {},
     "outputs": [
      {
       "output_type": "stream",
       "stream": "stdout",
       "text": [
        "The autoreload extension is already loaded. To reload it, use:\n",
        "  %reload_ext autoreload\n"
       ]
      }
     ],
     "prompt_number": 81
    },
    {
     "cell_type": "code",
     "collapsed": false,
     "input": [
      "def Ridge_MLR(X,y,alpha,CV = 'split',boot=200,notes=None,Xtest=None,ytest=None):\n",
      "    r2 = np.empty((y.shape[1],boot))\n",
      "    score = np.empty((y.shape[1],boot))\n",
      "    yhat = np.empty((y.shape))\n",
      "    cnt = 0\n",
      "    for b in range(boot):\n",
      "        if CV is 'split':\n",
      "                X_train, X_test, y_train, y_test = train_test_split(X, y, test_size=0.2)\n",
      "                for c in range(y.shape[1]):\n",
      "                    clf = Ridge(alpha = alpha)\n",
      "                    \n",
      "                    clf.fit(X_train,y_train[:,c])\n",
      "                    yhat = clf.predict(X_test)\n",
      "                    score[c,b] = clf.score(X_test,y_test[:,c])\n",
      "                    r = stats.pearsonr(yhat,y_test[:,c])[0]\n",
      "                    r2[c,b] = r**2\n",
      "        elif CV is 'LOLO':\n",
      "            #trialLabel = np.tile(np.arange(y.shape[0]/3),3)\n",
      "            trialLabel = range(y.shape[0])\n",
      "            lol = LeaveOneLabelOut(trialLabel)\n",
      "            for c in range(y.shape[1]):\n",
      "                for train_index, test_index in lol:\n",
      "                    clf = Ridge(alpha = alpha)\n",
      "                    #pdb.set_trace()\n",
      "                    clf.fit(X[train_index,:],y[train_index,c])\n",
      "                    yhat[test_index,c] = clf.predict(X[test_index,:])\n",
      "                    #score[c,b] = clf.score(X[train_index,:],y[train_index,c])\n",
      "                    \n",
      "                r = stats.pearsonr(yhat[:,c],y[:,c])[0]\n",
      "                r2[c,b] = r**2\n",
      "                \n",
      "        elif CV is 'split aiu':\n",
      "            aiu = [i for i, x in enumerate(notes[0]) if x == \"AAA\" or notes == 'IYY' or notes == 'UWW']\n",
      "            X_aiu = X[aiu]\n",
      "            y_aiu = y[aiu]\n",
      "            X_train_aiu, X_test, y_train_aiu, y_test = train_test_split(X[aiu], y[aiu], test_size=0.2)\n",
      "            X_train = np.concatenate((X[~aiu],X_train_aiu),axis=0)\n",
      "            y_train = np.concatenate((y[~aiu],y_train_aiu),axis=0)\n",
      "            \n",
      "            for c in range(y.shape[1]):\n",
      "                clf = Ridge(alpha = alpha)\n",
      "                \n",
      "                clf.fit(X_train,y_train[:,c])\n",
      "                yhat = clf.predict(X_test)\n",
      "                score[c,b] = clf.score(X_test,y_test[:,c])\n",
      "                r = stats.pearsonr(yhat,y_test[:,c])[0]\n",
      "                r2[c,b] = r**2\n",
      "        elif CV is 'split unseen':\n",
      "            for v in np.unique(notes):\n",
      "                thisvow = [i for i, x in enumerate(notes[0]) if x == v]\n",
      "                X_train = X[~thisvow]\n",
      "                X_test = Xtest[thisvow]\n",
      "                y_train = y[~thisvow]\n",
      "                y_test = ytest[thisvow]\n",
      "                pdb.set_trace()\n",
      "                for c in range(y.shape[1]):\n",
      "                    clf = Ridge(alpha = alpha)\n",
      "\n",
      "                    clf.fit(X_train,y_train[:,c])\n",
      "                    yhat = clf.predict(X_test)\n",
      "                    score[c,b] = clf.score(X_test,y_test[:,c])\n",
      "                    r = stats.pearsonr(yhat,y_test[:,c])[0]\n",
      "                    r2[c,cnt] = r**2\n",
      "                cnt = cnt+1\n",
      "            \n",
      "    return np.squeeze(r2), yhat, score"
     ],
     "language": "python",
     "metadata": {},
     "outputs": [],
     "prompt_number": 75
    },
    {
     "cell_type": "code",
     "collapsed": false,
     "input": [
      "pth = '/Users/david_conant/Dropbox/Vowels/EC41/'\n",
      "blocks = [19,20,22,27]\n",
      "tokens = ['AAA','IYY','UWW','AEE','AHH','EHH','ERR','IHH','UHH']\n",
      "feats = ['Front Tongue X','Mid Tongue X', 'Back Tongue X','Front Tongue Y','Mid Tongue Y',\n",
      "         'Back Tongue Y']\n",
      "\n",
      "## Generate Data\n",
      "# Electrodes\n",
      "window = np.array([-1,1.5])   #TODO: try wider window for more timepoints\n",
      "[E,anat,stop_times,start_times] = makeD_multi(pth,blocks,tokens,align_window = window, dtype='HG')\n",
      "Es = [E[d] for d in tokens]\n",
      "vSMC = np.concatenate((np.where(anat=='preCG')[0],np.where(anat=='postCG')[0]))\n",
      "Eall = np.concatenate(Es,axis=2)\n",
      "#Eall = np.reshape(Eall,(Eall.shape[0],-1),order='F').transpose()\n",
      "#tmp = pd.DataFrame(Eall[:,vSMC])\n",
      "#tmp = tmp.fillna(tmp.median(),inplace=True)\n",
      "#tmp = tmp.dropna(axis =1,how='any')\n",
      "#vSMC_HG = tmp.values\n",
      "#nchans = resp.shape[1]\n",
      "\n",
      "#Kinematics\n",
      "window = np.array([-0.25,1.5])   #TODO: try wider window for more timepoints\n",
      "[K,anat,stop_times,start_times] = makeD_multi(pth,blocks,tokens,dtype='kin',align_window = window)\n",
      "Ks = [K[d] for d in tokens]\n",
      "stops = [stop_times[d] for d in tokens]\n",
      "starts = [start_times[d] for d in tokens]\n",
      "Ks = process_kin(Ks,stops,starts,window)\n",
      "Kall = np.concatenate(Ks,axis=2)\n",
      "Kall = resample_array(Kall,[Kall.shape[0],np.diff(window)*400,Kall.shape[2]])\n",
      "tmp = np.reshape(Kall,(Kall.shape[0],-1),order='F').transpose()\n",
      "tmp = pd.DataFrame(tmp)\n",
      "tmp = tmp.fillna(tmp.median(),inplace=True)\n",
      "Kinematics = tmp.values\n",
      "\n",
      "#Formants\n",
      "window = np.array([-0.25,1.5])   #TODO: try wider window for more timepoints\n",
      "[F,anat,stop_times,start_times] = makeD_multi(pth,blocks,tokens,dtype='form',align_window = window)\n",
      "Fs = [F[d] for d in tokens]\n",
      "stops = [stop_times[d] for d in tokens]\n",
      "starts = [start_times[d] for d in tokens]\n",
      "Fs = smooth_formants(Fs,stops,starts,window)\n",
      "Fall = np.concatenate(Fs,axis=2)\n",
      "Fall = resample_array(Fall,[Fall.shape[0],np.diff(window)*400,Fall.shape[2]])\n",
      "tmp = np.reshape(Fall,(Fall.shape[0],-1),order='F').transpose()\n",
      "tmp = pd.DataFrame(tmp)\n",
      "tmp = tmp.fillna(tmp.median(),inplace=True)\n",
      "Formants = tmp.values"
     ],
     "language": "python",
     "metadata": {},
     "outputs": [
      {
       "output_type": "stream",
       "stream": "stdout",
       "text": [
        "File found; Loading...\n",
        "Loaded"
       ]
      },
      {
       "output_type": "stream",
       "stream": "stdout",
       "text": [
        "\n",
        "File found; Loading..."
       ]
      },
      {
       "output_type": "stream",
       "stream": "stdout",
       "text": [
        "\n",
        "Loaded"
       ]
      },
      {
       "output_type": "stream",
       "stream": "stdout",
       "text": [
        "\n",
        "File found; Loading..."
       ]
      },
      {
       "output_type": "stream",
       "stream": "stdout",
       "text": [
        "\n",
        "Loaded\n"
       ]
      }
     ],
     "prompt_number": 76
    },
    {
     "cell_type": "code",
     "collapsed": false,
     "input": [
      "lag_range = [-0.75, 0] # In seconds, how far back in the past to look (more delays = more time, more weights to fit, slower)\n",
      "window_size = 1.75\n",
      "num_lags = 50\n",
      "fs = 400\n",
      "lags = np.linspace(lag_range[1],lag_range[0],num_lags)\n",
      "boot = 10\n",
      "CV = 'split'\n",
      "Fr2 = np.empty((5,boot,num_lags,10))\n",
      "#Fr2null = np.empty((5,boot,200,50,len(pthA)))\n",
      "Kr2 = np.empty((10,boot,num_lags,10))\n",
      "#Kr2null = np.empty((10,boot,200,50,len(pthA)))\n",
      "prog = ProgressBar(num_lags)\n",
      "for ind,l in enumerate(lags):\n",
      "    nTP = Eall.shape[1]\n",
      "    start = np.floor(nTP - (window_size+abs(l))*fs)\n",
      "    stop = np.floor(nTP+(l*fs))\n",
      "    this_range = np.floor(np.arange(start,stop)).astype(int)\n",
      "    Elagged = Eall[:,this_range,:]\n",
      "    Elagged = np.reshape(Elagged,(Elagged.shape[0],-1),order='F').transpose()\n",
      "    \n",
      "    tmp = pd.DataFrame(Elagged[:,vSMC])\n",
      "    tmp = tmp.fillna(tmp.median(),inplace=True)\n",
      "    tmp = tmp.dropna(axis =1,how='any')\n",
      "    vSMC_HG = tmp.values\n",
      "    nchans = vSMC_HG.shape[1]\n",
      "    \n",
      "    #Ridge regression\n",
      "    for inda,a in enumerate(np.logspace(0,10,10)):\n",
      "        Fr2[:,:,ind,inda],yhat,score = Ridge_MLR(vSMC_HG, Formants, alpha = a, CV = CV, boot = boot)\n",
      "        #Fr2null[:,:,indt,inda,indS],yhat,score = Ridge_MLR(vSMC_HG, Formants, alpha = a, CV = CV, boot = boot)\n",
      "\n",
      "     #Ridge regression\n",
      "    for inda,a in enumerate(np.logspace(0,10,10)):\n",
      "        Kr2[:,:,ind,inda],yhat,score = Ridge_MLR(vSMC_HG, Kinematics, alpha = a, CV = CV, boot = boot)\n",
      "        #Kr2null[:,:,indt,inda,indS],yhat,score = Ridge_MLR(vSMC_HG, Formants, alpha = a, CV = CV, boot = boot)\n",
      "    prog.animate(ind)"
     ],
     "language": "python",
     "metadata": {},
     "outputs": [
      {
       "output_type": "stream",
       "stream": "stdout",
       "text": [
        "\r",
        " [                       0%                       ]"
       ]
      },
      {
       "output_type": "stream",
       "stream": "stdout",
       "text": [
        "\r",
        " [*                      2%                       ]  1 of 50 complete"
       ]
      },
      {
       "output_type": "stream",
       "stream": "stdout",
       "text": [
        "\r",
        " [**                     4%                       ]  2 of 50 complete"
       ]
      },
      {
       "output_type": "stream",
       "stream": "stdout",
       "text": [
        "\r",
        " [***                    6%                       ]  3 of 50 complete"
       ]
      },
      {
       "output_type": "stream",
       "stream": "stdout",
       "text": [
        "\r",
        " [****                   8%                       ]  4 of 50 complete"
       ]
      },
      {
       "output_type": "stream",
       "stream": "stdout",
       "text": [
        "\r",
        " [*****                 10%                       ]  5 of 50 complete"
       ]
      },
      {
       "output_type": "stream",
       "stream": "stdout",
       "text": [
        "\r",
        " [******                12%                       ]  6 of 50 complete"
       ]
      },
      {
       "output_type": "stream",
       "stream": "stdout",
       "text": [
        "\r",
        " [*******               14%                       ]  7 of 50 complete"
       ]
      },
      {
       "output_type": "stream",
       "stream": "stdout",
       "text": [
        "\r",
        " [********              16%                       ]  8 of 50 complete"
       ]
      },
      {
       "output_type": "stream",
       "stream": "stdout",
       "text": [
        "\r",
        " [*********             18%                       ]  9 of 50 complete"
       ]
      },
      {
       "ename": "ValueError",
       "evalue": "Found arrays with inconsistent numbers of samples: [121800 121974]",
       "output_type": "pyerr",
       "traceback": [
        "\u001b[0;31m---------------------------------------------------------------------------\u001b[0m\n\u001b[0;31mValueError\u001b[0m                                Traceback (most recent call last)",
        "\u001b[0;32m<ipython-input-98-1f908bbfe8e5>\u001b[0m in \u001b[0;36m<module>\u001b[0;34m()\u001b[0m\n\u001b[1;32m     27\u001b[0m     \u001b[0;31m#Ridge regression\u001b[0m\u001b[0;34m\u001b[0m\u001b[0;34m\u001b[0m\u001b[0m\n\u001b[1;32m     28\u001b[0m     \u001b[0;32mfor\u001b[0m \u001b[0minda\u001b[0m\u001b[0;34m,\u001b[0m\u001b[0ma\u001b[0m \u001b[0;32min\u001b[0m \u001b[0menumerate\u001b[0m\u001b[0;34m(\u001b[0m\u001b[0mnp\u001b[0m\u001b[0;34m.\u001b[0m\u001b[0mlogspace\u001b[0m\u001b[0;34m(\u001b[0m\u001b[0;36m0\u001b[0m\u001b[0;34m,\u001b[0m\u001b[0;36m10\u001b[0m\u001b[0;34m,\u001b[0m\u001b[0;36m10\u001b[0m\u001b[0;34m)\u001b[0m\u001b[0;34m)\u001b[0m\u001b[0;34m:\u001b[0m\u001b[0;34m\u001b[0m\u001b[0m\n\u001b[0;32m---> 29\u001b[0;31m         \u001b[0mFr2\u001b[0m\u001b[0;34m[\u001b[0m\u001b[0;34m:\u001b[0m\u001b[0;34m,\u001b[0m\u001b[0;34m:\u001b[0m\u001b[0;34m,\u001b[0m\u001b[0mind\u001b[0m\u001b[0;34m,\u001b[0m\u001b[0minda\u001b[0m\u001b[0;34m]\u001b[0m\u001b[0;34m,\u001b[0m\u001b[0myhat\u001b[0m\u001b[0;34m,\u001b[0m\u001b[0mscore\u001b[0m \u001b[0;34m=\u001b[0m \u001b[0mRidge_MLR\u001b[0m\u001b[0;34m(\u001b[0m\u001b[0mvSMC_HG\u001b[0m\u001b[0;34m,\u001b[0m \u001b[0mFormants\u001b[0m\u001b[0;34m,\u001b[0m \u001b[0malpha\u001b[0m \u001b[0;34m=\u001b[0m \u001b[0ma\u001b[0m\u001b[0;34m,\u001b[0m \u001b[0mCV\u001b[0m \u001b[0;34m=\u001b[0m \u001b[0mCV\u001b[0m\u001b[0;34m,\u001b[0m \u001b[0mboot\u001b[0m \u001b[0;34m=\u001b[0m \u001b[0mboot\u001b[0m\u001b[0;34m)\u001b[0m\u001b[0;34m\u001b[0m\u001b[0m\n\u001b[0m\u001b[1;32m     30\u001b[0m         \u001b[0;31m#Fr2null[:,:,indt,inda,indS],yhat,score = Ridge_MLR(vSMC_HG, Formants, alpha = a, CV = CV, boot = boot)\u001b[0m\u001b[0;34m\u001b[0m\u001b[0;34m\u001b[0m\u001b[0m\n\u001b[1;32m     31\u001b[0m \u001b[0;34m\u001b[0m\u001b[0m\n",
        "\u001b[0;32m<ipython-input-75-20934fd549d7>\u001b[0m in \u001b[0;36mRidge_MLR\u001b[0;34m(X, y, alpha, CV, boot, notes, Xtest, ytest)\u001b[0m\n\u001b[1;32m      6\u001b[0m     \u001b[0;32mfor\u001b[0m \u001b[0mb\u001b[0m \u001b[0;32min\u001b[0m \u001b[0mrange\u001b[0m\u001b[0;34m(\u001b[0m\u001b[0mboot\u001b[0m\u001b[0;34m)\u001b[0m\u001b[0;34m:\u001b[0m\u001b[0;34m\u001b[0m\u001b[0m\n\u001b[1;32m      7\u001b[0m         \u001b[0;32mif\u001b[0m \u001b[0mCV\u001b[0m \u001b[0;32mis\u001b[0m \u001b[0;34m'split'\u001b[0m\u001b[0;34m:\u001b[0m\u001b[0;34m\u001b[0m\u001b[0m\n\u001b[0;32m----> 8\u001b[0;31m                 \u001b[0mX_train\u001b[0m\u001b[0;34m,\u001b[0m \u001b[0mX_test\u001b[0m\u001b[0;34m,\u001b[0m \u001b[0my_train\u001b[0m\u001b[0;34m,\u001b[0m \u001b[0my_test\u001b[0m \u001b[0;34m=\u001b[0m \u001b[0mtrain_test_split\u001b[0m\u001b[0;34m(\u001b[0m\u001b[0mX\u001b[0m\u001b[0;34m,\u001b[0m \u001b[0my\u001b[0m\u001b[0;34m,\u001b[0m \u001b[0mtest_size\u001b[0m\u001b[0;34m=\u001b[0m\u001b[0;36m0.2\u001b[0m\u001b[0;34m)\u001b[0m\u001b[0;34m\u001b[0m\u001b[0m\n\u001b[0m\u001b[1;32m      9\u001b[0m                 \u001b[0;32mfor\u001b[0m \u001b[0mc\u001b[0m \u001b[0;32min\u001b[0m \u001b[0mrange\u001b[0m\u001b[0;34m(\u001b[0m\u001b[0my\u001b[0m\u001b[0;34m.\u001b[0m\u001b[0mshape\u001b[0m\u001b[0;34m[\u001b[0m\u001b[0;36m1\u001b[0m\u001b[0;34m]\u001b[0m\u001b[0;34m)\u001b[0m\u001b[0;34m:\u001b[0m\u001b[0;34m\u001b[0m\u001b[0m\n\u001b[1;32m     10\u001b[0m                     \u001b[0mclf\u001b[0m \u001b[0;34m=\u001b[0m \u001b[0mRidge\u001b[0m\u001b[0;34m(\u001b[0m\u001b[0malpha\u001b[0m \u001b[0;34m=\u001b[0m \u001b[0malpha\u001b[0m\u001b[0;34m)\u001b[0m\u001b[0;34m\u001b[0m\u001b[0m\n",
        "\u001b[0;32m/Users/david_conant/anaconda/lib/python2.7/site-packages/sklearn/cross_validation.pyc\u001b[0m in \u001b[0;36mtrain_test_split\u001b[0;34m(*arrays, **options)\u001b[0m\n\u001b[1;32m   1806\u001b[0m     \u001b[0;32mif\u001b[0m \u001b[0mtest_size\u001b[0m \u001b[0;32mis\u001b[0m \u001b[0mNone\u001b[0m \u001b[0;32mand\u001b[0m \u001b[0mtrain_size\u001b[0m \u001b[0;32mis\u001b[0m \u001b[0mNone\u001b[0m\u001b[0;34m:\u001b[0m\u001b[0;34m\u001b[0m\u001b[0m\n\u001b[1;32m   1807\u001b[0m         \u001b[0mtest_size\u001b[0m \u001b[0;34m=\u001b[0m \u001b[0;36m0.25\u001b[0m\u001b[0;34m\u001b[0m\u001b[0m\n\u001b[0;32m-> 1808\u001b[0;31m     \u001b[0marrays\u001b[0m \u001b[0;34m=\u001b[0m \u001b[0mindexable\u001b[0m\u001b[0;34m(\u001b[0m\u001b[0;34m*\u001b[0m\u001b[0marrays\u001b[0m\u001b[0;34m)\u001b[0m\u001b[0;34m\u001b[0m\u001b[0m\n\u001b[0m\u001b[1;32m   1809\u001b[0m     \u001b[0mn_samples\u001b[0m \u001b[0;34m=\u001b[0m \u001b[0m_num_samples\u001b[0m\u001b[0;34m(\u001b[0m\u001b[0marrays\u001b[0m\u001b[0;34m[\u001b[0m\u001b[0;36m0\u001b[0m\u001b[0;34m]\u001b[0m\u001b[0;34m)\u001b[0m\u001b[0;34m\u001b[0m\u001b[0m\n\u001b[1;32m   1810\u001b[0m     cv = ShuffleSplit(n_samples, test_size=test_size,\n",
        "\u001b[0;32m/Users/david_conant/anaconda/lib/python2.7/site-packages/sklearn/utils/validation.pyc\u001b[0m in \u001b[0;36mindexable\u001b[0;34m(*iterables)\u001b[0m\n\u001b[1;32m    197\u001b[0m         \u001b[0;32melse\u001b[0m\u001b[0;34m:\u001b[0m\u001b[0;34m\u001b[0m\u001b[0m\n\u001b[1;32m    198\u001b[0m             \u001b[0mresult\u001b[0m\u001b[0;34m.\u001b[0m\u001b[0mappend\u001b[0m\u001b[0;34m(\u001b[0m\u001b[0mnp\u001b[0m\u001b[0;34m.\u001b[0m\u001b[0marray\u001b[0m\u001b[0;34m(\u001b[0m\u001b[0mX\u001b[0m\u001b[0;34m)\u001b[0m\u001b[0;34m)\u001b[0m\u001b[0;34m\u001b[0m\u001b[0m\n\u001b[0;32m--> 199\u001b[0;31m     \u001b[0mcheck_consistent_length\u001b[0m\u001b[0;34m(\u001b[0m\u001b[0;34m*\u001b[0m\u001b[0mresult\u001b[0m\u001b[0;34m)\u001b[0m\u001b[0;34m\u001b[0m\u001b[0m\n\u001b[0m\u001b[1;32m    200\u001b[0m     \u001b[0;32mreturn\u001b[0m \u001b[0mresult\u001b[0m\u001b[0;34m\u001b[0m\u001b[0m\n\u001b[1;32m    201\u001b[0m \u001b[0;34m\u001b[0m\u001b[0m\n",
        "\u001b[0;32m/Users/david_conant/anaconda/lib/python2.7/site-packages/sklearn/utils/validation.pyc\u001b[0m in \u001b[0;36mcheck_consistent_length\u001b[0;34m(*arrays)\u001b[0m\n\u001b[1;32m    172\u001b[0m     \u001b[0;32mif\u001b[0m \u001b[0mlen\u001b[0m\u001b[0;34m(\u001b[0m\u001b[0muniques\u001b[0m\u001b[0;34m)\u001b[0m \u001b[0;34m>\u001b[0m \u001b[0;36m1\u001b[0m\u001b[0;34m:\u001b[0m\u001b[0;34m\u001b[0m\u001b[0m\n\u001b[1;32m    173\u001b[0m         raise ValueError(\"Found arrays with inconsistent numbers of samples: \"\n\u001b[0;32m--> 174\u001b[0;31m                          \"%s\" % str(uniques))\n\u001b[0m\u001b[1;32m    175\u001b[0m \u001b[0;34m\u001b[0m\u001b[0m\n\u001b[1;32m    176\u001b[0m \u001b[0;34m\u001b[0m\u001b[0m\n",
        "\u001b[0;31mValueError\u001b[0m: Found arrays with inconsistent numbers of samples: [121800 121974]"
       ]
      }
     ],
     "prompt_number": 98
    },
    {
     "cell_type": "code",
     "collapsed": false,
     "input": [
      "start = nTP - (window_size+abs(l))*fs\n",
      "stop = nTP+(l*fs)\n",
      "this_range = np.round(np.arange(start,stop)).astype(int)\n",
      "this_range.shape"
     ],
     "language": "python",
     "metadata": {},
     "outputs": [
      {
       "metadata": {},
       "output_type": "pyout",
       "prompt_number": 97,
       "text": [
        "(700,)"
       ]
      }
     ],
     "prompt_number": 97
    },
    {
     "cell_type": "code",
     "collapsed": false,
     "input": [
      "lag_range = [-0.75, 0] # In seconds, how far back in the past to look (more delays = more time, more weights to fit, slower)\n",
      "window_size = 1.75\n",
      "num_lags = 50\n",
      "fs = 400\n",
      "lags = np.linspace(lag_range[1],lag_range[0],num_lags)\n",
      "boot = 10\n",
      "CV = 'split'\n",
      "Fr2 = np.empty((5,boot,num_lags,10))\n",
      "#Fr2null = np.empty((5,boot,200,50,len(pthA)))\n",
      "Kr2 = np.empty((10,boot,num_lags,10))\n",
      "#Kr2null = np.empty((10,boot,200,50,len(pthA)))\n",
      "prog = ProgressBar(num_lags)\n",
      "for ind,l in enumerate(lags):\n",
      "    nTP = Eall.shape[1]\n",
      "    start = np.floor(nTP - (window_size+abs(l))*fs)\n",
      "    stop = np.floor(nTP+(l*fs))\n",
      "    \n",
      "    this_range = np.arange(start,stop).astype(int)\n",
      "    print(this_range.shape)"
     ],
     "language": "python",
     "metadata": {},
     "outputs": [
      {
       "output_type": "stream",
       "stream": "stdout",
       "text": [
        "(700,)\n",
        "(700,)\n",
        "(700,)\n",
        "(700,)\n",
        "(700,)\n",
        "(700,)\n",
        "(700,)\n",
        "(700,)\n",
        "(700,)\n",
        "(700,)\n",
        "(700,)\n",
        "(700,)\n",
        "(700,)\n",
        "(700,)\n",
        "(700,)\n",
        "(700,)\n",
        "(700,)\n",
        "(700,)\n",
        "(700,)\n",
        "(700,)\n",
        "(700,)\n",
        "(700,)\n",
        "(700,)\n",
        "(700,)\n",
        "(700,)\n",
        "(700,)\n",
        "(700,)\n",
        "(700,)\n",
        "(700,)\n",
        "(700,)\n",
        "(700,)\n",
        "(700,)\n",
        "(700,)\n",
        "(700,)\n",
        "(700,)\n",
        "(700,)\n",
        "(700,)\n",
        "(700,)\n",
        "(700,)\n",
        "(700,)\n",
        "(700,)\n",
        "(700,)\n",
        "(700,)\n",
        "(700,)\n",
        "(700,)\n",
        "(700,)\n",
        "(700,)\n",
        "(700,)\n",
        "(700,)\n",
        "(700,)\n"
       ]
      }
     ],
     "prompt_number": 108
    },
    {
     "cell_type": "code",
     "collapsed": false,
     "input": [
      "np.arange(start,stop)"
     ],
     "language": "python",
     "metadata": {},
     "outputs": [
      {
       "metadata": {},
       "output_type": "pyout",
       "prompt_number": 105,
       "text": [
        "array([   0.,    1.,    2.,    3.,    4.,    5.,    6.,    7.,    8.,\n",
        "          9.,   10.,   11.,   12.,   13.,   14.,   15.,   16.,   17.,\n",
        "         18.,   19.,   20.,   21.,   22.,   23.,   24.,   25.,   26.,\n",
        "         27.,   28.,   29.,   30.,   31.,   32.,   33.,   34.,   35.,\n",
        "         36.,   37.,   38.,   39.,   40.,   41.,   42.,   43.,   44.,\n",
        "         45.,   46.,   47.,   48.,   49.,   50.,   51.,   52.,   53.,\n",
        "         54.,   55.,   56.,   57.,   58.,   59.,   60.,   61.,   62.,\n",
        "         63.,   64.,   65.,   66.,   67.,   68.,   69.,   70.,   71.,\n",
        "         72.,   73.,   74.,   75.,   76.,   77.,   78.,   79.,   80.,\n",
        "         81.,   82.,   83.,   84.,   85.,   86.,   87.,   88.,   89.,\n",
        "         90.,   91.,   92.,   93.,   94.,   95.,   96.,   97.,   98.,\n",
        "         99.,  100.,  101.,  102.,  103.,  104.,  105.,  106.,  107.,\n",
        "        108.,  109.,  110.,  111.,  112.,  113.,  114.,  115.,  116.,\n",
        "        117.,  118.,  119.,  120.,  121.,  122.,  123.,  124.,  125.,\n",
        "        126.,  127.,  128.,  129.,  130.,  131.,  132.,  133.,  134.,\n",
        "        135.,  136.,  137.,  138.,  139.,  140.,  141.,  142.,  143.,\n",
        "        144.,  145.,  146.,  147.,  148.,  149.,  150.,  151.,  152.,\n",
        "        153.,  154.,  155.,  156.,  157.,  158.,  159.,  160.,  161.,\n",
        "        162.,  163.,  164.,  165.,  166.,  167.,  168.,  169.,  170.,\n",
        "        171.,  172.,  173.,  174.,  175.,  176.,  177.,  178.,  179.,\n",
        "        180.,  181.,  182.,  183.,  184.,  185.,  186.,  187.,  188.,\n",
        "        189.,  190.,  191.,  192.,  193.,  194.,  195.,  196.,  197.,\n",
        "        198.,  199.,  200.,  201.,  202.,  203.,  204.,  205.,  206.,\n",
        "        207.,  208.,  209.,  210.,  211.,  212.,  213.,  214.,  215.,\n",
        "        216.,  217.,  218.,  219.,  220.,  221.,  222.,  223.,  224.,\n",
        "        225.,  226.,  227.,  228.,  229.,  230.,  231.,  232.,  233.,\n",
        "        234.,  235.,  236.,  237.,  238.,  239.,  240.,  241.,  242.,\n",
        "        243.,  244.,  245.,  246.,  247.,  248.,  249.,  250.,  251.,\n",
        "        252.,  253.,  254.,  255.,  256.,  257.,  258.,  259.,  260.,\n",
        "        261.,  262.,  263.,  264.,  265.,  266.,  267.,  268.,  269.,\n",
        "        270.,  271.,  272.,  273.,  274.,  275.,  276.,  277.,  278.,\n",
        "        279.,  280.,  281.,  282.,  283.,  284.,  285.,  286.,  287.,\n",
        "        288.,  289.,  290.,  291.,  292.,  293.,  294.,  295.,  296.,\n",
        "        297.,  298.,  299.,  300.,  301.,  302.,  303.,  304.,  305.,\n",
        "        306.,  307.,  308.,  309.,  310.,  311.,  312.,  313.,  314.,\n",
        "        315.,  316.,  317.,  318.,  319.,  320.,  321.,  322.,  323.,\n",
        "        324.,  325.,  326.,  327.,  328.,  329.,  330.,  331.,  332.,\n",
        "        333.,  334.,  335.,  336.,  337.,  338.,  339.,  340.,  341.,\n",
        "        342.,  343.,  344.,  345.,  346.,  347.,  348.,  349.,  350.,\n",
        "        351.,  352.,  353.,  354.,  355.,  356.,  357.,  358.,  359.,\n",
        "        360.,  361.,  362.,  363.,  364.,  365.,  366.,  367.,  368.,\n",
        "        369.,  370.,  371.,  372.,  373.,  374.,  375.,  376.,  377.,\n",
        "        378.,  379.,  380.,  381.,  382.,  383.,  384.,  385.,  386.,\n",
        "        387.,  388.,  389.,  390.,  391.,  392.,  393.,  394.,  395.,\n",
        "        396.,  397.,  398.,  399.,  400.,  401.,  402.,  403.,  404.,\n",
        "        405.,  406.,  407.,  408.,  409.,  410.,  411.,  412.,  413.,\n",
        "        414.,  415.,  416.,  417.,  418.,  419.,  420.,  421.,  422.,\n",
        "        423.,  424.,  425.,  426.,  427.,  428.,  429.,  430.,  431.,\n",
        "        432.,  433.,  434.,  435.,  436.,  437.,  438.,  439.,  440.,\n",
        "        441.,  442.,  443.,  444.,  445.,  446.,  447.,  448.,  449.,\n",
        "        450.,  451.,  452.,  453.,  454.,  455.,  456.,  457.,  458.,\n",
        "        459.,  460.,  461.,  462.,  463.,  464.,  465.,  466.,  467.,\n",
        "        468.,  469.,  470.,  471.,  472.,  473.,  474.,  475.,  476.,\n",
        "        477.,  478.,  479.,  480.,  481.,  482.,  483.,  484.,  485.,\n",
        "        486.,  487.,  488.,  489.,  490.,  491.,  492.,  493.,  494.,\n",
        "        495.,  496.,  497.,  498.,  499.,  500.,  501.,  502.,  503.,\n",
        "        504.,  505.,  506.,  507.,  508.,  509.,  510.,  511.,  512.,\n",
        "        513.,  514.,  515.,  516.,  517.,  518.,  519.,  520.,  521.,\n",
        "        522.,  523.,  524.,  525.,  526.,  527.,  528.,  529.,  530.,\n",
        "        531.,  532.,  533.,  534.,  535.,  536.,  537.,  538.,  539.,\n",
        "        540.,  541.,  542.,  543.,  544.,  545.,  546.,  547.,  548.,\n",
        "        549.,  550.,  551.,  552.,  553.,  554.,  555.,  556.,  557.,\n",
        "        558.,  559.,  560.,  561.,  562.,  563.,  564.,  565.,  566.,\n",
        "        567.,  568.,  569.,  570.,  571.,  572.,  573.,  574.,  575.,\n",
        "        576.,  577.,  578.,  579.,  580.,  581.,  582.,  583.,  584.,\n",
        "        585.,  586.,  587.,  588.,  589.,  590.,  591.,  592.,  593.,\n",
        "        594.,  595.,  596.,  597.,  598.,  599.,  600.,  601.,  602.,\n",
        "        603.,  604.,  605.,  606.,  607.,  608.,  609.,  610.,  611.,\n",
        "        612.,  613.,  614.,  615.,  616.,  617.,  618.,  619.,  620.,\n",
        "        621.,  622.,  623.,  624.,  625.,  626.,  627.,  628.,  629.,\n",
        "        630.,  631.,  632.,  633.,  634.,  635.,  636.,  637.,  638.,\n",
        "        639.,  640.,  641.,  642.,  643.,  644.,  645.,  646.,  647.,\n",
        "        648.,  649.,  650.,  651.,  652.,  653.,  654.,  655.,  656.,\n",
        "        657.,  658.,  659.,  660.,  661.,  662.,  663.,  664.,  665.,\n",
        "        666.,  667.,  668.,  669.,  670.,  671.,  672.,  673.,  674.,\n",
        "        675.,  676.,  677.,  678.,  679.,  680.,  681.,  682.,  683.,\n",
        "        684.,  685.,  686.,  687.,  688.,  689.,  690.,  691.,  692.,\n",
        "        693.,  694.,  695.,  696.,  697.,  698.,  699.])"
       ]
      }
     ],
     "prompt_number": 105
    },
    {
     "cell_type": "code",
     "collapsed": false,
     "input": [
      "Eall.shape"
     ],
     "language": "python",
     "metadata": {},
     "outputs": [
      {
       "metadata": {},
       "output_type": "pyout",
       "prompt_number": 89,
       "text": [
        "(256, 1000, 174)"
       ]
      }
     ],
     "prompt_number": 89
    },
    {
     "cell_type": "code",
     "collapsed": false,
     "input": [
      "Kall.shape\n"
     ],
     "language": "python",
     "metadata": {},
     "outputs": [
      {
       "metadata": {},
       "output_type": "pyout",
       "prompt_number": 36,
       "text": [
        "(10, 706, 174)"
       ]
      }
     ],
     "prompt_number": 36
    },
    {
     "cell_type": "code",
     "collapsed": false,
     "input": [
      "Fall.shape"
     ],
     "language": "python",
     "metadata": {},
     "outputs": [
      {
       "metadata": {},
       "output_type": "pyout",
       "prompt_number": 37,
       "text": [
        "(10, 212, 174)"
       ]
      }
     ],
     "prompt_number": 37
    },
    {
     "cell_type": "code",
     "collapsed": false,
     "input": [
      "54*(400/30)"
     ],
     "language": "python",
     "metadata": {},
     "outputs": [
      {
       "metadata": {},
       "output_type": "pyout",
       "prompt_number": 49,
       "text": [
        "702"
       ]
      }
     ],
     "prompt_number": 49
    },
    {
     "cell_type": "code",
     "collapsed": false,
     "input": [],
     "language": "python",
     "metadata": {},
     "outputs": []
    }
   ],
   "metadata": {}
  }
 ]
}