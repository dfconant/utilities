{
 "metadata": {
  "name": "",
  "signature": "sha256:b8f970128bbe8bd4814960401fe72b3a550eb2fedbc36b3c7a81f463790a9cd6"
 },
 "nbformat": 3,
 "nbformat_minor": 0,
 "worksheets": [
  {
   "cells": [
    {
     "cell_type": "code",
     "collapsed": false,
     "input": [
      "%load_ext autoreload\n",
      "%autoreload 2\n",
      "from ECoGstats import makeD_multi, smooth_formants, smooth_warp_formants, process_kin, normalize_contour_length, SemiPartialCorrelation\n",
      "import seaborn as sns\n",
      "import prettyplotlib as ppl\n",
      "from matplotlib.backends.backend_agg import (FigureCanvasAgg as FigureCanvas)\n",
      "from scipy.signal import savgol_filter\n",
      "import pandas as pd\n",
      "from BDutils import ProgressBar, resample_array, smart_toeplitz, smooth_derivative,seq_labels\n",
      "from ecog_viz import plotWeights, gestural_score\n",
      "from sklearn.cross_validation import train_test_split\n",
      "from sklearn.decomposition import PCA\n",
      "from sklearn.lda import LDA\n",
      "from sklearn.linear_model import Ridge\n",
      "import scipy as sp\n",
      "\n",
      "import scipy.stats as stats\n",
      "import matplotlib.gridspec as gridspec\n",
      "import numpy as np\n",
      "import matplotlib.pyplot as plt\n",
      "import VisEcog\n",
      "import imaging\n",
      "import os\n",
      "import matplotlib.image as mpimg\n",
      "import brewer2mpl\n",
      "import re"
     ],
     "language": "python",
     "metadata": {},
     "outputs": [
      {
       "metadata": {},
       "output_type": "display_data",
       "png": "[encoded data removed]",
       "text": [
        "<matplotlib.figure.Figure at 0x1135043d0>"
       ]
      }
     ],
     "prompt_number": 1
    },
    {
     "cell_type": "code",
     "collapsed": false,
     "input": [
      "pth = '/Users/david_conant/Dropbox/Vowels/EC41/'\n",
      "blocks = [19,20,22,27]\n",
      "tokens = ['AAA','IYY','UWW','AEE','AHH','EHH','ERR','IHH','UHH']\n",
      "#tokens = ['HAWED','HEED','WHOOD','HAD','HUD','HEAD','HEARD','HID','HOOD']\n",
      "kfeats = ['kFrontTongueX','kFMidTongueX','kMidTongueX','kBMidTongueX','kBackTongueX','kFrontTongueY','kFMidTongueY','kMidTongueY',\n",
      "          'kBMidTongueY','kBackTongueY','kLipOpening','kLipWidth','kJawX','kJawY']\n",
      "efeats = seq_labels('e',256)\n",
      "fs = 100\n",
      "#Load in Dmatrices\n",
      "\n",
      "#Electrodes\n",
      "window = np.array([-1,.5])   #TODO: try wider window for more timepoints\n",
      "[E,anat,stop_times,start_times] = makeD_multi(pth,blocks,tokens,align_window = window, dtype='HG')\n",
      "Es = [E[d] for d in tokens]\n",
      "vSMC = np.concatenate((np.where(anat=='preCG')[0],np.where(anat=='postCG')[0]))\n",
      "vSMC_logic = np.zeros(256,dtype=bool)\n",
      "vSMC_logic[vSMC] = True\n",
      "Eall = np.concatenate(Es,axis=2)\n",
      "Eall = resample_array(Eall,[Eall.shape[0],np.diff(window)[0]*fs,Eall.shape[2]])\n",
      "\n",
      "#Kinematics\n",
      "#window = np.array([0.25,0.75])\n",
      "[K,anat,stop_times,start_times] = makeD_multi(pth,blocks,tokens,dtype='kin',align_window = window)\n",
      "Ks = [K[d] for d in tokens]\n",
      "stops = [stop_times[d] for d in tokens]\n",
      "starts = [start_times[d] for d in tokens]\n",
      "Ks = process_kin(Ks,stops,starts,window,numTongue=10,wrt_start=True,norm_length=False)\n",
      "Kall = np.concatenate(Ks,axis=2)\n",
      "Kall = resample_array(Kall,[Kall.shape[0],np.diff(window)[0]*fs,Kall.shape[2]])\n",
      "\n",
      "\n",
      "#gestural_score(Ks,kfeats,tokens)"
     ],
     "language": "python",
     "metadata": {},
     "outputs": [
      {
       "output_type": "stream",
       "stream": "stdout",
       "text": [
        "File found; Loading...\n",
        "Loaded"
       ]
      },
      {
       "output_type": "stream",
       "stream": "stdout",
       "text": [
        "\n",
        "File found; Loading..."
       ]
      },
      {
       "output_type": "stream",
       "stream": "stdout",
       "text": [
        "\n",
        "Loaded"
       ]
      },
      {
       "output_type": "stream",
       "stream": "stdout",
       "text": [
        "\n"
       ]
      }
     ],
     "prompt_number": 27
    },
    {
     "cell_type": "code",
     "collapsed": false,
     "input": [
      "lags = np.linspace(-.5,0,50)\n",
      "Rs = np.empty((14,256,len(lags)))\n",
      "Rp = np.empty((14,256,len(lags)))\n",
      "ps = np.empty((14,256,len(lags)))\n",
      "pp = np.empty((14,256,len(lags)))\n",
      "prog = ProgressBar(len(lags))\n",
      "groups = [range(10),range(10,12),range(12,14)]\n",
      "win_size=0.05\n",
      "win_start = 0\n",
      "prog.animate(0)\n",
      "for ilag, lag in enumerate(lags):\n",
      "    \n",
      "    #Lag by removing data\n",
      "    #trange = np.round(np.arange(win_start*fs-lag*fs,(win_start+win_size)*fs-lag*fs)).astype(int)\n",
      "    Klagged =np.nanmean(Kall[:,110:150,:],axis=1)\n",
      "    Elagged = np.nanmean(Eall[:,110:150 + (lag*fs).astype(int),:],axis=1)    #behavior-leading lag\n",
      "\n",
      "    #Put together dataframes\n",
      "    Kinematics = np.reshape(Klagged,(Klagged.shape[0],-1),order='F').transpose()\n",
      "    Kinematics = pd.DataFrame(Kinematics,columns = kfeats)\n",
      "    #Kinematics.fillna(Kinematics.median(),inplace=True)\n",
      "    #Kinematics = pd.Series(dict(enumerate(Eall.transpose())))\n",
      "\n",
      "    HG = np.reshape(Elagged,(Elagged.shape[0],-1),order='F').transpose()\n",
      "    HG = pd.DataFrame(HG,columns = efeats)\n",
      "    vsmcHG = HG.iloc[:,vSMC]\n",
      "    vsmcHG.fillna(vsmcHG.median(),inplace=True)\n",
      "    #vsmcHG.dropna(axis =1,how='any',inplace=True)\n",
      "    #hat,tilde = SemiPartialCorrelation(vsmcHG)\n",
      "    #vsmcHG = tilde\n",
      "    data = pd.concat([vsmcHG,Kinematics],axis=1)\n",
      "    data.dropna(axis=1,how='all',inplace=True)   #Drop bad features and observations\n",
      "    data.dropna(axis=0,how='all',inplace=True)   \n",
      "    data.dropna(axis=0,how='any',inplace=True)   \n",
      "    data.dropna(axis=1,how='any',inplace=True)   \n",
      "    good_efeats = data.filter(regex=r'^e\\S', axis=1).columns.values\n",
      "    good_kfeats = data.filter(regex=r'^k\\S', axis=1).columns.values\n",
      "    hat,tilde = SemiPartialCorrelation(data[Kinematics.columns],groups)\n",
      "    data[Kinematics.columns] = tilde\n",
      "    \n",
      "    \n",
      "    inner = Kinematics.shape[1]\n",
      "    outer = vsmcHG.shape[1]\n",
      "    for e in good_efeats:\n",
      "        elect = int(e[1:])\n",
      "        for i,k in enumerate(good_kfeats):\n",
      "            Rs[i,elect,ilag],ps[i,elect,ilag] = sp.stats.spearmanr(data.loc[:,e],data.loc[:,k])\n",
      "            Rp[i,elect,ilag],pp[i,elect,ilag] = sp.stats.pearsonr(data.loc[:,e],data.loc[:,k])\n",
      "    prog.animate(ilag+1)"
     ],
     "language": "python",
     "metadata": {},
     "outputs": [
      {
       "output_type": "stream",
       "stream": "stdout",
       "text": [
        "\n",
        "\r",
        " [                       0%                       ]"
       ]
      },
      {
       "output_type": "stream",
       "stream": "stdout",
       "text": [
        "\n",
        "\r",
        " [**                     4%                       ]  2 of 50 complete"
       ]
      },
      {
       "output_type": "stream",
       "stream": "stdout",
       "text": [
        "\n",
        "\r",
        " [***                    6%                       ]  3 of 50 complete"
       ]
      },
      {
       "output_type": "stream",
       "stream": "stdout",
       "text": [
        "\n",
        "\r",
        " [****                   8%                       ]  4 of 50 complete"
       ]
      },
      {
       "output_type": "stream",
       "stream": "stdout",
       "text": [
        "\n",
        "\r",
        " [*****                 10%                       ]  5 of 50 complete"
       ]
      },
      {
       "output_type": "stream",
       "stream": "stdout",
       "text": [
        "\n",
        "\r",
        " [******                12%                       ]  6 of 50 complete"
       ]
      },
      {
       "output_type": "stream",
       "stream": "stdout",
       "text": [
        "\n",
        "\r",
        " [*******               14%                       ]  7 of 50 complete"
       ]
      },
      {
       "output_type": "stream",
       "stream": "stdout",
       "text": [
        "\n",
        "\r",
        " [********              16%                       ]  8 of 50 complete"
       ]
      },
      {
       "output_type": "stream",
       "stream": "stdout",
       "text": [
        "\n",
        "\r",
        " [*********             18%                       ]  9 of 50 complete"
       ]
      },
      {
       "output_type": "stream",
       "stream": "stdout",
       "text": [
        "\n",
        "\r",
        " [**********            20%                       ]  10 of 50 complete"
       ]
      },
      {
       "output_type": "stream",
       "stream": "stdout",
       "text": [
        "\n",
        "\r"
       ]
      },
      {
       "output_type": "stream",
       "stream": "stdout",
       "text": [
        " [***********           22%                       ]  11 of 50 complete"
       ]
      },
      {
       "output_type": "stream",
       "stream": "stdout",
       "text": [
        "\n",
        "\r"
       ]
      },
      {
       "output_type": "stream",
       "stream": "stdout",
       "text": [
        " [************          24%                       ]  12 of 50 complete"
       ]
      },
      {
       "output_type": "stream",
       "stream": "stdout",
       "text": [
        "\n",
        "\r"
       ]
      },
      {
       "output_type": "stream",
       "stream": "stdout",
       "text": [
        " [************          26%                       ]  13 of 50 complete"
       ]
      },
      {
       "output_type": "stream",
       "stream": "stdout",
       "text": [
        "\n",
        "\r"
       ]
      },
      {
       "output_type": "stream",
       "stream": "stdout",
       "text": [
        " [*************         28%                       ]  14 of 50 complete"
       ]
      },
      {
       "output_type": "stream",
       "stream": "stdout",
       "text": [
        "\n",
        "\r"
       ]
      },
      {
       "output_type": "stream",
       "stream": "stdout",
       "text": [
        " [**************        30%                       ]  15 of 50 complete"
       ]
      },
      {
       "output_type": "stream",
       "stream": "stdout",
       "text": [
        "\n",
        "\r"
       ]
      },
      {
       "output_type": "stream",
       "stream": "stdout",
       "text": [
        " [***************       32%                       ]  16 of 50 complete"
       ]
      },
      {
       "output_type": "stream",
       "stream": "stdout",
       "text": [
        "\n",
        "\r"
       ]
      },
      {
       "output_type": "stream",
       "stream": "stdout",
       "text": [
        " [****************      34%                       ]  17 of 50 complete"
       ]
      },
      {
       "output_type": "stream",
       "stream": "stdout",
       "text": [
        "\n",
        "\r"
       ]
      },
      {
       "output_type": "stream",
       "stream": "stdout",
       "text": [
        " [*****************     36%                       ]  18 of 50 complete"
       ]
      },
      {
       "output_type": "stream",
       "stream": "stdout",
       "text": [
        "\n",
        "\r"
       ]
      },
      {
       "output_type": "stream",
       "stream": "stdout",
       "text": [
        " [******************    38%                       ]  19 of 50 complete"
       ]
      },
      {
       "output_type": "stream",
       "stream": "stdout",
       "text": [
        "\n",
        "\r"
       ]
      },
      {
       "output_type": "stream",
       "stream": "stdout",
       "text": [
        " [*******************   40%                       ]  20 of 50 complete"
       ]
      },
      {
       "output_type": "stream",
       "stream": "stdout",
       "text": [
        "\n",
        "\r"
       ]
      },
      {
       "output_type": "stream",
       "stream": "stdout",
       "text": [
        " [********************  42%                       ]  21 of 50 complete"
       ]
      },
      {
       "output_type": "stream",
       "stream": "stdout",
       "text": [
        "\n",
        "\r"
       ]
      },
      {
       "output_type": "stream",
       "stream": "stdout",
       "text": [
        " [********************* 44%                       ]  22 of 50 complete"
       ]
      },
      {
       "output_type": "stream",
       "stream": "stdout",
       "text": [
        "\n",
        "\r"
       ]
      },
      {
       "output_type": "stream",
       "stream": "stdout",
       "text": [
        " [**********************46%                       ]  23 of 50 complete"
       ]
      },
      {
       "output_type": "stream",
       "stream": "stdout",
       "text": [
        "\n",
        "\r"
       ]
      },
      {
       "output_type": "stream",
       "stream": "stdout",
       "text": [
        " [**********************48%                       ]  24 of 50 complete"
       ]
      },
      {
       "output_type": "stream",
       "stream": "stdout",
       "text": [
        "\n",
        "\r"
       ]
      },
      {
       "output_type": "stream",
       "stream": "stdout",
       "text": [
        " [**********************50%                       ]  25 of 50 complete"
       ]
      },
      {
       "output_type": "stream",
       "stream": "stdout",
       "text": [
        "\n",
        "\r"
       ]
      },
      {
       "output_type": "stream",
       "stream": "stdout",
       "text": [
        " [**********************52%                       ]  26 of 50 complete"
       ]
      },
      {
       "output_type": "stream",
       "stream": "stdout",
       "text": [
        "\n",
        "\r"
       ]
      },
      {
       "output_type": "stream",
       "stream": "stdout",
       "text": [
        " [**********************54%*                      ]  27 of 50 complete"
       ]
      },
      {
       "output_type": "stream",
       "stream": "stdout",
       "text": [
        "\n",
        "\r"
       ]
      },
      {
       "output_type": "stream",
       "stream": "stdout",
       "text": [
        " [**********************56%**                     ]  28 of 50 complete"
       ]
      },
      {
       "output_type": "stream",
       "stream": "stdout",
       "text": [
        "\n",
        "\r"
       ]
      },
      {
       "output_type": "stream",
       "stream": "stdout",
       "text": [
        " [**********************58%***                    ]  29 of 50 complete"
       ]
      },
      {
       "output_type": "stream",
       "stream": "stdout",
       "text": [
        "\n",
        "\r"
       ]
      },
      {
       "output_type": "stream",
       "stream": "stdout",
       "text": [
        " [**********************60%****                   ]  30 of 50 complete"
       ]
      },
      {
       "output_type": "stream",
       "stream": "stdout",
       "text": [
        "\n",
        "\r"
       ]
      },
      {
       "output_type": "stream",
       "stream": "stdout",
       "text": [
        " [**********************62%*****                  ]  31 of 50 complete"
       ]
      },
      {
       "output_type": "stream",
       "stream": "stdout",
       "text": [
        "\n",
        "\r"
       ]
      },
      {
       "output_type": "stream",
       "stream": "stdout",
       "text": [
        " [**********************64%******                 ]  32 of 50 complete"
       ]
      },
      {
       "output_type": "stream",
       "stream": "stdout",
       "text": [
        "\n",
        "\r"
       ]
      },
      {
       "output_type": "stream",
       "stream": "stdout",
       "text": [
        " [**********************66%*******                ]  33 of 50 complete"
       ]
      },
      {
       "output_type": "stream",
       "stream": "stdout",
       "text": [
        "\n",
        "\r"
       ]
      },
      {
       "output_type": "stream",
       "stream": "stdout",
       "text": [
        " [**********************68%********               ]  34 of 50 complete"
       ]
      },
      {
       "output_type": "stream",
       "stream": "stdout",
       "text": [
        "\n",
        "\r"
       ]
      },
      {
       "output_type": "stream",
       "stream": "stdout",
       "text": [
        " [**********************70%*********              ]  35 of 50 complete"
       ]
      },
      {
       "output_type": "stream",
       "stream": "stdout",
       "text": [
        "\n",
        "\r"
       ]
      },
      {
       "output_type": "stream",
       "stream": "stdout",
       "text": [
        " [**********************72%**********             ]  36 of 50 complete"
       ]
      },
      {
       "output_type": "stream",
       "stream": "stdout",
       "text": [
        "\n",
        "\r"
       ]
      },
      {
       "output_type": "stream",
       "stream": "stdout",
       "text": [
        " [**********************74%***********            ]  37 of 50 complete"
       ]
      },
      {
       "output_type": "stream",
       "stream": "stdout",
       "text": [
        "\n",
        "\r"
       ]
      },
      {
       "output_type": "stream",
       "stream": "stdout",
       "text": [
        " [**********************76%***********            ]  38 of 50 complete"
       ]
      },
      {
       "output_type": "stream",
       "stream": "stdout",
       "text": [
        "\n",
        "\r"
       ]
      },
      {
       "output_type": "stream",
       "stream": "stdout",
       "text": [
        " [**********************78%************           ]  39 of 50 complete"
       ]
      },
      {
       "output_type": "stream",
       "stream": "stdout",
       "text": [
        "\n",
        "\r"
       ]
      },
      {
       "output_type": "stream",
       "stream": "stdout",
       "text": [
        " [**********************80%*************          ]  40 of 50 complete"
       ]
      },
      {
       "output_type": "stream",
       "stream": "stdout",
       "text": [
        "\n",
        "\r"
       ]
      },
      {
       "output_type": "stream",
       "stream": "stdout",
       "text": [
        " [**********************82%**************         ]  41 of 50 complete"
       ]
      },
      {
       "output_type": "stream",
       "stream": "stdout",
       "text": [
        "\n",
        "\r"
       ]
      },
      {
       "output_type": "stream",
       "stream": "stdout",
       "text": [
        " [**********************84%***************        ]  42 of 50 complete"
       ]
      },
      {
       "output_type": "stream",
       "stream": "stdout",
       "text": [
        "\n",
        "\r"
       ]
      },
      {
       "output_type": "stream",
       "stream": "stdout",
       "text": [
        " [**********************86%****************       ]  43 of 50 complete"
       ]
      },
      {
       "output_type": "stream",
       "stream": "stdout",
       "text": [
        "\n",
        "\r"
       ]
      },
      {
       "output_type": "stream",
       "stream": "stdout",
       "text": [
        " [**********************88%*****************      ]  44 of 50 complete"
       ]
      }
     ]
    },
    {
     "cell_type": "code",
     "collapsed": false,
     "input": [
      "Kinematics.shape"
     ],
     "language": "python",
     "metadata": {},
     "outputs": [
      {
       "metadata": {},
       "output_type": "pyout",
       "prompt_number": 30,
       "text": [
        "(174, 14)"
       ]
      }
     ],
     "prompt_number": 30
    },
    {
     "cell_type": "code",
     "collapsed": false,
     "input": [
      "Kall.shape"
     ],
     "language": "python",
     "metadata": {},
     "outputs": [
      {
       "metadata": {},
       "output_type": "pyout",
       "prompt_number": 24,
       "text": [
        "(10, 150, 174)"
       ]
      }
     ],
     "prompt_number": 24
    },
    {
     "cell_type": "code",
     "collapsed": false,
     "input": [
      "Kall[6,:,17]"
     ],
     "language": "python",
     "metadata": {},
     "outputs": [
      {
       "metadata": {},
       "output_type": "pyout",
       "prompt_number": 23,
       "text": [
        "array([  5.39970733e-03,   2.05406398e-02,   3.56815724e-02,\n",
        "         5.08225049e-02,   3.02244301e-02,  -1.28759825e-02,\n",
        "        -5.59763951e-02,  -6.75599854e-02,   2.80136205e-02,\n",
        "         1.23587226e-01,   2.19160832e-01,   3.76459300e-01,\n",
        "         5.45435444e-01,   7.14411589e-01,   8.10336512e-01,\n",
        "         8.18599970e-01,   8.26863428e-01,   8.21629397e-01,\n",
        "         6.31929687e-01,   4.42229978e-01,   2.52530268e-01,\n",
        "         1.89425868e-01,   1.85399278e-01,   1.81372688e-01,\n",
        "         2.27933811e-01,   3.95127173e-01,   5.62320535e-01,\n",
        "         7.29513897e-01,   8.37937179e-01,   9.40483452e-01,\n",
        "         1.04302973e+00,   1.07691514e+00,   1.04811022e+00,\n",
        "         1.01930529e+00,   9.95315452e-01,   1.00182119e+00,\n",
        "         1.00832693e+00,   1.01483267e+00,   1.02843192e+00,\n",
        "         1.04439566e+00,   1.06035940e+00,   1.03101318e+00,\n",
        "         9.22374528e-01,   8.13735876e-01,   7.05097223e-01,\n",
        "         5.58863313e-01,   4.11755094e-01,   2.64646875e-01,\n",
        "         1.54419068e-01,   6.97238537e-02,  -1.49713606e-02,\n",
        "        -7.84992781e-02,  -5.97099297e-02,  -4.09205814e-02,\n",
        "        -2.21312331e-02,  -2.83398422e-02,  -4.01035529e-02,\n",
        "        -5.18672637e-02,   1.42750967e-03,   1.40325552e-01,\n",
        "         2.79223593e-01,   4.11843879e-01,   4.12631279e-01,\n",
        "         4.13418680e-01,   4.14206081e-01,   3.77790803e-01,\n",
        "         3.22132760e-01,   2.66474718e-01,   2.20849871e-01,\n",
        "         2.01980212e-01,   1.83110553e-01,   1.64240894e-01,\n",
        "         3.10932426e-01,   4.78849752e-01,   6.46767078e-01,\n",
        "         8.58111865e-01,   1.11288411e+00,   1.36765636e+00,\n",
        "         1.64786097e+00,   2.12643798e+00,   2.60501498e+00,\n",
        "         3.08359199e+00,   3.88165109e+00,   4.79951597e+00,\n",
        "         5.71738084e+00,   6.61273496e+00,   7.46456828e+00,\n",
        "         8.31640159e+00,   9.16823491e+00,   9.94516041e+00,\n",
        "         1.07185189e+01,   1.14918773e+01,   1.21215425e+01,\n",
        "         1.26420006e+01,   1.31624588e+01,   1.36574516e+01,\n",
        "         1.40378499e+01,   1.44182482e+01,   1.47986466e+01,\n",
        "         1.50257272e+01,   1.52133833e+01,   1.54010394e+01,\n",
        "         1.55440249e+01,   1.56224862e+01,   1.57009475e+01,\n",
        "         1.57790509e+01,   1.58417656e+01,   1.59044803e+01,\n",
        "         1.59671950e+01,   1.60501984e+01,   1.61447954e+01,\n",
        "         1.62393924e+01,   1.63801221e+01,   1.66592497e+01,\n",
        "         1.69383773e+01,   1.72175049e+01,   1.75162295e+01,\n",
        "         1.78180484e+01,   1.81198672e+01,   1.85066665e+01,\n",
        "         1.89865397e+01,   1.94664128e+01,   1.99526102e+01,\n",
        "         2.05020498e+01,   2.10514894e+01,   2.16009290e+01,\n",
        "         2.20016609e+01,   2.23400314e+01,   2.26784020e+01,\n",
        "         2.29694374e+01,   2.31590401e+01,   2.33486428e+01,\n",
        "         2.35382455e+01,   2.37709668e+01,   2.40068430e+01,\n",
        "         2.42427193e+01,   2.44411805e+01,   2.46084624e+01,\n",
        "         2.47757443e+01,   2.49187489e+01,   2.49334305e+01,\n",
        "         2.49481121e+01,   2.49627936e+01,   2.50346076e+01,\n",
        "         2.51232252e+01,   2.52118428e+01,   2.53825585e+01,\n",
        "         2.56836652e+01,   2.59847719e+01,   2.62858786e+01])"
       ]
      }
     ],
     "prompt_number": 23
    },
    {
     "cell_type": "code",
     "collapsed": false,
     "input": [],
     "language": "python",
     "metadata": {},
     "outputs": []
    }
   ],
   "metadata": {}
  }
 ]
}