{
 "metadata": {
  "name": "",
  "signature": "sha256:ea83afa5427b064335512916dced7d566b07395837ad5df088e05dfb2efae3b9"
 },
 "nbformat": 3,
 "nbformat_minor": 0,
 "worksheets": [
  {
   "cells": [
    {
     "cell_type": "code",
     "collapsed": false,
     "input": [
      "%load_ext autoreload\n",
      "%autoreload 2\n",
      "from ECoGstats import makeD_multi, smooth_formants, smooth_warp_formants, process_kin, normalize_contour_length, SemiPartialCorrelation\n",
      "import seaborn as sns\n",
      "import prettyplotlib as ppl\n",
      "from matplotlib.backends.backend_agg import (FigureCanvasAgg as FigureCanvas)\n",
      "from scipy.signal import savgol_filter\n",
      "import pandas as pd\n",
      "from BDutils import ProgressBar, resample_array, smart_toeplitz, smooth_derivative,seq_labels\n",
      "from ecog_viz import plotWeights, gestural_score\n",
      "from sklearn.cross_validation import train_test_split\n",
      "from sklearn.decomposition import PCA\n",
      "from sklearn.lda import LDA\n",
      "from sklearn.linear_model import Ridge\n",
      "import scipy as sp\n",
      "\n",
      "import scipy.stats as stats\n",
      "import matplotlib.gridspec as gridspec\n",
      "import numpy as np\n",
      "import matplotlib.pyplot as plt\n",
      "import VisEcog\n",
      "import imaging\n",
      "import os\n",
      "import matplotlib.image as mpimg\n",
      "import brewer2mpl"
     ],
     "language": "python",
     "metadata": {},
     "outputs": [
      {
       "metadata": {},
       "output_type": "display_data",
       "png": "[encoded data removed]",
       "text": [
        "<matplotlib.figure.Figure at 0x112ce9350>"
       ]
      }
     ],
     "prompt_number": 1
    },
    {
     "cell_type": "code",
     "collapsed": false,
     "input": [],
     "language": "python",
     "metadata": {},
     "outputs": []
    },
    {
     "cell_type": "code",
     "collapsed": false,
     "input": [
      "from pykalman import KalmanFilter\n",
      "def learn_fully_observed_kf_from_trials(X_list,obs_list):\n",
      "    # X_list and obs_list are pandas Series instances. Each element of the series is the data\n",
      "    # for a single trial in an TxN np.array\n",
      "\n",
      "\n",
      "    observations = np.vstack(obs_list)\n",
      "\n",
      "    states_future = np.vstack(X_list.apply(lambda x: x[1:,:]))\n",
      "    states_past = np.vstack(X_list.apply(lambda x: x[:-1,:]))\n",
      "    states = np.vstack(X_list)\n",
      "\n",
      "    init_states = np.vstack(X_list.apply(lambda x: x[0,:]))\n",
      "\n",
      "    initial_state_covariance = np.cov(init_states,rowvar=0)\n",
      "    initial_state_mean = np.mean(init_states,0)\n",
      "\n",
      "    X_past = np.hstack([states_past,np.ones((len(states_past),1))]) #add linear offset\n",
      "    Aout = np.linalg.lstsq(X_past,states_future)[0]\n",
      "    A = Aout[:-1,:]\n",
      "\n",
      "    transition_matrix = A.T\n",
      "    transition_offset = Aout[-1,:]\n",
      "\n",
      "    transition_covariance = np.cov(np.dot(X_past,Aout) - states_future,rowvar=0)\n",
      "\n",
      "    X = np.hstack([states,np.ones((len(states),1))]) #add linear offset\n",
      "    Bout = np.linalg.lstsq(X,observations)[0]\n",
      "    observation_matrix = Bout[:-1,:].T\n",
      "    observation_offset = Bout[-1,:]\n",
      "\n",
      "    observation_covariance = np.cov(np.dot(X,Bout) - observations,rowvar=0)\n",
      "\n",
      "    params = (transition_matrix, observation_matrix, transition_covariance,\n",
      "              observation_covariance, transition_offset, observation_offset,\n",
      "              initial_state_mean, initial_state_covariance)\n",
      "\n",
      "    kf = KalmanFilter(*params)\n",
      "\n",
      "    return kf\n"
     ],
     "language": "python",
     "metadata": {},
     "outputs": [],
     "prompt_number": 3
    },
    {
     "cell_type": "code",
     "collapsed": false,
     "input": [
      "# Create dataframes\n",
      "\n",
      "pth = '/Users/david_conant/Dropbox/Vowels/EC41/'\n",
      "blocks = [19,20,22,27]\n",
      "tokens = ['AAA','IYY','UWW','AEE','AHH','EHH','ERR','IHH','UHH']\n",
      "#tokens = ['HAWED','HEED','WHOOD','HAD','HUD','HEAD','HEARD','HID','HOOD']\n",
      "kfeats = ['FrontTongueX','FMidTongueX','MidTongueX','BMidTongueX','BackTongueX','FrontTongueY','FMidTongueY','MidTongueY',\n",
      "          'BMidTongueY','BackTongueY','LipOpening','LipWidth','JawX','JawY']\n",
      "fs = 100\n",
      "#Load in Dmatrices\n",
      "\n",
      "#Electrodes\n",
      "window = np.array([-1,1])   #TODO: try wider window for more timepoints\n",
      "[E,anat,stop_times,start_times] = makeD_multi(pth,blocks,tokens,align_window = window, dtype='HG')\n",
      "Es = [E[d] for d in tokens]\n",
      "vSMC = np.concatenate((np.where(anat=='preCG')[0],np.where(anat=='postCG')[0]))\n",
      "Eall = np.concatenate(Es,axis=2)\n",
      "Eall = resample_array(Eall,[Eall.shape[0],np.diff(window)*fs,Eall.shape[2]])\n",
      "\n",
      "#Kinematics\n",
      "#window = np.array([0.25,0.75])\n",
      "[K,anat,stop_times,start_times] = makeD_multi(pth,blocks,tokens,dtype='kin',align_window = window)\n",
      "Ks = [K[d] for d in tokens]\n",
      "stops = [stop_times[d] for d in tokens]\n",
      "starts = [start_times[d] for d in tokens]\n",
      "Ks = process_kin(Ks,stops,starts,window,numTongue=10,wrt_start=True,norm_length=False)\n",
      "Kall = np.concatenate(Ks,axis=2)\n",
      "Kall = resample_array(Kall,[Kall.shape[0],np.diff(window)*fs,Kall.shape[2]])\n",
      "\n",
      "\n",
      "#gestural_score(Ks,kfeats,tokens)"
     ],
     "language": "python",
     "metadata": {},
     "outputs": [
      {
       "output_type": "stream",
       "stream": "stdout",
       "text": [
        "File found; Loading...\n",
        "Loaded"
       ]
      },
      {
       "output_type": "stream",
       "stream": "stdout",
       "text": [
        "\n",
        "File found; Loading..."
       ]
      },
      {
       "output_type": "stream",
       "stream": "stdout",
       "text": [
        "\n",
        "Loaded"
       ]
      },
      {
       "output_type": "stream",
       "stream": "stdout",
       "text": [
        "\n"
       ]
      }
     ],
     "prompt_number": 2
    },
    {
     "cell_type": "code",
     "collapsed": false,
     "input": [
      "a = pd.Series(dict(enumerate(Eall.transpose())))\n",
      "type(a[0])"
     ],
     "language": "python",
     "metadata": {},
     "outputs": [
      {
       "metadata": {},
       "output_type": "pyout",
       "prompt_number": 3,
       "text": [
        "numpy.ndarray"
       ]
      }
     ],
     "prompt_number": 3
    },
    {
     "cell_type": "code",
     "collapsed": false,
     "input": [
      "lags = np.linspace(0,0,2)\n",
      "Rs = np.empty((14,256,len(lags)))\n",
      "Rp = np.empty((14,256,len(lags)))\n",
      "ps = np.empty((14,256,len(lags)))\n",
      "pp = np.empty((14,256,len(lags)))\n",
      "prog = ProgressBar(len(lags))\n",
      "groups = [range(10),range(10,12),range(12,14)]\n",
      "win_size=1\n",
      "win_start = 0\n",
      "for ilag, lag in enumerate(lags):\n",
      "    prog.animate(ilag)\n",
      "    #Lag by removing data\n",
      "    trange = np.round(np.arange(win_start*fs-lag*fs,(win_start+win_size)*fs-lag*fs)).astype(int)\n",
      "    Klagged =Kall[:,trange,:]\n",
      "    Elagged = Eall[:,trange + (lag*fs).astype(int),:]    #behavior-leading lag\n",
      "\n",
      "    #Reshape across trials\n",
      "    Kinematics = np.reshape(Klagged,(Klagged.shape[0],-1),order='F').transpose()\n",
      "    Kinematics = pd.DataFrame(Kinematics,columns = kfeats)\n",
      "    #Kinematics.fillna(Kinematics.median(),inplace=True)\n",
      "    #hat,tilde = SemiPartialCorrelation(Kinematics,groups)\n",
      "    #Kinematics = tilde\n",
      "    #Kinematics = pd.Series(dict(enumerate(Eall.transpose())))\n",
      "    \n",
      "    HG = np.reshape(Elagged,(Elagged.shape[0],-1),order='F').transpose()\n",
      "    HG = pd.DataFrame(HG,columns = seq_labels('e',256))\n",
      "    vsmcHG = HG.iloc[:,vSMC]\n",
      "    #vsmcHG.fillna(vsmcHG.median(),inplace=True)\n",
      "    vsmcHG.dropna(axis =1,how='any',inplace=True)\n",
      "    #hat,tilde = SemiPartialCorrelation(vsmcHG)\n",
      "    #vsmcHG = tilde\n",
      "    \n",
      "    data = pd.concat([vsmcHG,Kinematics],axis=1)\n",
      "    data.dropna(axis=1,how='all',inplace=True)   #Drop bad features and observations\n",
      "    data.dropna(axis=0,how='all',inplace=True) \n",
      "    data.dropna(axis=0,how='any',inplace=True)   \n",
      "    data.dropna(axis=1,how='any',inplace=True)   \n",
      "    "
     ],
     "language": "python",
     "metadata": {},
     "outputs": [
      {
       "output_type": "stream",
       "stream": "stdout",
       "text": [
        "\r",
        " [                       0%                       ]"
       ]
      },
      {
       "output_type": "stream",
       "stream": "stdout",
       "text": [
        "\r",
        " [**********************50%                       ]  1 of 2 complete"
       ]
      }
     ],
     "prompt_number": 29
    },
    {
     "cell_type": "code",
     "collapsed": false,
     "input": [
      "vsmcHG.index"
     ],
     "language": "python",
     "metadata": {},
     "outputs": [
      {
       "metadata": {},
       "output_type": "pyout",
       "prompt_number": 53,
       "text": [
        "Int64Index([    0,     1,     2,     3,     4,     5,     6,     7,     8,\n",
        "                9, \n",
        "            ...\n",
        "            17390, 17391, 17392, 17393, 17394, 17395, 17396, 17397, 17398,\n",
        "            17399],\n",
        "           dtype='int64', length=17400)"
       ]
      },
      {
       "metadata": {},
       "output_type": "display_data",
       "png": "[encoded data removed]",
       "text": [
        "<matplotlib.figure.Figure at 0x125ea7a10>"
       ]
      }
     ],
     "prompt_number": 53
    },
    {
     "cell_type": "code",
     "collapsed": false,
     "input": [
      "Kinematics.index"
     ],
     "language": "python",
     "metadata": {},
     "outputs": [
      {
       "metadata": {},
       "output_type": "pyout",
       "prompt_number": 28,
       "text": [
        "Int64Index([    0,     1,     2,     3,     4,     5,     6,     7,     8,\n",
        "                9, \n",
        "            ...\n",
        "            17390, 17391, 17392, 17393, 17394, 17395, 17396, 17397, 17398,\n",
        "            17399],\n",
        "           dtype='int64', length=17400)"
       ]
      }
     ],
     "prompt_number": 28
    },
    {
     "cell_type": "code",
     "collapsed": false,
     "input": [
      "data.shape"
     ],
     "language": "python",
     "metadata": {},
     "outputs": [
      {
       "metadata": {},
       "output_type": "pyout",
       "prompt_number": 54,
       "text": [
        "(15900, 98)"
       ]
      }
     ],
     "prompt_number": 54
    },
    {
     "cell_type": "code",
     "collapsed": false,
     "input": [
      "data = pd.concat([vsmcHG,Kinematics],axis=1)\n",
      "data.dropna(axis=1,how='all',inplace=True)   #Drop bad features\n",
      "data.dropna(axis=0,how='all',inplace=True)   #Drop bad observations\n",
      "data.dropna(axis=0,how='any',inplace=True)   #Drop bad observations\n",
      "data.dropna(axis=1,how='any',inplace=True)   #Drop bad features"
     ],
     "language": "python",
     "metadata": {},
     "outputs": [],
     "prompt_number": 42
    },
    {
     "cell_type": "code",
     "collapsed": false,
     "input": [
      "data.shape"
     ],
     "language": "python",
     "metadata": {},
     "outputs": [
      {
       "metadata": {},
       "output_type": "pyout",
       "prompt_number": 43,
       "text": [
        "(15900, 98)"
       ]
      }
     ],
     "prompt_number": 43
    },
    {
     "cell_type": "code",
     "collapsed": false,
     "input": [
      "data['e91']"
     ],
     "language": "python",
     "metadata": {},
     "outputs": [
      {
       "metadata": {},
       "output_type": "pyout",
       "prompt_number": 52,
       "text": [
        "0       -0.736027\n",
        "1       -0.359468\n",
        "2       -0.132242\n",
        "3       -0.069766\n",
        "4       -0.067777\n",
        "5        0.032280\n",
        "6        0.257984\n",
        "7        0.484159\n",
        "8        0.557408\n",
        "9        0.402764\n",
        "10       0.091410\n",
        "11      -0.167405\n",
        "12      -0.309497\n",
        "13      -0.420940\n",
        "14      -0.282263\n",
        "15      -0.009400\n",
        "16       0.207023\n",
        "17       0.226053\n",
        "18       0.076853\n",
        "19      -0.085058\n",
        "20      -0.100964\n",
        "21      -0.040409\n",
        "22      -0.032906\n",
        "23      -0.162970\n",
        "24      -0.256461\n",
        "25      -0.520058\n",
        "26      -0.711233\n",
        "27      -0.616106\n",
        "28      -0.338057\n",
        "29      -0.128568\n",
        "           ...   \n",
        "17370    0.013445\n",
        "17371    0.313397\n",
        "17372    0.528820\n",
        "17373    0.630898\n",
        "17374    0.806454\n",
        "17375    0.889187\n",
        "17376    0.805132\n",
        "17377    0.602803\n",
        "17378    0.385386\n",
        "17379    0.250738\n",
        "17380    0.164903\n",
        "17381    0.007003\n",
        "17382   -0.246252\n",
        "17383   -0.512732\n",
        "17384   -0.525341\n",
        "17385   -0.275377\n",
        "17386    0.044289\n",
        "17387    0.462908\n",
        "17388    1.027589\n",
        "17389    1.573655\n",
        "17390    1.891829\n",
        "17391    1.817261\n",
        "17392    1.444093\n",
        "17393    0.999783\n",
        "17394    0.651215\n",
        "17395    0.439488\n",
        "17396    0.409720\n",
        "17397    0.399436\n",
        "17398    0.288178\n",
        "17399    0.223746\n",
        "Name: e91, dtype: float64"
       ]
      }
     ],
     "prompt_number": 52
    },
    {
     "cell_type": "code",
     "collapsed": false,
     "input": [],
     "language": "python",
     "metadata": {},
     "outputs": []
    }
   ],
   "metadata": {}
  }
 ]
}