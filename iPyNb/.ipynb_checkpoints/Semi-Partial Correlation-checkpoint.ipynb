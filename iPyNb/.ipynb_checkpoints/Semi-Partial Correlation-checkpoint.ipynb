{
 "metadata": {
  "name": "",
  "signature": "sha256:bf6cbd66a740d1716e3dd4760fd15795f821c0ce5e9474cd0f8eaa95fa528954"
 },
 "nbformat": 3,
 "nbformat_minor": 0,
 "worksheets": [
  {
   "cells": [
    {
     "cell_type": "code",
     "collapsed": false,
     "input": [
      "%load_ext autoreload\n",
      "%autoreload 2\n",
      "from ECoGstats import makeD_multi, smooth_formants, process_kin, SemiPartialCorrelation\n",
      "import seaborn as sns\n",
      "import prettyplotlib as ppl\n",
      "from matplotlib.backends.backend_agg import (FigureCanvasAgg as FigureCanvas)\n",
      "from scipy.signal import savgol_filter\n",
      "import pandas as pd\n",
      "from BDutils import ProgressBar, resample_array, smart_toeplitz, smooth_derivative\n",
      "from sklearn.cross_validation import train_test_split\n",
      "from sklearn.decomposition import PCA\n",
      "from sklearn.lda import LDA\n",
      "from sklearn.linear_model import Ridge\n",
      "import scipy as sp\n",
      "\n",
      "import scipy.stats as stats\n",
      "import matplotlib.gridspec as gridspec\n",
      "import numpy as np\n",
      "import matplotlib.pyplot as plt"
     ],
     "language": "python",
     "metadata": {},
     "outputs": [],
     "prompt_number": 1
    },
    {
     "cell_type": "code",
     "collapsed": false,
     "input": [
      "subj = 'EC41'\n",
      "blocks = [19,20,22,27]\n",
      "pth = '/Users/david_conant/Dropbox/Vowels/'+subj + '/'\n",
      "tokens = ['AAA','IYY','UWW','AEE','AHH','EHH','ERR','IHH','UHH']\n",
      "window = np.array([-1,2])\n",
      "[K,anat,stop_times,start_times] = makeD_multi(pth,blocks,tokens,dtype= 'kin',align_window = window)\n",
      "Ks = [K[d].copy() for d in tokens]\n",
      "notes = []\n",
      "for ind,n in enumerate(tokens):\n",
      "    notes.append([n]*Ks[ind].shape[2])\n",
      "notes = np.concatenate(notes,axis=0) \n",
      "\n",
      "stops = [stop_times[d] for d in tokens]\n",
      "starts = [start_times[d] for d in tokens]\n",
      "Ks = process_kin(Ks,stops,starts,window, norm_length=True,velocity = False,wrt_start=True)\n",
      "Kall = np.concatenate(Ks,axis=2)\n",
      "kfeats = ['Front Tongue X','Mid Tongue X', 'Back Tongue X','Front Tongue Y','Mid Tongue Y',\n",
      "         'Back Tongue Y','Lip Opening','Lip Width','Jaw X','Jaw Y']\n",
      "sns.set_palette('Set1')\n"
     ],
     "language": "python",
     "metadata": {},
     "outputs": [],
     "prompt_number": 1
    },
    {
     "cell_type": "code",
     "collapsed": false,
     "input": [
      "CV = 'split'\n",
      "boot = 50\n",
      "ncomp = 40\n",
      "nTP = 200\n",
      "alphas = np.logspace(-2,15,20)\n",
      "Kt = Ks\n",
      "\n",
      "window = np.array([-1, 2])\n",
      "[E,anat,stop_times,start_times] = makeD_multi(pth,blocks,tokens,align_window = window, dtype='HG')\n",
      "Es = [E[d] for d in tokens]\n",
      "elects = np.concatenate((np.where(anat=='preCG')[0],np.where(anat=='postCG')[0]))\n",
      "\n",
      "Kr2 = np.empty((Ks[0].shape[0],boot,nTP,len(alphas)))\n",
      "Kr2null = np.empty((Ks[0].shape[0],boot,nTP,len(alphas)))\n",
      "B = np.empty((Ks[0].shape[0],elects.shape[0]-1,boot,nTP,len(alphas)))\n",
      "\n",
      "prog = ProgressBar(nTP)\n",
      "for indt,t in enumerate(np.linspace(200,600,nTP)):\n",
      "    erange = np.arange(t,t+4)   #Try playing with window size\n",
      "\n",
      "    #Organize data into X and y\n",
      "    X,y,yrnd = Ds2Xy(Es,Kt,dt1='HG',dt2='kin',ncomp = ncomp,erange = erange.astype(int),elects = elects,frange=np.arange(105,115),krange=np.arange(37,42))\n",
      "    \n",
      "    #Semi-partial Correlation \n",
      "    \n",
      "    #Ridge regression\n",
      "    for inda,a in enumerate(alphas):\n",
      "        Kr2[:,:,indt,inda],B[:,:,:,indt,inda],yhat,score = Ridge_MLR(X, y, alpha = a, CV = CV, boot = boot)\n",
      "        Kr2null[:,:,indt,inda],B[:,:,:,indt,inda],yhat,score = Ridge_MLR(X, yrnd, alpha = a, CV = CV, boot = boot)\n",
      "    prog.animate(indt)\n",
      "R2viz(Kr2,Kr2null,kfeats,b=True)"
     ],
     "language": "python",
     "metadata": {},
     "outputs": []
    }
   ],
   "metadata": {}
  }
 ]
}