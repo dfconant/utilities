{
 "metadata": {
  "name": "",
  "signature": "sha256:9cacdf417b5ac2efb28a3982e81b0bb6fd23a044af551cfc16efb34c57ff8572"
 },
 "nbformat": 3,
 "nbformat_minor": 0,
 "worksheets": [
  {
   "cells": [
    {
     "cell_type": "code",
     "collapsed": false,
     "input": [
      "from __future__ import division"
     ],
     "language": "python",
     "metadata": {},
     "outputs": [],
     "prompt_number": 260
    },
    {
     "cell_type": "code",
     "collapsed": false,
     "input": [
      "%load_ext autoreload\n",
      "%autoreload 2\n",
      "%matplotlib inline\n",
      "%config InlineBackend.figure_format = 'svg' \n",
      "import numpy as np\n",
      "import pandas as pd\n",
      "import scipy as sp\n",
      "from ecog_dataframe import EcogDF\n",
      "from ecog_zscore import kin2txt\n",
      "import ecog_plotting as pltr\n",
      "import ecog_analysis as an\n",
      "import os\n",
      "import matplotlib.pyplot as plt\n"
     ],
     "language": "python",
     "metadata": {},
     "outputs": [
      {
       "output_type": "stream",
       "stream": "stdout",
       "text": [
        "The autoreload extension is already loaded. To reload it, use:\n",
        "  %reload_ext autoreload\n"
       ]
      }
     ],
     "prompt_number": 262
    },
    {
     "cell_type": "code",
     "collapsed": false,
     "input": [
      "edf = EcogDF(41,data_list=['ECoG','Kin'],experiment='vowels',sr=200.0)"
     ],
     "language": "python",
     "metadata": {},
     "outputs": [
      {
       "output_type": "stream",
       "stream": "stdout",
       "text": [
        "no dataframe found. loading blocks...\n",
        "loading ECoG\n",
        "block 19 loaded"
       ]
      },
      {
       "output_type": "stream",
       "stream": "stdout",
       "text": [
        "\n",
        "block 20 loaded"
       ]
      },
      {
       "output_type": "stream",
       "stream": "stdout",
       "text": [
        "\n",
        "loading features..."
       ]
      },
      {
       "output_type": "stream",
       "stream": "stdout",
       "text": [
        "\n",
        "loaded Word"
       ]
      },
      {
       "output_type": "stream",
       "stream": "stdout",
       "text": [
        "\n",
        "loaded Trial"
       ]
      },
      {
       "output_type": "stream",
       "stream": "stdout",
       "text": [
        "\n",
        "all blocks loaded\n",
        "loading Kin"
       ]
      },
      {
       "output_type": "stream",
       "stream": "stdout",
       "text": [
        "\n",
        "block 19 loaded"
       ]
      },
      {
       "output_type": "stream",
       "stream": "stdout",
       "text": [
        "\n",
        "block 20 loaded"
       ]
      },
      {
       "output_type": "stream",
       "stream": "stdout",
       "text": [
        "\n",
        "loading features..."
       ]
      },
      {
       "output_type": "stream",
       "stream": "stdout",
       "text": [
        "\n",
        "loaded Word"
       ]
      },
      {
       "output_type": "stream",
       "stream": "stdout",
       "text": [
        "\n",
        "loaded Trial"
       ]
      },
      {
       "output_type": "stream",
       "stream": "stdout",
       "text": [
        "\n",
        "all blocks loaded\n"
       ]
      },
      {
       "ename": "AttributeError",
       "evalue": "EcogDF instance has no attribute 'mergeDF'",
       "output_type": "pyerr",
       "traceback": [
        "\u001b[0;31m---------------------------------------------------------------------------\u001b[0m\n\u001b[0;31mAttributeError\u001b[0m                            Traceback (most recent call last)",
        "\u001b[0;32m<ipython-input-382-70eeb07a9a9d>\u001b[0m in \u001b[0;36m<module>\u001b[0;34m()\u001b[0m\n\u001b[0;32m----> 1\u001b[0;31m \u001b[0medf\u001b[0m \u001b[0;34m=\u001b[0m \u001b[0mEcogDF\u001b[0m\u001b[0;34m(\u001b[0m\u001b[0;36m41\u001b[0m\u001b[0;34m,\u001b[0m\u001b[0mdata_list\u001b[0m\u001b[0;34m=\u001b[0m\u001b[0;34m[\u001b[0m\u001b[0;34m'ECoG'\u001b[0m\u001b[0;34m,\u001b[0m\u001b[0;34m'Kin'\u001b[0m\u001b[0;34m]\u001b[0m\u001b[0;34m,\u001b[0m\u001b[0mexperiment\u001b[0m\u001b[0;34m=\u001b[0m\u001b[0;34m'vowels'\u001b[0m\u001b[0;34m,\u001b[0m\u001b[0msr\u001b[0m\u001b[0;34m=\u001b[0m\u001b[0;36m200.0\u001b[0m\u001b[0;34m)\u001b[0m\u001b[0;34m\u001b[0m\u001b[0m\n\u001b[0m",
        "\u001b[0;32m/Users/david_conant/Dropbox/changrepo/python/analysis/ecog_tools/ecog_dataframe.py\u001b[0m in \u001b[0;36m__init__\u001b[0;34m(self, subject, data_list, ver, experiment, sr, **kwargs)\u001b[0m\n\u001b[1;32m     59\u001b[0m                 \u001b[0mself\u001b[0m\u001b[0;34m.\u001b[0m\u001b[0msr\u001b[0m \u001b[0;34m=\u001b[0m \u001b[0mdtype_dict\u001b[0m\u001b[0;34m[\u001b[0m\u001b[0mdt\u001b[0m\u001b[0;34m]\u001b[0m\u001b[0;34m[\u001b[0m\u001b[0;34m'sr'\u001b[0m\u001b[0;34m]\u001b[0m\u001b[0;34m\u001b[0m\u001b[0m\n\u001b[1;32m     60\u001b[0m                 \u001b[0mdtype_dict\u001b[0m\u001b[0;34m[\u001b[0m\u001b[0mdt\u001b[0m\u001b[0;34m]\u001b[0m\u001b[0;34m[\u001b[0m\u001b[0;34m'df'\u001b[0m\u001b[0;34m]\u001b[0m \u001b[0;34m=\u001b[0m \u001b[0mself\u001b[0m\u001b[0;34m.\u001b[0m\u001b[0mconstructDF\u001b[0m\u001b[0;34m(\u001b[0m\u001b[0mdt\u001b[0m\u001b[0;34m)\u001b[0m\u001b[0;34m\u001b[0m\u001b[0m\n\u001b[0;32m---> 61\u001b[0;31m             \u001b[0mself\u001b[0m\u001b[0;34m.\u001b[0m\u001b[0mdf\u001b[0m \u001b[0;34m=\u001b[0m \u001b[0mself\u001b[0m\u001b[0;34m.\u001b[0m\u001b[0mmergeDF\u001b[0m\u001b[0;34m(\u001b[0m\u001b[0mdtype_dict\u001b[0m\u001b[0;34m)\u001b[0m\u001b[0;34m\u001b[0m\u001b[0m\n\u001b[0m\u001b[1;32m     62\u001b[0m \u001b[0;34m\u001b[0m\u001b[0m\n\u001b[1;32m     63\u001b[0m         \u001b[0mself\u001b[0m\u001b[0;34m.\u001b[0m\u001b[0msr\u001b[0m \u001b[0;34m=\u001b[0m \u001b[0msr\u001b[0m\u001b[0;34m\u001b[0m\u001b[0m\n",
        "\u001b[0;31mAttributeError\u001b[0m: EcogDF instance has no attribute 'mergeDF'"
       ]
      }
     ],
     "prompt_number": 382
    },
    {
     "cell_type": "code",
     "collapsed": false,
     "input": [
      "AAA = edf.getFeatureSlices('Word', 'AAA', 0.1)"
     ],
     "language": "python",
     "metadata": {},
     "outputs": [
      {
       "ename": "AttributeError",
       "evalue": "EcogDF instance has no attribute 'channels'",
       "output_type": "pyerr",
       "traceback": [
        "\u001b[0;31m---------------------------------------------------------------------------\u001b[0m\n\u001b[0;31mAttributeError\u001b[0m                            Traceback (most recent call last)",
        "\u001b[0;32m<ipython-input-263-b5256faf970e>\u001b[0m in \u001b[0;36m<module>\u001b[0;34m()\u001b[0m\n\u001b[0;32m----> 1\u001b[0;31m \u001b[0mAAA\u001b[0m \u001b[0;34m=\u001b[0m \u001b[0medf\u001b[0m\u001b[0;34m.\u001b[0m\u001b[0mgetFeatureSlices\u001b[0m\u001b[0;34m(\u001b[0m\u001b[0;34m'Word'\u001b[0m\u001b[0;34m,\u001b[0m \u001b[0;34m'AAA'\u001b[0m\u001b[0;34m,\u001b[0m \u001b[0;36m0.1\u001b[0m\u001b[0;34m)\u001b[0m\u001b[0;34m\u001b[0m\u001b[0m\n\u001b[0m",
        "\u001b[0;32m/Users/david_conant/Dropbox/changrepo/python/analysis/ecog_tools/ecog_dataframe.py\u001b[0m in \u001b[0;36mgetFeatureSlices\u001b[0;34m(self, condition_categories, condition_values, window, form, select, ver, region, badchannels, save_memory)\u001b[0m\n\u001b[1;32m    185\u001b[0m         \u001b[0mdfs\u001b[0m \u001b[0;34m=\u001b[0m \u001b[0;34m[\u001b[0m\u001b[0;34m]\u001b[0m\u001b[0;34m\u001b[0m\u001b[0m\n\u001b[1;32m    186\u001b[0m         \u001b[0;32mfor\u001b[0m \u001b[0mfeatures\u001b[0m\u001b[0;34m,\u001b[0m \u001b[0mvalues\u001b[0m \u001b[0;32min\u001b[0m \u001b[0mizip\u001b[0m\u001b[0;34m(\u001b[0m\u001b[0mcondition_categories\u001b[0m\u001b[0;34m,\u001b[0m \u001b[0mcondition_values\u001b[0m\u001b[0;34m)\u001b[0m\u001b[0;34m:\u001b[0m\u001b[0;34m\u001b[0m\u001b[0m\n\u001b[0;32m--> 187\u001b[0;31m             \u001b[0mtemp\u001b[0m \u001b[0;34m=\u001b[0m \u001b[0mself\u001b[0m\u001b[0;34m.\u001b[0m\u001b[0mgetFeatureSlice\u001b[0m\u001b[0;34m(\u001b[0m\u001b[0mfeatures\u001b[0m\u001b[0;34m,\u001b[0m \u001b[0mvalues\u001b[0m\u001b[0;34m,\u001b[0m \u001b[0mwindow\u001b[0m\u001b[0;34m,\u001b[0m \u001b[0mver\u001b[0m\u001b[0;34m=\u001b[0m\u001b[0mver\u001b[0m\u001b[0;34m,\u001b[0m \u001b[0mselect\u001b[0m\u001b[0;34m=\u001b[0m\u001b[0mselect\u001b[0m\u001b[0;34m)\u001b[0m\u001b[0;34m\u001b[0m\u001b[0m\n\u001b[0m\u001b[1;32m    188\u001b[0m             \u001b[0mdfs\u001b[0m\u001b[0;34m.\u001b[0m\u001b[0mappend\u001b[0m\u001b[0;34m(\u001b[0m\u001b[0mtemp\u001b[0m\u001b[0;34m)\u001b[0m\u001b[0;34m\u001b[0m\u001b[0m\n\u001b[1;32m    189\u001b[0m         \u001b[0;32mprint\u001b[0m \u001b[0;34m'features sliced'\u001b[0m\u001b[0;34m\u001b[0m\u001b[0m\n",
        "\u001b[0;32m/Users/david_conant/Dropbox/changrepo/python/analysis/ecog_tools/ecog_dataframe.py\u001b[0m in \u001b[0;36mgetFeatureSlice\u001b[0;34m(self, features, values, window, select, ver)\u001b[0m\n\u001b[1;32m    147\u001b[0m         \u001b[0;31m#columns = [str(x) for x in np.arange(1,self.nchannels+1)]\u001b[0m\u001b[0;34m\u001b[0m\u001b[0;34m\u001b[0m\u001b[0m\n\u001b[1;32m    148\u001b[0m         \u001b[0mcolumns\u001b[0m \u001b[0;34m=\u001b[0m \u001b[0;34m[\u001b[0m\u001b[0;34m]\u001b[0m\u001b[0;34m\u001b[0m\u001b[0m\n\u001b[0;32m--> 149\u001b[0;31m         \u001b[0mcolumns\u001b[0m\u001b[0;34m.\u001b[0m\u001b[0mextend\u001b[0m\u001b[0;34m(\u001b[0m\u001b[0mself\u001b[0m\u001b[0;34m.\u001b[0m\u001b[0mchannels\u001b[0m\u001b[0;34m)\u001b[0m\u001b[0;34m\u001b[0m\u001b[0m\n\u001b[0m\u001b[1;32m    150\u001b[0m         \u001b[0mcolumns\u001b[0m\u001b[0;34m.\u001b[0m\u001b[0mextend\u001b[0m\u001b[0;34m(\u001b[0m\u001b[0;34m[\u001b[0m\u001b[0;34m'Relative Time'\u001b[0m\u001b[0;34m,\u001b[0m \u001b[0;34m'Observation'\u001b[0m\u001b[0;34m,\u001b[0m \u001b[0;34m'Condition'\u001b[0m\u001b[0;34m]\u001b[0m\u001b[0;34m)\u001b[0m\u001b[0;34m\u001b[0m\u001b[0m\n\u001b[1;32m    151\u001b[0m         \u001b[0mfdf\u001b[0m \u001b[0;34m=\u001b[0m \u001b[0mself\u001b[0m\u001b[0;34m.\u001b[0m\u001b[0mdf\u001b[0m\u001b[0;34m.\u001b[0m\u001b[0miloc\u001b[0m\u001b[0;34m[\u001b[0m\u001b[0mwindow_indices\u001b[0m\u001b[0;34m,\u001b[0m \u001b[0;34m:\u001b[0m\u001b[0;34m]\u001b[0m\u001b[0;34m\u001b[0m\u001b[0m\n",
        "\u001b[0;31mAttributeError\u001b[0m: EcogDF instance has no attribute 'channels'"
       ]
      }
     ],
     "prompt_number": 263
    },
    {
     "cell_type": "code",
     "collapsed": false,
     "input": [
      "edf.sr = 200"
     ],
     "language": "python",
     "metadata": {},
     "outputs": [],
     "prompt_number": 254
    },
    {
     "cell_type": "code",
     "collapsed": false,
     "input": [
      "edf.df['Word'].unique()"
     ],
     "language": "python",
     "metadata": {},
     "outputs": [
      {
       "metadata": {},
       "output_type": "pyout",
       "prompt_number": 249,
       "text": [
        "array([nan, 'UHH', 'HAD', 'AEE', 'HAWED', 'AAA', 'HID', 'IHH', 'HUD',\n",
        "       'AHH', 'HEAD', 'EHH', 'HEARD', 'ERR', 'WHOOD', 'UWW', 'HEED', 'IYY',\n",
        "       'HOOD'], dtype=object)"
       ]
      }
     ],
     "prompt_number": 249
    },
    {
     "cell_type": "code",
     "collapsed": false,
     "input": [
      "edf.df.columns "
     ],
     "language": "python",
     "metadata": {},
     "outputs": [
      {
       "metadata": {},
       "output_type": "pyout",
       "prompt_number": 265,
       "text": [
        "Index([u'e1', u'e2', u'e3', u'e4', u'e5', u'e6', u'e7', u'e8', u'e9', u'e10', \n",
        "       ...\n",
        "       u'ellipseWidth1', u'jawxy1', u'jawxy2', u'nosexy1', u'nosexy2',\n",
        "       u'TimeKin', u'SampleKin', u'BlockKin', u'WordKin', u'TrialKin'],\n",
        "      dtype='object', length=476)"
       ]
      }
     ],
     "prompt_number": 265
    },
    {
     "cell_type": "code",
     "collapsed": false,
     "input": [
      "day = edf.df['Block'].apply('{0:0>3}'.format)\n",
      "sec = edf.df['Time'].apply('{:03.0f}'.format)\n",
      "Msec = "
     ],
     "language": "python",
     "metadata": {},
     "outputs": [],
     "prompt_number": 346
    },
    {
     "cell_type": "code",
     "collapsed": false,
     "input": [
      "d = edf.df['Block'].apply('{0:0>3}'.format)\n",
      "m = floor(edf.df['Time']/60).apply('{:02.0f}'.format)\n",
      "s = floor(edf.df['Time']%60).apply('{:02.0f}'.format)\n",
      "Ms = floor((edf.df['Time']%1)*1e6).apply('{:06.0f}'.format)\n",
      "index = pd.to_datetime(d+ m + s + Ms, format = '%j%M%S%f')"
     ],
     "language": "python",
     "metadata": {},
     "outputs": [],
     "prompt_number": 377
    },
    {
     "cell_type": "code",
     "collapsed": false,
     "input": [
      "edf.df['Time'].shape"
     ],
     "language": "python",
     "metadata": {},
     "outputs": [
      {
       "metadata": {},
       "output_type": "pyout",
       "prompt_number": 378,
       "text": [
        "(171246,)"
       ]
      }
     ],
     "prompt_number": 378
    },
    {
     "cell_type": "code",
     "collapsed": false,
     "input": [
      "index.shape"
     ],
     "language": "python",
     "metadata": {},
     "outputs": [
      {
       "metadata": {},
       "output_type": "pyout",
       "prompt_number": 379,
       "text": [
        "(171246,)"
       ]
      }
     ],
     "prompt_number": 379
    },
    {
     "cell_type": "code",
     "collapsed": false,
     "input": [
      "'0'+edf.df['Block'].astype('str')"
     ],
     "language": "python",
     "metadata": {},
     "outputs": [
      {
       "metadata": {},
       "output_type": "pyout",
       "prompt_number": 313,
       "text": [
        "0        019\n",
        "0        019\n",
        "0        019\n",
        "0        019\n",
        "1        019\n",
        "1        019\n",
        "1        019\n",
        "1        019\n",
        "1        019\n",
        "1        019\n",
        "1        019\n",
        "2        019\n",
        "2        019\n",
        "2        019\n",
        "2        019\n",
        "2        019\n",
        "2        019\n",
        "3        019\n",
        "3        019\n",
        "3        019\n",
        "3        019\n",
        "3        019\n",
        "3        019\n",
        "3        019\n",
        "4        019\n",
        "4        019\n",
        "4        019\n",
        "4        019\n",
        "4        019\n",
        "4        019\n",
        "        ... \n",
        "25641    020\n",
        "25641    020\n",
        "25641    020\n",
        "25642    020\n",
        "25642    020\n",
        "25642    020\n",
        "25642    020\n",
        "25642    020\n",
        "25642    020\n",
        "25642    020\n",
        "25643    020\n",
        "25643    020\n",
        "25643    020\n",
        "25643    020\n",
        "25643    020\n",
        "25643    020\n",
        "25643    020\n",
        "25644    020\n",
        "25644    020\n",
        "25644    020\n",
        "25644    020\n",
        "25644    020\n",
        "25644    020\n",
        "25645    020\n",
        "25645    020\n",
        "25645    020\n",
        "25645    020\n",
        "25645    020\n",
        "25645    020\n",
        "25645    020\n",
        "Name: Block, dtype: object"
       ]
      }
     ],
     "prompt_number": 313
    },
    {
     "cell_type": "code",
     "collapsed": false,
     "input": [
      "pd.to_datetime(edf.df['Block'], unit='D'),pd.to_datetime(edf.df['Time'], unit='s')"
     ],
     "language": "python",
     "metadata": {},
     "outputs": [
      {
       "metadata": {},
       "output_type": "pyout",
       "prompt_number": 311,
       "text": [
        "(0       1970-01-20\n",
        " 0       1970-01-20\n",
        " 0       1970-01-20\n",
        " 0       1970-01-20\n",
        " 1       1970-01-20\n",
        " 1       1970-01-20\n",
        " 1       1970-01-20\n",
        " 1       1970-01-20\n",
        " 1       1970-01-20\n",
        " 1       1970-01-20\n",
        " 1       1970-01-20\n",
        " 2       1970-01-20\n",
        " 2       1970-01-20\n",
        " 2       1970-01-20\n",
        " 2       1970-01-20\n",
        " 2       1970-01-20\n",
        " 2       1970-01-20\n",
        " 3       1970-01-20\n",
        " 3       1970-01-20\n",
        " 3       1970-01-20\n",
        " 3       1970-01-20\n",
        " 3       1970-01-20\n",
        " 3       1970-01-20\n",
        " 3       1970-01-20\n",
        " 4       1970-01-20\n",
        " 4       1970-01-20\n",
        " 4       1970-01-20\n",
        " 4       1970-01-20\n",
        " 4       1970-01-20\n",
        " 4       1970-01-20\n",
        "            ...    \n",
        " 25641   1970-01-21\n",
        " 25641   1970-01-21\n",
        " 25641   1970-01-21\n",
        " 25642   1970-01-21\n",
        " 25642   1970-01-21\n",
        " 25642   1970-01-21\n",
        " 25642   1970-01-21\n",
        " 25642   1970-01-21\n",
        " 25642   1970-01-21\n",
        " 25642   1970-01-21\n",
        " 25643   1970-01-21\n",
        " 25643   1970-01-21\n",
        " 25643   1970-01-21\n",
        " 25643   1970-01-21\n",
        " 25643   1970-01-21\n",
        " 25643   1970-01-21\n",
        " 25643   1970-01-21\n",
        " 25644   1970-01-21\n",
        " 25644   1970-01-21\n",
        " 25644   1970-01-21\n",
        " 25644   1970-01-21\n",
        " 25644   1970-01-21\n",
        " 25644   1970-01-21\n",
        " 25645   1970-01-21\n",
        " 25645   1970-01-21\n",
        " 25645   1970-01-21\n",
        " 25645   1970-01-21\n",
        " 25645   1970-01-21\n",
        " 25645   1970-01-21\n",
        " 25645   1970-01-21\n",
        " Name: Block, dtype: datetime64[ns], 0       1970-01-01 00:00:00.000\n",
        " 0       1970-01-01 00:00:00.005\n",
        " 0       1970-01-01 00:00:00.010\n",
        " 0       1970-01-01 00:00:00.015\n",
        " 1       1970-01-01 00:00:00.020\n",
        " 1       1970-01-01 00:00:00.025\n",
        " 1       1970-01-01 00:00:00.030\n",
        " 1       1970-01-01 00:00:00.035\n",
        " 1       1970-01-01 00:00:00.040\n",
        " 1       1970-01-01 00:00:00.045\n",
        " 1       1970-01-01 00:00:00.050\n",
        " 2       1970-01-01 00:00:00.055\n",
        " 2       1970-01-01 00:00:00.060\n",
        " 2       1970-01-01 00:00:00.065\n",
        " 2       1970-01-01 00:00:00.070\n",
        " 2       1970-01-01 00:00:00.075\n",
        " 2       1970-01-01 00:00:00.080\n",
        " 3       1970-01-01 00:00:00.085\n",
        " 3       1970-01-01 00:00:00.090\n",
        " 3       1970-01-01 00:00:00.095\n",
        " 3       1970-01-01 00:00:00.100\n",
        " 3       1970-01-01 00:00:00.105\n",
        " 3       1970-01-01 00:00:00.110\n",
        " 3       1970-01-01 00:00:00.115\n",
        " 4       1970-01-01 00:00:00.120\n",
        " 4       1970-01-01 00:00:00.125\n",
        " 4       1970-01-01 00:00:00.130\n",
        " 4       1970-01-01 00:00:00.135\n",
        " 4       1970-01-01 00:00:00.140\n",
        " 4       1970-01-01 00:00:00.145\n",
        "                   ...          \n",
        " 25641   1970-01-01 00:04:11.830\n",
        " 25641   1970-01-01 00:04:11.835\n",
        " 25641   1970-01-01 00:04:11.840\n",
        " 25642   1970-01-01 00:04:11.845\n",
        " 25642   1970-01-01 00:04:11.850\n",
        " 25642   1970-01-01 00:04:11.855\n",
        " 25642   1970-01-01 00:04:11.860\n",
        " 25642   1970-01-01 00:04:11.865\n",
        " 25642   1970-01-01 00:04:11.870\n",
        " 25642   1970-01-01 00:04:11.875\n",
        " 25643   1970-01-01 00:04:11.880\n",
        " 25643   1970-01-01 00:04:11.885\n",
        " 25643   1970-01-01 00:04:11.890\n",
        " 25643   1970-01-01 00:04:11.895\n",
        " 25643   1970-01-01 00:04:11.900\n",
        " 25643   1970-01-01 00:04:11.905\n",
        " 25643   1970-01-01 00:04:11.910\n",
        " 25644   1970-01-01 00:04:11.915\n",
        " 25644   1970-01-01 00:04:11.920\n",
        " 25644   1970-01-01 00:04:11.925\n",
        " 25644   1970-01-01 00:04:11.930\n",
        " 25644   1970-01-01 00:04:11.935\n",
        " 25644   1970-01-01 00:04:11.940\n",
        " 25645   1970-01-01 00:04:11.945\n",
        " 25645   1970-01-01 00:04:11.950\n",
        " 25645   1970-01-01 00:04:11.955\n",
        " 25645   1970-01-01 00:04:11.960\n",
        " 25645   1970-01-01 00:04:11.965\n",
        " 25645   1970-01-01 00:04:11.970\n",
        " 25645   1970-01-01 00:04:11.975\n",
        " Name: Time, dtype: datetime64[ns])"
       ]
      }
     ],
     "prompt_number": 311
    },
    {
     "cell_type": "code",
     "collapsed": false,
     "input": [
      "pd.to_datetime(edf.df['Block'].astype('str') + ' ' + edf.df['Time'].astype('str'),format= '%-j %-S.%f')"
     ],
     "language": "python",
     "metadata": {},
     "outputs": [
      {
       "ename": "ValueError",
       "evalue": "'-' is a bad directive in format '%-j %-S.%f'",
       "output_type": "pyerr",
       "traceback": [
        "\u001b[0;31m---------------------------------------------------------------------------\u001b[0m\n\u001b[0;31mValueError\u001b[0m                                Traceback (most recent call last)",
        "\u001b[0;32m<ipython-input-310-381091437209>\u001b[0m in \u001b[0;36m<module>\u001b[0;34m()\u001b[0m\n\u001b[0;32m----> 1\u001b[0;31m \u001b[0mpd\u001b[0m\u001b[0;34m.\u001b[0m\u001b[0mto_datetime\u001b[0m\u001b[0;34m(\u001b[0m\u001b[0medf\u001b[0m\u001b[0;34m.\u001b[0m\u001b[0mdf\u001b[0m\u001b[0;34m[\u001b[0m\u001b[0;34m'Block'\u001b[0m\u001b[0;34m]\u001b[0m\u001b[0;34m.\u001b[0m\u001b[0mastype\u001b[0m\u001b[0;34m(\u001b[0m\u001b[0;34m'str'\u001b[0m\u001b[0;34m)\u001b[0m \u001b[0;34m+\u001b[0m \u001b[0;34m' '\u001b[0m \u001b[0;34m+\u001b[0m \u001b[0medf\u001b[0m\u001b[0;34m.\u001b[0m\u001b[0mdf\u001b[0m\u001b[0;34m[\u001b[0m\u001b[0;34m'Time'\u001b[0m\u001b[0;34m]\u001b[0m\u001b[0;34m.\u001b[0m\u001b[0mastype\u001b[0m\u001b[0;34m(\u001b[0m\u001b[0;34m'str'\u001b[0m\u001b[0;34m)\u001b[0m\u001b[0;34m,\u001b[0m\u001b[0mformat\u001b[0m\u001b[0;34m=\u001b[0m \u001b[0;34m'%-j %-S.%f'\u001b[0m\u001b[0;34m)\u001b[0m\u001b[0;34m\u001b[0m\u001b[0m\n\u001b[0m",
        "\u001b[0;32m/Users/david_conant/Library/Enthought/Canopy_64bit/User/lib/python2.7/site-packages/pandas/tseries/tools.pyc\u001b[0m in \u001b[0;36mto_datetime\u001b[0;34m(arg, errors, dayfirst, utc, box, format, exact, coerce, unit, infer_datetime_format)\u001b[0m\n\u001b[1;32m    338\u001b[0m         \u001b[0;32mreturn\u001b[0m \u001b[0marg\u001b[0m\u001b[0;34m\u001b[0m\u001b[0m\n\u001b[1;32m    339\u001b[0m     \u001b[0;32melif\u001b[0m \u001b[0misinstance\u001b[0m\u001b[0;34m(\u001b[0m\u001b[0marg\u001b[0m\u001b[0;34m,\u001b[0m \u001b[0mSeries\u001b[0m\u001b[0;34m)\u001b[0m\u001b[0;34m:\u001b[0m\u001b[0;34m\u001b[0m\u001b[0m\n\u001b[0;32m--> 340\u001b[0;31m         \u001b[0mvalues\u001b[0m \u001b[0;34m=\u001b[0m \u001b[0m_convert_listlike\u001b[0m\u001b[0;34m(\u001b[0m\u001b[0marg\u001b[0m\u001b[0;34m.\u001b[0m\u001b[0mvalues\u001b[0m\u001b[0;34m,\u001b[0m \u001b[0mFalse\u001b[0m\u001b[0;34m,\u001b[0m \u001b[0mformat\u001b[0m\u001b[0;34m)\u001b[0m\u001b[0;34m\u001b[0m\u001b[0m\n\u001b[0m\u001b[1;32m    341\u001b[0m         \u001b[0;32mreturn\u001b[0m \u001b[0mSeries\u001b[0m\u001b[0;34m(\u001b[0m\u001b[0mvalues\u001b[0m\u001b[0;34m,\u001b[0m \u001b[0mindex\u001b[0m\u001b[0;34m=\u001b[0m\u001b[0marg\u001b[0m\u001b[0;34m.\u001b[0m\u001b[0mindex\u001b[0m\u001b[0;34m,\u001b[0m \u001b[0mname\u001b[0m\u001b[0;34m=\u001b[0m\u001b[0marg\u001b[0m\u001b[0;34m.\u001b[0m\u001b[0mname\u001b[0m\u001b[0;34m)\u001b[0m\u001b[0;34m\u001b[0m\u001b[0m\n\u001b[1;32m    342\u001b[0m     \u001b[0;32melif\u001b[0m \u001b[0mcom\u001b[0m\u001b[0;34m.\u001b[0m\u001b[0mis_list_like\u001b[0m\u001b[0;34m(\u001b[0m\u001b[0marg\u001b[0m\u001b[0;34m)\u001b[0m\u001b[0;34m:\u001b[0m\u001b[0;34m\u001b[0m\u001b[0m\n",
        "\u001b[0;32m/Users/david_conant/Library/Enthought/Canopy_64bit/User/lib/python2.7/site-packages/pandas/tseries/tools.pyc\u001b[0m in \u001b[0;36m_convert_listlike\u001b[0;34m(arg, box, format)\u001b[0m\n\u001b[1;32m    331\u001b[0m                 \u001b[0;32mreturn\u001b[0m \u001b[0mDatetimeIndex\u001b[0m\u001b[0;34m.\u001b[0m\u001b[0m_simple_new\u001b[0m\u001b[0;34m(\u001b[0m\u001b[0mvalues\u001b[0m\u001b[0;34m,\u001b[0m \u001b[0mNone\u001b[0m\u001b[0;34m,\u001b[0m \u001b[0mtz\u001b[0m\u001b[0;34m=\u001b[0m\u001b[0mtz\u001b[0m\u001b[0;34m)\u001b[0m\u001b[0;34m\u001b[0m\u001b[0m\n\u001b[1;32m    332\u001b[0m             \u001b[0;32mexcept\u001b[0m \u001b[0;34m(\u001b[0m\u001b[0mValueError\u001b[0m\u001b[0;34m,\u001b[0m \u001b[0mTypeError\u001b[0m\u001b[0;34m)\u001b[0m\u001b[0;34m:\u001b[0m\u001b[0;34m\u001b[0m\u001b[0m\n\u001b[0;32m--> 333\u001b[0;31m                 \u001b[0;32mraise\u001b[0m \u001b[0me\u001b[0m\u001b[0;34m\u001b[0m\u001b[0m\n\u001b[0m\u001b[1;32m    334\u001b[0m \u001b[0;34m\u001b[0m\u001b[0m\n\u001b[1;32m    335\u001b[0m     \u001b[0;32mif\u001b[0m \u001b[0marg\u001b[0m \u001b[0;32mis\u001b[0m \u001b[0mNone\u001b[0m\u001b[0;34m:\u001b[0m\u001b[0;34m\u001b[0m\u001b[0m\n",
        "\u001b[0;31mValueError\u001b[0m: '-' is a bad directive in format '%-j %-S.%f'"
       ]
      }
     ],
     "prompt_number": 310
    },
    {
     "cell_type": "code",
     "collapsed": false,
     "input": [],
     "language": "python",
     "metadata": {},
     "outputs": []
    },
    {
     "cell_type": "code",
     "collapsed": false,
     "input": [
      "from scipy.io import loadmat\n",
      "import glob\n",
      "import csv"
     ],
     "language": "python",
     "metadata": {},
     "outputs": [],
     "prompt_number": 82
    },
    {
     "cell_type": "code",
     "collapsed": false,
     "input": [
      "subject = 41\n",
      "block = 20\n",
      "path = '/Users/david_conant/Dropbox/Vowels/EC41/EC41_B20/Kinematics/Art_data.mat'\n",
      "save_path = '/'.join(path.split('/')[:-3]) + '/kinfeats'\n",
      "ktxt = save_path + '/EC'+ str(subject)+ '_B'+ str(block) + '.kin'\n",
      "art = loadmat(path)\n",
      "feats = ['tonguex', 'tonguey', 'lipsx', 'lipsy', 'ellipseOpen','ellipseWidth','jawxy', 'nosexy']\n",
      "featlen = [0,100,100,2,2,1,1,2,2]\n",
      "numfeats = len(art)-3\n",
      "\n",
      "klen = min([art[feats[0]].shape[0],art[feats[numfeats-1]].shape[0]])\n",
      "K = np.empty((sum(featlen[:numfeats+1]),klen))\n",
      "fsum = 0\n",
      "fullfeats = [None]*sum(featlen)\n",
      "for cnt in range(numfeats):\n",
      "    K[fsum:fsum+featlen[cnt+1],:klen] = art[feats[cnt]][:klen,:].transpose()\n",
      "    fullfeats[fsum:fsum+featlen[cnt+1]] = map(lambda x: feats[cnt] + str(x), range(1, featlen[cnt+1]+1))\n",
      "    fsum = fsum+featlen[cnt+1]\n",
      "np.savetxt(ktxt, K.transpose(), delimiter=\" \", header = ' '.join(fullfeats))\n"
     ],
     "language": "python",
     "metadata": {},
     "outputs": [],
     "prompt_number": 136
    },
    {
     "cell_type": "code",
     "collapsed": false,
     "input": [
      "fullfeats"
     ],
     "language": "python",
     "metadata": {},
     "outputs": [
      {
       "metadata": {},
       "output_type": "pyout",
       "prompt_number": 135,
       "text": [
        "['tonguex1',\n",
        " 'tonguex2',\n",
        " 'tonguex3',\n",
        " 'tonguex4',\n",
        " 'tonguex5',\n",
        " 'tonguex6',\n",
        " 'tonguex7',\n",
        " 'tonguex8',\n",
        " 'tonguex9',\n",
        " 'tonguex10',\n",
        " 'tonguex11',\n",
        " 'tonguex12',\n",
        " 'tonguex13',\n",
        " 'tonguex14',\n",
        " 'tonguex15',\n",
        " 'tonguex16',\n",
        " 'tonguex17',\n",
        " 'tonguex18',\n",
        " 'tonguex19',\n",
        " 'tonguex20',\n",
        " 'tonguex21',\n",
        " 'tonguex22',\n",
        " 'tonguex23',\n",
        " 'tonguex24',\n",
        " 'tonguex25',\n",
        " 'tonguex26',\n",
        " 'tonguex27',\n",
        " 'tonguex28',\n",
        " 'tonguex29',\n",
        " 'tonguex30',\n",
        " 'tonguex31',\n",
        " 'tonguex32',\n",
        " 'tonguex33',\n",
        " 'tonguex34',\n",
        " 'tonguex35',\n",
        " 'tonguex36',\n",
        " 'tonguex37',\n",
        " 'tonguex38',\n",
        " 'tonguex39',\n",
        " 'tonguex40',\n",
        " 'tonguex41',\n",
        " 'tonguex42',\n",
        " 'tonguex43',\n",
        " 'tonguex44',\n",
        " 'tonguex45',\n",
        " 'tonguex46',\n",
        " 'tonguex47',\n",
        " 'tonguex48',\n",
        " 'tonguex49',\n",
        " 'tonguex50',\n",
        " 'tonguex51',\n",
        " 'tonguex52',\n",
        " 'tonguex53',\n",
        " 'tonguex54',\n",
        " 'tonguex55',\n",
        " 'tonguex56',\n",
        " 'tonguex57',\n",
        " 'tonguex58',\n",
        " 'tonguex59',\n",
        " 'tonguex60',\n",
        " 'tonguex61',\n",
        " 'tonguex62',\n",
        " 'tonguex63',\n",
        " 'tonguex64',\n",
        " 'tonguex65',\n",
        " 'tonguex66',\n",
        " 'tonguex67',\n",
        " 'tonguex68',\n",
        " 'tonguex69',\n",
        " 'tonguex70',\n",
        " 'tonguex71',\n",
        " 'tonguex72',\n",
        " 'tonguex73',\n",
        " 'tonguex74',\n",
        " 'tonguex75',\n",
        " 'tonguex76',\n",
        " 'tonguex77',\n",
        " 'tonguex78',\n",
        " 'tonguex79',\n",
        " 'tonguex80',\n",
        " 'tonguex81',\n",
        " 'tonguex82',\n",
        " 'tonguex83',\n",
        " 'tonguex84',\n",
        " 'tonguex85',\n",
        " 'tonguex86',\n",
        " 'tonguex87',\n",
        " 'tonguex88',\n",
        " 'tonguex89',\n",
        " 'tonguex90',\n",
        " 'tonguex91',\n",
        " 'tonguex92',\n",
        " 'tonguex93',\n",
        " 'tonguex94',\n",
        " 'tonguex95',\n",
        " 'tonguex96',\n",
        " 'tonguex97',\n",
        " 'tonguex98',\n",
        " 'tonguex99',\n",
        " 'tonguex100',\n",
        " 'tonguey1',\n",
        " 'tonguey2',\n",
        " 'tonguey3',\n",
        " 'tonguey4',\n",
        " 'tonguey5',\n",
        " 'tonguey6',\n",
        " 'tonguey7',\n",
        " 'tonguey8',\n",
        " 'tonguey9',\n",
        " 'tonguey10',\n",
        " 'tonguey11',\n",
        " 'tonguey12',\n",
        " 'tonguey13',\n",
        " 'tonguey14',\n",
        " 'tonguey15',\n",
        " 'tonguey16',\n",
        " 'tonguey17',\n",
        " 'tonguey18',\n",
        " 'tonguey19',\n",
        " 'tonguey20',\n",
        " 'tonguey21',\n",
        " 'tonguey22',\n",
        " 'tonguey23',\n",
        " 'tonguey24',\n",
        " 'tonguey25',\n",
        " 'tonguey26',\n",
        " 'tonguey27',\n",
        " 'tonguey28',\n",
        " 'tonguey29',\n",
        " 'tonguey30',\n",
        " 'tonguey31',\n",
        " 'tonguey32',\n",
        " 'tonguey33',\n",
        " 'tonguey34',\n",
        " 'tonguey35',\n",
        " 'tonguey36',\n",
        " 'tonguey37',\n",
        " 'tonguey38',\n",
        " 'tonguey39',\n",
        " 'tonguey40',\n",
        " 'tonguey41',\n",
        " 'tonguey42',\n",
        " 'tonguey43',\n",
        " 'tonguey44',\n",
        " 'tonguey45',\n",
        " 'tonguey46',\n",
        " 'tonguey47',\n",
        " 'tonguey48',\n",
        " 'tonguey49',\n",
        " 'tonguey50',\n",
        " 'tonguey51',\n",
        " 'tonguey52',\n",
        " 'tonguey53',\n",
        " 'tonguey54',\n",
        " 'tonguey55',\n",
        " 'tonguey56',\n",
        " 'tonguey57',\n",
        " 'tonguey58',\n",
        " 'tonguey59',\n",
        " 'tonguey60',\n",
        " 'tonguey61',\n",
        " 'tonguey62',\n",
        " 'tonguey63',\n",
        " 'tonguey64',\n",
        " 'tonguey65',\n",
        " 'tonguey66',\n",
        " 'tonguey67',\n",
        " 'tonguey68',\n",
        " 'tonguey69',\n",
        " 'tonguey70',\n",
        " 'tonguey71',\n",
        " 'tonguey72',\n",
        " 'tonguey73',\n",
        " 'tonguey74',\n",
        " 'tonguey75',\n",
        " 'tonguey76',\n",
        " 'tonguey77',\n",
        " 'tonguey78',\n",
        " 'tonguey79',\n",
        " 'tonguey80',\n",
        " 'tonguey81',\n",
        " 'tonguey82',\n",
        " 'tonguey83',\n",
        " 'tonguey84',\n",
        " 'tonguey85',\n",
        " 'tonguey86',\n",
        " 'tonguey87',\n",
        " 'tonguey88',\n",
        " 'tonguey89',\n",
        " 'tonguey90',\n",
        " 'tonguey91',\n",
        " 'tonguey92',\n",
        " 'tonguey93',\n",
        " 'tonguey94',\n",
        " 'tonguey95',\n",
        " 'tonguey96',\n",
        " 'tonguey97',\n",
        " 'tonguey98',\n",
        " 'tonguey99',\n",
        " 'tonguey100',\n",
        " 'lipsx1',\n",
        " 'lipsx2',\n",
        " 'lipsy1',\n",
        " 'lipsy2',\n",
        " 'ellipseOpen1',\n",
        " 'ellipseWidth1',\n",
        " 'jawxy1',\n",
        " 'jawxy2',\n",
        " 'nosexy1',\n",
        " 'nosexy2']"
       ]
      }
     ],
     "prompt_number": 135
    },
    {
     "cell_type": "code",
     "collapsed": false,
     "input": [
      "head = open('/Users/david_conant/Dropbox/Vowels/EC41/kinfeats/EC41_B19.kin').readline()[2:-1].split()\n"
     ],
     "language": "python",
     "metadata": {},
     "outputs": [],
     "prompt_number": 126
    },
    {
     "cell_type": "code",
     "collapsed": false,
     "input": [
      "features = head.split()"
     ],
     "language": "python",
     "metadata": {},
     "outputs": [],
     "prompt_number": 124
    },
    {
     "cell_type": "code",
     "collapsed": false,
     "input": [
      "map(lambda x: 'tonguex' + str(x), range(1, 200))"
     ],
     "language": "python",
     "metadata": {},
     "outputs": [
      {
       "metadata": {},
       "output_type": "pyout",
       "prompt_number": 131,
       "text": [
        "['tonguex1',\n",
        " 'tonguex2',\n",
        " 'tonguex3',\n",
        " 'tonguex4',\n",
        " 'tonguex5',\n",
        " 'tonguex6',\n",
        " 'tonguex7',\n",
        " 'tonguex8',\n",
        " 'tonguex9',\n",
        " 'tonguex10',\n",
        " 'tonguex11',\n",
        " 'tonguex12',\n",
        " 'tonguex13',\n",
        " 'tonguex14',\n",
        " 'tonguex15',\n",
        " 'tonguex16',\n",
        " 'tonguex17',\n",
        " 'tonguex18',\n",
        " 'tonguex19',\n",
        " 'tonguex20',\n",
        " 'tonguex21',\n",
        " 'tonguex22',\n",
        " 'tonguex23',\n",
        " 'tonguex24',\n",
        " 'tonguex25',\n",
        " 'tonguex26',\n",
        " 'tonguex27',\n",
        " 'tonguex28',\n",
        " 'tonguex29',\n",
        " 'tonguex30',\n",
        " 'tonguex31',\n",
        " 'tonguex32',\n",
        " 'tonguex33',\n",
        " 'tonguex34',\n",
        " 'tonguex35',\n",
        " 'tonguex36',\n",
        " 'tonguex37',\n",
        " 'tonguex38',\n",
        " 'tonguex39',\n",
        " 'tonguex40',\n",
        " 'tonguex41',\n",
        " 'tonguex42',\n",
        " 'tonguex43',\n",
        " 'tonguex44',\n",
        " 'tonguex45',\n",
        " 'tonguex46',\n",
        " 'tonguex47',\n",
        " 'tonguex48',\n",
        " 'tonguex49',\n",
        " 'tonguex50',\n",
        " 'tonguex51',\n",
        " 'tonguex52',\n",
        " 'tonguex53',\n",
        " 'tonguex54',\n",
        " 'tonguex55',\n",
        " 'tonguex56',\n",
        " 'tonguex57',\n",
        " 'tonguex58',\n",
        " 'tonguex59',\n",
        " 'tonguex60',\n",
        " 'tonguex61',\n",
        " 'tonguex62',\n",
        " 'tonguex63',\n",
        " 'tonguex64',\n",
        " 'tonguex65',\n",
        " 'tonguex66',\n",
        " 'tonguex67',\n",
        " 'tonguex68',\n",
        " 'tonguex69',\n",
        " 'tonguex70',\n",
        " 'tonguex71',\n",
        " 'tonguex72',\n",
        " 'tonguex73',\n",
        " 'tonguex74',\n",
        " 'tonguex75',\n",
        " 'tonguex76',\n",
        " 'tonguex77',\n",
        " 'tonguex78',\n",
        " 'tonguex79',\n",
        " 'tonguex80',\n",
        " 'tonguex81',\n",
        " 'tonguex82',\n",
        " 'tonguex83',\n",
        " 'tonguex84',\n",
        " 'tonguex85',\n",
        " 'tonguex86',\n",
        " 'tonguex87',\n",
        " 'tonguex88',\n",
        " 'tonguex89',\n",
        " 'tonguex90',\n",
        " 'tonguex91',\n",
        " 'tonguex92',\n",
        " 'tonguex93',\n",
        " 'tonguex94',\n",
        " 'tonguex95',\n",
        " 'tonguex96',\n",
        " 'tonguex97',\n",
        " 'tonguex98',\n",
        " 'tonguex99',\n",
        " 'tonguex100',\n",
        " 'tonguex101',\n",
        " 'tonguex102',\n",
        " 'tonguex103',\n",
        " 'tonguex104',\n",
        " 'tonguex105',\n",
        " 'tonguex106',\n",
        " 'tonguex107',\n",
        " 'tonguex108',\n",
        " 'tonguex109',\n",
        " 'tonguex110',\n",
        " 'tonguex111',\n",
        " 'tonguex112',\n",
        " 'tonguex113',\n",
        " 'tonguex114',\n",
        " 'tonguex115',\n",
        " 'tonguex116',\n",
        " 'tonguex117',\n",
        " 'tonguex118',\n",
        " 'tonguex119',\n",
        " 'tonguex120',\n",
        " 'tonguex121',\n",
        " 'tonguex122',\n",
        " 'tonguex123',\n",
        " 'tonguex124',\n",
        " 'tonguex125',\n",
        " 'tonguex126',\n",
        " 'tonguex127',\n",
        " 'tonguex128',\n",
        " 'tonguex129',\n",
        " 'tonguex130',\n",
        " 'tonguex131',\n",
        " 'tonguex132',\n",
        " 'tonguex133',\n",
        " 'tonguex134',\n",
        " 'tonguex135',\n",
        " 'tonguex136',\n",
        " 'tonguex137',\n",
        " 'tonguex138',\n",
        " 'tonguex139',\n",
        " 'tonguex140',\n",
        " 'tonguex141',\n",
        " 'tonguex142',\n",
        " 'tonguex143',\n",
        " 'tonguex144',\n",
        " 'tonguex145',\n",
        " 'tonguex146',\n",
        " 'tonguex147',\n",
        " 'tonguex148',\n",
        " 'tonguex149',\n",
        " 'tonguex150',\n",
        " 'tonguex151',\n",
        " 'tonguex152',\n",
        " 'tonguex153',\n",
        " 'tonguex154',\n",
        " 'tonguex155',\n",
        " 'tonguex156',\n",
        " 'tonguex157',\n",
        " 'tonguex158',\n",
        " 'tonguex159',\n",
        " 'tonguex160',\n",
        " 'tonguex161',\n",
        " 'tonguex162',\n",
        " 'tonguex163',\n",
        " 'tonguex164',\n",
        " 'tonguex165',\n",
        " 'tonguex166',\n",
        " 'tonguex167',\n",
        " 'tonguex168',\n",
        " 'tonguex169',\n",
        " 'tonguex170',\n",
        " 'tonguex171',\n",
        " 'tonguex172',\n",
        " 'tonguex173',\n",
        " 'tonguex174',\n",
        " 'tonguex175',\n",
        " 'tonguex176',\n",
        " 'tonguex177',\n",
        " 'tonguex178',\n",
        " 'tonguex179',\n",
        " 'tonguex180',\n",
        " 'tonguex181',\n",
        " 'tonguex182',\n",
        " 'tonguex183',\n",
        " 'tonguex184',\n",
        " 'tonguex185',\n",
        " 'tonguex186',\n",
        " 'tonguex187',\n",
        " 'tonguex188',\n",
        " 'tonguex189',\n",
        " 'tonguex190',\n",
        " 'tonguex191',\n",
        " 'tonguex192',\n",
        " 'tonguex193',\n",
        " 'tonguex194',\n",
        " 'tonguex195',\n",
        " 'tonguex196',\n",
        " 'tonguex197',\n",
        " 'tonguex198',\n",
        " 'tonguex199']"
       ]
      }
     ],
     "prompt_number": 131
    },
    {
     "cell_type": "code",
     "collapsed": false,
     "input": [
      "path = glob.glob('/Users/david_conant/Dropbox/Vowels/EC'+str(subject)+'/EC'+str(subject)+'_B'+str(block) + '/Analog/*.ifc_out.txt')[0]\n",
      "save_path = '/'.join(path.split('/')[:-3]) + '/formfeats'\n",
      "ftxt = save_path + '/EC'+ str(subject)+ '_B'+ str(block) + '.form'\n",
      "feats = ['F0','F1','F2','F3','F4']\n",
      "\n",
      "\n",
      "F=[]\n",
      "with open(path) as tsv:\n",
      "    for column in zip(*[line for line in csv.reader(tsv, dialect=\"excel-tab\")]):\n",
      "        F.append(column)\n",
      "F = np.array(F).astype('float')\n",
      "np.savetxt(ftxt, F.transpose(), delimiter=\" \", header = ' '.join(feats))"
     ],
     "language": "python",
     "metadata": {},
     "outputs": [],
     "prompt_number": 73
    },
    {
     "cell_type": "code",
     "collapsed": false,
     "input": [
      "F.astype('float')"
     ],
     "language": "python",
     "metadata": {},
     "outputs": [
      {
       "metadata": {},
       "output_type": "pyout",
       "prompt_number": 72,
       "text": [
        "array([[    0. ,     0. ,     0. , ...,   121.9,   120.2,   119.6],\n",
        "       [    0. ,     0. ,     0. , ...,   441.7,   421.9,   429.4],\n",
        "       [    0. ,     0. ,     0. , ...,  2226. ,  2277.2,  2165.8],\n",
        "       [    0. ,     0. ,     0. , ...,  3154.5,  3173.7,  3173. ],\n",
        "       [    0. ,     0. ,     0. , ...,  4193.2,  4248.2,  4227.5]])"
       ]
      }
     ],
     "prompt_number": 72
    },
    {
     "cell_type": "code",
     "collapsed": false,
     "input": [
      "fullfeats[fsum:fsum+featlen[cnt+1]]"
     ],
     "language": "python",
     "metadata": {},
     "outputs": [
      {
       "metadata": {},
       "output_type": "pyout",
       "prompt_number": 34,
       "text": [
        "array([], \n",
        "      dtype='|S1')"
       ]
      }
     ],
     "prompt_number": 34
    },
    {
     "cell_type": "code",
     "collapsed": false,
     "input": [
      "'/Users/david_conant/Dropbox/Vowels/EC'+str(subject)+'/EC'+str(subject)+'_B'+str(block) + 'Analog/*.ifc_out.txt'"
     ],
     "language": "python",
     "metadata": {},
     "outputs": [
      {
       "metadata": {},
       "output_type": "pyout",
       "prompt_number": 64,
       "text": [
        "'/Users/david_conant/Dropbox/Vowels/EC41/EC41_B22Analog/*.ifc_out.txt'"
       ]
      }
     ],
     "prompt_number": 64
    },
    {
     "cell_type": "code",
     "collapsed": false,
     "input": [
      "' '.join(fullfeats)"
     ],
     "language": "python",
     "metadata": {},
     "outputs": [
      {
       "metadata": {},
       "output_type": "pyout",
       "prompt_number": 56,
       "text": [
        "'tonguex tonguex tonguex tonguex tonguex tonguex tonguex tonguex tonguex tonguex tonguex tonguex tonguex tonguex tonguex tonguex tonguex tonguex tonguex tonguex tonguex tonguex tonguex tonguex tonguex tonguex tonguex tonguex tonguex tonguex tonguex tonguex tonguex tonguex tonguex tonguex tonguex tonguex tonguex tonguex tonguex tonguex tonguex tonguex tonguex tonguex tonguex tonguex tonguex tonguex tonguex tonguex tonguex tonguex tonguex tonguex tonguex tonguex tonguex tonguex tonguex tonguex tonguex tonguex tonguex tonguex tonguex tonguex tonguex tonguex tonguex tonguex tonguex tonguex tonguex tonguex tonguex tonguex tonguex tonguex tonguex tonguex tonguex tonguex tonguex tonguex tonguex tonguex tonguex tonguex tonguex tonguex tonguex tonguex tonguex tonguex tonguex tonguex tonguex tonguex tonguey tonguey tonguey tonguey tonguey tonguey tonguey tonguey tonguey tonguey tonguey tonguey tonguey tonguey tonguey tonguey tonguey tonguey tonguey tonguey tonguey tonguey tonguey tonguey tonguey tonguey tonguey tonguey tonguey tonguey tonguey tonguey tonguey tonguey tonguey tonguey tonguey tonguey tonguey tonguey tonguey tonguey tonguey tonguey tonguey tonguey tonguey tonguey tonguey tonguey tonguey tonguey tonguey tonguey tonguey tonguey tonguey tonguey tonguey tonguey tonguey tonguey tonguey tonguey tonguey tonguey tonguey tonguey tonguey tonguey tonguey tonguey tonguey tonguey tonguey tonguey tonguey tonguey tonguey tonguey tonguey tonguey tonguey tonguey tonguey tonguey tonguey tonguey tonguey tonguey tonguey tonguey tonguey tonguey tonguey tonguey tonguey tonguey tonguey tonguey lipsx lipsx lipsy lipsy ellipseOpen ellipseWidth jawxy jawxy nosexy nosexy'"
       ]
      }
     ],
     "prompt_number": 56
    },
    {
     "cell_type": "code",
     "collapsed": false,
     "input": [
      "fullfeats.joi"
     ],
     "language": "python",
     "metadata": {},
     "outputs": []
    }
   ],
   "metadata": {}
  }
 ]
}