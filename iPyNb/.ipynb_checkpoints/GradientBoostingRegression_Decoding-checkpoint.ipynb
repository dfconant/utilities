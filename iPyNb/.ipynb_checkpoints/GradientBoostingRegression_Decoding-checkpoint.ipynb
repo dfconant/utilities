{
 "metadata": {
  "name": "",
  "signature": "sha256:1ebbd11647005fcf4021080b97a716faa3b8da3586be927d64efe8a2dea14d2f"
 },
 "nbformat": 3,
 "nbformat_minor": 0,
 "worksheets": [
  {
   "cells": [
    {
     "cell_type": "code",
     "collapsed": false,
     "input": [
      "#Intitialize\n",
      "%load_ext autoreload\n",
      "%autoreload 2\n",
      "%matplotlib inline\n",
      "import scipy as sp\n",
      "import numpy as np\n",
      "import pandas as pd\n",
      "import prettyplotlib as ppl\n",
      "from BDutils import ProgressBar\n",
      "import seaborn as sns\n",
      "from ECoGstats import makeD_multi, process_kin, smooth_formants, Ridge_MLR, Ds2Xy, procrustes_tongue\n",
      "from ecog_viz import LDA_proj_scatter, gestural_score, separability_timecourse,feature_correlations,vowel_svm,R2viz,plotkhat\n",
      "from __future__ import division\n",
      "from matplotlib.backends.backend_agg import (FigureCanvasAgg as FigureCanvas)\n",
      "from sklearn import ensemble\n",
      "from sklearn import datasets\n",
      "from sklearn.utils import shuffle\n",
      "from sklearn.metrics import mean_squared_error\n",
      "from sklearn.cross_validation import train_test_split"
     ],
     "language": "python",
     "metadata": {},
     "outputs": [
      {
       "output_type": "stream",
       "stream": "stdout",
       "text": [
        "The autoreload extension is already loaded. To reload it, use:\n",
        "  %reload_ext autoreload\n"
       ]
      }
     ],
     "prompt_number": 5
    },
    {
     "cell_type": "code",
     "collapsed": false,
     "input": [
      "subj = 'EC41'\n",
      "blocks = [19,20,22,27]\n",
      "pth = '/Users/david_conant/Dropbox/Vowels/'+subj + '/'\n",
      "tokens = ['AAA','AEE','AHH','EHH','ERR','IHH','UHH','IYY','UWW']\n",
      "kfeats = ['Tongue Frontness','Tongue Height','Lip Opening','Lip Width','Jaw X','Jaw Y']\n",
      "window = np.array([-1,2])\n",
      "[K,anat,stop_times,start_times] = makeD_multi(pth,blocks,tokens,dtype= 'kin',align_window = window)\n",
      "Ks = [K[d].copy() for d in tokens]\n",
      "#Ks,meanTng,Z,d = procrustes_tongue(Ks[:],scale=True,viz=False)\n",
      "notes = []\n",
      "for ind,n in enumerate(tokens):\n",
      "    notes.append([n]*Ks[ind].shape[2])\n",
      "notes = np.concatenate(notes,axis=0) \n",
      "\n",
      "stops = [stop_times[d] for d in tokens]\n",
      "starts = [start_times[d] for d in tokens]\n",
      "\n",
      "#Ks,meanTng,Z,d = procrustes_tongue(Ks[:],scale=True,viz=False)\n",
      "Kt = process_kin(Ks[:],stops,starts,window, norm_length=False,velocity = False,wrt_start=True,height_front=False)"
     ],
     "language": "python",
     "metadata": {},
     "outputs": [
      {
       "output_type": "stream",
       "stream": "stdout",
       "text": [
        "Processing block 19\n",
        "Processing block 20"
       ]
      },
      {
       "output_type": "stream",
       "stream": "stdout",
       "text": [
        "\n",
        "Processing block 22"
       ]
      },
      {
       "output_type": "stream",
       "stream": "stdout",
       "text": [
        "\n",
        "Processing block 27"
       ]
      },
      {
       "output_type": "stream",
       "stream": "stdout",
       "text": [
        "\n"
       ]
      }
     ],
     "prompt_number": 3
    },
    {
     "cell_type": "code",
     "collapsed": false,
     "input": [
      "CV = 'split'\n",
      "boot = 50\n",
      "ncomp = 40\n",
      "nTP = 200\n",
      "alphas = np.logspace(-2,8,20)\n",
      "\n",
      "window = np.array([-1, 2])\n",
      "[E,anat,stop_times,start_times] = makeD_multi(pth,blocks,tokens,align_window = window, dtype='HG')\n",
      "Es = [E[d] for d in tokens]\n",
      "elects = np.concatenate((np.where(anat=='preCG')[0],np.where(anat=='postCG')[0]))\n",
      "\n",
      "Kr2 = np.empty((Kt[0].shape[0],boot,nTP,len(alphas)))\n",
      "Kr2null = np.empty((Kt[0].shape[0],boot,nTP,len(alphas)))\n",
      "mse = np.empty((Kt[0].shape[0],nTP,boot))\n",
      "mse_null = np.empty((Kt[0].shape[0],nTP,boot))\n",
      "coefs = np.empty((Kt[0].shape[0],86,nTP,boot))\n",
      "coefs_null = np.empty((Kt[0].shape[0],86,nTP,boot))\n",
      "\n",
      "prog = ProgressBar(nTP)\n",
      "params = {'n_estimators': 500, 'max_depth': 4, 'min_samples_split': 1,\n",
      "          'learning_rate': 0.01, 'loss': 'ls'}\n",
      "for indt,t in enumerate(np.linspace(200,600,nTP)):\n",
      "    erange = np.arange(t,t+4)   #Try playing with window size\n",
      "\n",
      "    #Organize data into X and y\n",
      "    X,y,yrnd = Ds2Xy(Es,Kt,dt1='HG',dt2='kin',ncomp = ncomp,erange = erange.astype(int),elects = elects,frange=np.arange(105,115),krange=np.arange(37,42))\n",
      "    X_train, X_test, y_train, y_test = train_test_split(X, y, test_size=0.2)\n",
      "    #Ridge regression\n",
      "    for icv in range(boot):\n",
      "        for f in range(y_train.shape[1]):\n",
      "            clf = ensemble.GradientBoostingRegressor(**params)\n",
      "            clf.fit(X_train, y_train[:,f])\n",
      "            mse[f,indt,icv] = mean_squared_error(y_test[:,f], clf.predict(X_test))\n",
      "            #for i, y_pred in enumerate(clf.staged_predict(X_test)):\n",
      "            #    test_score[good_elects[f],i,ilag,0,icv] = clf.loss_(y_test[:,f], y_pred)\n",
      "            feature_importance = clf.feature_importances_\n",
      "            # make importances relative to max importance\n",
      "            coefs[f,:,indt,icv] = 100.0 * (feature_importance / feature_importance.max())\n",
      "\n",
      "        \n",
      "        \n",
      "        Kr2[:,:,indt,inda],yhat,score = Ridge_MLR(X, y, alpha = a, CV = CV, boot = boot)\n",
      "        Kr2null[:,:,indt,inda],yhat,score = Ridge_MLR(X, yrnd, alpha = a, CV = CV, boot = boot)\n",
      "    prog.animate(indt)\n",
      "R2viz(Kr2,Kr2null,kfeats,b=True)"
     ],
     "language": "python",
     "metadata": {},
     "outputs": [
      {
       "output_type": "stream",
       "stream": "stdout",
       "text": [
        "File found; Loading...\n",
        "Loaded"
       ]
      },
      {
       "output_type": "stream",
       "stream": "stdout",
       "text": [
        "\n"
       ]
      },
      {
       "ename": "IndexError",
       "evalue": "too many indices for array",
       "output_type": "pyerr",
       "traceback": [
        "\u001b[0;31m---------------------------------------------------------------------------\u001b[0m\n\u001b[0;31mIndexError\u001b[0m                                Traceback (most recent call last)",
        "\u001b[0;32m<ipython-input-15-d12a742f0cca>\u001b[0m in \u001b[0;36m<module>\u001b[0;34m()\u001b[0m\n\u001b[1;32m     36\u001b[0m             \u001b[0mfeature_importance\u001b[0m \u001b[0;34m=\u001b[0m \u001b[0mclf\u001b[0m\u001b[0;34m.\u001b[0m\u001b[0mfeature_importances_\u001b[0m\u001b[0;34m\u001b[0m\u001b[0m\n\u001b[1;32m     37\u001b[0m             \u001b[0;31m# make importances relative to max importance\u001b[0m\u001b[0;34m\u001b[0m\u001b[0;34m\u001b[0m\u001b[0m\n\u001b[0;32m---> 38\u001b[0;31m             \u001b[0mcoefs\u001b[0m\u001b[0;34m[\u001b[0m\u001b[0mf\u001b[0m\u001b[0;34m,\u001b[0m\u001b[0;34m:\u001b[0m\u001b[0;34m,\u001b[0m\u001b[0mindt\u001b[0m\u001b[0;34m,\u001b[0m\u001b[0;36m0\u001b[0m\u001b[0;34m,\u001b[0m\u001b[0micv\u001b[0m\u001b[0;34m]\u001b[0m \u001b[0;34m=\u001b[0m \u001b[0;36m100.0\u001b[0m \u001b[0;34m*\u001b[0m \u001b[0;34m(\u001b[0m\u001b[0mfeature_importance\u001b[0m \u001b[0;34m/\u001b[0m \u001b[0mfeature_importance\u001b[0m\u001b[0;34m.\u001b[0m\u001b[0mmax\u001b[0m\u001b[0;34m(\u001b[0m\u001b[0;34m)\u001b[0m\u001b[0;34m)\u001b[0m\u001b[0;34m\u001b[0m\u001b[0m\n\u001b[0m\u001b[1;32m     39\u001b[0m \u001b[0;34m\u001b[0m\u001b[0m\n\u001b[1;32m     40\u001b[0m \u001b[0;34m\u001b[0m\u001b[0m\n",
        "\u001b[0;31mIndexError\u001b[0m: too many indices for array"
       ]
      }
     ],
     "prompt_number": 15
    },
    {
     "cell_type": "code",
     "collapsed": false,
     "input": [
      "Kt[0].shape"
     ],
     "language": "python",
     "metadata": {},
     "outputs": [
      {
       "metadata": {},
       "output_type": "pyout",
       "prompt_number": 13,
       "text": [
        "(10, 90, 21)"
       ]
      }
     ],
     "prompt_number": 13
    },
    {
     "cell_type": "code",
     "collapsed": false,
     "input": [
      "feature_importance.shape"
     ],
     "language": "python",
     "metadata": {},
     "outputs": [
      {
       "metadata": {},
       "output_type": "pyout",
       "prompt_number": 17,
       "text": [
        "(86,)"
       ]
      }
     ],
     "prompt_number": 17
    },
    {
     "cell_type": "code",
     "collapsed": false,
     "input": [
      "coefs[f,:,indt,0,icv].shape"
     ],
     "language": "python",
     "metadata": {},
     "outputs": [
      {
       "ename": "IndexError",
       "evalue": "too many indices for array",
       "output_type": "pyerr",
       "traceback": [
        "\u001b[0;31m---------------------------------------------------------------------------\u001b[0m\n\u001b[0;31mIndexError\u001b[0m                                Traceback (most recent call last)",
        "\u001b[0;32m<ipython-input-18-bbdadd310aa8>\u001b[0m in \u001b[0;36m<module>\u001b[0;34m()\u001b[0m\n\u001b[0;32m----> 1\u001b[0;31m \u001b[0mcoefs\u001b[0m\u001b[0;34m[\u001b[0m\u001b[0mf\u001b[0m\u001b[0;34m,\u001b[0m\u001b[0;34m:\u001b[0m\u001b[0;34m,\u001b[0m\u001b[0mindt\u001b[0m\u001b[0;34m,\u001b[0m\u001b[0;36m0\u001b[0m\u001b[0;34m,\u001b[0m\u001b[0micv\u001b[0m\u001b[0;34m]\u001b[0m\u001b[0;34m.\u001b[0m\u001b[0mshape\u001b[0m\u001b[0;34m\u001b[0m\u001b[0m\n\u001b[0m",
        "\u001b[0;31mIndexError\u001b[0m: too many indices for array"
       ]
      }
     ],
     "prompt_number": 18
    },
    {
     "cell_type": "code",
     "collapsed": false,
     "input": [
      "coefs.shape"
     ],
     "language": "python",
     "metadata": {},
     "outputs": [
      {
       "metadata": {},
       "output_type": "pyout",
       "prompt_number": 19,
       "text": [
        "(10, 86, 200, 50)"
       ]
      }
     ],
     "prompt_number": 19
    },
    {
     "cell_type": "code",
     "collapsed": false,
     "input": [],
     "language": "python",
     "metadata": {},
     "outputs": []
    }
   ],
   "metadata": {}
  }
 ]
}