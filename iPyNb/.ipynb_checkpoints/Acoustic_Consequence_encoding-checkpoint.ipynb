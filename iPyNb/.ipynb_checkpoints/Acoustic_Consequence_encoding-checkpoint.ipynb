{
 "metadata": {
  "name": "",
  "signature": "sha256:0f0cef09142b269e2c4aed3c3b558d5a2ea2a159282a2c9aa9316a69fc6127b8"
 },
 "nbformat": 3,
 "nbformat_minor": 0,
 "worksheets": [
  {
   "cells": [
    {
     "cell_type": "code",
     "collapsed": false,
     "input": [
      "%load_ext autoreload\n",
      "%autoreload 2\n",
      "from ECoGstats import makeD_multi, smooth_formants, smooth_warp_formants, LARS_MLR,Ds2Xy,Ridge_MLR,process_kin, normalize_contour_length, shuffle_df,subtract_baseline,SemiPartialCorrelation\n",
      "import seaborn as sns\n",
      "import prettyplotlib as ppl\n",
      "from matplotlib.backends.backend_agg import (FigureCanvasAgg as FigureCanvas)\n",
      "from scipy.signal import savgol_filter\n",
      "import pandas as pd\n",
      "from BDutils import ProgressBar, resample_array, smart_toeplitz, smooth_derivative,seq_labels\n",
      "from ecog_viz import plotWeights, gestural_score,R2viz\n",
      "\n",
      "from sklearn.cross_validation import train_test_split\n",
      "from sklearn.decomposition import PCA\n",
      "from sklearn.lda import LDA\n",
      "from sklearn.linear_model import Lars\n",
      "import scipy as sp\n",
      "import itertools\n",
      "\n",
      "import scipy.stats as stats\n",
      "import matplotlib.gridspec as gridspec\n",
      "import numpy as np\n",
      "import matplotlib.pyplot as plt\n",
      "import VisEcog\n",
      "import imaging\n",
      "import os\n",
      "import matplotlib.image as mpimg\n",
      "import brewer2mpl\n",
      "import re"
     ],
     "language": "python",
     "metadata": {},
     "outputs": [
      {
       "output_type": "stream",
       "stream": "stdout",
       "text": [
        "The autoreload extension is already loaded. To reload it, use:\n",
        "  %reload_ext autoreload\n"
       ]
      }
     ],
     "prompt_number": 12
    },
    {
     "cell_type": "code",
     "collapsed": false,
     "input": [
      "pth = '/Users/david_conant/Dropbox/Vowels/EC41/'\n",
      "blocks = [19,20,22,27]\n",
      "tokens = ['AAA','IYY','UWW','AEE','AHH','EHH','ERR','IHH','UHH']\n",
      "#tokens = ['HAWED','HEED','WHOOD','HAD','HUD','HEAD','HEARD','HID','HOOD']\n",
      "kfeats = ['kFrontTongueX','kFMidTongueX','kMidTongueX','kBMidTongueX','kBackTongueX','kFrontTongueY','kFMidTongueY','kMidTongueY',\n",
      "          'kBMidTongueY','kBackTongueY','kLipOpening','kLipWidth','kJawX','kJawY']\n",
      "efeats = seq_labels('e',256)\n",
      "fs = 100\n",
      "#Load in Dmatrices\n",
      "\n",
      "#Electrodes\n",
      "window = np.array([-1,2])   #TODO: try wider window for more timepoints\n",
      "[E,anat,stop_times,start_times] = makeD_multi(pth,blocks,tokens,align_window = window, dtype='HG')\n",
      "Es = [E[d] for d in tokens]\n",
      "vSMC = np.concatenate((np.where(anat=='preCG')[0],np.where(anat=='postCG')[0]))\n",
      "vSMC_logic = np.zeros(256,dtype=bool)\n",
      "vSMC_logic[vSMC] = True\n",
      "Eall = np.concatenate(Es,axis=2)\n",
      "#Eall = subtract_baseline(Eall)\n",
      "Eall = resample_array(Eall,[Eall.shape[0],np.diff(window)[0]*fs,Eall.shape[2]])\n",
      "\n",
      "#Kinematics\n",
      "#window = np.array([0.25,0.75])\n",
      "[K,anat,stop_times,start_times] = makeD_multi(pth,blocks,tokens,dtype='kin',align_window = window)\n",
      "Ks = [K[d] for d in tokens]\n",
      "stops = [stop_times[d] for d in tokens]\n",
      "starts = [start_times[d] for d in tokens]\n",
      "Ks = process_kin(Ks,stops,starts,window,numTongue=10,wrt_start=True,norm_length=False)\n",
      "Kall = np.concatenate(Ks,axis=2)\n",
      "Kall = resample_array(Kall,[Kall.shape[0],np.diff(window)[0]*fs,Kall.shape[2]])\n"
     ],
     "language": "python",
     "metadata": {},
     "outputs": [
      {
       "output_type": "stream",
       "stream": "stdout",
       "text": [
        "File found; Loading...\n",
        "Loaded"
       ]
      },
      {
       "output_type": "stream",
       "stream": "stdout",
       "text": [
        "\n",
        "File found; Loading..."
       ]
      },
      {
       "output_type": "stream",
       "stream": "stdout",
       "text": [
        "\n",
        "Loaded\n"
       ]
      }
     ],
     "prompt_number": 10
    },
    {
     "cell_type": "markdown",
     "metadata": {},
     "source": [
      "###Decomposition of K into K<sup>hat</sup> and K<sup>tilde</sup>"
     ]
    },
    {
     "cell_type": "code",
     "collapsed": false,
     "input": [
      "#Kinematic Mapping/Decomposition\n",
      "elects = [21,25,35,37,43,53,55,58,59,67,72,73,86,90,102]\n",
      "pth = '/Users/david_conant/Dropbox/Vowels/EC41/'\n",
      "window = np.array([-1,2])\n",
      "\n",
      "[F,anat,stop_times,start_times] = makeD_multi(pth,blocks,tokens,align_window = window, dtype='form')\n",
      "Fs = [F[d] for d in tokens]\n",
      "Fs = smooth_formants(Fs,starts,stops,window)\n",
      "\n",
      "CV = 'LOO'\n",
      "boot = 1\n",
      "ncomp = 8\n",
      "nTP = 1\n",
      "alphas = np.logspace(-3,3,20)\n",
      "Kr2 = np.empty((Ks[0].shape[0],nTP,len(alphas)))\n",
      "Kr2null = np.empty((Ks[0].shape[0],nTP,len(alphas)))\n",
      "\n",
      "\n",
      "prog = ProgressBar(nTP)\n",
      "prog.animate(0)\n",
      "for indt,t in enumerate(np.linspace(0,396,nTP)):\n",
      "    erange = np.arange(t,t+4)   #Try playing with window size\n",
      "\n",
      "    #Organize data into X and y\n",
      "    X,y,yrnd = Ds2Xy(Fs,Ks,dt1='form',dt2='kin',ncomp = ncomp,erange = erange.astype(int),elects = elects,frange=np.arange(105,115),krange=np.arange(37,42))\n",
      "    if indt is 0:\n",
      "        Korig = np.empty((y.shape[0],y.shape[1],nTP,len(alphas)))\n",
      "        Khat = np.empty((y.shape[0],y.shape[1],nTP,len(alphas)))\n",
      "        Ktilde = np.empty((y.shape[0],y.shape[1],nTP,len(alphas)))\n",
      "    #Ridge regressionnan\n",
      "    for inda,a in enumerate(alphas):\n",
      "        Kr2[:,indt,inda],coefs,yhat,score = LARS_MLR(X, y, alpha = a, CV = CV, boot = boot)\n",
      "        Korig[:,:,indt,inda] = squeeze(y)\n",
      "        Khat[:,:,indt,inda] = squeeze(yhat)\n",
      "        Ktilde[:,:,indt,inda] = y - squeeze(yhat)\n",
      "        Kr2null[:,indt,inda],coefs,yhat,score = LARS_MLR(X, yrnd, alpha = a, CV = CV, boot = boot)\n",
      "    prog.animate(indt+1)\n",
      "R2viz(Kr2,Kr2null,kfeats,b=False)\n"
     ],
     "language": "python",
     "metadata": {},
     "outputs": [
      {
       "output_type": "stream",
       "stream": "stdout",
       "text": [
        "File found; Loading...\n",
        "Loaded\n",
        "\r"
       ]
      },
      {
       "output_type": "stream",
       "stream": "stdout",
       "text": [
        " [                       0%                       ]"
       ]
      },
      {
       "ename": "ValueError",
       "evalue": "too many values to unpack",
       "output_type": "pyerr",
       "traceback": [
        "\u001b[0;31m---------------------------------------------------------------------------\u001b[0m\n\u001b[0;31mValueError\u001b[0m                                Traceback (most recent call last)",
        "\u001b[0;32m<ipython-input-13-594538444748>\u001b[0m in \u001b[0;36m<module>\u001b[0;34m()\u001b[0m\n\u001b[1;32m     29\u001b[0m     \u001b[0;31m#Ridge regressionnan\u001b[0m\u001b[0;34m\u001b[0m\u001b[0;34m\u001b[0m\u001b[0m\n\u001b[1;32m     30\u001b[0m     \u001b[0;32mfor\u001b[0m \u001b[0minda\u001b[0m\u001b[0;34m,\u001b[0m\u001b[0ma\u001b[0m \u001b[0;32min\u001b[0m \u001b[0menumerate\u001b[0m\u001b[0;34m(\u001b[0m\u001b[0malphas\u001b[0m\u001b[0;34m)\u001b[0m\u001b[0;34m:\u001b[0m\u001b[0;34m\u001b[0m\u001b[0m\n\u001b[0;32m---> 31\u001b[0;31m         \u001b[0mKr2\u001b[0m\u001b[0;34m[\u001b[0m\u001b[0;34m:\u001b[0m\u001b[0;34m,\u001b[0m\u001b[0mindt\u001b[0m\u001b[0;34m,\u001b[0m\u001b[0minda\u001b[0m\u001b[0;34m]\u001b[0m\u001b[0;34m,\u001b[0m\u001b[0myhat\u001b[0m\u001b[0;34m,\u001b[0m\u001b[0mscore\u001b[0m \u001b[0;34m=\u001b[0m \u001b[0mLARS_MLR\u001b[0m\u001b[0;34m(\u001b[0m\u001b[0mX\u001b[0m\u001b[0;34m,\u001b[0m \u001b[0my\u001b[0m\u001b[0;34m,\u001b[0m \u001b[0malpha\u001b[0m \u001b[0;34m=\u001b[0m \u001b[0ma\u001b[0m\u001b[0;34m,\u001b[0m \u001b[0mCV\u001b[0m \u001b[0;34m=\u001b[0m \u001b[0mCV\u001b[0m\u001b[0;34m,\u001b[0m \u001b[0mboot\u001b[0m \u001b[0;34m=\u001b[0m \u001b[0mboot\u001b[0m\u001b[0;34m)\u001b[0m\u001b[0;34m\u001b[0m\u001b[0m\n\u001b[0m\u001b[1;32m     32\u001b[0m         \u001b[0mKorig\u001b[0m\u001b[0;34m[\u001b[0m\u001b[0;34m:\u001b[0m\u001b[0;34m,\u001b[0m\u001b[0;34m:\u001b[0m\u001b[0;34m,\u001b[0m\u001b[0mindt\u001b[0m\u001b[0;34m,\u001b[0m\u001b[0minda\u001b[0m\u001b[0;34m]\u001b[0m \u001b[0;34m=\u001b[0m \u001b[0msqueeze\u001b[0m\u001b[0;34m(\u001b[0m\u001b[0my\u001b[0m\u001b[0;34m)\u001b[0m\u001b[0;34m\u001b[0m\u001b[0m\n\u001b[1;32m     33\u001b[0m         \u001b[0mKhat\u001b[0m\u001b[0;34m[\u001b[0m\u001b[0;34m:\u001b[0m\u001b[0;34m,\u001b[0m\u001b[0;34m:\u001b[0m\u001b[0;34m,\u001b[0m\u001b[0mindt\u001b[0m\u001b[0;34m,\u001b[0m\u001b[0minda\u001b[0m\u001b[0;34m]\u001b[0m \u001b[0;34m=\u001b[0m \u001b[0msqueeze\u001b[0m\u001b[0;34m(\u001b[0m\u001b[0myhat\u001b[0m\u001b[0;34m)\u001b[0m\u001b[0;34m\u001b[0m\u001b[0m\n",
        "\u001b[0;31mValueError\u001b[0m: too many values to unpack"
       ]
      }
     ],
     "prompt_number": 13
    },
    {
     "cell_type": "code",
     "collapsed": false,
     "input": [
      "LARS_MLR(X, y, alpha = a, CV = CV, boot = boot)"
     ],
     "language": "python",
     "metadata": {},
     "outputs": [
      {
       "metadata": {},
       "output_type": "pyout",
       "prompt_number": 14,
       "text": [
        "(array([  0.00000000e+000,   4.94065646e-324,   9.88131292e-324,\n",
        "          1.48219694e-323,   1.97626258e-323,   2.47032823e-323,\n",
        "          2.96439388e-323,   3.45845952e-323,   3.95252517e-323,\n",
        "          4.44659081e-323,   4.94065646e-323,   5.43472210e-323,\n",
        "          5.92878775e-323,   6.42285340e-323]),\n",
        " array([[  1.43279037e-321,   1.43773103e-321,   1.44267169e-321,\n",
        "           1.44761234e-321,   1.45255300e-321,   1.45749366e-321],\n",
        "        [  1.46243431e-321,   1.46737497e-321,   1.47231562e-321,\n",
        "           1.47725628e-321,   1.48219694e-321,   1.48713759e-321],\n",
        "        [  1.49207825e-321,   1.49701891e-321,   1.50195956e-321,\n",
        "           1.50690022e-321,   1.51184088e-321,   1.51678153e-321],\n",
        "        [  1.52172219e-321,   1.52666285e-321,   1.53160350e-321,\n",
        "           1.53654416e-321,   1.54148482e-321,   1.54642547e-321],\n",
        "        [  1.55136613e-321,   1.55630678e-321,   1.56124744e-321,\n",
        "           1.56618810e-321,   1.57112875e-321,   1.57606941e-321],\n",
        "        [  1.58101007e-321,   1.58595072e-321,   1.59089138e-321,\n",
        "           1.59583204e-321,   1.60077269e-321,   1.60571335e-321],\n",
        "        [  1.61065401e-321,   1.61559466e-321,   1.62053532e-321,\n",
        "           1.62547597e-321,   1.63041663e-321,   1.63535729e-321],\n",
        "        [  1.64029794e-321,   1.64523860e-321,   1.65017926e-321,\n",
        "           1.65511991e-321,   1.66006057e-321,   1.66500123e-321],\n",
        "        [  1.66994188e-321,   1.67488254e-321,   1.67982320e-321,\n",
        "           1.68476385e-321,   1.68970451e-321,   1.69464517e-321],\n",
        "        [  1.69958582e-321,   1.70452648e-321,   2.42092166e-321,\n",
        "           2.42586232e-321,   2.43080298e-321,   2.43574363e-321],\n",
        "        [  2.44068429e-321,   2.44562495e-321,   2.45056560e-321,\n",
        "           2.45550626e-321,   2.46044692e-321,   2.46538757e-321],\n",
        "        [  2.47032823e-321,   2.47526889e-321,   2.48020954e-321,\n",
        "           2.48515020e-321,   2.49009086e-321,   2.49503151e-321],\n",
        "        [  2.49997217e-321,   2.50491282e-321,   2.50985348e-321,\n",
        "           2.51479414e-321,   2.51973479e-321,   2.52467545e-321],\n",
        "        [  2.52961611e-321,   2.53455676e-321,   2.53949742e-321,\n",
        "           2.54443808e-321,   2.54937873e-321,   2.55431939e-321]]),\n",
        " array([[[  0.00000000e+000],\n",
        "         [  0.00000000e+000],\n",
        "         [  2.23691226e-314],\n",
        "         ..., \n",
        "         [  2.26436442e-314],\n",
        "         [  2.23599945e-314],\n",
        "         [  2.14338508e-314]],\n",
        " \n",
        "        [[  2.23878585e-314],\n",
        "         [  2.22279624e-314],\n",
        "         [  2.22208216e-314],\n",
        "         ..., \n",
        "         [  2.15003278e-314],\n",
        "         [  2.14790806e-314],\n",
        "         [  2.26038605e-314]],\n",
        " \n",
        "        [[  2.14944533e-314],\n",
        "         [  2.14343464e-314],\n",
        "         [  2.14809727e-314],\n",
        "         ..., \n",
        "         [  2.14990753e-314],\n",
        "         [  2.26308417e-314],\n",
        "         [  2.12344709e-314]],\n",
        " \n",
        "        ..., \n",
        "        [[  2.15757959e-314],\n",
        "         [  2.24399654e-314],\n",
        "         [  2.14972714e-314],\n",
        "         ..., \n",
        "         [  2.25678122e-314],\n",
        "         [  2.27324828e-314],\n",
        "         [  2.20997575e-314]],\n",
        " \n",
        "        [[  2.14639276e-314],\n",
        "         [  2.14618530e-314],\n",
        "         [  2.14659654e-314],\n",
        "         ..., \n",
        "         [  2.14771379e-314],\n",
        "         [  2.26303342e-314],\n",
        "         [  2.27324695e-314]],\n",
        " \n",
        "        [[  2.12344768e-314],\n",
        "         [  2.14731743e-314],\n",
        "         [  2.15010219e-314],\n",
        "         ..., \n",
        "         [  2.21155875e-314],\n",
        "         [  2.14614793e-314],\n",
        "         [  2.27351542e-314]]]),\n",
        " array([[ 0.],\n",
        "        [ 0.],\n",
        "        [ 0.],\n",
        "        [ 0.],\n",
        "        [ 0.],\n",
        "        [ 0.],\n",
        "        [ 0.],\n",
        "        [ 0.],\n",
        "        [ 0.],\n",
        "        [ 0.],\n",
        "        [ 0.],\n",
        "        [ 0.],\n",
        "        [ 0.],\n",
        "        [ 0.]]))"
       ]
      }
     ],
     "prompt_number": 14
    },
    {
     "cell_type": "code",
     "collapsed": false,
     "input": [
      "Kr2[:,indt,inda].shape"
     ],
     "language": "python",
     "metadata": {},
     "outputs": [
      {
       "metadata": {},
       "output_type": "pyout",
       "prompt_number": 15,
       "text": [
        "(14,)"
       ]
      }
     ],
     "prompt_number": 15
    },
    {
     "cell_type": "code",
     "collapsed": false,
     "input": [
      "a,b,c,d = LARS_MLR(X, y, alpha = a, CV = CV, boot = boot)"
     ],
     "language": "python",
     "metadata": {},
     "outputs": [],
     "prompt_number": 16
    },
    {
     "cell_type": "code",
     "collapsed": false,
     "input": [
      "a.shape"
     ],
     "language": "python",
     "metadata": {},
     "outputs": [
      {
       "metadata": {},
       "output_type": "pyout",
       "prompt_number": 17,
       "text": [
        "(14,)"
       ]
      }
     ],
     "prompt_number": 17
    },
    {
     "cell_type": "code",
     "collapsed": false,
     "input": [
      "b.shape"
     ],
     "language": "python",
     "metadata": {},
     "outputs": [
      {
       "metadata": {},
       "output_type": "pyout",
       "prompt_number": 18,
       "text": [
        "(14, 6)"
       ]
      }
     ],
     "prompt_number": 18
    },
    {
     "cell_type": "code",
     "collapsed": false,
     "input": [],
     "language": "python",
     "metadata": {},
     "outputs": []
    }
   ],
   "metadata": {}
  }
 ]
}