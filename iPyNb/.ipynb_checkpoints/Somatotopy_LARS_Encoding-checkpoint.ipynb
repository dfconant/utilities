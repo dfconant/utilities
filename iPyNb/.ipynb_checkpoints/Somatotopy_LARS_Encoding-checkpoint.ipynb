{
 "metadata": {
  "name": "",
  "signature": "sha256:742a4442345ef48dd2f1a8168df40cb0b0907dbab10b51d06ca2c520d4ad9f23"
 },
 "nbformat": 3,
 "nbformat_minor": 0,
 "worksheets": [
  {
   "cells": [
    {
     "cell_type": "code",
     "collapsed": false,
     "input": [
      "%load_ext autoreload\n",
      "%autoreload 2\n",
      "from ECoGstats import makeD_multi, smooth_formants, smooth_warp_formants, process_kin, normalize_contour_length, shuffle_df,SemiPartialCorrelation\n",
      "import seaborn as sns\n",
      "import prettyplotlib as ppl\n",
      "from matplotlib.backends.backend_agg import (FigureCanvasAgg as FigureCanvas)\n",
      "from scipy.signal import savgol_filter\n",
      "import pandas as pd\n",
      "from BDutils import ProgressBar, resample_array, smart_toeplitz, smooth_derivative,seq_labels\n",
      "from ecog_viz import plotWeights, gestural_score,R2viz\n",
      "\n",
      "from sklearn.cross_validation import train_test_split\n",
      "from sklearn.decomposition import PCA\n",
      "from sklearn.lda import LDA\n",
      "from sklearn.linear_model import Lars\n",
      "import scipy as sp\n",
      "import itertools\n",
      "\n",
      "import scipy.stats as stats\n",
      "import matplotlib.gridspec as gridspec\n",
      "import numpy as np\n",
      "import matplotlib.pyplot as plt\n",
      "import VisEcog\n",
      "import imaging\n",
      "import os\n",
      "import matplotlib.image as mpimg\n",
      "import brewer2mpl\n",
      "import re"
     ],
     "language": "python",
     "metadata": {},
     "outputs": [
      {
       "output_type": "stream",
       "stream": "stdout",
       "text": [
        "The autoreload extension is already loaded. To reload it, use:\n",
        "  %reload_ext autoreload\n"
       ]
      }
     ],
     "prompt_number": 17
    },
    {
     "cell_type": "code",
     "collapsed": false,
     "input": [
      "pth = '/Users/david_conant/Dropbox/Vowels/EC41/'\n",
      "blocks = [19,20,22,27]\n",
      "tokens = ['AAA','IYY','UWW','AEE','AHH','EHH','ERR','IHH','UHH']\n",
      "#tokens = ['HAWED','HEED','WHOOD','HAD','HUD','HEAD','HEARD','HID','HOOD']\n",
      "kfeats = ['kFrontTongueX','kFMidTongueX','kMidTongueX','kBMidTongueX','kBackTongueX','kFrontTongueY','kFMidTongueY','kMidTongueY',\n",
      "          'kBMidTongueY','kBackTongueY','kLipOpening','kLipWidth','kJawX','kJawY']\n",
      "efeats = seq_labels('e',256)\n",
      "fs = 100\n",
      "#Load in Dmatrices\n",
      "\n",
      "#Electrodes\n",
      "window = np.array([-1,1])   #TODO: try wider window for more timepoints\n",
      "[E,anat,stop_times,start_times] = makeD_multi(pth,blocks,tokens,align_window = window, dtype='HG')\n",
      "Es = [E[d] for d in tokens]\n",
      "vSMC = np.concatenate((np.where(anat=='preCG')[0],np.where(anat=='postCG')[0]))\n",
      "vSMC_logic = np.zeros(256,dtype=bool)\n",
      "vSMC_logic[vSMC] = True\n",
      "Eall = np.concatenate(Es,axis=2)\n",
      "Eall = resample_array(Eall,[Eall.shape[0],np.diff(window)[0]*fs,Eall.shape[2]])\n",
      "\n",
      "#Kinematics\n",
      "#window = np.array([0.25,0.75])\n",
      "[K,anat,stop_times,start_times] = makeD_multi(pth,blocks,tokens,dtype='kin',align_window = window)\n",
      "Ks = [K[d] for d in tokens]\n",
      "stops = [stop_times[d] for d in tokens]\n",
      "starts = [start_times[d] for d in tokens]\n",
      "Ks = process_kin(Ks,stops,starts,window,numTongue=10,wrt_start=True,norm_length=False)\n",
      "Kall = np.concatenate(Ks,axis=2)\n",
      "Kall = resample_array(Kall,[Kall.shape[0],np.diff(window)[0]*fs,Kall.shape[2]])\n",
      "\n",
      "\n",
      "#gestural_score(Ks,kfeats,tokens)"
     ],
     "language": "python",
     "metadata": {},
     "outputs": [
      {
       "output_type": "stream",
       "stream": "stdout",
       "text": [
        "File found; Loading...\n",
        "Loaded"
       ]
      },
      {
       "output_type": "stream",
       "stream": "stdout",
       "text": [
        "\n",
        "File found; Loading..."
       ]
      },
      {
       "output_type": "stream",
       "stream": "stdout",
       "text": [
        "\n",
        "Loaded"
       ]
      },
      {
       "output_type": "stream",
       "stream": "stdout",
       "text": [
        "\n"
       ]
      }
     ],
     "prompt_number": 2
    },
    {
     "cell_type": "code",
     "collapsed": false,
     "input": [],
     "language": "python",
     "metadata": {},
     "outputs": []
    },
    {
     "cell_type": "code",
     "collapsed": false,
     "input": [
      "n_coefs = range(1,14)\n",
      "lags = np.linspace(-1,0.25,40)\n",
      "n_cv = 100\n",
      "R2 = np.empty((256,len(lags),len(n_coefs),n_cv))\n",
      "R2_null = np.empty((256,len(lags),len(n_coefs),n_cv))\n",
      "coefs = np.empty((256,Kall.shape[0],len(lags),len(n_coefs),n_cv))\n",
      "coefs_null = np.empty((256,Kall.shape[0],len(lags),len(n_coefs),n_cv))\n",
      "\n",
      "\n",
      "prog = ProgressBar(len(lags))\n",
      "groups = [range(10),range(10,12),range(12,14)]\n",
      "win_size=0.5\n",
      "win_start = .75\n",
      "\n",
      "for ilag, lag in enumerate(lags):\n",
      "    \n",
      "    #Lag by removing data\n",
      "    #t_unlagged = np.round(np.arange(win_start*fs,(win_start+win_size)*fs)).astype(int)\n",
      "    t_unlagged = np.arange(75,125)\n",
      "    t_lagged = np.arange(np.floor((win_start+lag)*fs),np.floor((win_start+win_size)*fs+lag*fs)).astype(int)\n",
      "    Klagged =Kall[:,t_unlagged,:]\n",
      "    Elagged = Eall[:,t_lagged,:]    #behavior-leading lag\n",
      "\n",
      "    #Reshape across trials\n",
      "    Kinematics = np.reshape(Klagged,(Klagged.shape[0],-1),order='F').transpose()\n",
      "    Kinematics = pd.DataFrame(Kinematics,columns = kfeats)\n",
      "    #Kinematics.fillna(Kinematics.median(),inplace=True)\n",
      "    #Kinematics = pd.Series(dict(enumerate(Eall.transpose())))\n",
      "\n",
      "    HG = np.reshape(Elagged,(Elagged.shape[0],-1),order='F').transpose()\n",
      "    HG = pd.DataFrame(HG,columns = efeats)\n",
      "    vsmcHG = HG.iloc[:,vSMC]\n",
      "    vsmcHG.fillna(vsmcHG.median(),inplace=True)\n",
      "    #vsmcHG.dropna(axis =1,how='any',inplace=True)\n",
      "    #hat,tilde = SemiPartialCorrelation(vsmcHG)\n",
      "    #vsmcHG = tilde\n",
      "    data = pd.concat([vsmcHG,Kinematics],axis=1)\n",
      "    data.dropna(axis=1,how='all',inplace=True)   #Drop bad features\n",
      "    data.dropna(axis=0,how='all',inplace=True)   #Drop bad observations\n",
      "    data.dropna(axis=0,how='any',inplace=True)   #Drop bad observations\n",
      "    data.dropna(axis=1,how='any',inplace=True)   #Drop bad features\n",
      "    good_efeats = data.filter(regex=r'^e\\S', axis=1).columns.values\n",
      "    good_kfeats = data.filter(regex=r'^k\\S', axis=1).columns.values\n",
      "    good_elects = [int(e[1:]) for e in good_efeats]\n",
      "    X = data[good_kfeats]\n",
      "    y = data[good_efeats]\n",
      "    y_null = y.loc[np.random.permutation(y.index.values),:]\n",
      "    #Unsupervised outlier removal\n",
      "    #clf = svm.OneClassSVM()\n",
      "    #X = data.loc[:,good_kfeats]\n",
      "    #clf.fit(X)\n",
      "    #outs = clf.predict(X)\n",
      "    #data = data.iloc[np.where(outs==1)[0],:]\n",
      "    \n",
      "    #Decorrelate kinematic features\n",
      "    #hat,tilde = SemiPartialCorrelation(data[Kinematics.columns],groups)\n",
      "    #data[Kinematics.columns] = tilde\n",
      "    \n",
      "    #Split into train and test\n",
      "    \n",
      "    \n",
      "    for icv in range(n_cv):\n",
      "        X_train,X_test,y_train,y_test = train_test_split(X, y, test_size=0.2)\n",
      "        \n",
      "        _,_,y_train_null,y_test_null = train_test_split(X, y_null, test_size=0.2)\n",
      "        \n",
      "        for inc,nc in enumerate(n_coefs):\n",
      "            lars = Lars(n_nonzero_coefs = nc)\n",
      "            lars.fit(X_train,y_train)\n",
      "            coefs[good_elects,:,ilag,inc,icv] = lars.coef_\n",
      "            y_hat = lars.predict(X_test)\n",
      "            R2[good_elects,ilag,inc,icv] = [stats.pearsonr(y_test.iloc[:,c],y_hat[:,c])[0] for c in range(y.shape[1])]\n",
      "            \n",
      "            lars_null = Lars(n_nonzero_coefs = nc)\n",
      "            lars_null.fit(X_train,y_train_null)\n",
      "            coefs_null[good_elects,:,ilag,inc,icv] = lars_null.coef_\n",
      "            y_hat_null = lars_null.predict(X_test)\n",
      "            R2_null[good_elects,ilag,inc,icv] = [stats.pearsonr(y_test_null.iloc[:,c],y_hat_null[:,c])[0] for c in range(y.shape[1])]\n",
      "            \n",
      "    prog.animate(ilag+1)"
     ],
     "language": "python",
     "metadata": {},
     "outputs": [
      {
       "output_type": "stream",
       "stream": "stdout",
       "text": [
        "\r",
        " [                       0%                       ]"
       ]
      },
      {
       "output_type": "stream",
       "stream": "stdout",
       "text": [
        "\r",
        " [**                     5%                       ]  2 of 40 complete"
       ]
      },
      {
       "output_type": "stream",
       "stream": "stdout",
       "text": [
        "\r",
        " [****                   8%                       ]  3 of 40 complete"
       ]
      },
      {
       "output_type": "stream",
       "stream": "stdout",
       "text": [
        "\r",
        " [*****                 10%                       ]  4 of 40 complete"
       ]
      },
      {
       "output_type": "stream",
       "stream": "stdout",
       "text": [
        "\r",
        " [******                13%                       ]  5 of 40 complete"
       ]
      },
      {
       "output_type": "stream",
       "stream": "stdout",
       "text": [
        "\r",
        " [*******               15%                       ]  6 of 40 complete"
       ]
      },
      {
       "output_type": "stream",
       "stream": "stdout",
       "text": [
        "\r",
        " [*********             18%                       ]  7 of 40 complete"
       ]
      },
      {
       "output_type": "stream",
       "stream": "stdout",
       "text": [
        "\r",
        " [**********            20%                       ]  8 of 40 complete"
       ]
      },
      {
       "output_type": "stream",
       "stream": "stdout",
       "text": [
        "\r",
        " [***********           23%                       ]  9 of 40 complete"
       ]
      },
      {
       "output_type": "stream",
       "stream": "stdout",
       "text": [
        "\r",
        " [************          25%                       ]  10 of 40 complete"
       ]
      },
      {
       "output_type": "stream",
       "stream": "stdout",
       "text": [
        "\r",
        " [*************         28%                       ]  11 of 40 complete"
       ]
      },
      {
       "output_type": "stream",
       "stream": "stdout",
       "text": [
        "\r",
        " [**************        30%                       ]  12 of 40 complete"
       ]
      },
      {
       "output_type": "stream",
       "stream": "stdout",
       "text": [
        "\r",
        " [****************      33%                       ]  13 of 40 complete"
       ]
      },
      {
       "output_type": "stream",
       "stream": "stdout",
       "text": [
        "\r",
        " [*****************     35%                       ]  14 of 40 complete"
       ]
      },
      {
       "output_type": "stream",
       "stream": "stdout",
       "text": [
        "\r",
        " [******************    38%                       ]  15 of 40 complete"
       ]
      },
      {
       "output_type": "stream",
       "stream": "stdout",
       "text": [
        "\r",
        " [*******************   40%                       ]  16 of 40 complete"
       ]
      },
      {
       "output_type": "stream",
       "stream": "stdout",
       "text": [
        "\r",
        " [********************* 43%                       ]  17 of 40 complete"
       ]
      },
      {
       "output_type": "stream",
       "stream": "stdout",
       "text": [
        "\r",
        " [**********************45%                       ]  18 of 40 complete"
       ]
      },
      {
       "output_type": "stream",
       "stream": "stdout",
       "text": [
        "\r",
        " [**********************48%                       ]  19 of 40 complete"
       ]
      },
      {
       "output_type": "stream",
       "stream": "stdout",
       "text": [
        "\r",
        " [**********************50%                       ]  20 of 40 complete"
       ]
      },
      {
       "output_type": "stream",
       "stream": "stdout",
       "text": [
        "\r",
        " [**********************53%                       ]  21 of 40 complete"
       ]
      },
      {
       "output_type": "stream",
       "stream": "stdout",
       "text": [
        "\r",
        " [**********************55%*                      ]  22 of 40 complete"
       ]
      },
      {
       "output_type": "stream",
       "stream": "stdout",
       "text": [
        "\r",
        " [**********************57%**                     ]  23 of 40 complete"
       ]
      },
      {
       "output_type": "stream",
       "stream": "stdout",
       "text": [
        "\r",
        " [**********************60%****                   ]  24 of 40 complete"
       ]
      },
      {
       "output_type": "stream",
       "stream": "stdout",
       "text": [
        "\r",
        " [**********************63%*****                  ]  25 of 40 complete"
       ]
      },
      {
       "output_type": "stream",
       "stream": "stdout",
       "text": [
        "\r",
        " [**********************65%******                 ]  26 of 40 complete"
       ]
      },
      {
       "output_type": "stream",
       "stream": "stdout",
       "text": [
        "\r",
        " [**********************68%********               ]  27 of 40 complete"
       ]
      },
      {
       "output_type": "stream",
       "stream": "stdout",
       "text": [
        "\r",
        " [**********************70%*********              ]  28 of 40 complete"
       ]
      },
      {
       "output_type": "stream",
       "stream": "stdout",
       "text": [
        "\r",
        " [**********************73%**********             ]  29 of 40 complete"
       ]
      },
      {
       "output_type": "stream",
       "stream": "stdout",
       "text": [
        "\r",
        " [**********************75%***********            ]  30 of 40 complete"
       ]
      },
      {
       "output_type": "stream",
       "stream": "stdout",
       "text": [
        "\r",
        " [**********************78%************           ]  31 of 40 complete"
       ]
      },
      {
       "output_type": "stream",
       "stream": "stdout",
       "text": [
        "\r",
        " [**********************80%*************          ]  32 of 40 complete"
       ]
      },
      {
       "output_type": "stream",
       "stream": "stdout",
       "text": [
        "\r",
        " [**********************83%***************        ]  33 of 40 complete"
       ]
      },
      {
       "output_type": "stream",
       "stream": "stdout",
       "text": [
        "\r",
        " [**********************85%****************       ]  34 of 40 complete"
       ]
      },
      {
       "output_type": "stream",
       "stream": "stdout",
       "text": [
        "\r",
        " [**********************88%*****************      ]  35 of 40 complete"
       ]
      },
      {
       "output_type": "stream",
       "stream": "stdout",
       "text": [
        "\r",
        " [**********************90%******************     ]  36 of 40 complete"
       ]
      },
      {
       "output_type": "stream",
       "stream": "stdout",
       "text": [
        "\r",
        " [**********************93%********************   ]  37 of 40 complete"
       ]
      },
      {
       "output_type": "stream",
       "stream": "stdout",
       "text": [
        "\r",
        " [**********************95%*********************  ]  38 of 40 complete"
       ]
      },
      {
       "output_type": "stream",
       "stream": "stdout",
       "text": [
        "\r",
        " [**********************98%********************** ]  39 of 40 complete"
       ]
      },
      {
       "output_type": "stream",
       "stream": "stdout",
       "text": [
        "\r",
        " [*********************100%***********************]  40 of 40 complete"
       ]
      }
     ],
     "prompt_number": 127
    },
    {
     "cell_type": "code",
     "collapsed": false,
     "input": [
      "nc = 6\n",
      "group = range(14)\n",
      "fig = plt.subplots(figsize=(12,8))\n",
      "plt.subplot(2,2,1)\n",
      "plt.pcolor(np.nanmean(R2[vSMC,:,nc,:],axis=2))\n",
      "plt.colorbar()\n",
      "plt.subplot(2,2,3)\n",
      "plt.plot(lags,np.nanmean(np.nanmean(R2[group,:,nc,:],axis=2),axis=0))\n",
      "\n",
      "plt.subplot(2,2,2)\n",
      "plt.pcolor(np.nanmean(R2_null[vSMC,:,nc,:],axis=2))\n",
      "plt.colorbar()\n",
      "plt.subplot(2,2,4)\n",
      "plt.plot(lags,np.nanmean(np.nanmean(R2_null[group,:,nc,:],axis=2),axis=0))"
     ],
     "language": "python",
     "metadata": {},
     "outputs": [
      {
       "metadata": {},
       "output_type": "pyout",
       "prompt_number": 131,
       "text": [
        "[<matplotlib.lines.Line2D at 0x1292f0d50>]"
       ]
      },
      {
       "metadata": {},
       "output_type": "display_data",
       "png": "[encoded data removed]",
       "text": [
        "<matplotlib.figure.Figure at 0x15618af10>"
       ]
      }
     ],
     "prompt_number": 131
    },
    {
     "cell_type": "code",
     "collapsed": false,
     "input": [
      "plt.plot(np.nanmean(R2[:,10,:,0],axis=0))"
     ],
     "language": "python",
     "metadata": {},
     "outputs": [
      {
       "metadata": {},
       "output_type": "pyout",
       "prompt_number": 11,
       "text": [
        "[<matplotlib.lines.Line2D at 0x103af2910>]"
       ]
      },
      {
       "metadata": {},
       "output_type": "display_data",
       "png": "[encoded data removed]",
       "text": [
        "<matplotlib.figure.Figure at 0x1385c5690>"
       ]
      }
     ],
     "prompt_number": 11
    },
    {
     "cell_type": "code",
     "collapsed": false,
     "input": [
      "plt.plot(np.nanmean(np.nanmean(R2[:,:,8,:],axis=0),axis=1))"
     ],
     "language": "python",
     "metadata": {},
     "outputs": [
      {
       "metadata": {},
       "output_type": "pyout",
       "prompt_number": 119,
       "text": [
        "[<matplotlib.lines.Line2D at 0x1638d5550>]"
       ]
      },
      {
       "metadata": {},
       "output_type": "display_data",
       "png": "[encoded data removed]",
       "text": [
        "<matplotlib.figure.Figure at 0x16269f990>"
       ]
      }
     ],
     "prompt_number": 119
    },
    {
     "cell_type": "code",
     "collapsed": false,
     "input": [
      "activity = nanmean(R2[:,:,6,:],axis=2)\n",
      "\n",
      "blockpath = '/Users/david_conant/Dropbox/Vowels/EC41/EC41_B20'\n",
      "patient_dir = '/Users/david_conant/Dropbox/Vowels/EC41'\n",
      "subject = 'EC41'\n",
      "#vis brain\n",
      "anatomy = imaging.load_anatomy(patient_dir)\n",
      "\n",
      "regdata_load = sp.io.loadmat(os.path.expanduser(patient_dir + '/'+ subject + '_elec_pos2D.mat'))\n",
      "electrode_positions = regdata_load['xy']\n",
      "brain_img = 1-mpimg.imread(os.path.expanduser(patient_dir + '/'+ subject + '_brain2D.png'))\n",
      "vb = VisEcog.VisBrain(brain_img,electrode_positions,anatomy)\n",
      "fig,ax,anim = vb.animateAct(activity.transpose(),t_window=(-1.,0.25))\n"
     ],
     "language": "python",
     "metadata": {},
     "outputs": [],
     "prompt_number": 42
    },
    {
     "cell_type": "code",
     "collapsed": false,
     "input": [
      "%matplotlib osx"
     ],
     "language": "python",
     "metadata": {},
     "outputs": [],
     "prompt_number": 121
    },
    {
     "cell_type": "code",
     "collapsed": false,
     "input": [
      "%matplotlib inline"
     ],
     "language": "python",
     "metadata": {},
     "outputs": [],
     "prompt_number": 129
    },
    {
     "cell_type": "code",
     "collapsed": false,
     "input": [
      "vSMC"
     ],
     "language": "python",
     "metadata": {},
     "outputs": [
      {
       "metadata": {},
       "output_type": "pyout",
       "prompt_number": 72,
       "text": [
        "array([  8,   9,  21,  22,  23,  24,  25,  26,  27,  35,  36,  37,  38,\n",
        "        39,  40,  41,  42,  43,  44,  51,  52,  53,  54,  55,  56,  57,\n",
        "        58,  59,  60,  61,  67,  68,  69,  70,  71,  72,  73,  74,  75,\n",
        "        76,  77,  78,  79,  84,  85,  93,  94,  95,  87,  88,  89,  90,\n",
        "        91,  92, 100, 101, 102, 103, 104, 105, 106, 107, 108, 109, 110,\n",
        "       111, 117, 118, 119, 120, 121, 122, 123, 124, 125, 126, 127, 134,\n",
        "       135, 136, 137, 143, 150, 151, 152, 167])"
       ]
      }
     ],
     "prompt_number": 72
    },
    {
     "cell_type": "code",
     "collapsed": false,
     "input": [
      "plt.pcolor(np.nanmean(coefs[:,:,35,6,:],axis=2))|"
     ],
     "language": "python",
     "metadata": {},
     "outputs": [
      {
       "metadata": {},
       "output_type": "pyout",
       "prompt_number": 64,
       "text": [
        "<matplotlib.collections.PolyCollection at 0x1503f06d0>"
       ]
      },
      {
       "metadata": {},
       "output_type": "display_data",
       "png": "[encoded data removed]",
       "text": [
        "<matplotlib.figure.Figure at 0x15038e0d0>"
       ]
      }
     ],
     "prompt_number": 64
    },
    {
     "cell_type": "code",
     "collapsed": false,
     "input": [
      "plt.pcolor(np.nanmean(coefs[136,:,:,8,:],axis=2))\n",
      "plt.colorbar()"
     ],
     "language": "python",
     "metadata": {},
     "outputs": [
      {
       "metadata": {},
       "output_type": "pyout",
       "prompt_number": 132,
       "text": [
        "<matplotlib.colorbar.Colorbar instance at 0x12a115dd0>"
       ]
      },
      {
       "metadata": {},
       "output_type": "display_data",
       "png": "[encoded data removed]",
       "text": [
        "<matplotlib.figure.Figure at 0x148ec6490>"
       ]
      }
     ],
     "prompt_number": 132
    },
    {
     "cell_type": "code",
     "collapsed": false,
     "input": [
      "np.nanmean(np.nanmean(abs(coefs[:,10:12,:,8,:]),axis=1),axis=2).shape"
     ],
     "language": "python",
     "metadata": {},
     "outputs": [
      {
       "metadata": {},
       "output_type": "pyout",
       "prompt_number": 126,
       "text": [
        "(256, 40)"
       ]
      }
     ],
     "prompt_number": 126
    },
    {
     "cell_type": "code",
     "collapsed": false,
     "input": [
      "lips = np.nanmean(np.nanmean(abs(coefs[:,10:12,:,8,:]),axis=0),axis=2)\n",
      "tonguey = np.nanmean(np.square(Rp[5:10,:,tp]),axis=0)\n",
      "tonguex = np.nanmean(np.square(Rp[0:5,:,tp]),axis=0)\n",
      "tongueF = np.nanmean(np.square(Rp[[0,1,5,6],:,tp]),axis=0)\n",
      "tongueB = np.nanmean(np.square(Rp[[3,4,8,9],:,tp]),axis=0)\n",
      "jaw = np.nanmean(np.square(Rp[12:,:,tp]),axis=0)"
     ],
     "language": "python",
     "metadata": {},
     "outputs": []
    },
    {
     "cell_type": "code",
     "collapsed": false,
     "input": [
      "%matplotlib osx\n",
      "activity = np.nanmean(abs(coefs[:,4,:,8,:]),axis=2)\n",
      "\n",
      "blockpath = '/Users/david_conant/Dropbox/Vowels/EC41/EC41_B20'\n",
      "patient_dir = '/Users/david_conant/Dropbox/Vowels/EC41'\n",
      "subject = 'EC41'\n",
      "#vis brain\n",
      "anatomy = imaging.load_anatomy(patient_dir)\n",
      "\n",
      "regdata_load = sp.io.loadmat(os.path.expanduser(patient_dir + '/'+ subject + '_elec_pos2D.mat'))\n",
      "electrode_positions = regdata_load['xy']\n",
      "brain_img = 1-mpimg.imread(os.path.expanduser(patient_dir + '/'+ subject + '_brain2D.png'))\n",
      "vb = VisEcog.VisBrain(brain_img,electrode_positions,anatomy)\n",
      "fig,ax,anim = vb.animateAct(activity.transpose(),t_window=(-1.,0.25))\n"
     ],
     "language": "python",
     "metadata": {},
     "outputs": [],
     "prompt_number": 135
    },
    {
     "cell_type": "code",
     "collapsed": false,
     "input": [
      "plt.hist(coefs[abs(coefs)>0.1].flatten(),bins = 100)"
     ],
     "language": "python",
     "metadata": {},
     "outputs": [
      {
       "metadata": {},
       "output_type": "pyout",
       "prompt_number": 91,
       "text": [
        "(array([  1.00000000e+00,   1.00000000e+00,   0.00000000e+00,\n",
        "          0.00000000e+00,   1.00000000e+00,   0.00000000e+00,\n",
        "          0.00000000e+00,   1.00000000e+00,   2.00000000e+00,\n",
        "          0.00000000e+00,   0.00000000e+00,   0.00000000e+00,\n",
        "          0.00000000e+00,   0.00000000e+00,   0.00000000e+00,\n",
        "          0.00000000e+00,   2.00000000e+00,   1.00000000e+00,\n",
        "          2.00000000e+00,   1.00000000e+00,   2.00000000e+00,\n",
        "          1.00000000e+00,   1.00000000e+00,   2.00000000e+00,\n",
        "          1.00000000e+00,   5.00000000e+00,   1.00000000e+00,\n",
        "          1.00000000e+00,   0.00000000e+00,   2.00000000e+00,\n",
        "          1.00000000e+00,   3.00000000e+00,   1.00000000e+00,\n",
        "          2.00000000e+00,   2.00000000e+00,   1.00000000e+00,\n",
        "          8.00000000e+00,   8.00000000e+00,   1.70000000e+01,\n",
        "          1.90000000e+01,   1.80000000e+01,   2.90000000e+01,\n",
        "          4.40000000e+01,   4.20000000e+01,   6.60000000e+01,\n",
        "          8.70000000e+01,   1.41000000e+02,   2.05000000e+02,\n",
        "          3.71000000e+02,   6.21000000e+02,   1.01400000e+03,\n",
        "          2.07300000e+03,   5.59700000e+03,   3.31460000e+04,\n",
        "          1.07321000e+05,   2.26170000e+04,   5.14500000e+03,\n",
        "          1.99900000e+03,   9.66000000e+02,   5.58000000e+02,\n",
        "          3.06000000e+02,   1.87000000e+02,   1.29000000e+02,\n",
        "          9.30000000e+01,   6.40000000e+01,   4.30000000e+01,\n",
        "          1.70000000e+01,   1.90000000e+01,   1.30000000e+01,\n",
        "          2.00000000e+01,   1.60000000e+01,   1.00000000e+01,\n",
        "          4.00000000e+00,   6.00000000e+00,   7.00000000e+00,\n",
        "          2.00000000e+00,   2.00000000e+00,   4.00000000e+00,\n",
        "          7.00000000e+00,   2.00000000e+00,   1.00000000e+00,\n",
        "          1.00000000e+00,   0.00000000e+00,   1.00000000e+00,\n",
        "          1.00000000e+00,   0.00000000e+00,   0.00000000e+00,\n",
        "          0.00000000e+00,   0.00000000e+00,   1.00000000e+00,\n",
        "          0.00000000e+00,   0.00000000e+00,   0.00000000e+00,\n",
        "          1.00000000e+00,   0.00000000e+00,   0.00000000e+00,\n",
        "          0.00000000e+00,   0.00000000e+00,   0.00000000e+00,\n",
        "          1.00000000e+00]),\n",
        " array([-30.3083165 , -29.75141052, -29.19450453, -28.63759855,\n",
        "        -28.08069257, -27.52378659, -26.96688061, -26.40997462,\n",
        "        -25.85306864, -25.29616266, -24.73925668, -24.1823507 ,\n",
        "        -23.62544471, -23.06853873, -22.51163275, -21.95472677,\n",
        "        -21.39782079, -20.8409148 , -20.28400882, -19.72710284,\n",
        "        -19.17019686, -18.61329088, -18.05638489, -17.49947891,\n",
        "        -16.94257293, -16.38566695, -15.82876097, -15.27185499,\n",
        "        -14.714949  , -14.15804302, -13.60113704, -13.04423106,\n",
        "        -12.48732508, -11.93041909, -11.37351311, -10.81660713,\n",
        "        -10.25970115,  -9.70279517,  -9.14588918,  -8.5889832 ,\n",
        "         -8.03207722,  -7.47517124,  -6.91826526,  -6.36135927,\n",
        "         -5.80445329,  -5.24754731,  -4.69064133,  -4.13373535,\n",
        "         -3.57682936,  -3.01992338,  -2.4630174 ,  -1.90611142,\n",
        "         -1.34920544,  -0.79229946,  -0.23539347,   0.32151251,\n",
        "          0.87841849,   1.43532447,   1.99223045,   2.54913644,\n",
        "          3.10604242,   3.6629484 ,   4.21985438,   4.77676036,\n",
        "          5.33366635,   5.89057233,   6.44747831,   7.00438429,\n",
        "          7.56129027,   8.11819626,   8.67510224,   9.23200822,\n",
        "          9.7889142 ,  10.34582018,  10.90272617,  11.45963215,\n",
        "         12.01653813,  12.57344411,  13.13035009,  13.68725607,\n",
        "         14.24416206,  14.80106804,  15.35797402,  15.91488   ,\n",
        "         16.47178598,  17.02869197,  17.58559795,  18.14250393,\n",
        "         18.69940991,  19.25631589,  19.81322188,  20.37012786,\n",
        "         20.92703384,  21.48393982,  22.0408458 ,  22.59775179,\n",
        "         23.15465777,  23.71156375,  24.26846973,  24.82537571,  25.3822817 ]),\n",
        " <a list of 100 Patch objects>)"
       ]
      },
      {
       "metadata": {},
       "output_type": "display_data",
       "png": "[encoded data removed]",
       "text": [
        "<matplotlib.figure.Figure at 0x155cca690>"
       ]
      }
     ],
     "prompt_number": 91
    },
    {
     "cell_type": "code",
     "collapsed": false,
     "input": [],
     "language": "python",
     "metadata": {},
     "outputs": []
    }
   ],
   "metadata": {}
  }
 ]
}