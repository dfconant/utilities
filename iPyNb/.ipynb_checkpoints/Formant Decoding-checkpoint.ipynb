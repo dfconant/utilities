{
 "metadata": {
  "name": "",
  "signature": "sha256:6bbc90c75f8a74e58883e9843de539f6b53f82abb6ab9aa7fd7a79e44af02453"
 },
 "nbformat": 3,
 "nbformat_minor": 0,
 "worksheets": [
  {
   "cells": [
    {
     "cell_type": "code",
     "collapsed": false,
     "input": [
      "#Continous linear decode"
     ],
     "language": "python",
     "metadata": {},
     "outputs": [],
     "prompt_number": 166
    },
    {
     "cell_type": "code",
     "collapsed": false,
     "input": [
      "#Intitialize\n",
      "%load_ext autoreload\n",
      "%autoreload 2\n",
      "%matplotlib inline\n",
      "import scipy as sp\n",
      "import numpy as np\n",
      "import sklearn as skl\n",
      "from sklearn.pipeline import make_pipeline\n",
      "from sklearn.cross_validation import cross_val_score\n",
      "from sklearn.preprocessing import StandardScaler\n",
      "from sklearn import datasets\n",
      "from sklearn.linear_model import LinearRegression\n",
      "from sklearn.linear_model import Ridge\n",
      "from sklearn.cross_validation import train_test_split, LeaveOneOut\n",
      "import seaborn as sns\n",
      "from ECoGstats import makeD_multi, smooth_formants\n",
      "from sklearn.decomposition import PCA\n",
      "import pandas as pd\n",
      "import prettyplotlib as ppl\n",
      "import pdb\n",
      "from BDutils import ProgressBar\n",
      "from scipy.signal import savgol_filter"
     ],
     "language": "python",
     "metadata": {},
     "outputs": [
      {
       "output_type": "stream",
       "stream": "stdout",
       "text": [
        "The autoreload extension is already loaded. To reload it, use:\n",
        "  %reload_ext autoreload\n"
       ]
      }
     ],
     "prompt_number": 144
    },
    {
     "cell_type": "markdown",
     "metadata": {},
     "source": [
      "To Try:\n",
      "    \n",
      "    -Modify Y\n",
      "        -Derivative\n",
      "        -Position at first onset  ->R2 up by ~5-10%\n",
      "        -Dim reduction?\n",
      "    \n",
      "    -Other regularize\n",
      "        -Larger penalty window\n",
      "        -boats\n",
      "        -lasso\n",
      "        \n",
      "    -Other dim reduction\n",
      "        -independent PCs\n",
      "        -PCA over all timepoints\n",
      "        \n",
      "    -Different timing\n",
      "        -Overlapping windows\n",
      "        -Larger windows\n",
      "        -Later windows\n",
      "        \n",
      "    -Look at F2/F1 vs PC1"
     ]
    },
    {
     "cell_type": "code",
     "collapsed": false,
     "input": [
      "pth = '/Users/david_conant/Documents/EC41/'\n",
      "blocks = [19,20,22,27]\n",
      "tokens = ['AAA','IYY','UWW']\n",
      "window = np.array([-1, 1])\n",
      "[E,anat,stop_times,start_times] = makeD_multi(pth,blocks,tokens,align_window = window, dtype='HG')\n",
      "Es = [E[d] for d in tokens]\n",
      "\n",
      "window = np.array([-1, 1])\n",
      "[F,anat,stop_times,start_times] = makeD_multi(pth,blocks,tokens,align_window = window, dtype='form')\n",
      "Fs = [F[d] for d in tokens]\n",
      "stops = [stop_times[d] for d in tokens]\n",
      "starts = [start_times[d] for d in tokens]\n",
      "Fs = smooth_formants(Fs,starts,stops,window)"
     ],
     "language": "python",
     "metadata": {},
     "outputs": [
      {
       "output_type": "stream",
       "stream": "stdout",
       "text": [
        "File found; Loading...\n",
        "Loaded"
       ]
      },
      {
       "output_type": "stream",
       "stream": "stdout",
       "text": [
        "\n",
        "File found; Loading...\n",
        "Loaded\n"
       ]
      }
     ],
     "prompt_number": 2
    },
    {
     "cell_type": "code",
     "collapsed": false,
     "input": [
      "## continuous decode w/ ridge\n",
      "\n",
      "#Trial labels\n",
      "notes = []\n",
      "for ind,n in enumerate(tokens):\n",
      "    notes.append([n]*Fs[ind].shape[2])\n",
      "notes = np.concatenate(notes,axis=1)\n",
      "#Feature labels\n",
      "forms = ['F0','F1','F2','F3','F4']\n",
      "chans = np.arange(1,256)\n",
      "#Anatomy\n",
      "vSMC = np.concatenate((np.where(anat=='preCG')[0],np.where(anat=='postCG')[0]))\n",
      "\n",
      "#formants concatenated across all trials\n",
      "Fall = np.concatenate(Fs,axis=2)\n",
      "Fshaped = Fall.reshape((5,-1),order = 'F')  #TODO: try playing with timepoints included in PCA\n",
      "f = pd.DataFrame(Fshaped.transpose(),columns = forms)\n",
      "f = f.fillna(f.median(),inplace=True)\n",
      "f = f.dropna(axis =1,how='any')\n",
      "F2_1 = pd.Series(f['F2']/f['F1'],name = 'F2/F1')\n",
      "y = pd.concat((f,F2_1),axis=1)\n",
      "y.fillna(0,inplace=True)\n",
      "\n",
      "\n",
      "\n",
      "#Rolling average of vSMC HG   \n",
      "Eall = np.concatenate(Es,axis=2)\n",
      "vSMC = np.concatenate((np.where(anat=='preCG')[0],np.where(anat=='postCG')[0]))\n",
      "Eall = Eall[vSMC,:,:]\n",
      "Eshaped = Eall.reshape((vSMC.shape[0],-1),order = 'F')  #TODO: try playing with timepoints included in PCA\n",
      "e = pd.DataFrame(Eshaped.transpose())\n",
      "e = e.fillna(e.median(),inplace=True)\n",
      "e = e.dropna(axis =1,how='any')\n",
      "\n",
      "\n",
      "\n",
      "boot = 10\n",
      "alphas = np.logspace(2,4,10)\n",
      "r2 = np.empty((boot,len(Ebins),y.shape[1],len(alphas)))\n",
      "R2 = np.empty((len(Ebins),y.shape[1],len(alphas)))\n",
      "R2ste = np.empty((len(Ebins),y.shape[1],len(alphas)))\n",
      "prog = ProgressBar(len(centers))\n",
      "for ind,cent in enumerate(centers.astype(int)):\n",
      "\n",
      "    X = np.nanmean(Eall[:,erange,:],axis = 1).transpose()\n",
      "    X = pd.DataFrame(X)\n",
      "    X = X.fillna(e.median(),inplace=True)\n",
      "    X = X.dropna(axis =1,how='any')\n",
      "    \n",
      "    for inda,a in enumerate(alphas):\n",
      "        for b in range(boot):\n",
      "\n",
      "            X_train, X_test, y_train, y_test = train_test_split(\n",
      "                X, y, test_size=0.2)\n",
      "\n",
      "            #Ridge Regression\n",
      "            for c,f in enumerate(y.columns.values):\n",
      "\n",
      "                clf = Ridge(alpha = a, fit_intercept = False, normalize = True)   \n",
      "                clf.fit(X_train,y_train.loc[:,f])\n",
      "\n",
      "                #B = clf.coef_\n",
      "\n",
      "\n",
      "                yhat = clf.predict(X_test)\n",
      "                r = sp.stats.pearsonr(yhat,y_test.loc[:,f])[0]\n",
      "                r2[b,ind,c,inda] = r**2\n",
      "                #r2[b,t,c] = clf.score(X_test,y_test.loc[:,f])  \n",
      "\n",
      "    \n",
      "        R2[ind,:,inda] = np.mean(r2[:,ind,:,inda],axis = 0)\n",
      "        R2ste[ind,:,inda] = np.std(r2[:,ind,:,inda],axis = 0)/boot\n",
      "    prog.animate(ind)\n",
      "    \n",
      "fig, axes = plt.subplots(figsize=(12,12))\n",
      "\n",
      "for cnt,f in enumerate(Fs):\n",
      "    ppl.scatter(y['F1'],y['F2'], alpha = 1, s=60)\n",
      "plt.xlabel('F1')\n",
      "plt.ylabel('F2')\n",
      "ppl.legend(tokens, bbox_to_anchor=(1, 1))"
     ],
     "language": "python",
     "metadata": {},
     "outputs": [
      {
       "ename": "NameError",
       "evalue": "name 'Ebins' is not defined",
       "output_type": "pyerr",
       "traceback": [
        "\u001b[0;31m---------------------------------------------------------------------------\u001b[0m\n\u001b[0;31mNameError\u001b[0m                                 Traceback (most recent call last)",
        "\u001b[0;32m<ipython-input-5-064d284a104f>\u001b[0m in \u001b[0;36m<module>\u001b[0;34m()\u001b[0m\n\u001b[1;32m     38\u001b[0m \u001b[0mboot\u001b[0m \u001b[0;34m=\u001b[0m \u001b[0;36m10\u001b[0m\u001b[0;34m\u001b[0m\u001b[0m\n\u001b[1;32m     39\u001b[0m \u001b[0malphas\u001b[0m \u001b[0;34m=\u001b[0m \u001b[0mnp\u001b[0m\u001b[0;34m.\u001b[0m\u001b[0mlogspace\u001b[0m\u001b[0;34m(\u001b[0m\u001b[0;36m2\u001b[0m\u001b[0;34m,\u001b[0m\u001b[0;36m4\u001b[0m\u001b[0;34m,\u001b[0m\u001b[0;36m10\u001b[0m\u001b[0;34m)\u001b[0m\u001b[0;34m\u001b[0m\u001b[0m\n\u001b[0;32m---> 40\u001b[0;31m \u001b[0mr2\u001b[0m \u001b[0;34m=\u001b[0m \u001b[0mnp\u001b[0m\u001b[0;34m.\u001b[0m\u001b[0mempty\u001b[0m\u001b[0;34m(\u001b[0m\u001b[0;34m(\u001b[0m\u001b[0mboot\u001b[0m\u001b[0;34m,\u001b[0m\u001b[0mlen\u001b[0m\u001b[0;34m(\u001b[0m\u001b[0mEbins\u001b[0m\u001b[0;34m)\u001b[0m\u001b[0;34m,\u001b[0m\u001b[0my\u001b[0m\u001b[0;34m.\u001b[0m\u001b[0mshape\u001b[0m\u001b[0;34m[\u001b[0m\u001b[0;36m1\u001b[0m\u001b[0;34m]\u001b[0m\u001b[0;34m,\u001b[0m\u001b[0mlen\u001b[0m\u001b[0;34m(\u001b[0m\u001b[0malphas\u001b[0m\u001b[0;34m)\u001b[0m\u001b[0;34m)\u001b[0m\u001b[0;34m)\u001b[0m\u001b[0;34m\u001b[0m\u001b[0m\n\u001b[0m\u001b[1;32m     41\u001b[0m \u001b[0mR2\u001b[0m \u001b[0;34m=\u001b[0m \u001b[0mnp\u001b[0m\u001b[0;34m.\u001b[0m\u001b[0mempty\u001b[0m\u001b[0;34m(\u001b[0m\u001b[0;34m(\u001b[0m\u001b[0mlen\u001b[0m\u001b[0;34m(\u001b[0m\u001b[0mEbins\u001b[0m\u001b[0;34m)\u001b[0m\u001b[0;34m,\u001b[0m\u001b[0my\u001b[0m\u001b[0;34m.\u001b[0m\u001b[0mshape\u001b[0m\u001b[0;34m[\u001b[0m\u001b[0;36m1\u001b[0m\u001b[0;34m]\u001b[0m\u001b[0;34m,\u001b[0m\u001b[0mlen\u001b[0m\u001b[0;34m(\u001b[0m\u001b[0malphas\u001b[0m\u001b[0;34m)\u001b[0m\u001b[0;34m)\u001b[0m\u001b[0;34m)\u001b[0m\u001b[0;34m\u001b[0m\u001b[0m\n\u001b[1;32m     42\u001b[0m \u001b[0mR2ste\u001b[0m \u001b[0;34m=\u001b[0m \u001b[0mnp\u001b[0m\u001b[0;34m.\u001b[0m\u001b[0mempty\u001b[0m\u001b[0;34m(\u001b[0m\u001b[0;34m(\u001b[0m\u001b[0mlen\u001b[0m\u001b[0;34m(\u001b[0m\u001b[0mEbins\u001b[0m\u001b[0;34m)\u001b[0m\u001b[0;34m,\u001b[0m\u001b[0my\u001b[0m\u001b[0;34m.\u001b[0m\u001b[0mshape\u001b[0m\u001b[0;34m[\u001b[0m\u001b[0;36m1\u001b[0m\u001b[0;34m]\u001b[0m\u001b[0;34m,\u001b[0m\u001b[0mlen\u001b[0m\u001b[0;34m(\u001b[0m\u001b[0malphas\u001b[0m\u001b[0;34m)\u001b[0m\u001b[0;34m)\u001b[0m\u001b[0;34m)\u001b[0m\u001b[0;34m\u001b[0m\u001b[0m\n",
        "\u001b[0;31mNameError\u001b[0m: name 'Ebins' is not defined"
       ]
      }
     ],
     "prompt_number": 5
    },
    {
     "cell_type": "code",
     "collapsed": false,
     "input": [
      "#def formant_ridge_decode_timecourse(Es,Fs,tokens,anat,alphas = np.tile(np.logspace(2,10,50),(6,1))):\n",
      "    #Trial labels\n",
      "    notes = []\n",
      "    for ind,n in enumerate(tokens):\n",
      "        notes.append([n]*Fs[ind].shape[2])\n",
      "    notes = np.concatenate(notes,axis=1)\n",
      "    #Feature labels\n",
      "    forms = ['F0','F1','F2','F3','F4']\n",
      "    chans = np.arange(1,256)\n",
      "    #Anatomy\n",
      "    vSMC = np.concatenate((np.where(anat=='preCG')[0],np.where(anat=='postCG')[0]))\n",
      "\n",
      "    #Formants = central 20% of each vowel utterance \n",
      "    mid = np.arange(105,115)\n",
      "    Fall = np.concatenate(Fs,axis=2)\n",
      "    dat = dict(zip(forms,np.nanmean(Fall[:,mid,:],axis = 1)))\n",
      "    #dat['label'] = notes\n",
      "    Fmid = pd.DataFrame.from_dict(dat)\n",
      "    Fmid = Fmid.fillna(Fmid.median(),inplace=True)\n",
      "    F2_1 = pd.Series(Fmid['F2']/Fmid['F1'],name = 'F2/F1')\n",
      "    y = pd.concat((Fmid,F2_1),axis=1)\n",
      "    #y.apply(np.log10,axis = 0)\n",
      "    y = (y - y.mean())/y.std(ddof=0)\n",
      "\n",
      "\n",
      "    #Rolling average of vSMC HG   \n",
      "    centers = np.round(np.linspace(150,600,num = 75))     #10 ms window. From -650 to 100\n",
      "    half_width = 4\n",
      "    Ebins = [None]*centers.shape[0]\n",
      "    Eall = np.concatenate(Es,axis=2)\n",
      "    Eall = Eall[vSMC,:,:]\n",
      "\n",
      "\n",
      "\n",
      "    boot = 10\n",
      "    r2 = np.empty((boot,len(Ebins),y.shape[1],alphas.shape[1]))\n",
      "    R2 = np.empty((len(Ebins),y.shape[1],alphas.shape[1]))\n",
      "    R2ste = np.empty((len(Ebins),y.shape[1],alphas.shape[1]))\n",
      "    prog = ProgressBar(len(centers))\n",
      "    for ind,cent in enumerate(centers.astype(int)):\n",
      "        erange = np.arange(cent-half_width,cent+half_width)\n",
      "        X = np.nanmean(Eall[:,erange,:],axis = 1).transpose()\n",
      "        X = pd.DataFrame(X)\n",
      "        X = X.fillna(e.median(),inplace=True)\n",
      "        X = X.dropna(axis =1,how='any')\n",
      "\n",
      "        for inda,alph in enumerate(alphas.transpose()):\n",
      "            for b in range(boot):\n",
      "\n",
      "                X_train, X_test, y_train, y_test = train_test_split(\n",
      "                    X, y, test_size=0.2)\n",
      "\n",
      "                #Ridge Regression\n",
      "                for c,f in enumerate(y.columns.values):\n",
      "                    clf = Ridge(alpha = alph[c], fit_intercept = False, normalize = True)   \n",
      "                    clf.fit(X_train,y_train.loc[:,f])\n",
      "\n",
      "                    #B = clf.coef_\n",
      "\n",
      "\n",
      "                    yhat = clf.predict(X_test)\n",
      "                    \n",
      "                    r = sp.stats.pearsonr(yhat,y_test.loc[:,f])[0]\n",
      "                    r2[b,ind,c,inda] = r**2\n",
      "                    #r2[b,t,c] = clf.score(X_test,y_test.loc[:,f])  \n",
      "\n",
      "            \n",
      "            R2[ind,:,inda] = np.mean(r2[:,ind,:,inda],axis = 0)\n",
      "            R2ste[ind,:,inda] = np.std(r2[:,ind,:,inda],axis = 0)/boot\n",
      "        prog.animate(ind)\n",
      "        \n",
      "    #Best performing \n",
      "    best_times = centers[np.argmax(np.nanmean(R2,axis = 2),axis = 0)]\n",
      "    best_alphas = alphas[0,np.argmax(np.nanmean(R2,axis = 0),axis = 1)]\n",
      "    '''\n",
      "    for c,f in enumerate(y.columns.values):\n",
      "        erange = np.arange(best_times[c]-half_width,best_times[c]+half_width)\n",
      "        X = np.nanmean(Eall[:,erange,:],axis = 1).transpose()\n",
      "        X = pd.DataFrame(X)\n",
      "        X = X.fillna(e.median(),inplace=True)\n",
      "        X = X.dropna(axis =1,how='any')\n",
      "        for b in range(boot):\n",
      "            X_train, X_test, y_train, y_test = train_test_split(\n",
      "                X, y, test_size=0.2)\n",
      "                clf = Ridge(alpha = best_alphas[c], fit_intercept = False, normalize = True)   \n",
      "                clf.fit(X_train,y_train.loc[:,f])\n",
      "                yhat = clf.predict(X_test)\n",
      "        \n",
      "        \n",
      "        \n",
      "    sns.jointplot(\"\", \"Y\", data, kind=\"hex\");\n",
      "    \n",
      "    \n",
      "    ##Plot it\n",
      "    #Targets in F1 v F2\n",
      "    fig = plt.figure(figsize = (20,10))\n",
      "    gs1 = gridspec.GridSpec(2,4)\n",
      "    for cnt,f in enumerate(Fs):\n",
      "        ppl.scatter(np.nanmean(f[1,mid,:],axis = 0),np.nanmean(f[2,mid,:],axis = 0), alpha = 1, s=60)\n",
      "    plt.xlabel('F1')\n",
      "    plt.ylabel('F2')\n",
      "    ppl.legend(tokens, bbox_to_anchor=(1, 1))\n",
      "    plt.title('Actual v Predicted F1 v F2')\n",
      "    '''\n",
      "\n",
      "    return R2,R2ste,r2,best_alphas,best_times"
     ],
     "language": "python",
     "metadata": {},
     "outputs": []
    },
    {
     "cell_type": "code",
     "collapsed": false,
     "input": [
      "def formant_ridge_decode_timecourse(Es,Fs,tokens,anat,alphas = np.tile(np.logspace(2,10,10),(6,1))):\n",
      "    #Trial labels\n",
      "    notes = []\n",
      "    for ind,n in enumerate(tokens):\n",
      "        notes.append([n]*Fs[ind].shape[2])\n",
      "    notes = np.concatenate(notes,axis=1)\n",
      "    #Feature labels\n",
      "    forms = ['F0','F1','F2','F3','F4']\n",
      "    chans = np.arange(1,256)\n",
      "    #Anatomy\n",
      "    vSMC = np.concatenate((np.where(anat=='preCG')[0],np.where(anat=='postCG')[0]))\n",
      "\n",
      "    #Formants = central 20% of each vowel utterance \n",
      "    mid = np.arange(105,115)\n",
      "    Fall = np.concatenate(Fs,axis=2)\n",
      "    dat = dict(zip(forms,np.nanmean(Fall[:,mid,:],axis = 1)))\n",
      "    #dat['label'] = notes\n",
      "    Fmid = pd.DataFrame.from_dict(dat)\n",
      "    Fmid = Fmid.fillna(Fmid.median(),inplace=True)\n",
      "    F2_1 = pd.Series(Fmid['F2']/Fmid['F1'],name = 'F2/F1')\n",
      "    y = pd.concat((Fmid,F2_1),axis=1)\n",
      "    #y.apply(np.log10,axis = 0)\n",
      "    y = (y - y.mean())/y.std(ddof=0)\n",
      "\n",
      "\n",
      "    #Rolling average of vSMC HG   \n",
      "    centers = np.round(np.linspace(150,600,num = 75))     #10 ms window. From -650 to 100\n",
      "    half_width = 10\n",
      "    Ebins = [None]*centers.shape[0]\n",
      "    Eall = np.concatenate(Es,axis=2)\n",
      "    Eall = Eall[vSMC,:,:]\n",
      "\n",
      "\n",
      "\n",
      "    boot = 10\n",
      "    r2 = np.empty((X.shape[0],len(Ebins),y.shape[1],alphas.shape[1]))\n",
      "    R2 = np.empty((len(Ebins),y.shape[1],alphas.shape[1]))\n",
      "    R2ste = np.empty((len(Ebins),y.shape[1],alphas.shape[1]))\n",
      "    prog = ProgressBar(len(centers))\n",
      "    yhat = np.empty((y.shape))\n",
      "    for ind,cent in enumerate(centers.astype(int)):\n",
      "        erange = np.arange(cent-half_width,cent+half_width)\n",
      "        X = np.nanmean(Eall[:,erange,:],axis = 1).transpose()\n",
      "        X = pd.DataFrame(X)\n",
      "        X = X.fillna(e.median(),inplace=True)\n",
      "        X = X.dropna(axis =1,how='any')\n",
      "\n",
      "        for inda,alph in enumerate(alphas.transpose()):\n",
      "            loo = LeaveOneOut(X.shape[0])\n",
      "            for train_index, test_index in loo:\n",
      "                X_train, X_test = X.iloc[train_index,:], X.iloc[test_index,:]\n",
      "                y_train, y_test = y.iloc[train_index,:], y.iloc[test_index,:]\n",
      "                #Ridge Regression\n",
      "                for c,f in enumerate(y.columns.values):\n",
      "                    clf = Ridge(alpha = alph[c], fit_intercept = False, normalize = True)   \n",
      "                    clf.fit(X_train,y_train.loc[:,f])\n",
      "\n",
      "                    #B = clf.coef_\n",
      "                    yhat[test_index,c] = clf.predict(X_test)\n",
      "                    \n",
      "                    \n",
      "                    r = sp.stats.pearsonr(yhat[test_index,c],y_test.loc[:,f])[0]\n",
      "                    r2[test_index,ind,c,inda] = r**2\n",
      "                    #r2[b,t,c] = clf.score(X_test,y_test.loc[:,f])  \n",
      "\n",
      "            \n",
      "            R2[ind,:,inda] = np.mean(r2[:,ind,:,inda],axis = 0)\n",
      "            R2ste[ind,:,inda] = np.std(r2[:,ind,:,inda],axis = 0)/boot\n",
      "        prog.animate(ind)\n",
      "        \n",
      "    #Best performing \n",
      "    best_times = centers[np.argmax(np.nanmean(R2,axis = 2),axis = 0)]\n",
      "    best_alphas = alphas[0,np.argmax(np.nanmean(R2,axis = 0),axis = 1)]\n",
      "    '''\n",
      "    for c,f in enumerate(y.columns.values):\n",
      "        erange = np.arange(best_times[c]-half_width,best_times[c]+half_width)\n",
      "        X = np.nanmean(Eall[:,erange,:],axis = 1).transpose()\n",
      "        X = pd.DataFrame(X)\n",
      "        X = X.fillna(e.median(),inplace=True)\n",
      "        X = X.dropna(axis =1,how='any')\n",
      "        for b in range(boot):\n",
      "            X_train, X_test, y_train, y_test = train_test_split(\n",
      "                X, y, test_size=0.2)\n",
      "                clf = Ridge(alpha = best_alphas[c], fit_intercept = False, normalize = True)   \n",
      "                clf.fit(X_train,y_train.loc[:,f])\n",
      "                yhat = clf.predict(X_test)\n",
      "        \n",
      "        \n",
      "        \n",
      "    sns.jointplot(\"\", \"Y\", data, kind=\"hex\");\n",
      "    \n",
      "    \n",
      "    ##Plot it\n",
      "    #Targets in F1 v F2\n",
      "    fig = plt.figure(figsize = (20,10))\n",
      "    gs1 = gridspec.GridSpec(2,4)\n",
      "    for cnt,f in enumerate(Fs):\n",
      "        ppl.scatter(np.nanmean(f[1,mid,:],axis = 0),np.nanmean(f[2,mid,:],axis = 0), alpha = 1, s=60)\n",
      "    plt.xlabel('F1')\n",
      "    plt.ylabel('F2')\n",
      "    ppl.legend(tokens, bbox_to_anchor=(1, 1))\n",
      "    plt.title('Actual v Predicted F1 v F2')\n",
      "    '''\n",
      "\n",
      "    return R2,R2ste,r2,best_alphas,best_times,yhat"
     ],
     "language": "python",
     "metadata": {},
     "outputs": [],
     "prompt_number": 160
    },
    {
     "cell_type": "code",
     "collapsed": false,
     "input": [
      "pth = '/Users/david_conant/Documents/EC41/'\n",
      "blocks = [19,20,22,27]\n",
      "tokens = ['AAA','IYY','UWW']\n",
      "window = np.array([-1, 1])\n",
      "[E,anat,stop_times,start_times] = makeD_multi(pth,blocks,tokens,align_window = window, dtype='HG')\n",
      "Es = [E[d] for d in tokens]\n",
      "\n",
      "window = np.array([-1, 1])\n",
      "[F,anat,stop_times,start_times] = makeD_multi(pth,blocks,tokens,align_window = window, dtype='form')\n",
      "Fs = [F[d] for d in tokens]\n",
      "stops = [stop_times[d] for d in tokens]\n",
      "starts = [start_times[d] for d in tokens]\n",
      "Fs = smooth_formants(Fs,starts,stops,window)\n",
      "[R2,R2ste,snsR2,best_alphas,best_times] = formant_ridge_decode_timecourse(Es,Fs,tokens,anat)\n",
      "plt.pcolor(R2[:,5,:])\n",
      "plt.colorbar()"
     ],
     "language": "python",
     "metadata": {},
     "outputs": [
      {
       "output_type": "stream",
       "stream": "stdout",
       "text": [
        "File found; Loading...\n",
        "Loaded"
       ]
      },
      {
       "output_type": "stream",
       "stream": "stdout",
       "text": [
        "\n",
        "File found; Loading...\n",
        "Loaded\n",
        "\r"
       ]
      },
      {
       "output_type": "stream",
       "stream": "stdout",
       "text": [
        " [                       0%                       ]"
       ]
      },
      {
       "output_type": "stream",
       "stream": "stdout",
       "text": [
        "\r",
        " [                       1%                       ]  1 of 75 complete"
       ]
      },
      {
       "output_type": "stream",
       "stream": "stdout",
       "text": [
        "\r",
        " [*                      3%                       ]  2 of 75 complete"
       ]
      },
      {
       "output_type": "stream",
       "stream": "stdout",
       "text": [
        "\r",
        " [**                     4%                       ]  3 of 75 complete"
       ]
      },
      {
       "output_type": "stream",
       "stream": "stdout",
       "text": [
        "\r",
        " [**                     5%                       ]  4 of 75 complete"
       ]
      },
      {
       "output_type": "stream",
       "stream": "stdout",
       "text": [
        "\r",
        " [***                    7%                       ]  5 of 75 complete"
       ]
      },
      {
       "output_type": "stream",
       "stream": "stdout",
       "text": [
        "\r",
        " [****                   8%                       ]  6 of 75 complete"
       ]
      },
      {
       "output_type": "stream",
       "stream": "stdout",
       "text": [
        "\r",
        " [****                   9%                       ]  7 of 75 complete"
       ]
      },
      {
       "output_type": "stream",
       "stream": "stdout",
       "text": [
        "\r",
        " [*****                 11%                       ]  8 of 75 complete"
       ]
      },
      {
       "output_type": "stream",
       "stream": "stdout",
       "text": [
        "\r",
        " [******                12%                       ]  9 of 75 complete"
       ]
      },
      {
       "output_type": "stream",
       "stream": "stdout",
       "text": [
        "\r",
        " [******                13%                       ]  10 of 75 complete"
       ]
      },
      {
       "output_type": "stream",
       "stream": "stdout",
       "text": [
        "\r",
        " [*******               15%                       ]  11 of 75 complete"
       ]
      },
      {
       "output_type": "stream",
       "stream": "stdout",
       "text": [
        "\r",
        " [********              16%                       ]  12 of 75 complete"
       ]
      },
      {
       "output_type": "stream",
       "stream": "stdout",
       "text": [
        "\r",
        " [********              17%                       ]  13 of 75 complete"
       ]
      },
      {
       "output_type": "stream",
       "stream": "stdout",
       "text": [
        "\r",
        " [*********             19%                       ]  14 of 75 complete"
       ]
      },
      {
       "output_type": "stream",
       "stream": "stdout",
       "text": [
        "\r",
        " [**********            20%                       ]  15 of 75 complete"
       ]
      },
      {
       "output_type": "stream",
       "stream": "stdout",
       "text": [
        "\r",
        " [**********            21%                       ]  16 of 75 complete"
       ]
      },
      {
       "output_type": "stream",
       "stream": "stdout",
       "text": [
        "\r",
        " [***********           23%                       ]  17 of 75 complete"
       ]
      },
      {
       "output_type": "stream",
       "stream": "stdout",
       "text": [
        "\r",
        " [************          24%                       ]  18 of 75 complete"
       ]
      },
      {
       "output_type": "stream",
       "stream": "stdout",
       "text": [
        "\r",
        " [************          25%                       ]  19 of 75 complete"
       ]
      },
      {
       "output_type": "stream",
       "stream": "stdout",
       "text": [
        "\r",
        " [*************         27%                       ]  20 of 75 complete"
       ]
      },
      {
       "output_type": "stream",
       "stream": "stdout",
       "text": [
        "\r",
        " [*************         28%                       ]  21 of 75 complete"
       ]
      },
      {
       "output_type": "stream",
       "stream": "stdout",
       "text": [
        "\r",
        " [**************        29%                       ]  22 of 75 complete"
       ]
      },
      {
       "output_type": "stream",
       "stream": "stdout",
       "text": [
        "\r",
        " [***************       31%                       ]  23 of 75 complete"
       ]
      },
      {
       "output_type": "stream",
       "stream": "stdout",
       "text": [
        "\r",
        " [***************       32%                       ]  24 of 75 complete"
       ]
      },
      {
       "output_type": "stream",
       "stream": "stdout",
       "text": [
        "\r",
        " [****************      33%                       ]  25 of 75 complete"
       ]
      },
      {
       "output_type": "stream",
       "stream": "stdout",
       "text": [
        "\r",
        " [*****************     35%                       ]  26 of 75 complete"
       ]
      },
      {
       "output_type": "stream",
       "stream": "stdout",
       "text": [
        "\r",
        " [*****************     36%                       ]  27 of 75 complete"
       ]
      },
      {
       "output_type": "stream",
       "stream": "stdout",
       "text": [
        "\r",
        " [******************    37%                       ]  28 of 75 complete"
       ]
      },
      {
       "output_type": "stream",
       "stream": "stdout",
       "text": [
        "\r",
        " [*******************   39%                       ]  29 of 75 complete"
       ]
      },
      {
       "output_type": "stream",
       "stream": "stdout",
       "text": [
        "\r",
        " [*******************   40%                       ]  30 of 75 complete"
       ]
      },
      {
       "output_type": "stream",
       "stream": "stdout",
       "text": [
        "\r",
        " [********************  41%                       ]  31 of 75 complete"
       ]
      },
      {
       "output_type": "stream",
       "stream": "stdout",
       "text": [
        "\r",
        " [********************* 43%                       ]  32 of 75 complete"
       ]
      },
      {
       "output_type": "stream",
       "stream": "stdout",
       "text": [
        "\r",
        " [********************* 44%                       ]  33 of 75 complete"
       ]
      },
      {
       "output_type": "stream",
       "stream": "stdout",
       "text": [
        "\r",
        " [**********************45%                       ]  34 of 75 complete"
       ]
      },
      {
       "output_type": "stream",
       "stream": "stdout",
       "text": [
        "\r",
        " [**********************47%                       ]  35 of 75 complete"
       ]
      },
      {
       "output_type": "stream",
       "stream": "stdout",
       "text": [
        "\r",
        " [**********************48%                       ]  36 of 75 complete"
       ]
      },
      {
       "output_type": "stream",
       "stream": "stdout",
       "text": [
        "\r",
        " [**********************49%                       ]  37 of 75 complete"
       ]
      },
      {
       "output_type": "stream",
       "stream": "stdout",
       "text": [
        "\r",
        " [**********************51%                       ]  38 of 75 complete"
       ]
      },
      {
       "output_type": "stream",
       "stream": "stdout",
       "text": [
        "\r",
        " [**********************52%                       ]  39 of 75 complete"
       ]
      },
      {
       "output_type": "stream",
       "stream": "stdout",
       "text": [
        "\r",
        " [**********************53%                       ]  40 of 75 complete"
       ]
      },
      {
       "output_type": "stream",
       "stream": "stdout",
       "text": [
        "\r",
        " [**********************55%*                      ]  41 of 75 complete"
       ]
      },
      {
       "output_type": "stream",
       "stream": "stdout",
       "text": [
        "\r",
        " [**********************56%**                     ]  42 of 75 complete"
       ]
      },
      {
       "output_type": "stream",
       "stream": "stdout",
       "text": [
        "\r",
        " [**********************57%**                     ]  43 of 75 complete"
       ]
      },
      {
       "output_type": "stream",
       "stream": "stdout",
       "text": [
        "\r",
        " [**********************59%***                    ]  44 of 75 complete"
       ]
      },
      {
       "output_type": "stream",
       "stream": "stdout",
       "text": [
        "\r",
        " [**********************60%****                   ]  45 of 75 complete"
       ]
      },
      {
       "output_type": "stream",
       "stream": "stdout",
       "text": [
        "\r",
        " [**********************61%****                   ]  46 of 75 complete"
       ]
      },
      {
       "output_type": "stream",
       "stream": "stdout",
       "text": [
        "\r",
        " [**********************63%*****                  ]  47 of 75 complete"
       ]
      },
      {
       "output_type": "stream",
       "stream": "stdout",
       "text": [
        "\r",
        " [**********************64%******                 ]  48 of 75 complete"
       ]
      },
      {
       "output_type": "stream",
       "stream": "stdout",
       "text": [
        "\r",
        " [**********************65%******                 ]  49 of 75 complete"
       ]
      },
      {
       "output_type": "stream",
       "stream": "stdout",
       "text": [
        "\r",
        " [**********************67%*******                ]  50 of 75 complete"
       ]
      },
      {
       "output_type": "stream",
       "stream": "stdout",
       "text": [
        "\r",
        " [**********************68%********               ]  51 of 75 complete"
       ]
      },
      {
       "output_type": "stream",
       "stream": "stdout",
       "text": [
        "\r",
        " [**********************69%********               ]  52 of 75 complete"
       ]
      },
      {
       "output_type": "stream",
       "stream": "stdout",
       "text": [
        "\r",
        " [**********************71%*********              ]  53 of 75 complete"
       ]
      },
      {
       "output_type": "stream",
       "stream": "stdout",
       "text": [
        "\r",
        " [**********************72%**********             ]  54 of 75 complete"
       ]
      },
      {
       "output_type": "stream",
       "stream": "stdout",
       "text": [
        "\r",
        " [**********************73%**********             ]  55 of 75 complete"
       ]
      },
      {
       "output_type": "stream",
       "stream": "stdout",
       "text": [
        "\r",
        " [**********************75%***********            ]  56 of 75 complete"
       ]
      },
      {
       "output_type": "stream",
       "stream": "stdout",
       "text": [
        "\r",
        " [**********************76%***********            ]  57 of 75 complete"
       ]
      },
      {
       "output_type": "stream",
       "stream": "stdout",
       "text": [
        "\r",
        " [**********************77%************           ]  58 of 75 complete"
       ]
      },
      {
       "output_type": "stream",
       "stream": "stdout",
       "text": [
        "\r",
        " [**********************79%*************          ]  59 of 75 complete"
       ]
      },
      {
       "output_type": "stream",
       "stream": "stdout",
       "text": [
        "\r",
        " [**********************80%*************          ]  60 of 75 complete"
       ]
      },
      {
       "output_type": "stream",
       "stream": "stdout",
       "text": [
        "\r",
        " [**********************81%**************         ]  61 of 75 complete"
       ]
      },
      {
       "output_type": "stream",
       "stream": "stdout",
       "text": [
        "\r",
        " [**********************83%***************        ]  62 of 75 complete"
       ]
      },
      {
       "output_type": "stream",
       "stream": "stdout",
       "text": [
        "\r",
        " [**********************84%***************        ]  63 of 75 complete"
       ]
      },
      {
       "output_type": "stream",
       "stream": "stdout",
       "text": [
        "\r",
        " [**********************85%****************       ]  64 of 75 complete"
       ]
      },
      {
       "output_type": "stream",
       "stream": "stdout",
       "text": [
        "\r",
        " [**********************87%*****************      ]  65 of 75 complete"
       ]
      },
      {
       "output_type": "stream",
       "stream": "stdout",
       "text": [
        "\r",
        " [**********************88%*****************      ]  66 of 75 complete"
       ]
      },
      {
       "output_type": "stream",
       "stream": "stdout",
       "text": [
        "\r",
        " [**********************89%******************     ]  67 of 75 complete"
       ]
      },
      {
       "output_type": "stream",
       "stream": "stdout",
       "text": [
        "\r",
        " [**********************91%*******************    ]  68 of 75 complete"
       ]
      },
      {
       "output_type": "stream",
       "stream": "stdout",
       "text": [
        "\r",
        " [**********************92%*******************    ]  69 of 75 complete"
       ]
      },
      {
       "output_type": "stream",
       "stream": "stdout",
       "text": [
        "\r",
        " [**********************93%********************   ]  70 of 75 complete"
       ]
      },
      {
       "output_type": "stream",
       "stream": "stdout",
       "text": [
        "\r",
        " [**********************95%*********************  ]  71 of 75 complete"
       ]
      },
      {
       "output_type": "stream",
       "stream": "stdout",
       "text": [
        "\r",
        " [**********************96%*********************  ]  72 of 75 complete"
       ]
      },
      {
       "output_type": "stream",
       "stream": "stdout",
       "text": [
        "\r",
        " [**********************97%********************** ]  73 of 75 complete"
       ]
      },
      {
       "output_type": "stream",
       "stream": "stdout",
       "text": [
        "\r",
        " [**********************99%***********************]  74 of 75 complete"
       ]
      },
      {
       "metadata": {},
       "output_type": "pyout",
       "prompt_number": 136,
       "text": [
        "<matplotlib.colorbar.Colorbar instance at 0x1170345a8>"
       ]
      },
      {
       "metadata": {},
       "output_type": "display_data",
       "png": "[encoded data removed]",
       "text": [
        "<matplotlib.figure.Figure at 0x118c5cf90>"
       ]
      }
     ],
     "prompt_number": 136
    },
    {
     "cell_type": "code",
     "collapsed": false,
     "input": [
      "pth = '/Users/david_conant/Documents/EC41/'\n",
      "blocks = [19,20,22,27]\n",
      "tokens = ['AAA','AEE','AHH','EHH','ERR','IHH','IYY','UHH','UWW']\n",
      "window = np.array([-1, 1])\n",
      "[E,anat,stop_times,start_times] = makeD_multi(pth,blocks,tokens,align_window = window, dtype='HG')\n",
      "Es = [E[d] for d in tokens]\n",
      "\n",
      "window = np.array([-1, 1])\n",
      "[F,anat,stop_times,start_times] = makeD_multi(pth,blocks,tokens,align_window = window, dtype='form')\n",
      "Fs = [F[d] for d in tokens]\n",
      "stops = [stop_times[d] for d in tokens]\n",
      "starts = [start_times[d] for d in tokens]\n",
      "Fs = smooth_formants(Fs,starts,stops,window)\n",
      "[R2,R2ste,snsR2,best_alphas,best_times] = formant_ridge_decode_timecourse(Es,Fs,tokens,anat)\n",
      "plt.pcolor(R2[:,5,:])\n",
      "plt.colorbar()"
     ],
     "language": "python",
     "metadata": {},
     "outputs": [
      {
       "output_type": "stream",
       "stream": "stdout",
       "text": [
        "File found; Loading...\n",
        "Loaded"
       ]
      },
      {
       "output_type": "stream",
       "stream": "stdout",
       "text": [
        "\n",
        "File found; Loading...\n",
        "Loaded\n",
        "\r"
       ]
      },
      {
       "output_type": "stream",
       "stream": "stdout",
       "text": [
        " [                       0%                       ]"
       ]
      },
      {
       "output_type": "stream",
       "stream": "stdout",
       "text": [
        "\r",
        " [                       1%                       ]  1 of 75 complete"
       ]
      },
      {
       "output_type": "stream",
       "stream": "stdout",
       "text": [
        "\r",
        " [*                      3%                       ]  2 of 75 complete"
       ]
      },
      {
       "output_type": "stream",
       "stream": "stdout",
       "text": [
        "\r",
        " [**                     4%                       ]  3 of 75 complete"
       ]
      },
      {
       "output_type": "stream",
       "stream": "stdout",
       "text": [
        "\r",
        " [**                     5%                       ]  4 of 75 complete"
       ]
      },
      {
       "output_type": "stream",
       "stream": "stdout",
       "text": [
        "\r",
        " [***                    7%                       ]  5 of 75 complete"
       ]
      },
      {
       "output_type": "stream",
       "stream": "stdout",
       "text": [
        "\r",
        " [****                   8%                       ]  6 of 75 complete"
       ]
      },
      {
       "output_type": "stream",
       "stream": "stdout",
       "text": [
        "\r",
        " [****                   9%                       ]  7 of 75 complete"
       ]
      },
      {
       "output_type": "stream",
       "stream": "stdout",
       "text": [
        "\r",
        " [*****                 11%                       ]  8 of 75 complete"
       ]
      },
      {
       "output_type": "stream",
       "stream": "stdout",
       "text": [
        "\r",
        " [******                12%                       ]  9 of 75 complete"
       ]
      },
      {
       "output_type": "stream",
       "stream": "stdout",
       "text": [
        "\r",
        " [******                13%                       ]  10 of 75 complete"
       ]
      },
      {
       "output_type": "stream",
       "stream": "stdout",
       "text": [
        "\r",
        " [*******               15%                       ]  11 of 75 complete"
       ]
      },
      {
       "output_type": "stream",
       "stream": "stdout",
       "text": [
        "\r",
        " [********              16%                       ]  12 of 75 complete"
       ]
      },
      {
       "output_type": "stream",
       "stream": "stdout",
       "text": [
        "\r",
        " [********              17%                       ]  13 of 75 complete"
       ]
      },
      {
       "output_type": "stream",
       "stream": "stdout",
       "text": [
        "\r",
        " [*********             19%                       ]  14 of 75 complete"
       ]
      },
      {
       "output_type": "stream",
       "stream": "stdout",
       "text": [
        "\r",
        " [**********            20%                       ]  15 of 75 complete"
       ]
      },
      {
       "output_type": "stream",
       "stream": "stdout",
       "text": [
        "\r",
        " [**********            21%                       ]  16 of 75 complete"
       ]
      },
      {
       "output_type": "stream",
       "stream": "stdout",
       "text": [
        "\r",
        " [***********           23%                       ]  17 of 75 complete"
       ]
      },
      {
       "output_type": "stream",
       "stream": "stdout",
       "text": [
        "\r",
        " [************          24%                       ]  18 of 75 complete"
       ]
      },
      {
       "output_type": "stream",
       "stream": "stdout",
       "text": [
        "\r",
        " [************          25%                       ]  19 of 75 complete"
       ]
      },
      {
       "output_type": "stream",
       "stream": "stdout",
       "text": [
        "\r",
        " [*************         27%                       ]  20 of 75 complete"
       ]
      },
      {
       "output_type": "stream",
       "stream": "stdout",
       "text": [
        "\r",
        " [*************         28%                       ]  21 of 75 complete"
       ]
      },
      {
       "output_type": "stream",
       "stream": "stdout",
       "text": [
        "\r",
        " [**************        29%                       ]  22 of 75 complete"
       ]
      },
      {
       "output_type": "stream",
       "stream": "stdout",
       "text": [
        "\r",
        " [***************       31%                       ]  23 of 75 complete"
       ]
      },
      {
       "output_type": "stream",
       "stream": "stdout",
       "text": [
        "\r",
        " [***************       32%                       ]  24 of 75 complete"
       ]
      },
      {
       "output_type": "stream",
       "stream": "stdout",
       "text": [
        "\r",
        " [****************      33%                       ]  25 of 75 complete"
       ]
      },
      {
       "output_type": "stream",
       "stream": "stdout",
       "text": [
        "\r",
        " [*****************     35%                       ]  26 of 75 complete"
       ]
      },
      {
       "output_type": "stream",
       "stream": "stdout",
       "text": [
        "\r",
        " [*****************     36%                       ]  27 of 75 complete"
       ]
      },
      {
       "output_type": "stream",
       "stream": "stdout",
       "text": [
        "\r",
        " [******************    37%                       ]  28 of 75 complete"
       ]
      },
      {
       "output_type": "stream",
       "stream": "stdout",
       "text": [
        "\r",
        " [*******************   39%                       ]  29 of 75 complete"
       ]
      },
      {
       "output_type": "stream",
       "stream": "stdout",
       "text": [
        "\r",
        " [*******************   40%                       ]  30 of 75 complete"
       ]
      },
      {
       "output_type": "stream",
       "stream": "stdout",
       "text": [
        "\r",
        " [********************  41%                       ]  31 of 75 complete"
       ]
      },
      {
       "output_type": "stream",
       "stream": "stdout",
       "text": [
        "\r",
        " [********************* 43%                       ]  32 of 75 complete"
       ]
      },
      {
       "output_type": "stream",
       "stream": "stdout",
       "text": [
        "\r",
        " [********************* 44%                       ]  33 of 75 complete"
       ]
      },
      {
       "output_type": "stream",
       "stream": "stdout",
       "text": [
        "\r",
        " [**********************45%                       ]  34 of 75 complete"
       ]
      },
      {
       "output_type": "stream",
       "stream": "stdout",
       "text": [
        "\r",
        " [**********************47%                       ]  35 of 75 complete"
       ]
      },
      {
       "output_type": "stream",
       "stream": "stdout",
       "text": [
        "\r",
        " [**********************48%                       ]  36 of 75 complete"
       ]
      },
      {
       "output_type": "stream",
       "stream": "stdout",
       "text": [
        "\r",
        " [**********************49%                       ]  37 of 75 complete"
       ]
      },
      {
       "output_type": "stream",
       "stream": "stdout",
       "text": [
        "\r",
        " [**********************51%                       ]  38 of 75 complete"
       ]
      },
      {
       "output_type": "stream",
       "stream": "stdout",
       "text": [
        "\r",
        " [**********************52%                       ]  39 of 75 complete"
       ]
      },
      {
       "output_type": "stream",
       "stream": "stdout",
       "text": [
        "\r",
        " [**********************53%                       ]  40 of 75 complete"
       ]
      },
      {
       "output_type": "stream",
       "stream": "stdout",
       "text": [
        "\r",
        " [**********************55%*                      ]  41 of 75 complete"
       ]
      },
      {
       "output_type": "stream",
       "stream": "stdout",
       "text": [
        "\r",
        " [**********************56%**                     ]  42 of 75 complete"
       ]
      },
      {
       "output_type": "stream",
       "stream": "stdout",
       "text": [
        "\r",
        " [**********************57%**                     ]  43 of 75 complete"
       ]
      },
      {
       "output_type": "stream",
       "stream": "stdout",
       "text": [
        "\r",
        " [**********************59%***                    ]  44 of 75 complete"
       ]
      },
      {
       "output_type": "stream",
       "stream": "stdout",
       "text": [
        "\r",
        " [**********************60%****                   ]  45 of 75 complete"
       ]
      },
      {
       "output_type": "stream",
       "stream": "stdout",
       "text": [
        "\r",
        " [**********************61%****                   ]  46 of 75 complete"
       ]
      },
      {
       "output_type": "stream",
       "stream": "stdout",
       "text": [
        "\r",
        " [**********************63%*****                  ]  47 of 75 complete"
       ]
      },
      {
       "output_type": "stream",
       "stream": "stdout",
       "text": [
        "\r",
        " [**********************64%******                 ]  48 of 75 complete"
       ]
      },
      {
       "output_type": "stream",
       "stream": "stdout",
       "text": [
        "\r",
        " [**********************65%******                 ]  49 of 75 complete"
       ]
      },
      {
       "output_type": "stream",
       "stream": "stdout",
       "text": [
        "\r",
        " [**********************67%*******                ]  50 of 75 complete"
       ]
      },
      {
       "output_type": "stream",
       "stream": "stdout",
       "text": [
        "\r",
        " [**********************68%********               ]  51 of 75 complete"
       ]
      },
      {
       "output_type": "stream",
       "stream": "stdout",
       "text": [
        "\r",
        " [**********************69%********               ]  52 of 75 complete"
       ]
      },
      {
       "output_type": "stream",
       "stream": "stdout",
       "text": [
        "\r",
        " [**********************71%*********              ]  53 of 75 complete"
       ]
      },
      {
       "output_type": "stream",
       "stream": "stdout",
       "text": [
        "\r",
        " [**********************72%**********             ]  54 of 75 complete"
       ]
      },
      {
       "output_type": "stream",
       "stream": "stdout",
       "text": [
        "\r",
        " [**********************73%**********             ]  55 of 75 complete"
       ]
      },
      {
       "output_type": "stream",
       "stream": "stdout",
       "text": [
        "\r",
        " [**********************75%***********            ]  56 of 75 complete"
       ]
      },
      {
       "output_type": "stream",
       "stream": "stdout",
       "text": [
        "\r",
        " [**********************76%***********            ]  57 of 75 complete"
       ]
      },
      {
       "output_type": "stream",
       "stream": "stdout",
       "text": [
        "\r",
        " [**********************77%************           ]  58 of 75 complete"
       ]
      },
      {
       "output_type": "stream",
       "stream": "stdout",
       "text": [
        "\r",
        " [**********************79%*************          ]  59 of 75 complete"
       ]
      },
      {
       "output_type": "stream",
       "stream": "stdout",
       "text": [
        "\r",
        " [**********************80%*************          ]  60 of 75 complete"
       ]
      },
      {
       "output_type": "stream",
       "stream": "stdout",
       "text": [
        "\r",
        " [**********************81%**************         ]  61 of 75 complete"
       ]
      },
      {
       "output_type": "stream",
       "stream": "stdout",
       "text": [
        "\r",
        " [**********************83%***************        ]  62 of 75 complete"
       ]
      },
      {
       "output_type": "stream",
       "stream": "stdout",
       "text": [
        "\r",
        " [**********************84%***************        ]  63 of 75 complete"
       ]
      },
      {
       "output_type": "stream",
       "stream": "stdout",
       "text": [
        "\r",
        " [**********************85%****************       ]  64 of 75 complete"
       ]
      },
      {
       "output_type": "stream",
       "stream": "stdout",
       "text": [
        "\r",
        " [**********************87%*****************      ]  65 of 75 complete"
       ]
      },
      {
       "output_type": "stream",
       "stream": "stdout",
       "text": [
        "\r",
        " [**********************88%*****************      ]  66 of 75 complete"
       ]
      },
      {
       "output_type": "stream",
       "stream": "stdout",
       "text": [
        "\r",
        " [**********************89%******************     ]  67 of 75 complete"
       ]
      },
      {
       "output_type": "stream",
       "stream": "stdout",
       "text": [
        "\r",
        " [**********************91%*******************    ]  68 of 75 complete"
       ]
      },
      {
       "output_type": "stream",
       "stream": "stdout",
       "text": [
        "\r",
        " [**********************92%*******************    ]  69 of 75 complete"
       ]
      },
      {
       "output_type": "stream",
       "stream": "stdout",
       "text": [
        "\r",
        " [**********************93%********************   ]  70 of 75 complete"
       ]
      },
      {
       "output_type": "stream",
       "stream": "stdout",
       "text": [
        "\r",
        " [**********************95%*********************  ]  71 of 75 complete"
       ]
      },
      {
       "output_type": "stream",
       "stream": "stdout",
       "text": [
        "\r",
        " [**********************96%*********************  ]  72 of 75 complete"
       ]
      },
      {
       "output_type": "stream",
       "stream": "stdout",
       "text": [
        "\r",
        " [**********************97%********************** ]  73 of 75 complete"
       ]
      },
      {
       "output_type": "stream",
       "stream": "stdout",
       "text": [
        "\r",
        " [**********************99%***********************]  74 of 75 complete"
       ]
      },
      {
       "metadata": {},
       "output_type": "pyout",
       "prompt_number": 138,
       "text": [
        "<matplotlib.colorbar.Colorbar instance at 0x11a2172d8>"
       ]
      },
      {
       "metadata": {},
       "output_type": "display_data",
       "png": "[encoded data removed]",
       "text": [
        "<matplotlib.figure.Figure at 0x115f0e1d0>"
       ]
      }
     ],
     "prompt_number": 138
    },
    {
     "cell_type": "code",
     "collapsed": false,
     "input": [],
     "language": "python",
     "metadata": {},
     "outputs": []
    },
    {
     "cell_type": "code",
     "collapsed": false,
     "input": [
      "#Larger window\n",
      "pth = '/Users/david_conant/Documents/EC41/'\n",
      "blocks = [19,20,22,27]\n",
      "tokens = ['AAA','IYY','UWW']\n",
      "window = np.array([-1, 1])\n",
      "[E,anat,stop_times,start_times] = makeD_multi(pth,blocks,tokens,align_window = window, dtype='HG')\n",
      "Es = [E[d] for d in tokens]\n",
      "\n",
      "window = np.array([-1, 1])\n",
      "[F,anat,stop_times,start_times] = makeD_multi(pth,blocks,tokens,align_window = window, dtype='form')\n",
      "Fs = [F[d] for d in tokens]\n",
      "stops = [stop_times[d] for d in tokens]\n",
      "starts = [start_times[d] for d in tokens]\n",
      "Fs = smooth_formants(Fs,starts,stops,window)\n",
      "[R2,R2ste,snsR2,best_alphas,best_times] = formant_ridge_decode_timecourse(Es,Fs,tokens,anat)\n",
      "plt.pcolor(R2[:,5,:])\n",
      "plt.colorbar()"
     ],
     "language": "python",
     "metadata": {},
     "outputs": [
      {
       "output_type": "stream",
       "stream": "stdout",
       "text": [
        "File found; Loading...\n",
        "Loaded"
       ]
      },
      {
       "output_type": "stream",
       "stream": "stdout",
       "text": [
        "\n",
        "File found; Loading...\n",
        "Loaded\n",
        "\r"
       ]
      },
      {
       "output_type": "stream",
       "stream": "stdout",
       "text": [
        " [                       0%                       ]"
       ]
      },
      {
       "output_type": "stream",
       "stream": "stdout",
       "text": [
        "\r",
        " [                       1%                       ]  1 of 75 complete"
       ]
      },
      {
       "output_type": "stream",
       "stream": "stdout",
       "text": [
        "\r",
        " [*                      3%                       ]  2 of 75 complete"
       ]
      },
      {
       "output_type": "stream",
       "stream": "stdout",
       "text": [
        "\r",
        " [**                     4%                       ]  3 of 75 complete"
       ]
      },
      {
       "output_type": "stream",
       "stream": "stdout",
       "text": [
        "\r",
        " [**                     5%                       ]  4 of 75 complete"
       ]
      },
      {
       "output_type": "stream",
       "stream": "stdout",
       "text": [
        "\r",
        " [***                    7%                       ]  5 of 75 complete"
       ]
      },
      {
       "output_type": "stream",
       "stream": "stdout",
       "text": [
        "\r",
        " [****                   8%                       ]  6 of 75 complete"
       ]
      },
      {
       "output_type": "stream",
       "stream": "stdout",
       "text": [
        "\r",
        " [****                   9%                       ]  7 of 75 complete"
       ]
      },
      {
       "output_type": "stream",
       "stream": "stdout",
       "text": [
        "\r",
        " [*****                 11%                       ]  8 of 75 complete"
       ]
      },
      {
       "output_type": "stream",
       "stream": "stdout",
       "text": [
        "\r",
        " [******                12%                       ]  9 of 75 complete"
       ]
      },
      {
       "output_type": "stream",
       "stream": "stdout",
       "text": [
        "\r",
        " [******                13%                       ]  10 of 75 complete"
       ]
      },
      {
       "output_type": "stream",
       "stream": "stdout",
       "text": [
        "\r",
        " [*******               15%                       ]  11 of 75 complete"
       ]
      },
      {
       "output_type": "stream",
       "stream": "stdout",
       "text": [
        "\r",
        " [********              16%                       ]  12 of 75 complete"
       ]
      },
      {
       "output_type": "stream",
       "stream": "stdout",
       "text": [
        "\r",
        " [********              17%                       ]  13 of 75 complete"
       ]
      },
      {
       "output_type": "stream",
       "stream": "stdout",
       "text": [
        "\r",
        " [*********             19%                       ]  14 of 75 complete"
       ]
      },
      {
       "output_type": "stream",
       "stream": "stdout",
       "text": [
        "\r",
        " [**********            20%                       ]  15 of 75 complete"
       ]
      },
      {
       "output_type": "stream",
       "stream": "stdout",
       "text": [
        "\r",
        " [**********            21%                       ]  16 of 75 complete"
       ]
      },
      {
       "output_type": "stream",
       "stream": "stdout",
       "text": [
        "\r",
        " [***********           23%                       ]  17 of 75 complete"
       ]
      },
      {
       "output_type": "stream",
       "stream": "stdout",
       "text": [
        "\r",
        " [************          24%                       ]  18 of 75 complete"
       ]
      },
      {
       "output_type": "stream",
       "stream": "stdout",
       "text": [
        "\r",
        " [************          25%                       ]  19 of 75 complete"
       ]
      },
      {
       "output_type": "stream",
       "stream": "stdout",
       "text": [
        "\r",
        " [*************         27%                       ]  20 of 75 complete"
       ]
      },
      {
       "output_type": "stream",
       "stream": "stdout",
       "text": [
        "\r",
        " [*************         28%                       ]  21 of 75 complete"
       ]
      },
      {
       "output_type": "stream",
       "stream": "stdout",
       "text": [
        "\r",
        " [**************        29%                       ]  22 of 75 complete"
       ]
      },
      {
       "output_type": "stream",
       "stream": "stdout",
       "text": [
        "\r",
        " [***************       31%                       ]  23 of 75 complete"
       ]
      },
      {
       "output_type": "stream",
       "stream": "stdout",
       "text": [
        "\r",
        " [***************       32%                       ]  24 of 75 complete"
       ]
      },
      {
       "output_type": "stream",
       "stream": "stdout",
       "text": [
        "\r",
        " [****************      33%                       ]  25 of 75 complete"
       ]
      },
      {
       "output_type": "stream",
       "stream": "stdout",
       "text": [
        "\r",
        " [*****************     35%                       ]  26 of 75 complete"
       ]
      },
      {
       "output_type": "stream",
       "stream": "stdout",
       "text": [
        "\r",
        " [*****************     36%                       ]  27 of 75 complete"
       ]
      },
      {
       "output_type": "stream",
       "stream": "stdout",
       "text": [
        "\r",
        " [******************    37%                       ]  28 of 75 complete"
       ]
      },
      {
       "output_type": "stream",
       "stream": "stdout",
       "text": [
        "\r",
        " [*******************   39%                       ]  29 of 75 complete"
       ]
      },
      {
       "output_type": "stream",
       "stream": "stdout",
       "text": [
        "\r",
        " [*******************   40%                       ]  30 of 75 complete"
       ]
      },
      {
       "output_type": "stream",
       "stream": "stdout",
       "text": [
        "\r",
        " [********************  41%                       ]  31 of 75 complete"
       ]
      },
      {
       "output_type": "stream",
       "stream": "stdout",
       "text": [
        "\r",
        " [********************* 43%                       ]  32 of 75 complete"
       ]
      },
      {
       "output_type": "stream",
       "stream": "stdout",
       "text": [
        "\r",
        " [********************* 44%                       ]  33 of 75 complete"
       ]
      },
      {
       "output_type": "stream",
       "stream": "stdout",
       "text": [
        "\r",
        " [**********************45%                       ]  34 of 75 complete"
       ]
      },
      {
       "output_type": "stream",
       "stream": "stdout",
       "text": [
        "\r",
        " [**********************47%                       ]  35 of 75 complete"
       ]
      },
      {
       "output_type": "stream",
       "stream": "stdout",
       "text": [
        "\r",
        " [**********************48%                       ]  36 of 75 complete"
       ]
      },
      {
       "output_type": "stream",
       "stream": "stdout",
       "text": [
        "\r",
        " [**********************49%                       ]  37 of 75 complete"
       ]
      },
      {
       "output_type": "stream",
       "stream": "stdout",
       "text": [
        "\r",
        " [**********************51%                       ]  38 of 75 complete"
       ]
      },
      {
       "output_type": "stream",
       "stream": "stdout",
       "text": [
        "\r",
        " [**********************52%                       ]  39 of 75 complete"
       ]
      },
      {
       "output_type": "stream",
       "stream": "stdout",
       "text": [
        "\r",
        " [**********************53%                       ]  40 of 75 complete"
       ]
      },
      {
       "output_type": "stream",
       "stream": "stdout",
       "text": [
        "\r",
        " [**********************55%*                      ]  41 of 75 complete"
       ]
      },
      {
       "output_type": "stream",
       "stream": "stdout",
       "text": [
        "\r",
        " [**********************56%**                     ]  42 of 75 complete"
       ]
      },
      {
       "output_type": "stream",
       "stream": "stdout",
       "text": [
        "\r",
        " [**********************57%**                     ]  43 of 75 complete"
       ]
      },
      {
       "output_type": "stream",
       "stream": "stdout",
       "text": [
        "\r",
        " [**********************59%***                    ]  44 of 75 complete"
       ]
      },
      {
       "output_type": "stream",
       "stream": "stdout",
       "text": [
        "\r",
        " [**********************60%****                   ]  45 of 75 complete"
       ]
      },
      {
       "output_type": "stream",
       "stream": "stdout",
       "text": [
        "\r",
        " [**********************61%****                   ]  46 of 75 complete"
       ]
      },
      {
       "output_type": "stream",
       "stream": "stdout",
       "text": [
        "\r",
        " [**********************63%*****                  ]  47 of 75 complete"
       ]
      },
      {
       "output_type": "stream",
       "stream": "stdout",
       "text": [
        "\r",
        " [**********************64%******                 ]  48 of 75 complete"
       ]
      },
      {
       "output_type": "stream",
       "stream": "stdout",
       "text": [
        "\r",
        " [**********************65%******                 ]  49 of 75 complete"
       ]
      },
      {
       "output_type": "stream",
       "stream": "stdout",
       "text": [
        "\r",
        " [**********************67%*******                ]  50 of 75 complete"
       ]
      },
      {
       "output_type": "stream",
       "stream": "stdout",
       "text": [
        "\r",
        " [**********************68%********               ]  51 of 75 complete"
       ]
      },
      {
       "output_type": "stream",
       "stream": "stdout",
       "text": [
        "\r",
        " [**********************69%********               ]  52 of 75 complete"
       ]
      },
      {
       "output_type": "stream",
       "stream": "stdout",
       "text": [
        "\r",
        " [**********************71%*********              ]  53 of 75 complete"
       ]
      },
      {
       "output_type": "stream",
       "stream": "stdout",
       "text": [
        "\r",
        " [**********************72%**********             ]  54 of 75 complete"
       ]
      },
      {
       "output_type": "stream",
       "stream": "stdout",
       "text": [
        "\r",
        " [**********************73%**********             ]  55 of 75 complete"
       ]
      },
      {
       "output_type": "stream",
       "stream": "stdout",
       "text": [
        "\r",
        " [**********************75%***********            ]  56 of 75 complete"
       ]
      },
      {
       "output_type": "stream",
       "stream": "stdout",
       "text": [
        "\r",
        " [**********************76%***********            ]  57 of 75 complete"
       ]
      },
      {
       "output_type": "stream",
       "stream": "stdout",
       "text": [
        "\r",
        " [**********************77%************           ]  58 of 75 complete"
       ]
      },
      {
       "output_type": "stream",
       "stream": "stdout",
       "text": [
        "\r",
        " [**********************79%*************          ]  59 of 75 complete"
       ]
      },
      {
       "output_type": "stream",
       "stream": "stdout",
       "text": [
        "\r",
        " [**********************80%*************          ]  60 of 75 complete"
       ]
      },
      {
       "output_type": "stream",
       "stream": "stdout",
       "text": [
        "\r",
        " [**********************81%**************         ]  61 of 75 complete"
       ]
      },
      {
       "output_type": "stream",
       "stream": "stdout",
       "text": [
        "\r",
        " [**********************83%***************        ]  62 of 75 complete"
       ]
      },
      {
       "output_type": "stream",
       "stream": "stdout",
       "text": [
        "\r",
        " [**********************84%***************        ]  63 of 75 complete"
       ]
      },
      {
       "output_type": "stream",
       "stream": "stdout",
       "text": [
        "\r",
        " [**********************85%****************       ]  64 of 75 complete"
       ]
      },
      {
       "output_type": "stream",
       "stream": "stdout",
       "text": [
        "\r",
        " [**********************87%*****************      ]  65 of 75 complete"
       ]
      },
      {
       "output_type": "stream",
       "stream": "stdout",
       "text": [
        "\r",
        " [**********************88%*****************      ]  66 of 75 complete"
       ]
      },
      {
       "output_type": "stream",
       "stream": "stdout",
       "text": [
        "\r",
        " [**********************89%******************     ]  67 of 75 complete"
       ]
      },
      {
       "output_type": "stream",
       "stream": "stdout",
       "text": [
        "\r",
        " [**********************91%*******************    ]  68 of 75 complete"
       ]
      },
      {
       "output_type": "stream",
       "stream": "stdout",
       "text": [
        "\r",
        " [**********************92%*******************    ]  69 of 75 complete"
       ]
      },
      {
       "output_type": "stream",
       "stream": "stdout",
       "text": [
        "\r",
        " [**********************93%********************   ]  70 of 75 complete"
       ]
      },
      {
       "output_type": "stream",
       "stream": "stdout",
       "text": [
        "\r",
        " [**********************95%*********************  ]  71 of 75 complete"
       ]
      },
      {
       "output_type": "stream",
       "stream": "stdout",
       "text": [
        "\r",
        " [**********************96%*********************  ]  72 of 75 complete"
       ]
      },
      {
       "output_type": "stream",
       "stream": "stdout",
       "text": [
        "\r",
        " [**********************97%********************** ]  73 of 75 complete"
       ]
      },
      {
       "output_type": "stream",
       "stream": "stdout",
       "text": [
        "\r",
        " [**********************99%***********************]  74 of 75 complete"
       ]
      },
      {
       "metadata": {},
       "output_type": "pyout",
       "prompt_number": 140,
       "text": [
        "<matplotlib.colorbar.Colorbar instance at 0x11a64fe60>"
       ]
      },
      {
       "metadata": {},
       "output_type": "display_data",
       "png": "[encoded data removed]",
       "text": [
        "<matplotlib.figure.Figure at 0x119d9f210>"
       ]
      }
     ],
     "prompt_number": 140
    },
    {
     "cell_type": "code",
     "collapsed": false,
     "input": [
      "alphas.shape"
     ],
     "language": "python",
     "metadata": {},
     "outputs": [
      {
       "metadata": {},
       "output_type": "pyout",
       "prompt_number": 95,
       "text": [
        "(5, 100)"
       ]
      }
     ],
     "prompt_number": 95
    },
    {
     "cell_type": "code",
     "collapsed": false,
     "input": [
      "#LOOCV\n",
      "pth = '/Users/david_conant/Documents/EC41/'\n",
      "blocks = [19,20,22,27]\n",
      "tokens = ['AAA','IYY','UWW']\n",
      "window = np.array([-1, 1])\n",
      "[E,anat,stop_times,start_times] = makeD_multi(pth,blocks,tokens,align_window = window, dtype='HG')\n",
      "Es = [E[d] for d in tokens]\n",
      "\n",
      "window = np.array([-1, 1])\n",
      "[F,anat,stop_times,start_times] = makeD_multi(pth,blocks,tokens,align_window = window, dtype='form')\n",
      "Fs = [F[d] for d in tokens]\n",
      "stops = [stop_times[d] for d in tokens]\n",
      "starts = [start_times[d] for d in tokens]\n",
      "Fs = smooth_formants(Fs,starts,stops,window)\n",
      "[R2,R2ste,snsR2,best_alphas,best_times,yhat] = formant_ridge_decode_timecourse(Es,Fs,tokens,anat)\n",
      "plt.pcolor(R2[:,5,:])\n",
      "plt.colorbar()"
     ],
     "language": "python",
     "metadata": {},
     "outputs": [
      {
       "output_type": "stream",
       "stream": "stdout",
       "text": [
        "File found; Loading...\n",
        "Loaded"
       ]
      },
      {
       "output_type": "stream",
       "stream": "stdout",
       "text": [
        "\n",
        "File found; Loading...\n",
        "Loaded\n"
       ]
      },
      {
       "ename": "IndexError",
       "evalue": "index 10 is out of bounds for axis 0 with size 10",
       "output_type": "pyerr",
       "traceback": [
        "\u001b[0;31m---------------------------------------------------------------------------\u001b[0m\n\u001b[0;31mIndexError\u001b[0m                                Traceback (most recent call last)",
        "\u001b[0;32m<ipython-input-161-d92648359f0e>\u001b[0m in \u001b[0;36m<module>\u001b[0;34m()\u001b[0m\n\u001b[1;32m     13\u001b[0m \u001b[0mstarts\u001b[0m \u001b[0;34m=\u001b[0m \u001b[0;34m[\u001b[0m\u001b[0mstart_times\u001b[0m\u001b[0;34m[\u001b[0m\u001b[0md\u001b[0m\u001b[0;34m]\u001b[0m \u001b[0;32mfor\u001b[0m \u001b[0md\u001b[0m \u001b[0;32min\u001b[0m \u001b[0mtokens\u001b[0m\u001b[0;34m]\u001b[0m\u001b[0;34m\u001b[0m\u001b[0m\n\u001b[1;32m     14\u001b[0m \u001b[0mFs\u001b[0m \u001b[0;34m=\u001b[0m \u001b[0msmooth_formants\u001b[0m\u001b[0;34m(\u001b[0m\u001b[0mFs\u001b[0m\u001b[0;34m,\u001b[0m\u001b[0mstarts\u001b[0m\u001b[0;34m,\u001b[0m\u001b[0mstops\u001b[0m\u001b[0;34m,\u001b[0m\u001b[0mwindow\u001b[0m\u001b[0;34m)\u001b[0m\u001b[0;34m\u001b[0m\u001b[0m\n\u001b[0;32m---> 15\u001b[0;31m \u001b[0;34m[\u001b[0m\u001b[0mR2\u001b[0m\u001b[0;34m,\u001b[0m\u001b[0mR2ste\u001b[0m\u001b[0;34m,\u001b[0m\u001b[0msnsR2\u001b[0m\u001b[0;34m,\u001b[0m\u001b[0mbest_alphas\u001b[0m\u001b[0;34m,\u001b[0m\u001b[0mbest_times\u001b[0m\u001b[0;34m,\u001b[0m\u001b[0myhat\u001b[0m\u001b[0;34m]\u001b[0m \u001b[0;34m=\u001b[0m \u001b[0mformant_ridge_decode_timecourse\u001b[0m\u001b[0;34m(\u001b[0m\u001b[0mEs\u001b[0m\u001b[0;34m,\u001b[0m\u001b[0mFs\u001b[0m\u001b[0;34m,\u001b[0m\u001b[0mtokens\u001b[0m\u001b[0;34m,\u001b[0m\u001b[0manat\u001b[0m\u001b[0;34m)\u001b[0m\u001b[0;34m\u001b[0m\u001b[0m\n\u001b[0m\u001b[1;32m     16\u001b[0m \u001b[0mplt\u001b[0m\u001b[0;34m.\u001b[0m\u001b[0mpcolor\u001b[0m\u001b[0;34m(\u001b[0m\u001b[0mR2\u001b[0m\u001b[0;34m[\u001b[0m\u001b[0;34m:\u001b[0m\u001b[0;34m,\u001b[0m\u001b[0;36m5\u001b[0m\u001b[0;34m,\u001b[0m\u001b[0;34m:\u001b[0m\u001b[0;34m]\u001b[0m\u001b[0;34m)\u001b[0m\u001b[0;34m\u001b[0m\u001b[0m\n\u001b[1;32m     17\u001b[0m \u001b[0mplt\u001b[0m\u001b[0;34m.\u001b[0m\u001b[0mcolorbar\u001b[0m\u001b[0;34m(\u001b[0m\u001b[0;34m)\u001b[0m\u001b[0;34m\u001b[0m\u001b[0m\n",
        "\u001b[0;32m<ipython-input-160-1227483e7512>\u001b[0m in \u001b[0;36mformant_ridge_decode_timecourse\u001b[0;34m(Es, Fs, tokens, anat, alphas)\u001b[0m\n\u001b[1;32m     61\u001b[0m \u001b[0;34m\u001b[0m\u001b[0m\n\u001b[1;32m     62\u001b[0m                     \u001b[0mr\u001b[0m \u001b[0;34m=\u001b[0m \u001b[0msp\u001b[0m\u001b[0;34m.\u001b[0m\u001b[0mstats\u001b[0m\u001b[0;34m.\u001b[0m\u001b[0mpearsonr\u001b[0m\u001b[0;34m(\u001b[0m\u001b[0myhat\u001b[0m\u001b[0;34m[\u001b[0m\u001b[0mtest_index\u001b[0m\u001b[0;34m,\u001b[0m\u001b[0mc\u001b[0m\u001b[0;34m]\u001b[0m\u001b[0;34m,\u001b[0m\u001b[0my_test\u001b[0m\u001b[0;34m.\u001b[0m\u001b[0mloc\u001b[0m\u001b[0;34m[\u001b[0m\u001b[0;34m:\u001b[0m\u001b[0;34m,\u001b[0m\u001b[0mf\u001b[0m\u001b[0;34m]\u001b[0m\u001b[0;34m)\u001b[0m\u001b[0;34m[\u001b[0m\u001b[0;36m0\u001b[0m\u001b[0;34m]\u001b[0m\u001b[0;34m\u001b[0m\u001b[0m\n\u001b[0;32m---> 63\u001b[0;31m                     \u001b[0mr2\u001b[0m\u001b[0;34m[\u001b[0m\u001b[0mtest_index\u001b[0m\u001b[0;34m,\u001b[0m\u001b[0mind\u001b[0m\u001b[0;34m,\u001b[0m\u001b[0mc\u001b[0m\u001b[0;34m,\u001b[0m\u001b[0minda\u001b[0m\u001b[0;34m]\u001b[0m \u001b[0;34m=\u001b[0m \u001b[0mr\u001b[0m\u001b[0;34m**\u001b[0m\u001b[0;36m2\u001b[0m\u001b[0;34m\u001b[0m\u001b[0m\n\u001b[0m\u001b[1;32m     64\u001b[0m                     \u001b[0;31m#r2[b,t,c] = clf.score(X_test,y_test.loc[:,f])\u001b[0m\u001b[0;34m\u001b[0m\u001b[0;34m\u001b[0m\u001b[0m\n\u001b[1;32m     65\u001b[0m \u001b[0;34m\u001b[0m\u001b[0m\n",
        "\u001b[0;31mIndexError\u001b[0m: index 10 is out of bounds for axis 0 with size 10"
       ]
      }
     ],
     "prompt_number": 161
    },
    {
     "cell_type": "code",
     "collapsed": false,
     "input": [],
     "language": "python",
     "metadata": {},
     "outputs": [],
     "prompt_number": 130
    },
    {
     "cell_type": "code",
     "collapsed": false,
     "input": [
      "centers[np.argmax(np.nanmean(R2,axis = 2),axis = 0)]"
     ],
     "language": "python",
     "metadata": {},
     "outputs": [
      {
       "metadata": {},
       "output_type": "pyout",
       "prompt_number": 90,
       "text": [
        "array([ 339.,  478.,  448.,  442.,  448.,  448.])"
       ]
      }
     ],
     "prompt_number": 90
    },
    {
     "cell_type": "code",
     "collapsed": false,
     "input": [
      "centers = np.round(np.linspace(150,600,num = 75))"
     ],
     "language": "python",
     "metadata": {},
     "outputs": [],
     "prompt_number": 89
    },
    {
     "cell_type": "code",
     "collapsed": false,
     "input": [],
     "language": "python",
     "metadata": {},
     "outputs": []
    },
    {
     "cell_type": "code",
     "collapsed": false,
     "input": [
      "## Method described in Kris's formant decoding paper\n",
      "\n",
      "#TODO: log(F2/F1)\n",
      "\n",
      "\n",
      "ncomp = 60          #Used 40 eigenvectors (~90% of variance)\n",
      "#Trial labels\n",
      "notes = []\n",
      "for ind,n in enumerate(tokens):\n",
      "    notes.append([n]*Fs[ind].shape[2])\n",
      "notes = np.concatenate(notes,axis=1)\n",
      "#Feature labels\n",
      "forms = ['F0','F1','F2','F3','F4']\n",
      "chans = np.arange(1,256)\n",
      "#Anatomy\n",
      "vSMC = np.concatenate((np.where(anat=='preCG')[0],np.where(anat=='postCG')[0]))\n",
      "\n",
      "#Formants = central 20% of each vowel utterance -> His formants look nicer than mine?  #TODO: Show single trace formants for each vowel\n",
      "mid = np.arange(125,150)\n",
      "Fall = np.concatenate(Fs,axis=2)\n",
      "dat = dict(zip(forms,np.nanmean(Fall[:,mid,:],axis = 1)))\n",
      "#dat['label'] = notes\n",
      "Fmid = pd.DataFrame.from_dict(dat)\n",
      "Fmid = Fmid.fillna(Fmid.median(),inplace=True)\n",
      "Fmid = (Fmid - Fmid.mean())/Fmid.std(ddof=0)\n",
      "y = Fmid\n",
      "\n",
      "#Rolling average of vSMC HG   \n",
      "centers = np.round(np.linspace(150,440,num = 75))     #10 ms window. From -650 to 100\n",
      "half_width = 2\n",
      "Ebins = [None]*centers.shape[0]\n",
      "Eall = np.concatenate(Es,axis=2)\n",
      "Eall = Eall[vSMC,:,:]\n",
      "\n",
      "boot = 10\n",
      "boat_boot = 200\n",
      "r2 = np.empty((boot,len(Ebins),y.shape[1]))\n",
      "R2 = np.empty((len(Ebins),y.shape[1]))\n",
      "R2ste = np.empty((len(Ebins),y.shape[1]))\n",
      "prog = ProgressBar(len(centers))\n",
      "for ind,cent in enumerate(centers.astype(int)):\n",
      "    \n",
      "    #Spatial PCA on all vSMC electrodes *INDEPENDENTLY for each window*\n",
      "    erange = np.arange(cent-half_width,cent+half_width)\n",
      "    e = np.nanmean(Eall[:,erange,:],axis = 1)    #mean HG in 10 ms windows\n",
      "    e = pd.DataFrame(e.transpose())\n",
      "    e = e.fillna(e.median(),inplace=True)\n",
      "    e = e.dropna(axis =1,how='any')\n",
      "\n",
      "    pca = PCA(n_components = ncomp)                \n",
      "    #pca.fit(e)\n",
      "    #var_ex = pca.explained_variance_ratio_\n",
      "    #plot(cumsum(var_ex))\n",
      "    ep = pca.fit_transform(e)       #TODO: What do the eigenvalues look like?\n",
      "\n",
      "    X = ep\n",
      "    for b in range(boot):\n",
      "\n",
      "        X_train, X_test, y_train, y_test = train_test_split(\n",
      "            X, y, test_size=0.2)\n",
      "\n",
      "        #BoATS Regression\n",
      "        for c,f in enumerate(y.columns.values):\n",
      "            \n",
      "            clf = LinearRegression(n_jobs = -1, normalize = True)    #Used early version of BoATS (train, keep only B>1sd, retrain)\n",
      "            clf.fit(X_train,y_train.loc[:,f])\n",
      "            \n",
      "            B = clf.coef_\n",
      "            \n",
      "            \n",
      "            yhat = clf.predict(X_test)\n",
      "            r = sp.stats.pearsonr(yhat,y_test.loc[:,f])[0]\n",
      "            r2[b,ind,c] = r**2\n",
      "            #r2[b,t,c] = clf.score(X_test,y_test.loc[:,f])  \n",
      "\n",
      "    prog.animate(ind)\n",
      "    R2[ind,:] = np.mean(r2[:,ind,:],axis = 0)\n",
      "    R2ste[ind,:] = np.std(r2[:,ind,:],axis = 0)/boot\n"
     ],
     "language": "python",
     "metadata": {},
     "outputs": [],
     "prompt_number": 166
    },
    {
     "cell_type": "code",
     "collapsed": false,
     "input": [
      "def formant_decode_lin(Es,Fs,tokens,anat,ncomp):\n",
      "#Least Squares Linear Regression\n",
      "    #Trial labels\n",
      "    notes = []\n",
      "    for ind,n in enumerate(tokens):\n",
      "        notes.append([n]*Fs[ind].shape[2])\n",
      "    notes = np.concatenate(notes,axis=1)\n",
      "    #Feature labels\n",
      "    forms = ['F0','F1','F2','F3','F4']\n",
      "    chans = np.arange(1,256)\n",
      "    #Anatomy\n",
      "    vSMC = np.concatenate((np.where(anat=='preCG')[0],np.where(anat=='postCG')[0]))\n",
      "\n",
      "\n",
      "    #Spatial PCA                            #TODO: Try w/o PCA #much worse (~.30 -> .15)\n",
      "    Eall = np.concatenate(Es,axis=2)\n",
      "    vSMC = np.concatenate((np.where(anat=='preCG')[0],np.where(anat=='postCG')[0]))\n",
      "    Eall = Eall[vSMC,:,:]\n",
      "    Eshaped = Eall.reshape((vSMC.shape[0],-1),order = 'F')  #TODO: try playing with timepoints included in PCA\n",
      "    e = pd.DataFrame(Eshaped.transpose())\n",
      "    e = e.fillna(e.median(),inplace=True)\n",
      "    e = e.dropna(axis =1,how='any')\n",
      "\n",
      "    pca = PCA(n_components = ncomp)                #TODO: try playing with num components from PCA\n",
      "    #pca.fit(e)\n",
      "    #var_ex = pca.explained_variance_ratio_\n",
      "    #plot(cumsum(var_ex))\n",
      "    ep = pca.fit_transform(e).transpose()       #TODO: What do the eigenvectors look like?\n",
      "    Eall = ep.reshape((ncomp,Eall.shape[1],-1),order = 'F')\n",
      "\n",
      "\n",
      "    #Rolling average of vSMC HG    \n",
      "    centers = np.round(np.linspace(10,Eall.shape[1]-10,num = 100))\n",
      "    half_width = 4\n",
      "    Ebins = [None]*centers.shape[0]\n",
      "    for ind,c in enumerate(centers.astype(int)):\n",
      "        erange = np.arange(c-half_width,c+half_width)\n",
      "        dat = dict(zip(chans,np.mean(Eall[:,erange,:],axis = 1)))\n",
      "        #dat['label'] = notes\n",
      "        #dat['vSMC'] = vSMC\n",
      "        Ebins[ind] = pd.DataFrame.from_dict(dat)\n",
      "        #Ebins[ind] = Ebins[ind].fillna(Ebins[ind].median(),inplace=True)\n",
      "        #Ebins[ind] = Ebins[ind].dropna(axis =1,how='any')\n",
      "\n",
      "    #stable portion of vowel\n",
      "    mid = np.arange(125,150)\n",
      "    Fall = np.concatenate(Fs,axis=2)\n",
      "    dat = dict(zip(forms,np.nanmean(Fall[:,mid,:],axis = 1)))\n",
      "    #dat['label'] = notes\n",
      "    Fmid = pd.DataFrame.from_dict(dat)\n",
      "    Fmid = Fmid.fillna(Fmid.median(),inplace=True)\n",
      "    Fmid = (Fmid - Fmid.mean())/Fmid.std(ddof=0)\n",
      "    boot = 100\n",
      "    y = Fmid\n",
      "    r2 = np.empty((boot,len(Ebins),y.shape[1]))\n",
      "    R2 = np.empty((len(Ebins),y.shape[1]))\n",
      "    R2ste = np.empty((len(Ebins),y.shape[1]))\n",
      "    prog = ProgressBar(len(Ebins))\n",
      "    for t,X in enumerate(Ebins):\n",
      "        for b in range(boot):\n",
      "\n",
      "            X_train, X_test, y_train, y_test = train_test_split(\n",
      "                X, y, test_size=0.2)\n",
      "\n",
      "            #Least Squares Regression\n",
      "            for c,f in enumerate(y.columns.values):\n",
      "                clf = LinearRegression(n_jobs = -1) \n",
      "                #clf = Ridge(alpha=a)\n",
      "                clf.fit(X_train,y_train.loc[:,f])\n",
      "\n",
      "                yhat = clf.predict(X_test)\n",
      "                r = sp.stats.pearsonr(yhat,y_test.loc[:,f])[0]\n",
      "                r2[b,t,c] = r**2\n",
      "                #r2[b,t,c] = clf.score(X_test,y_test.loc[:,f])  \n",
      "\n",
      "        prog.animate(t+1)\n",
      "        R2[t,:] = np.mean(r2[:,t,:],axis = 0)\n",
      "        R2ste[t,:] = np.std(r2[:,ind,:],axis = 0)/boot\n",
      "        snsR2 = r2\n",
      "        \n",
      "    return(R2,R2ste,snsR2)"
     ],
     "language": "python",
     "metadata": {},
     "outputs": []
    },
    {
     "cell_type": "code",
     "collapsed": false,
     "input": [
      "def formant_ridge_decode(Es,Fs,tokens,anat):\n",
      "    #Trial labels\n",
      "    notes = []\n",
      "    for ind,n in enumerate(tokens):\n",
      "        notes.append([n]*Fs[ind].shape[2])\n",
      "    notes = np.concatenate(notes,axis=1)\n",
      "    #Feature labels\n",
      "    forms = ['F0','F1','F2','F3','F4']\n",
      "    chans = np.arange(1,256)\n",
      "    #Anatomy\n",
      "    vSMC = np.concatenate((np.where(anat=='preCG')[0],np.where(anat=='postCG')[0]))\n",
      "\n",
      "    #Formants = central 20% of each vowel utterance \n",
      "    mid = np.arange(100,110)\n",
      "    Fall = np.concatenate(Fs,axis=2)\n",
      "    \n",
      "    dat = dict(zip(forms,np.nanmean(Fall[:,mid,:],axis = 1)))\n",
      "    #Remove NaNs\n",
      "    Fmid = pd.DataFrame.from_dict(dat)\n",
      "    Fmid = Fmid.fillna(Fmid.median(),inplace=True)\n",
      "    F2_1 = pd.Series(Fmid['F2']/Fmid['F1'],name = 'F2/F1')\n",
      "    y = pd.concat((Fmid,F2_1),axis=1)\n",
      "    #Take Log\n",
      "    #y.apply(np.log10,axis = 0)\n",
      "    #Z-score\n",
      "    y = (y - y.mean())/y.std(ddof=0)   \n",
      "\n",
      "    #average of vSMC HG over execution window \n",
      "    Eall = np.concatenate(Es,axis=2)\n",
      "    Eall = Eall[vSMC,:,:]\n",
      "    X = np.nanmean(Eall[:,np.arange(395,400),:],axis = 1).transpose()\n",
      "    X = pd.DataFrame(X)\n",
      "    X = X.fillna(X.median(),inplace=True)\n",
      "    X = X.dropna(axis =1,how='any')\n",
      "\n",
      "\n",
      "    boot = 10\n",
      "    alphas = np.logspace(-5,5,100)\n",
      "    r2 = np.empty((boot,y.shape[1],len(alphas)))\n",
      "    R2 = np.empty((y.shape[1],len(alphas)))\n",
      "    R2ste = np.empty((y.shape[1],len(alphas)))\n",
      "\n",
      "    prog = ProgressBar(len(alphas))\n",
      "    for inda,a in enumerate(alphas):\n",
      "        for b in range(boot):\n",
      "\n",
      "            X_train, X_test, y_train, y_test = train_test_split(\n",
      "                X, y, test_size=0.2)\n",
      "\n",
      "            #Ridge Regression\n",
      "            for c,f in enumerate(y.columns.values):\n",
      "\n",
      "                clf = Ridge(alpha = a, fit_intercept = False, normalize = True)   \n",
      "                clf.fit(X_train,y_train.loc[:,f])\n",
      "\n",
      "                #B = clf.coef_\n",
      "\n",
      "\n",
      "                yhat = clf.predict(X_test)\n",
      "                r = sp.stats.pearsonr(yhat,y_test.loc[:,f])[0]\n",
      "                r2[b,c,inda] = r**2\n",
      "                #r2[b,t,c] = clf.score(X_test,y_test.loc[:,f])  \n",
      "\n",
      "\n",
      "        R2[:,inda] = np.mean(r2[:,:,inda],axis = 0)\n",
      "        R2ste[:,inda] = np.std(r2[:,:,inda],axis = 0)/np.sqrt(boot)\n",
      "    prog.animate(inda)\n",
      "\n",
      "    fig, axes = plt.subplots(figsize=(12,12))\n",
      "\n",
      "    for cnt,f in enumerate(Fs):\n",
      "        ppl.scatter(np.nanmean(f[1,mid,:],axis = 0),np.nanmean(f[2,mid,:],axis = 0), alpha = 1, s=60)\n",
      "    plt.xlabel('F1')\n",
      "    plt.ylabel('F2')\n",
      "    ppl.legend(tokens, bbox_to_anchor=(1, 1))\n",
      "\n",
      "    return(R2,R2ste,r2)"
     ],
     "language": "python",
     "metadata": {},
     "outputs": [],
     "prompt_number": 19
    },
    {
     "cell_type": "code",
     "collapsed": false,
     "input": [
      "R2.shape"
     ],
     "language": "python",
     "metadata": {},
     "outputs": [
      {
       "metadata": {},
       "output_type": "pyout",
       "prompt_number": 13,
       "text": [
        "(6, 100)"
       ]
      }
     ],
     "prompt_number": 13
    },
    {
     "cell_type": "code",
     "collapsed": false,
     "input": [
      "plt.pcolor(R2)\n",
      "plt.colorbar()"
     ],
     "language": "python",
     "metadata": {},
     "outputs": [
      {
       "metadata": {},
       "output_type": "pyout",
       "prompt_number": 14,
       "text": [
        "<matplotlib.colorbar.Colorbar instance at 0x12e52e638>"
       ]
      },
      {
       "metadata": {},
       "output_type": "display_data",
       "png": "[encoded data removed]",
       "text": [
        "<matplotlib.figure.Figure at 0x11188d990>"
       ]
      }
     ],
     "prompt_number": 14
    },
    {
     "cell_type": "code",
     "collapsed": false,
     "input": [],
     "language": "python",
     "metadata": {},
     "outputs": []
    },
    {
     "cell_type": "code",
     "collapsed": false,
     "input": [],
     "language": "python",
     "metadata": {},
     "outputs": []
    },
    {
     "cell_type": "code",
     "collapsed": false,
     "input": [
      "Fall = \n",
      "med_param = np.int(np.round(.08/dt/2)*2-1)\n",
      "pdata[np.isnan(pdata)] = 0\n",
      "#pdata = scipy.signal.medfilt(pdata,9)\n",
      "pdata = \n",
      "\n",
      "pdata[pdata == 0] = np.nan\n",
      "pdata = np.log(pdata)\n",
      "if not np.all(np.isnan(pdata)):\n",
      "    pdata = fill_nan(pdata,kind='linear')\n",
      "# extrapolate data to beginning of trial\n",
      "\n",
      "pdata = np.exp(pdata)\n",
      "for i in reversed(range(len(pdata)-1)):\n",
      "    if isnan(pdata[i]):\n",
      "        pdata[i] = pdata[i+1]\n",
      "\n",
      "pdata = smooth(pdata,med_param)"
     ],
     "language": "python",
     "metadata": {},
     "outputs": []
    },
    {
     "cell_type": "code",
     "collapsed": false,
     "input": [
      "Fall = np.concatenate(Fs,axis=2)\n",
      "        #Derivative\n",
      "figure\n",
      "plot(Fall[1,:,1])\n",
      "sp.signal.medfilt(Fall[1,:,:],kernel_size=5)\n",
      "figure\n",
      "plot(Fall[1,:,1])\n",
      "\n",
      "\n",
      "y.apply(sp.misc.derivative, axis = 0)"
     ],
     "language": "python",
     "metadata": {},
     "outputs": [
      {
       "ename": "ValueError",
       "evalue": "('The truth value of a Series is ambiguous. Use a.empty, a.bool(), a.item(), a.any() or a.all().', u'occurred at index F0')",
       "output_type": "pyerr",
       "traceback": [
        "\u001b[0;31m---------------------------------------------------------------------------\u001b[0m\n\u001b[0;31mValueError\u001b[0m                                Traceback (most recent call last)",
        "\u001b[0;32m<ipython-input-18-605cbeaa056f>\u001b[0m in \u001b[0;36m<module>\u001b[0;34m()\u001b[0m\n\u001b[1;32m      6\u001b[0m \u001b[0mfigure\u001b[0m\u001b[0;34m\u001b[0m\u001b[0m\n\u001b[1;32m      7\u001b[0m \u001b[0mplot\u001b[0m\u001b[0;34m(\u001b[0m\u001b[0mFall\u001b[0m\u001b[0;34m[\u001b[0m\u001b[0;36m1\u001b[0m\u001b[0;34m,\u001b[0m\u001b[0;34m:\u001b[0m\u001b[0;34m,\u001b[0m\u001b[0;36m1\u001b[0m\u001b[0;34m]\u001b[0m\u001b[0;34m)\u001b[0m\u001b[0;34m\u001b[0m\u001b[0m\n\u001b[0;32m----> 8\u001b[0;31m \u001b[0my\u001b[0m\u001b[0;34m.\u001b[0m\u001b[0mapply\u001b[0m\u001b[0;34m(\u001b[0m\u001b[0mnp\u001b[0m\u001b[0;34m.\u001b[0m\u001b[0mhanning\u001b[0m\u001b[0;34m)\u001b[0m\u001b[0;34m\u001b[0m\u001b[0m\n\u001b[0m\u001b[1;32m      9\u001b[0m \u001b[0mplot\u001b[0m\u001b[0;34m(\u001b[0m\u001b[0my\u001b[0m\u001b[0;34m[\u001b[0m\u001b[0;34m'F2/F1'\u001b[0m\u001b[0;34m]\u001b[0m\u001b[0;34m)\u001b[0m\u001b[0;34m\u001b[0m\u001b[0m\n\u001b[1;32m     10\u001b[0m \u001b[0my\u001b[0m\u001b[0;34m.\u001b[0m\u001b[0mapply\u001b[0m\u001b[0;34m(\u001b[0m\u001b[0msp\u001b[0m\u001b[0;34m.\u001b[0m\u001b[0mmisc\u001b[0m\u001b[0;34m.\u001b[0m\u001b[0mderivative\u001b[0m\u001b[0;34m,\u001b[0m \u001b[0maxis\u001b[0m \u001b[0;34m=\u001b[0m \u001b[0;36m0\u001b[0m\u001b[0;34m)\u001b[0m\u001b[0;34m\u001b[0m\u001b[0m\n",
        "\u001b[0;32m/Users/david_conant/Library/Enthought/Canopy_64bit/User/lib/python2.7/site-packages/pandas/core/frame.pyc\u001b[0m in \u001b[0;36mapply\u001b[0;34m(self, func, axis, broadcast, raw, reduce, args, **kwds)\u001b[0m\n\u001b[1;32m   3687\u001b[0m                     \u001b[0;32mif\u001b[0m \u001b[0mreduce\u001b[0m \u001b[0;32mis\u001b[0m \u001b[0mNone\u001b[0m\u001b[0;34m:\u001b[0m\u001b[0;34m\u001b[0m\u001b[0m\n\u001b[1;32m   3688\u001b[0m                         \u001b[0mreduce\u001b[0m \u001b[0;34m=\u001b[0m \u001b[0mTrue\u001b[0m\u001b[0;34m\u001b[0m\u001b[0m\n\u001b[0;32m-> 3689\u001b[0;31m                     \u001b[0;32mreturn\u001b[0m \u001b[0mself\u001b[0m\u001b[0;34m.\u001b[0m\u001b[0m_apply_standard\u001b[0m\u001b[0;34m(\u001b[0m\u001b[0mf\u001b[0m\u001b[0;34m,\u001b[0m \u001b[0maxis\u001b[0m\u001b[0;34m,\u001b[0m \u001b[0mreduce\u001b[0m\u001b[0;34m=\u001b[0m\u001b[0mreduce\u001b[0m\u001b[0;34m)\u001b[0m\u001b[0;34m\u001b[0m\u001b[0m\n\u001b[0m\u001b[1;32m   3690\u001b[0m             \u001b[0;32melse\u001b[0m\u001b[0;34m:\u001b[0m\u001b[0;34m\u001b[0m\u001b[0m\n\u001b[1;32m   3691\u001b[0m                 \u001b[0;32mreturn\u001b[0m \u001b[0mself\u001b[0m\u001b[0;34m.\u001b[0m\u001b[0m_apply_broadcast\u001b[0m\u001b[0;34m(\u001b[0m\u001b[0mf\u001b[0m\u001b[0;34m,\u001b[0m \u001b[0maxis\u001b[0m\u001b[0;34m)\u001b[0m\u001b[0;34m\u001b[0m\u001b[0m\n",
        "\u001b[0;32m/Users/david_conant/Library/Enthought/Canopy_64bit/User/lib/python2.7/site-packages/pandas/core/frame.pyc\u001b[0m in \u001b[0;36m_apply_standard\u001b[0;34m(self, func, axis, ignore_failures, reduce)\u001b[0m\n\u001b[1;32m   3777\u001b[0m             \u001b[0;32mtry\u001b[0m\u001b[0;34m:\u001b[0m\u001b[0;34m\u001b[0m\u001b[0m\n\u001b[1;32m   3778\u001b[0m                 \u001b[0;32mfor\u001b[0m \u001b[0mi\u001b[0m\u001b[0;34m,\u001b[0m \u001b[0mv\u001b[0m \u001b[0;32min\u001b[0m \u001b[0menumerate\u001b[0m\u001b[0;34m(\u001b[0m\u001b[0mseries_gen\u001b[0m\u001b[0;34m)\u001b[0m\u001b[0;34m:\u001b[0m\u001b[0;34m\u001b[0m\u001b[0m\n\u001b[0;32m-> 3779\u001b[0;31m                     \u001b[0mresults\u001b[0m\u001b[0;34m[\u001b[0m\u001b[0mi\u001b[0m\u001b[0;34m]\u001b[0m \u001b[0;34m=\u001b[0m \u001b[0mfunc\u001b[0m\u001b[0;34m(\u001b[0m\u001b[0mv\u001b[0m\u001b[0;34m)\u001b[0m\u001b[0;34m\u001b[0m\u001b[0m\n\u001b[0m\u001b[1;32m   3780\u001b[0m                     \u001b[0mkeys\u001b[0m\u001b[0;34m.\u001b[0m\u001b[0mappend\u001b[0m\u001b[0;34m(\u001b[0m\u001b[0mv\u001b[0m\u001b[0;34m.\u001b[0m\u001b[0mname\u001b[0m\u001b[0;34m)\u001b[0m\u001b[0;34m\u001b[0m\u001b[0m\n\u001b[1;32m   3781\u001b[0m             \u001b[0;32mexcept\u001b[0m \u001b[0mException\u001b[0m \u001b[0;32mas\u001b[0m \u001b[0me\u001b[0m\u001b[0;34m:\u001b[0m\u001b[0;34m\u001b[0m\u001b[0m\n",
        "\u001b[0;32m/Users/david_conant/Library/Enthought/Canopy_64bit/User/lib/python2.7/site-packages/numpy/lib/function_base.pyc\u001b[0m in \u001b[0;36mhanning\u001b[0;34m(M)\u001b[0m\n\u001b[1;32m   2119\u001b[0m \u001b[0;34m\u001b[0m\u001b[0m\n\u001b[1;32m   2120\u001b[0m     \"\"\"\n\u001b[0;32m-> 2121\u001b[0;31m     \u001b[0;32mif\u001b[0m \u001b[0mM\u001b[0m \u001b[0;34m<\u001b[0m \u001b[0;36m1\u001b[0m\u001b[0;34m:\u001b[0m\u001b[0;34m\u001b[0m\u001b[0m\n\u001b[0m\u001b[1;32m   2122\u001b[0m         \u001b[0;32mreturn\u001b[0m \u001b[0marray\u001b[0m\u001b[0;34m(\u001b[0m\u001b[0;34m[\u001b[0m\u001b[0;34m]\u001b[0m\u001b[0;34m)\u001b[0m\u001b[0;34m\u001b[0m\u001b[0m\n\u001b[1;32m   2123\u001b[0m     \u001b[0;32mif\u001b[0m \u001b[0mM\u001b[0m \u001b[0;34m==\u001b[0m \u001b[0;36m1\u001b[0m\u001b[0;34m:\u001b[0m\u001b[0;34m\u001b[0m\u001b[0m\n",
        "\u001b[0;32m/Users/david_conant/Library/Enthought/Canopy_64bit/User/lib/python2.7/site-packages/pandas/core/generic.pyc\u001b[0m in \u001b[0;36m__nonzero__\u001b[0;34m(self)\u001b[0m\n\u001b[1;32m    707\u001b[0m         raise ValueError(\"The truth value of a {0} is ambiguous. \"\n\u001b[1;32m    708\u001b[0m                          \u001b[0;34m\"Use a.empty, a.bool(), a.item(), a.any() or a.all().\"\u001b[0m\u001b[0;34m\u001b[0m\u001b[0m\n\u001b[0;32m--> 709\u001b[0;31m                          .format(self.__class__.__name__))\n\u001b[0m\u001b[1;32m    710\u001b[0m \u001b[0;34m\u001b[0m\u001b[0m\n\u001b[1;32m    711\u001b[0m     \u001b[0m__bool__\u001b[0m \u001b[0;34m=\u001b[0m \u001b[0m__nonzero__\u001b[0m\u001b[0;34m\u001b[0m\u001b[0m\n",
        "\u001b[0;31mValueError\u001b[0m: ('The truth value of a Series is ambiguous. Use a.empty, a.bool(), a.item(), a.any() or a.all().', u'occurred at index F0')"
       ]
      },
      {
       "metadata": {},
       "output_type": "display_data",
       "png": "[encoded data removed]",
       "text": [
        "<matplotlib.figure.Figure at 0x12e18ead0>"
       ]
      }
     ],
     "prompt_number": 18
    },
    {
     "cell_type": "code",
     "collapsed": false,
     "input": [
      "med_param = np.int(np.round(.08/dt/2)*2-1)"
     ],
     "language": "python",
     "metadata": {},
     "outputs": [
      {
       "output_type": "stream",
       "stream": "stderr",
       "text": [
        "[autoreload of ECoGstats failed: Traceback (most recent call last):\n",
        "  File \"/Users/david_conant/anaconda/lib/python2.7/site-packages/IPython/extensions/autoreload.py\", line 247, in check\n",
        "    superreload(m, reload, self.old_objects)\n",
        "NameError: name 'dt' is not defined\n",
        "]\n"
       ]
      },
      {
       "ename": "NameError",
       "evalue": "name 'dt' is not defined",
       "output_type": "pyerr",
       "traceback": [
        "\u001b[0;31m---------------------------------------------------------------------------\u001b[0m\n\u001b[0;31mNameError\u001b[0m                                 Traceback (most recent call last)",
        "\u001b[0;32m<ipython-input-15-ec8f46ea7849>\u001b[0m in \u001b[0;36m<module>\u001b[0;34m()\u001b[0m\n\u001b[0;32m----> 1\u001b[0;31m \u001b[0mmed_param\u001b[0m \u001b[0;34m=\u001b[0m \u001b[0mnp\u001b[0m\u001b[0;34m.\u001b[0m\u001b[0mint\u001b[0m\u001b[0;34m(\u001b[0m\u001b[0mnp\u001b[0m\u001b[0;34m.\u001b[0m\u001b[0mround\u001b[0m\u001b[0;34m(\u001b[0m\u001b[0;36m.08\u001b[0m\u001b[0;34m/\u001b[0m\u001b[0mdt\u001b[0m\u001b[0;34m/\u001b[0m\u001b[0;36m2\u001b[0m\u001b[0;34m)\u001b[0m\u001b[0;34m*\u001b[0m\u001b[0;36m2\u001b[0m\u001b[0;34m-\u001b[0m\u001b[0;36m1\u001b[0m\u001b[0;34m)\u001b[0m\u001b[0;34m\u001b[0m\u001b[0m\n\u001b[0m",
        "\u001b[0;31mNameError\u001b[0m: name 'dt' is not defined"
       ]
      }
     ],
     "prompt_number": 15
    },
    {
     "cell_type": "code",
     "collapsed": false,
     "input": [
      "Fall.shape"
     ],
     "language": "python",
     "metadata": {},
     "outputs": [
      {
       "metadata": {},
       "output_type": "pyout",
       "prompt_number": 17,
       "text": [
        "(5, 200, 57)"
       ]
      }
     ],
     "prompt_number": 17
    },
    {
     "cell_type": "code",
     "collapsed": false,
     "input": [],
     "language": "python",
     "metadata": {},
     "outputs": []
    }
   ],
   "metadata": {}
  }
 ]
}