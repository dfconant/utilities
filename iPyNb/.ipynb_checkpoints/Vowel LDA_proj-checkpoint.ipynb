{
 "metadata": {
  "name": "",
  "signature": "sha256:d2f8325e0dec2bca8e41c734ea486e38a13cad2301dbca150759dc80f4e492c0"
 },
 "nbformat": 3,
 "nbformat_minor": 0,
 "worksheets": [
  {
   "cells": [
    {
     "cell_type": "code",
     "collapsed": false,
     "input": [
      "#Intitialize\n",
      "%load_ext autoreload\n",
      "%autoreload 2\n",
      "%matplotlib inline\n",
      "import ecog_viz as ev\n",
      "import numpy as np\n",
      "import scipy as sp\n",
      "import matplotlib as mpl\n",
      "from brain.dataformat.brainformat import *\n",
      "from matplotlib import pyplot as plt\n",
      "import numpy as np\n",
      "from brain_utils import brainBaseline\n",
      "from brain_utils import smooth_formants\n",
      "import pandas as pd\n",
      "from BDutils import ProgressBar\n",
      "from DCstats import LDA_class\n",
      "from Smooth import savitzky_golay\n",
      "import prettyplotlib as ppl\n",
      "import brewer2mpl\n",
      "import matplotlib.gridspec as gridspec\n",
      "import seaborn as sns\n",
      "import scipy.spatial.distance as spd\n",
      "import scipy.cluster.hierarchy as sch\n",
      "from sklearn import manifold\n",
      "from scipy.stats import mstats\n",
      "import pdb\n",
      "sns.set_style('white')\n",
      "sns.set_context('talk')\n",
      "sns.set_palette('Set1', n_colors = 9)"
     ],
     "language": "python",
     "metadata": {},
     "outputs": [
      {
       "output_type": "stream",
       "stream": "stdout",
       "text": [
        "The autoreload extension is already loaded. To reload it, use:\n",
        "  %reload_ext autoreload\n"
       ]
      }
     ],
     "prompt_number": 83
    },
    {
     "cell_type": "code",
     "collapsed": false,
     "input": [
      "def euclid_LDA_similarity(pth1,pth2):\n",
      "    #Load Data\n",
      "    f = BrainDataFile(pth1 , 'r')\n",
      "    i = f.data().internal()\n",
      "    e = i.ecog_data_processed(0)\n",
      "    e_z = brainBaseline(e)\n",
      "\n",
      "    f = BrainDataFile(pth2 , 'r')\n",
      "    i = f.data().internal()\n",
      "    a = i.ecog_data_processed(0)\n",
      "    chans = np.array(e.dims(axis = 'space',get_hdf = False)[0]['dataset'])\n",
      "    notes = np.array(e.dims(axis = 'channels', get_hdf = False)[1]['dataset'])\n",
      "    forms = np.array(a.dims(axis = 'space', get_hdf = False)[0]['dataset'])\n",
      "    anat = np.array(e.dims(axis = 'space', get_hdf = False)[2]['dataset']);\n",
      "    vSMC = np.where(anat==1|2)[0]\n",
      "\n",
      "    t = np.arange(50)*50-1000\n",
      "    f_proj = pd.DataFrame(np.nanmean(a.ecog_data()[:,100:125,:],axis = 1).transpose(),columns = forms, index = notes)\n",
      "    f_proj = f_proj.fillna(f_proj.median(),inplace=True)\n",
      "    f_proj = f_proj.dropna(axis =1,how='any')\n",
      "    f_proj = f_proj.apply(mstats.zscore)\n",
      "    \n",
      "    e_proj = pd.DataFrame(np.nanmean(e_z[vSMC,175:200,:],axis = 1).transpose(),columns = chans[vSMC], index = notes)\n",
      "    e_proj = e_proj.fillna(e_proj.median(),inplace=True)\n",
      "    e_proj = e_proj.dropna(axis =1,how='any')\n",
      "\n",
      "    sns.set_style('white')\n",
      "    sns.set_context('talk')\n",
      "    sns.set_palette('Set1', n_colors = 9)\n",
      "\n",
      "\n",
      "    fig = plt.figure(figsize = (20,30))\n",
      "    gs1 = gridspec.GridSpec(150,100)\n",
      "\n",
      "    ax1 = plt.subplot(gs1[5:50,1:45])\n",
      "    ax1.set_xlabel('Formant LD1')\n",
      "    ax1.set_ylabel('Formant LD2')\n",
      "    f_proj = ev.LDA_proj_scatter(f_proj, leg = False, sc = True)\n",
      "    f_centroids = f_proj.groupby(f_proj.index).aggregate(np.median)\n",
      "\n",
      "\n",
      "    ax2 = plt.subplot(gs1[5:50,55:100])\n",
      "    ax2.set_xlabel('Neural LD1')\n",
      "    ax2.set_ylabel('Neural LD2')\n",
      "    e_proj = ev.LDA_proj_scatter(e_proj, sc = True)\n",
      "    e_centroids = e_proj.groupby(e_proj.index).aggregate(np.median)\n",
      "\n",
      "    ax3 = plt.subplot(gs1[60:95,3:48])\n",
      "    f_dist = pd.DataFrame(spd.squareform(spd.pdist(f_centroids.values[:,0:2])),\n",
      "                  columns = f_centroids.index,index = f_centroids.index)\n",
      "    ax3 = sns.heatmap(f_dist)\n",
      "\n",
      "    ax4 = plt.subplot(gs1[60:95,55:100])\n",
      "    e_dist = pd.DataFrame(spd.squareform(spd.pdist(e_centroids.values[:,0:2])),\n",
      "                  columns = e_centroids.index,index = e_centroids.index)\n",
      "    ax4 = sns.heatmap(e_dist)\n",
      "\n",
      "    ax5 = plt.subplot(gs1[105:145,1:45])\n",
      "    f_dend = sch.linkage(f_dist, method = 'centroid')\n",
      "    ax5 = sch.dendrogram(f_dend, color_threshold=4,labels = f_dist.index)\n",
      "\n",
      "    ax6 = plt.subplot(gs1[105:145,55:100])\n",
      "    e_dend = sch.linkage(e_dist, method = 'centroid')\n",
      "    ax6 = sch.dendrogram(e_dend, color_threshold=4.36,labels = e_dist.index)"
     ],
     "language": "python",
     "metadata": {},
     "outputs": [],
     "prompt_number": 79
    },
    {
     "cell_type": "code",
     "collapsed": false,
     "input": [
      "pth1 = '/Users/david_conant/Dropbox/EC84/EC84.prod.hVd.B65_78_82_85_93_95.align1_2.neural.h5'\n",
      "pth2 = '/Users/david_conant/Dropbox/EC84/EC84.prod.hVd.B65_78_82_85_93_95.align1_2.form.h5'\n",
      "euclid_LDA_similarity(pth1,pth2)"
     ],
     "language": "python",
     "metadata": {},
     "outputs": [
      {
       "metadata": {},
       "output_type": "display_data",
       "png": "[encoded data removed]",
       "text": [
        "<matplotlib.figure.Figure at 0x116798910>"
       ]
      }
     ],
     "prompt_number": 80
    },
    {
     "cell_type": "code",
     "collapsed": false,
     "input": [],
     "language": "python",
     "metadata": {},
     "outputs": [],
     "prompt_number": 63
    },
    {
     "cell_type": "code",
     "collapsed": false,
     "input": [],
     "language": "python",
     "metadata": {},
     "outputs": [],
     "prompt_number": 63
    },
    {
     "cell_type": "code",
     "collapsed": false,
     "input": [
      "def LDA_timecourse(pth1,pth2):\n",
      "    #Load Data\n",
      "    f = BrainDataFile(pth1 , 'r')\n",
      "    i = f.data().internal()\n",
      "    e = i.ecog_data_processed(0)\n",
      "    e_z = brainBaseline(e)\n",
      "    \n",
      "    f = BrainDataFile(pth2 , 'r')\n",
      "    i = f.data().internal()\n",
      "    a = i.ecog_data_processed(0)\n",
      "    a_sm = a.ecog_data()[:]\n",
      "    chans = np.array(e.dims(axis = 'space',get_hdf = False)[0]['dataset'])\n",
      "    notes = np.array(e.dims(axis = 'channels', get_hdf = False)[1]['dataset'])\n",
      "    forms = np.array(a.dims(axis = 'space', get_hdf = False)[0]['dataset'])\n",
      "    anat = np.array(e.dims(axis = 'space', get_hdf = False)[2]['dataset']);\n",
      "    vSMC = np.where(anat==1|2)[0]\n",
      "    \n",
      "    LDA_score_e = np.empty((100,50))\n",
      "    p = ProgressBar(50)\n",
      "    for i,t in enumerate(range(0,500,10)):\n",
      "        p.animate(i)\n",
      "        win_e = pd.DataFrame(np.nanmean(e_z[vSMC,t:t+20,:],axis = 1).transpose(),columns = chans[vSMC], index = notes)\n",
      "        win_e = win_e.fillna(win_e.median(),inplace=True)\n",
      "        win_e = win_e.dropna(axis =1,how='any')\n",
      "        LDA_score_e[:,i] = LDA_class(win_e.values,win_e.index)\n",
      "\n",
      "    LDA_score_f = np.empty((100,50))\n",
      "    sec = np.empty((50,1))\n",
      "    p = ProgressBar(50)\n",
      "    for i,t in enumerate(range(0,250,5)):\n",
      "        p.animate(i)\n",
      "        win_f = pd.DataFrame(np.nanmean(a_sm[:,t:t+10,:],axis = 1).transpose(), index = notes)\n",
      "        win_f = win_f.fillna(win_f.median(),inplace=True)\n",
      "        win_f = win_f.dropna(axis =1,how='any')\n",
      "        LDA_score_f[:,i] = LDA_class(win_f.values,win_f.index)\n",
      "        sec[i] = (t - 100)/100*1000+100\n",
      "    f_mean = savitzky_golay(np.nanmean(LDA_score_f,axis = 0),5,3)\n",
      "    f_se = np.nanstd(LDA_score_f,axis=0)/LDA_score_f.shape[0]\n",
      "    e_mean = savitzky_golay(np.nanmean(LDA_score_e,axis = 0),11,3)\n",
      "    e_se = np.nanstd(LDA_score_e,axis=0)/LDA_score_e.shape[0]\n",
      "    max_f = np.argmax(f_mean,axis = 0)  \n",
      "    max_f_win = np.arange(max_f*5-10,max_f*5+10)\n",
      "    max_e = np.argmax(e_mean,axis = 0)\n",
      "    max_e_win = np.arange(max_e*10-20,max_e*10+20)\n",
      "    \n",
      "    t = np.arange(50)*50-1000\n",
      "    f_proj = pd.DataFrame(np.nanmean(a.ecog_data()[:,max_f_win,:],axis = 1).transpose(),columns = forms, index = notes)\n",
      "    f_proj = f_proj.fillna(f_proj.median(),inplace=True)\n",
      "    f_proj = f_proj.dropna(axis =1,how='any')\n",
      "    pdb.set_trace()\n",
      "    tmp = e_z[vSMC,:,:]\n",
      "    e_proj = pd.DataFrame(np.nanmean(tmp[:,max_e_win,:],axis = 1).transpose(),columns = chans[vSMC], index = notes)\n",
      "    e_proj = e_proj.fillna(e_proj.median(),inplace=True)\n",
      "    e_proj = e_proj.dropna(axis =1,how='any')\n",
      "\n",
      "    fig = plt.figure(figsize = (15,45))\n",
      "    \n",
      "    c0,c1,c2 = brewer2mpl.get_map('Set1', 'qualitative', 3).mpl_colors\n",
      "    gs1 = gridspec.GridSpec(6,3)\n",
      "    #gs1.update(left=0.05, right=.95, wspace=0.05)\n",
      "    sns.set_style('darkgrid')\n",
      "    sns.set_context('talk')\n",
      "    \n",
      "    ax1 = plt.subplot(gs1[0,:])\n",
      "    ax2 = plt.subplot(gs1[1,:])\n",
      "\n",
      "    ppl.plot(t,f_mean,ax = ax1,color = c1)\n",
      "    ppl.fill_between(t,f_mean-f_se,f_mean+f_se,ax=ax1,color = c1)\n",
      "    ppl.plot([max_f*50 - 1000,max_f*50 - 1000],[ax1.get_ylim()[0],ax1.get_ylim()[1]],ax = ax1);\n",
      "    ax1.set_ylabel('Formant LDA Classification')\n",
      "    ax1.set_xticklabels([]);\n",
      "\n",
      "    ppl.plot(t,e_mean,ax = ax2, color = c2)\n",
      "    ppl.fill_between(t,e_mean-e_se,e_mean+e_se,ax=ax2,color = c2)\n",
      "    ppl.plot([max_e*50 - 1000,max_e*50 - 1000],[ax2.get_ylim()[0],ax2.get_ylim()[1]],ax = ax2);\n",
      "    ax2.set_xlabel('time (ms)')\n",
      "    ax2.set_ylabel('Neural LDA Classification')\n",
      "\n",
      "\n",
      "    sns.set_style('white')\n",
      "    sns.set_context('talk')\n",
      "    sns.set_palette('Set1', n_colors = 9)\n",
      "\n",
      "    ax3 = plt.subplot(gs1[2:4,:])\n",
      "    ax3.set_xlabel('Formant LD1')\n",
      "    ax3.set_ylabel('Formant LD2')\n",
      "    ev.LDA_proj_scatter(f_proj,sc=True)\n",
      "\n",
      "    \n",
      "    ax4 = plt.subplot(gs1[4:6,:])\n",
      "    ax4.set_xlabel('Neural LD1')\n",
      "    ax4.set_ylabel('Neural LD2')\n",
      "    ev.LDA_proj_scatter(e_proj)"
     ],
     "language": "python",
     "metadata": {},
     "outputs": [],
     "prompt_number": 84
    },
    {
     "cell_type": "code",
     "collapsed": false,
     "input": [
      "pth1 = '/Users/david_conant/Dropbox/EC84/EC84.prod.hVd.B65_78_82_85_93_95.align1_2.neural.h5'\n",
      "pth2 = '/Users/david_conant/Dropbox/EC84/EC84.prod.hVd.B65_78_82_85_93_95.align1_2.form.h5'\n",
      "LDA_timecourse(pth1,pth2)"
     ],
     "language": "python",
     "metadata": {},
     "outputs": [
      {
       "output_type": "stream",
       "stream": "stdout",
       "text": [
        "\r",
        " [                       0%                       ]"
       ]
      },
      {
       "output_type": "stream",
       "stream": "stdout",
       "text": [
        "\r",
        " [*                      2%                       ]  1 of 50 complete"
       ]
      },
      {
       "output_type": "stream",
       "stream": "stdout",
       "text": [
        "\r",
        " [**                     4%                       ]  2 of 50 complete"
       ]
      },
      {
       "output_type": "stream",
       "stream": "stdout",
       "text": [
        "\r",
        " [***                    6%                       ]  3 of 50 complete"
       ]
      },
      {
       "output_type": "stream",
       "stream": "stdout",
       "text": [
        "\r",
        " [****                   8%                       ]  4 of 50 complete"
       ]
      },
      {
       "output_type": "stream",
       "stream": "stdout",
       "text": [
        "\r",
        " [*****                 10%                       ]  5 of 50 complete"
       ]
      },
      {
       "output_type": "stream",
       "stream": "stdout",
       "text": [
        "\r",
        " [******                12%                       ]  6 of 50 complete"
       ]
      },
      {
       "output_type": "stream",
       "stream": "stdout",
       "text": [
        "\r",
        " [*******               14%                       ]  7 of 50 complete"
       ]
      },
      {
       "output_type": "stream",
       "stream": "stdout",
       "text": [
        "\r",
        " [********              16%                       ]  8 of 50 complete"
       ]
      },
      {
       "output_type": "stream",
       "stream": "stdout",
       "text": [
        "\r",
        " [*********             18%                       ]  9 of 50 complete"
       ]
      },
      {
       "output_type": "stream",
       "stream": "stdout",
       "text": [
        "\r",
        " [**********            20%                       ]  10 of 50 complete"
       ]
      },
      {
       "output_type": "stream",
       "stream": "stdout",
       "text": [
        "\r",
        " [***********           22%                       ]  11 of 50 complete"
       ]
      },
      {
       "output_type": "stream",
       "stream": "stdout",
       "text": [
        "\r",
        " [************          24%                       ]  12 of 50 complete"
       ]
      },
      {
       "output_type": "stream",
       "stream": "stdout",
       "text": [
        "\r",
        " [************          26%                       ]  13 of 50 complete"
       ]
      },
      {
       "output_type": "stream",
       "stream": "stdout",
       "text": [
        "\r",
        " [*************         28%                       ]  14 of 50 complete"
       ]
      },
      {
       "output_type": "stream",
       "stream": "stdout",
       "text": [
        "\r",
        " [**************        30%                       ]  15 of 50 complete"
       ]
      },
      {
       "output_type": "stream",
       "stream": "stdout",
       "text": [
        "\r",
        " [***************       32%                       ]  16 of 50 complete"
       ]
      },
      {
       "output_type": "stream",
       "stream": "stdout",
       "text": [
        "\r",
        " [****************      34%                       ]  17 of 50 complete"
       ]
      },
      {
       "output_type": "stream",
       "stream": "stdout",
       "text": [
        "\r",
        " [*****************     36%                       ]  18 of 50 complete"
       ]
      },
      {
       "output_type": "stream",
       "stream": "stdout",
       "text": [
        "\r",
        " [******************    38%                       ]  19 of 50 complete"
       ]
      },
      {
       "output_type": "stream",
       "stream": "stdout",
       "text": [
        "\r",
        " [*******************   40%                       ]  20 of 50 complete"
       ]
      },
      {
       "output_type": "stream",
       "stream": "stdout",
       "text": [
        "\r",
        " [********************  42%                       ]  21 of 50 complete"
       ]
      },
      {
       "output_type": "stream",
       "stream": "stdout",
       "text": [
        "\r",
        " [********************* 44%                       ]  22 of 50 complete"
       ]
      },
      {
       "output_type": "stream",
       "stream": "stdout",
       "text": [
        "\r",
        " [**********************46%                       ]  23 of 50 complete"
       ]
      },
      {
       "output_type": "stream",
       "stream": "stdout",
       "text": [
        "\r",
        " [**********************48%                       ]  24 of 50 complete"
       ]
      },
      {
       "output_type": "stream",
       "stream": "stdout",
       "text": [
        "\r",
        " [**********************50%                       ]  25 of 50 complete"
       ]
      },
      {
       "output_type": "stream",
       "stream": "stdout",
       "text": [
        "\r",
        " [**********************52%                       ]  26 of 50 complete"
       ]
      },
      {
       "output_type": "stream",
       "stream": "stdout",
       "text": [
        "\r",
        " [**********************54%*                      ]  27 of 50 complete"
       ]
      },
      {
       "output_type": "stream",
       "stream": "stdout",
       "text": [
        "\r",
        " [**********************56%**                     ]  28 of 50 complete"
       ]
      },
      {
       "output_type": "stream",
       "stream": "stdout",
       "text": [
        "\r",
        " [**********************58%***                    ]  29 of 50 complete"
       ]
      },
      {
       "output_type": "stream",
       "stream": "stdout",
       "text": [
        "\r",
        " [**********************60%****                   ]  30 of 50 complete"
       ]
      },
      {
       "output_type": "stream",
       "stream": "stdout",
       "text": [
        "\r",
        " [**********************62%*****                  ]  31 of 50 complete"
       ]
      },
      {
       "output_type": "stream",
       "stream": "stdout",
       "text": [
        "\r",
        " [**********************64%******                 ]  32 of 50 complete"
       ]
      },
      {
       "output_type": "stream",
       "stream": "stdout",
       "text": [
        "\r",
        " [**********************66%*******                ]  33 of 50 complete"
       ]
      },
      {
       "output_type": "stream",
       "stream": "stdout",
       "text": [
        "\r",
        " [**********************68%********               ]  34 of 50 complete"
       ]
      },
      {
       "output_type": "stream",
       "stream": "stdout",
       "text": [
        "\r",
        " [**********************70%*********              ]  35 of 50 complete"
       ]
      },
      {
       "output_type": "stream",
       "stream": "stdout",
       "text": [
        "\r",
        " [**********************72%**********             ]  36 of 50 complete"
       ]
      },
      {
       "output_type": "stream",
       "stream": "stdout",
       "text": [
        "\r",
        " [**********************74%***********            ]  37 of 50 complete"
       ]
      },
      {
       "output_type": "stream",
       "stream": "stdout",
       "text": [
        "\r",
        " [**********************76%***********            ]  38 of 50 complete"
       ]
      },
      {
       "output_type": "stream",
       "stream": "stdout",
       "text": [
        "\r",
        " [**********************78%************           ]  39 of 50 complete"
       ]
      },
      {
       "output_type": "stream",
       "stream": "stdout",
       "text": [
        "\r",
        " [**********************80%*************          ]  40 of 50 complete"
       ]
      },
      {
       "output_type": "stream",
       "stream": "stdout",
       "text": [
        "\r",
        " [**********************82%**************         ]  41 of 50 complete"
       ]
      },
      {
       "output_type": "stream",
       "stream": "stdout",
       "text": [
        "\r",
        " [**********************84%***************        ]  42 of 50 complete"
       ]
      },
      {
       "output_type": "stream",
       "stream": "stdout",
       "text": [
        "\r",
        " [**********************86%****************       ]  43 of 50 complete"
       ]
      },
      {
       "output_type": "stream",
       "stream": "stdout",
       "text": [
        "\r",
        " [**********************88%*****************      ]  44 of 50 complete"
       ]
      },
      {
       "output_type": "stream",
       "stream": "stdout",
       "text": [
        "\r",
        " [**********************90%******************     ]  45 of 50 complete"
       ]
      },
      {
       "output_type": "stream",
       "stream": "stdout",
       "text": [
        "\r",
        " [**********************92%*******************    ]  46 of 50 complete"
       ]
      },
      {
       "output_type": "stream",
       "stream": "stdout",
       "text": [
        "\r",
        " [**********************94%********************   ]  47 of 50 complete"
       ]
      },
      {
       "output_type": "stream",
       "stream": "stdout",
       "text": [
        "\r",
        " [**********************96%*********************  ]  48 of 50 complete"
       ]
      },
      {
       "output_type": "stream",
       "stream": "stdout",
       "text": [
        "\r",
        " [**********************98%********************** ]  49 of 50 complete"
       ]
      },
      {
       "output_type": "stream",
       "stream": "stdout",
       "text": [
        "\r",
        " [                       0%                       ]"
       ]
      },
      {
       "output_type": "stream",
       "stream": "stdout",
       "text": [
        "\r",
        " [*                      2%                       ]  1 of 50 complete"
       ]
      },
      {
       "output_type": "stream",
       "stream": "stdout",
       "text": [
        "\r",
        " [**                     4%                       ]  2 of 50 complete"
       ]
      },
      {
       "output_type": "stream",
       "stream": "stdout",
       "text": [
        "\r",
        " [***                    6%                       ]  3 of 50 complete"
       ]
      },
      {
       "output_type": "stream",
       "stream": "stdout",
       "text": [
        "\r",
        " [****                   8%                       ]  4 of 50 complete"
       ]
      },
      {
       "output_type": "stream",
       "stream": "stdout",
       "text": [
        "\r",
        " [*****                 10%                       ]  5 of 50 complete"
       ]
      },
      {
       "output_type": "stream",
       "stream": "stdout",
       "text": [
        "\r",
        " [******                12%                       ]  6 of 50 complete"
       ]
      },
      {
       "output_type": "stream",
       "stream": "stdout",
       "text": [
        "\r",
        " [*******               14%                       ]  7 of 50 complete"
       ]
      },
      {
       "output_type": "stream",
       "stream": "stdout",
       "text": [
        "\r",
        " [********              16%                       ]  8 of 50 complete"
       ]
      },
      {
       "output_type": "stream",
       "stream": "stdout",
       "text": [
        "\r",
        " [*********             18%                       ]  9 of 50 complete"
       ]
      },
      {
       "output_type": "stream",
       "stream": "stdout",
       "text": [
        "\r",
        " [**********            20%                       ]  10 of 50 complete"
       ]
      },
      {
       "output_type": "stream",
       "stream": "stdout",
       "text": [
        "\r",
        " [***********           22%                       ]  11 of 50 complete"
       ]
      },
      {
       "output_type": "stream",
       "stream": "stdout",
       "text": [
        "\r",
        " [************          24%                       ]  12 of 50 complete"
       ]
      },
      {
       "output_type": "stream",
       "stream": "stdout",
       "text": [
        "\r",
        " [************          26%                       ]  13 of 50 complete"
       ]
      },
      {
       "output_type": "stream",
       "stream": "stdout",
       "text": [
        "\r",
        " [*************         28%                       ]  14 of 50 complete"
       ]
      },
      {
       "output_type": "stream",
       "stream": "stdout",
       "text": [
        "\r",
        " [**************        30%                       ]  15 of 50 complete"
       ]
      },
      {
       "output_type": "stream",
       "stream": "stdout",
       "text": [
        "\r",
        " [***************       32%                       ]  16 of 50 complete"
       ]
      },
      {
       "output_type": "stream",
       "stream": "stdout",
       "text": [
        "\r",
        " [****************      34%                       ]  17 of 50 complete"
       ]
      },
      {
       "output_type": "stream",
       "stream": "stdout",
       "text": [
        "\r",
        " [*****************     36%                       ]  18 of 50 complete"
       ]
      },
      {
       "output_type": "stream",
       "stream": "stdout",
       "text": [
        "\r",
        " [******************    38%                       ]  19 of 50 complete"
       ]
      },
      {
       "output_type": "stream",
       "stream": "stdout",
       "text": [
        "\r",
        " [*******************   40%                       ]  20 of 50 complete"
       ]
      },
      {
       "output_type": "stream",
       "stream": "stdout",
       "text": [
        "\r",
        " [********************  42%                       ]  21 of 50 complete"
       ]
      },
      {
       "output_type": "stream",
       "stream": "stdout",
       "text": [
        "\r",
        " [********************* 44%                       ]  22 of 50 complete"
       ]
      },
      {
       "output_type": "stream",
       "stream": "stdout",
       "text": [
        "\r",
        " [**********************46%                       ]  23 of 50 complete"
       ]
      },
      {
       "output_type": "stream",
       "stream": "stdout",
       "text": [
        "\r",
        " [**********************48%                       ]  24 of 50 complete"
       ]
      },
      {
       "output_type": "stream",
       "stream": "stdout",
       "text": [
        "\r",
        " [**********************50%                       ]  25 of 50 complete"
       ]
      },
      {
       "output_type": "stream",
       "stream": "stdout",
       "text": [
        "\r",
        " [**********************52%                       ]  26 of 50 complete"
       ]
      },
      {
       "output_type": "stream",
       "stream": "stdout",
       "text": [
        "\r",
        " [**********************54%*                      ]  27 of 50 complete"
       ]
      },
      {
       "output_type": "stream",
       "stream": "stdout",
       "text": [
        "\r",
        " [**********************56%**                     ]  28 of 50 complete"
       ]
      },
      {
       "output_type": "stream",
       "stream": "stdout",
       "text": [
        "\r",
        " [**********************58%***                    ]  29 of 50 complete"
       ]
      },
      {
       "output_type": "stream",
       "stream": "stdout",
       "text": [
        "\r",
        " [**********************60%****                   ]  30 of 50 complete"
       ]
      },
      {
       "output_type": "stream",
       "stream": "stdout",
       "text": [
        "\r",
        " [**********************62%*****                  ]  31 of 50 complete"
       ]
      },
      {
       "output_type": "stream",
       "stream": "stdout",
       "text": [
        "\r",
        " [**********************64%******                 ]  32 of 50 complete"
       ]
      },
      {
       "output_type": "stream",
       "stream": "stdout",
       "text": [
        "\r",
        " [**********************66%*******                ]  33 of 50 complete"
       ]
      },
      {
       "output_type": "stream",
       "stream": "stdout",
       "text": [
        "\r",
        " [**********************68%********               ]  34 of 50 complete"
       ]
      },
      {
       "output_type": "stream",
       "stream": "stdout",
       "text": [
        "\r",
        " [**********************70%*********              ]  35 of 50 complete"
       ]
      },
      {
       "output_type": "stream",
       "stream": "stdout",
       "text": [
        "\r",
        " [**********************72%**********             ]  36 of 50 complete"
       ]
      },
      {
       "output_type": "stream",
       "stream": "stdout",
       "text": [
        "\r",
        " [**********************74%***********            ]  37 of 50 complete"
       ]
      },
      {
       "output_type": "stream",
       "stream": "stdout",
       "text": [
        "\r",
        " [**********************76%***********            ]  38 of 50 complete"
       ]
      },
      {
       "output_type": "stream",
       "stream": "stdout",
       "text": [
        "\r",
        " [**********************78%************           ]  39 of 50 complete"
       ]
      },
      {
       "output_type": "stream",
       "stream": "stdout",
       "text": [
        "\r",
        " [**********************80%*************          ]  40 of 50 complete"
       ]
      },
      {
       "output_type": "stream",
       "stream": "stdout",
       "text": [
        "\r",
        " [**********************82%**************         ]  41 of 50 complete"
       ]
      },
      {
       "output_type": "stream",
       "stream": "stdout",
       "text": [
        "\r",
        " [**********************84%***************        ]  42 of 50 complete"
       ]
      },
      {
       "output_type": "stream",
       "stream": "stdout",
       "text": [
        "\r",
        " [**********************86%****************       ]  43 of 50 complete"
       ]
      },
      {
       "output_type": "stream",
       "stream": "stdout",
       "text": [
        "\r",
        " [**********************88%*****************      ]  44 of 50 complete"
       ]
      },
      {
       "output_type": "stream",
       "stream": "stdout",
       "text": [
        "\r",
        " [**********************90%******************     ]  45 of 50 complete"
       ]
      },
      {
       "output_type": "stream",
       "stream": "stdout",
       "text": [
        "\r",
        " [**********************92%*******************    ]  46 of 50 complete"
       ]
      },
      {
       "output_type": "stream",
       "stream": "stdout",
       "text": [
        "\r",
        " [**********************94%********************   ]  47 of 50 complete"
       ]
      },
      {
       "output_type": "stream",
       "stream": "stdout",
       "text": [
        "\r",
        " [**********************96%*********************  ]  48 of 50 complete"
       ]
      },
      {
       "output_type": "stream",
       "stream": "stdout",
       "text": [
        "\r",
        " [**********************98%********************** ]  49 of 50 complete"
       ]
      },
      {
       "output_type": "stream",
       "stream": "stdout",
       "text": [
        "> <ipython-input-84-47046636275c>(51)LDA_timecourse()\n",
        "-> e_proj = pd.DataFrame(np.nanmean(e_z[vSMC,max_e_win,:],axis = 1).transpose(),columns = chans[vSMC], index = notes)\n"
       ]
      },
      {
       "name": "stdout",
       "output_type": "stream",
       "stream": "stdout",
       "text": [
        "(Pdb) e_proj = pd.DataFrame(np.nanmean(e_z[vSMC,max_e_win,:],axis = 1).transpose(),columns = chans[vSMC], index = notes)\n"
       ]
      },
      {
       "output_type": "stream",
       "stream": "stdout",
       "text": [
        "*** ValueError: shape mismatch: objects cannot be broadcast to a single shape\n"
       ]
      },
      {
       "name": "stdout",
       "output_type": "stream",
       "stream": "stdout",
       "text": [
        "(Pdb) np.nanmean(e_z[vSMC,max_e_win,:],axis = 1).transpose()\n"
       ]
      },
      {
       "output_type": "stream",
       "stream": "stdout",
       "text": [
        "*** ValueError: shape mismatch: objects cannot be broadcast to a single shape\n"
       ]
      },
      {
       "name": "stdout",
       "output_type": "stream",
       "stream": "stdout",
       "text": [
        "(Pdb) e_z[vSMC,max_e_win,:]\n"
       ]
      },
      {
       "output_type": "stream",
       "stream": "stdout",
       "text": [
        "*** ValueError: shape mismatch: objects cannot be broadcast to a single shape\n"
       ]
      },
      {
       "name": "stdout",
       "output_type": "stream",
       "stream": "stdout",
       "text": [
        "(Pdb) vSMC\n"
       ]
      },
      {
       "output_type": "stream",
       "stream": "stdout",
       "text": [
        "array([  9,  10,  11,  12,  13,  14,  15,  26,  27,  28,  29,  30,  31,\n",
        "        42,  43,  44,  45,  46,  47,  58,  59,  60,  61,  62,  63,  75,\n",
        "        76,  77,  78,  79,  92,  93,  94,  95,  99, 108, 111, 115, 116,\n",
        "       117, 118, 119, 131, 132, 133, 134, 135, 147, 148, 149, 150, 151,\n",
        "       152, 159, 162, 163, 164, 165, 166, 167, 168, 169, 175, 177, 178,\n",
        "       179, 180, 181, 182, 183, 184, 185, 186, 187, 190, 191, 192, 193,\n",
        "       194, 195, 196, 197, 198, 199, 200, 201, 202, 203, 204, 205, 206,\n",
        "       207, 208, 209, 210, 211, 212, 213, 214, 215, 216, 217, 218, 219,\n",
        "       220, 221, 222, 223, 224, 225, 226, 227, 228, 229, 230, 231, 232,\n",
        "       233, 234, 235, 236, 237, 238, 239, 240, 241, 242, 243, 244, 245,\n",
        "       246, 247, 248, 249, 250, 251, 252, 253, 254, 255])\n"
       ]
      },
      {
       "name": "stdout",
       "output_type": "stream",
       "stream": "stdout",
       "text": [
        "(Pdb) vSMC.shape\n"
       ]
      },
      {
       "output_type": "stream",
       "stream": "stdout",
       "text": [
        "(140,)\n"
       ]
      },
      {
       "name": "stdout",
       "output_type": "stream",
       "stream": "stdout",
       "text": [
        "(Pdb) max_e_win\n"
       ]
      },
      {
       "output_type": "stream",
       "stream": "stdout",
       "text": [
        "array([200, 201, 202, 203, 204, 205, 206, 207, 208, 209, 210, 211, 212,\n",
        "       213, 214, 215, 216, 217, 218, 219, 220, 221, 222, 223, 224, 225,\n",
        "       226, 227, 228, 229, 230, 231, 232, 233, 234, 235, 236, 237, 238, 239])\n"
       ]
      },
      {
       "name": "stdout",
       "output_type": "stream",
       "stream": "stdout",
       "text": [
        "(Pdb) e_z.shape\n"
       ]
      },
      {
       "output_type": "stream",
       "stream": "stdout",
       "text": [
        "(256, 591, 253)\n"
       ]
      },
      {
       "name": "stdout",
       "output_type": "stream",
       "stream": "stdout",
       "text": [
        "(Pdb) e_z[vSMC,:,:]\n"
       ]
      },
      {
       "output_type": "stream",
       "stream": "stdout",
       "text": [
        "array([[[  1.06433150e+00,   1.58784294e+00,   9.29473326e-01, ...,\n",
        "           7.66069325e-01,  -3.84456334e-01,   1.20115285e-02],\n",
        "        [  1.14151096e+00,   1.41278791e+00,   6.61005948e-01, ...,\n",
        "           6.20408964e-01,  -2.82856501e-01,   3.61760208e-01],\n",
        "        [  1.14899609e+00,   1.39877712e+00,   4.74112751e-01, ...,\n",
        "           4.43249225e-01,  -1.02690013e-01,   7.02153878e-01],\n",
        "        ..., \n",
        "        [             nan,              nan,              nan, ...,\n",
        "                      nan,              nan,              nan],\n",
        "        [             nan,              nan,              nan, ...,\n",
        "                      nan,              nan,              nan],\n",
        "        [ -3.44809095e+00,  -3.44809095e+00,  -3.44809095e+00, ...,\n",
        "                      nan,              nan,              nan]],\n",
        "\n",
        "       [[  1.24805508e-01,   1.21165326e+00,   1.90303147e-01, ...,\n",
        "          -1.12073696e+00,   1.73400696e+00,   7.70605934e-02],\n",
        "        [  1.70359605e-01,   9.00466159e-01,   1.41684115e-01, ...,\n",
        "          -1.14474386e+00,   1.73924814e+00,   1.85583197e-01],\n",
        "        [  1.65721993e-01,   6.86060837e-01,   1.62840919e-01, ...,\n",
        "          -1.13929943e+00,   1.64685101e+00,   2.31761166e-01],\n",
        "        ..., \n",
        "        [             nan,              nan,              nan, ...,\n",
        "                      nan,              nan,              nan],\n",
        "        [             nan,              nan,              nan, ...,\n",
        "                      nan,              nan,              nan],\n",
        "        [ -3.73887560e+00,  -3.73887560e+00,  -3.73887560e+00, ...,\n",
        "                      nan,              nan,              nan]],\n",
        "\n",
        "       [[ -8.72651257e-01,   3.20627403e+00,  -1.08162130e+00, ...,\n",
        "           1.17977169e+00,   7.10635196e-01,   2.99598501e-01],\n",
        "        [ -1.01150564e+00,   3.16953461e+00,  -1.05933670e+00, ...,\n",
        "           1.10645020e+00,   6.52521072e-01,   4.87055864e-01],\n",
        "        [ -1.16860811e+00,   3.05054658e+00,  -1.00972666e+00, ...,\n",
        "           9.76129662e-01,   5.73631022e-01,   6.35955601e-01],\n",
        "        ..., \n",
        "        [             nan,              nan,              nan, ...,\n",
        "                      nan,              nan,              nan],\n",
        "        [             nan,              nan,              nan, ...,\n",
        "                      nan,              nan,              nan],\n",
        "        [ -3.44983058e+00,  -3.44983058e+00,  -3.44983058e+00, ...,\n",
        "                      nan,              nan,              nan]],\n",
        "\n",
        "       ..., \n",
        "       [[ -5.77902093e-01,  -9.43740887e-01,  -4.48214085e-02, ...,\n",
        "          -1.13813632e+00,   5.05294893e-01,   1.65424883e+00],\n",
        "        [ -3.86571033e-01,  -7.74097948e-01,  -1.70085586e-02, ...,\n",
        "          -1.06045558e+00,   4.42246969e-01,   1.75824586e+00],\n",
        "        [ -1.73063010e-01,  -6.00612613e-01,   4.45938032e-04, ...,\n",
        "          -9.88755512e-01,   3.60884393e-01,   1.78578462e+00],\n",
        "        ..., \n",
        "        [             nan,              nan,              nan, ...,\n",
        "                      nan,              nan,              nan],\n",
        "        [             nan,              nan,              nan, ...,\n",
        "                      nan,              nan,              nan],\n",
        "        [ -3.38312946e+00,  -3.38312946e+00,  -3.38312946e+00, ...,\n",
        "                      nan,              nan,              nan]],\n",
        "\n",
        "       [[  3.64709169e-02,   3.85321715e-02,  -9.00012104e-02, ...,\n",
        "          -3.00499371e-01,  -7.09408014e-01,   1.91319931e+00],\n",
        "        [  4.54090541e-02,  -1.21786172e-02,  -1.17788239e-02, ...,\n",
        "          -3.35167351e-01,  -8.00637330e-01,   1.61809887e+00],\n",
        "        [  8.41070288e-02,  -6.22386837e-02,   3.31477167e-02, ...,\n",
        "          -3.37689525e-01,  -8.94268811e-01,   1.27625468e+00],\n",
        "        ..., \n",
        "        [             nan,              nan,              nan, ...,\n",
        "                      nan,              nan,              nan],\n",
        "        [             nan,              nan,              nan, ...,\n",
        "                      nan,              nan,              nan],\n",
        "        [ -3.76349369e+00,  -3.76349369e+00,  -3.76349369e+00, ...,\n",
        "                      nan,              nan,              nan]],\n",
        "\n",
        "       [[  2.80012056e-01,  -8.36098362e-02,   4.41247465e-01, ...,\n",
        "          -3.43949665e-02,   1.12344224e-01,   1.49144078e+00],\n",
        "        [  1.34785603e-01,  -3.06385198e-01,   5.37019253e-01, ...,\n",
        "          -5.19274590e-02,  -1.45551446e-02,   1.50501344e+00],\n",
        "        [ -2.18345214e-02,  -5.53476316e-01,   5.74332994e-01, ...,\n",
        "          -7.16140454e-02,  -1.75883378e-01,   1.40860137e+00],\n",
        "        ..., \n",
        "        [             nan,              nan,              nan, ...,\n",
        "                      nan,              nan,              nan],\n",
        "        [             nan,              nan,              nan, ...,\n",
        "                      nan,              nan,              nan],\n",
        "        [ -3.81418702e+00,  -3.81418702e+00,  -3.81418702e+00, ...,\n",
        "                      nan,              nan,              nan]]])\n"
       ]
      },
      {
       "name": "stdout",
       "output_type": "stream",
       "stream": "stdout",
       "text": [
        "(Pdb) e_z[:,max_e_win,:]\n"
       ]
      },
      {
       "output_type": "stream",
       "stream": "stdout",
       "text": [
        "array([[[ -2.33325006e-01,   8.25870582e-01,   6.50373139e-01, ...,\n",
        "                      nan,              nan,              nan],\n",
        "        [ -2.45370355e-01,   8.60063897e-01,   6.27240083e-01, ...,\n",
        "                      nan,              nan,              nan],\n",
        "        [ -2.80462568e-01,   8.90025456e-01,   6.10733824e-01, ...,\n",
        "                      nan,              nan,              nan],\n",
        "        ..., \n",
        "        [ -6.50020014e-01,  -2.80395176e-01,   1.86153259e-01, ...,\n",
        "                      nan,              nan,              nan],\n",
        "        [ -6.42061677e-01,  -2.70853162e-01,  -9.07394144e-03, ...,\n",
        "                      nan,              nan,              nan],\n",
        "        [ -6.25279748e-01,  -2.78070523e-01,  -2.10626743e-01, ...,\n",
        "                      nan,              nan,              nan]],\n",
        "\n",
        "       [[             nan,              nan,              nan, ...,\n",
        "          -1.32165030e+00,   5.74381765e-02,  -5.48336707e-01],\n",
        "        [             nan,              nan,              nan, ...,\n",
        "          -1.11380041e+00,   3.16782734e-01,  -3.77595382e-01],\n",
        "        [             nan,              nan,              nan, ...,\n",
        "          -9.17475394e-01,   5.51119401e-01,  -1.89063223e-01],\n",
        "        ..., \n",
        "        [             nan,              nan,              nan, ...,\n",
        "          -4.24960254e-01,   1.06376285e+00,   4.23322887e+00],\n",
        "        [             nan,              nan,              nan, ...,\n",
        "          -3.01493528e-01,   9.95935511e-01,   4.14723281e+00],\n",
        "        [             nan,              nan,              nan, ...,\n",
        "          -1.60334422e-01,   8.83193114e-01,   3.94970855e+00]],\n",
        "\n",
        "       [[  4.03366087e-02,   4.68567404e-01,   9.97900968e-01, ...,\n",
        "          -7.70725137e-01,  -6.12260358e-01,  -1.43799227e+00],\n",
        "        [ -1.52530882e-02,   3.15770449e-01,   8.27569751e-01, ...,\n",
        "          -8.54520599e-01,  -3.70992078e-01,  -1.49669792e+00],\n",
        "        [ -4.69902965e-02,   1.15443185e-01,   6.09832673e-01, ...,\n",
        "          -9.68956310e-01,  -1.37695756e-01,  -1.54601609e+00],\n",
        "        ..., \n",
        "        [ -4.01464305e-01,   1.28886950e+00,   3.83278776e-02, ...,\n",
        "           1.64755044e-01,   1.42190875e+00,  -9.28747030e-01],\n",
        "        [ -3.65155396e-01,   1.40110755e+00,  -4.33053271e-02, ...,\n",
        "           2.29893854e-01,   1.30132393e+00,  -1.25579846e+00],\n",
        "        [ -3.06402387e-01,   1.46624987e+00,  -1.43752380e-01, ...,\n",
        "           2.31489876e-01,   1.15604030e+00,  -1.39959281e+00]],\n",
        "\n",
        "       ..., \n",
        "       [[  9.44853730e-01,   1.20613239e+00,   4.01717383e+00, ...,\n",
        "          -6.49100209e-01,  -4.14711373e-01,   1.77933434e-01],\n",
        "        [  1.05539222e+00,   9.01308229e-01,   4.10228140e+00, ...,\n",
        "          -4.75961325e-01,  -3.68785481e-01,   4.53197876e-01],\n",
        "        [  1.07404743e+00,   5.49168558e-01,   4.22889933e+00, ...,\n",
        "          -3.61074452e-01,  -3.35738135e-01,   7.13597844e-01],\n",
        "        ..., \n",
        "        [  3.76260789e-02,   2.37381318e-01,   2.05436810e+00, ...,\n",
        "           9.83685489e-01,   3.22928736e-01,   1.64262206e-01],\n",
        "        [ -1.81764654e-01,   1.33061546e-01,   1.84027937e+00, ...,\n",
        "           6.54105732e-01,   5.17781401e-02,   2.91432231e-01],\n",
        "        [ -3.87176589e-01,  -4.20605673e-03,   1.62079151e+00, ...,\n",
        "           3.06793921e-01,  -2.27695887e-01,   4.15296736e-01]],\n",
        "\n",
        "       [[ -1.15304553e-01,   2.33096877e-01,  -4.08396670e-01, ...,\n",
        "           7.79069340e-03,   1.19338130e+00,  -9.09454621e-01],\n",
        "        [ -3.61794125e-01,   1.87737003e-01,  -4.50819282e-01, ...,\n",
        "           1.58129762e-01,   1.61919026e+00,  -9.60593417e-01],\n",
        "        [ -6.18920828e-01,   1.01410261e-01,  -5.30777347e-01, ...,\n",
        "           2.82970576e-01,   1.94995894e+00,  -1.03431454e+00],\n",
        "        ..., \n",
        "        [  6.96262894e-02,   7.26955302e-01,  -6.28823058e-01, ...,\n",
        "           1.19092692e+00,   2.68276815e-01,  -1.16947241e+00],\n",
        "        [  2.18714492e-01,   7.39500061e-01,  -3.73451346e-01, ...,\n",
        "           7.19400399e-01,   4.10404617e-01,  -9.98883155e-01],\n",
        "        [  3.11224469e-01,   7.10839281e-01,  -8.14545354e-02, ...,\n",
        "           2.62403965e-01,   5.21711041e-01,  -8.24554304e-01]],\n",
        "\n",
        "       [[  1.77628905e-01,   4.88087382e-01,   1.62979701e-01, ...,\n",
        "          -1.07006532e+00,   1.27218539e+00,   6.36235248e-01],\n",
        "        [  2.89382017e-02,   1.96590409e-01,   3.28983914e-01, ...,\n",
        "          -1.06541156e+00,   1.61946081e+00,   3.45733113e-01],\n",
        "        [ -1.51382863e-01,  -1.11844486e-01,   4.55716618e-01, ...,\n",
        "          -9.72642391e-01,   1.87533019e+00,   8.22380883e-03],\n",
        "        ..., \n",
        "        [ -8.39946247e-01,  -6.89971563e-01,  -6.27085172e-02, ...,\n",
        "          -5.69421741e-01,   7.53703547e-01,  -2.97456157e-01],\n",
        "        [ -8.98261326e-01,  -6.27425742e-01,   1.53200332e-01, ...,\n",
        "          -7.93691067e-01,   8.80954039e-01,  -1.19511726e-01],\n",
        "        [ -1.00925556e+00,  -5.80928535e-01,   3.50670856e-01, ...,\n",
        "          -1.02980979e+00,   9.58305168e-01,   5.85036545e-02]]])\n"
       ]
      },
      {
       "name": "stdout",
       "output_type": "stream",
       "stream": "stdout",
       "text": [
        "(Pdb) e_z[vSMC,max_e_win,:]\n"
       ]
      },
      {
       "output_type": "stream",
       "stream": "stdout",
       "text": [
        "*** ValueError: shape mismatch: objects cannot be broadcast to a single shape\n"
       ]
      }
     ]
    },
    {
     "cell_type": "code",
     "collapsed": false,
     "input": [
      "e_proj = pd.DataFrame(np.nanmean(e_z[vSMC,max_e_win,:],axis = 1).transpose(),columns = chans[vSMC], index = notes)"
     ],
     "language": "python",
     "metadata": {},
     "outputs": []
    },
    {
     "cell_type": "code",
     "collapsed": false,
     "input": [
      "vSMC"
     ],
     "language": "python",
     "metadata": {},
     "outputs": []
    },
    {
     "cell_type": "code",
     "collapsed": false,
     "input": [],
     "language": "python",
     "metadata": {},
     "outputs": [],
     "prompt_number": 63
    },
    {
     "cell_type": "code",
     "collapsed": false,
     "input": [],
     "language": "python",
     "metadata": {},
     "outputs": [],
     "prompt_number": 3
    },
    {
     "cell_type": "code",
     "collapsed": false,
     "input": [],
     "language": "python",
     "metadata": {},
     "outputs": [],
     "prompt_number": 63
    },
    {
     "cell_type": "code",
     "collapsed": false,
     "input": [],
     "language": "python",
     "metadata": {},
     "outputs": [],
     "prompt_number": 63
    },
    {
     "cell_type": "code",
     "collapsed": false,
     "input": [],
     "language": "python",
     "metadata": {},
     "outputs": []
    }
   ],
   "metadata": {}
  }
 ]
}