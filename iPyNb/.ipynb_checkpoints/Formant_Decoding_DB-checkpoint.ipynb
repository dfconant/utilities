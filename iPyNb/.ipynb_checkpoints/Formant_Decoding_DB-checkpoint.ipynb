{
 "metadata": {
  "name": "",
  "signature": "sha256:ce8a807836a73086cf86e378c3623e63287688b7165c310aaaa8b35d189e40af"
 },
 "nbformat": 3,
 "nbformat_minor": 0,
 "worksheets": [
  {
   "cells": [
    {
     "cell_type": "code",
     "collapsed": false,
     "input": [
      "#Intitialize\n",
      "%load_ext autoreload\n",
      "%autoreload 2\n",
      "%matplotlib inline\n",
      "import scipy as sp\n",
      "import scipy.stats as stats\n",
      "import numpy as np\n",
      "from sklearn.cross_validation import train_test_split, LeaveOneOut, LeaveOneLabelOut, ShuffleSplit\n",
      "from sklearn.decomposition import PCA\n",
      "from sklearn.linear_model import Lars, Ridge\n",
      "import pandas as pd\n",
      "import pdb\n",
      "import prettyplotlib as ppl\n",
      "from BDutils import ProgressBar\n",
      "from scipy.signal import savgol_filter\n",
      "import seaborn as sns\n",
      "import matplotlib.gridspec as gridspec\n",
      "from ECoGstats import makeD_multi, smooth_formants, shuffle_df\n",
      "from __future__ import division"
     ],
     "language": "python",
     "metadata": {},
     "outputs": [],
     "prompt_number": 69
    },
    {
     "cell_type": "code",
     "collapsed": false,
     "input": [
      "#SKL/SNS datasets\n",
      "from sklearn.datasets import load_boston\n",
      "boston = load_boston()\n",
      "X = boston.data\n",
      "y = np.atleast_2d(boston.target).transpose()\n",
      "CV = 'split'\n",
      "boot = 10\n",
      "a = 1\n",
      "r2,yhat,score = Ridge_MLR(X, y, alpha = a, CV = CV, boot = boot)"
     ],
     "language": "python",
     "metadata": {},
     "outputs": [],
     "prompt_number": 77
    },
    {
     "cell_type": "code",
     "collapsed": false,
     "input": [
      "r2"
     ],
     "language": "python",
     "metadata": {},
     "outputs": [
      {
       "metadata": {},
       "output_type": "pyout",
       "prompt_number": 78,
       "text": [
        "array([ 0.72514744,  0.79309243,  0.75015965,  0.70491144,  0.67950863,\n",
        "        0.77791239,  0.75784079,  0.70530805,  0.81013036,  0.63163954])"
       ]
      }
     ],
     "prompt_number": 78
    },
    {
     "cell_type": "code",
     "collapsed": false,
     "input": [
      "def Ridge_MLR(X,y,alpha,CV = 'split',boot=200):\n",
      "    r2 = np.empty((y.shape[1],boot))\n",
      "    score = np.empty((y.shape[1],boot))\n",
      "    yhat = np.empty((y.shape))\n",
      "    for b in range(boot):\n",
      "        if CV is 'split':\n",
      "                X_train, X_test, y_train, y_test = train_test_split(X, y, test_size=0.2)\n",
      "                for c in range(y.shape[1]):\n",
      "                    clf = Ridge(alpha = alpha)\n",
      "                    clf.fit(X_train,y_train[:,c])\n",
      "                    yhat = clf.predict(X_test)\n",
      "                    score[c,b] = clf.score(X_test,y_test[:,c])\n",
      "                    r = stats.pearsonr(yhat,y_test[:,c])[0]\n",
      "                    r2[c,b] = r**2\n",
      "        elif CV is 'LOLO':\n",
      "            trialLabel = np.tile(np.arange(y.shape[0]/3),3)\n",
      "            lol = LeaveOneLabelOut(trialLabel)\n",
      "            for c in range(y.shape[1]):\n",
      "                for train_index, test_index in lol:\n",
      "                    clf = Ridge(alpha = alpha)\n",
      "                    clf.fit(X[train_index,:],y[train_index,c])\n",
      "                    yhat[test_index,c] = clf.predict(X[test_index,:])\n",
      "                    #score[c,b] = clf.score(X[train_index,:],y[train_index,c])\n",
      "                    \n",
      "                r = stats.pearsonr(yhat[:,c],y[:,c])[0]\n",
      "                r2[c,b] = r**2\n",
      "    return np.squeeze(r2), yhat, score"
     ],
     "language": "python",
     "metadata": {},
     "outputs": [],
     "prompt_number": 68
    },
    {
     "cell_type": "code",
     "collapsed": false,
     "input": [
      "boston.DESCR"
     ],
     "language": "python",
     "metadata": {},
     "outputs": [
      {
       "metadata": {},
       "output_type": "pyout",
       "prompt_number": 80,
       "text": [
        "\"Boston House Prices dataset\\n\\nNotes\\n------\\nData Set Characteristics:  \\n\\n    :Number of Instances: 506 \\n\\n    :Number of Attributes: 13 numeric/categorical predictive\\n    \\n    :Median Value (attribute 14) is usually the target\\n\\n    :Attribute Information (in order):\\n        - CRIM     per capita crime rate by town\\n        - ZN       proportion of residential land zoned for lots over 25,000 sq.ft.\\n        - INDUS    proportion of non-retail business acres per town\\n        - CHAS     Charles River dummy variable (= 1 if tract bounds river; 0 otherwise)\\n        - NOX      nitric oxides concentration (parts per 10 million)\\n        - RM       average number of rooms per dwelling\\n        - AGE      proportion of owner-occupied units built prior to 1940\\n        - DIS      weighted distances to five Boston employment centres\\n        - RAD      index of accessibility to radial highways\\n        - TAX      full-value property-tax rate per $10,000\\n        - PTRATIO  pupil-teacher ratio by town\\n        - B        1000(Bk - 0.63)^2 where Bk is the proportion of blacks by town\\n        - LSTAT    % lower status of the population\\n        - MEDV     Median value of owner-occupied homes in $1000's\\n\\n    :Missing Attribute Values: None\\n\\n    :Creator: Harrison, D. and Rubinfeld, D.L.\\n\\nThis is a copy of UCI ML housing dataset.\\nhttp://archive.ics.uci.edu/ml/datasets/Housing\\n\\n\\nThis dataset was taken from the StatLib library which is maintained at Carnegie Mellon University.\\n\\nThe Boston house-price data of Harrison, D. and Rubinfeld, D.L. 'Hedonic\\nprices and the demand for clean air', J. Environ. Economics & Management,\\nvol.5, 81-102, 1978.   Used in Belsley, Kuh & Welsch, 'Regression diagnostics\\n...', Wiley, 1980.   N.B. Various transformations are used in the table on\\npages 244-261 of the latter.\\n\\nThe Boston house-price data has been used in many machine learning papers that address regression\\nproblems.   \\n     \\n**References**\\n\\n   - Belsley, Kuh & Welsch, 'Regression diagnostics: Identifying Influential Data and Sources of Collinearity', Wiley, 1980. 244-261.\\n   - Quinlan,R. (1993). Combining Instance-Based and Model-Based Learning. In Proceedings on the Tenth International Conference of Machine Learning, 236-243, University of Massachusetts, Amherst. Morgan Kaufmann.\\n   - many more! (see http://archive.ics.uci.edu/ml/datasets/Housing)\\n\""
       ]
      }
     ],
     "prompt_number": 80
    },
    {
     "cell_type": "code",
     "collapsed": false,
     "input": [
      "##Sins w/ decreasing noise vs sum of Sins\n",
      "#inputs = 10x1 sins of different wavelengths w/ decreasing linear noise term\n",
      "wavelengths = np.arange(1,100,10)\n",
      "inputs = np.empty((10,1000))\n",
      "for ind,w in enumerate(wavelengths):\n",
      "    inputs[ind,:] = np.sin(np.linspace(0,w,num=1000))\n",
      "output = sum(inputs,axis=0)"
     ],
     "language": "python",
     "metadata": {},
     "outputs": [],
     "prompt_number": 55
    },
    {
     "cell_type": "code",
     "collapsed": false,
     "input": [
      "plt.pcolor(inputs)"
     ],
     "language": "python",
     "metadata": {},
     "outputs": [
      {
       "metadata": {},
       "output_type": "pyout",
       "prompt_number": 56,
       "text": [
        "<matplotlib.collections.PolyCollection at 0x10f2af650>"
       ]
      },
      {
       "metadata": {},
       "output_type": "display_data",
       "png": "[encoded data removed]",
       "text": [
        "<matplotlib.figure.Figure at 0x10e1ed250>"
       ]
      }
     ],
     "prompt_number": 56
    },
    {
     "cell_type": "code",
     "collapsed": false,
     "input": [
      "plt.plot(output)"
     ],
     "language": "python",
     "metadata": {},
     "outputs": [
      {
       "metadata": {},
       "output_type": "pyout",
       "prompt_number": 58,
       "text": [
        "[<matplotlib.lines.Line2D at 0x1102be890>]"
       ]
      },
      {
       "metadata": {},
       "output_type": "display_data",
       "png": "[encoded data removed]",
       "text": [
        "<matplotlib.figure.Figure at 0x11004c6d0>"
       ]
      }
     ],
     "prompt_number": 58
    },
    {
     "cell_type": "code",
     "collapsed": false,
     "input": [],
     "language": "python",
     "metadata": {},
     "outputs": [
      {
       "ename": "NameError",
       "evalue": "name 'w' is not defined",
       "output_type": "pyerr",
       "traceback": [
        "\u001b[0;31m---------------------------------------------------------------------------\u001b[0m\n\u001b[0;31mNameError\u001b[0m                                 Traceback (most recent call last)",
        "\u001b[0;32m<ipython-input-30-b938b801a0bf>\u001b[0m in \u001b[0;36m<module>\u001b[0;34m()\u001b[0m\n\u001b[0;32m----> 1\u001b[0;31m \u001b[0mw\u001b[0m\u001b[0;34m\u001b[0m\u001b[0m\n\u001b[0m",
        "\u001b[0;31mNameError\u001b[0m: name 'w' is not defined"
       ]
      }
     ],
     "prompt_number": 30
    },
    {
     "cell_type": "code",
     "collapsed": false,
     "input": [],
     "language": "python",
     "metadata": {},
     "outputs": []
    }
   ],
   "metadata": {}
  }
 ]
}