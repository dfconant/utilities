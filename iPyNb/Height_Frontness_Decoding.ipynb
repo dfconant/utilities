{
 "metadata": {
  "name": "",
  "signature": "sha256:2a003954c230d8582260138e65f469eabd6c7d8eced604dca7c4eff9e46bac57"
 },
 "nbformat": 3,
 "nbformat_minor": 0,
 "worksheets": [
  {
   "cells": [
    {
     "cell_type": "markdown",
     "metadata": {},
     "source": [
      "##Behavior"
     ]
    },
    {
     "cell_type": "code",
     "collapsed": false,
     "input": [],
     "language": "python",
     "metadata": {},
     "outputs": []
    },
    {
     "cell_type": "code",
     "collapsed": false,
     "input": [],
     "language": "python",
     "metadata": {},
     "outputs": []
    },
    {
     "cell_type": "code",
     "collapsed": false,
     "input": [],
     "language": "python",
     "metadata": {},
     "outputs": []
    },
    {
     "cell_type": "markdown",
     "metadata": {},
     "source": [
      "##Decoding"
     ]
    },
    {
     "cell_type": "code",
     "collapsed": false,
     "input": [
      "#Intitialize\n",
      "%load_ext autoreload\n",
      "%autoreload 2\n",
      "%matplotlib inline\n",
      "import scipy as sp\n",
      "import scipy.stats as stats\n",
      "import numpy as np\n",
      "from sklearn.cross_validation import train_test_split, LeaveOneOut, LeaveOneLabelOut, ShuffleSplit\n",
      "from sklearn.decomposition import PCA\n",
      "from sklearn.lda import LDA\n",
      "from sklearn.linear_model import Lars, Ridge\n",
      "import pandas as pd\n",
      "import pdb\n",
      "import prettyplotlib as ppl\n",
      "from BDutils import ProgressBar, moving_average\n",
      "from scipy.signal import savgol_filter\n",
      "import seaborn as sns\n",
      "import matplotlib.gridspec as gridspec\n",
      "from ECoGstats import makeD_multi, process_kin, shuffle_df, smooth_formants, Ridge_MLR, Ds2Xy\n",
      "from __future__ import division\n",
      "from matplotlib.backends.backend_agg import (FigureCanvasAgg as FigureCanvas)\n"
     ],
     "language": "python",
     "metadata": {},
     "outputs": [
      {
       "output_type": "stream",
       "stream": "stdout",
       "text": [
        "The autoreload extension is already loaded. To reload it, use:\n",
        "  %reload_ext autoreload\n"
       ]
      }
     ],
     "prompt_number": 4
    },
    {
     "cell_type": "code",
     "collapsed": false,
     "input": [
      "#Cross all subjects\n",
      "#Load data\n",
      "pthA = ['/Users/david_conant/Dropbox/Vowels/EC34/',\n",
      "        '/Users/david_conant/Dropbox/Vowels/EC41/']\n",
      "       #'/Users/david_conant/Dropbox/Vowels/EC50/',\n",
      "       #'/Users/david_conant/Dropbox/Vowels/EC56/',\n",
      "       #'/Users/david_conant/Dropbox/Vowels/EC84/']\n",
      "\n",
      "blocksA = [[19,21,32,34,36],\n",
      "          [19,20,22,27],\n",
      "          [21,22,25,76],\n",
      "          [75,77],\n",
      "          [65,78,82,85,93,95]]\n",
      "\n",
      "electsA = [[72,73,74,90,91,93,94,106,107,108,121,122,126,127,140,141,155,156],\n",
      "          [21,25,35,37,43,53,55,58,59,67,72,73,86,90,102],\n",
      "          [206,205,187,173,171,156,155,153,139],\n",
      "          [122,121,120,102,105,106,73,8,9],\n",
      "          [154,153,152,170,169,168,118,102,155,84,68,174]]\n",
      "\n",
      "tokens = ['AAA','AEE','AHH','EHH','ERR','IHH','IYY','UHH','UWW']\n",
      "#tokens = ['AAA','IYY','UWW']\n",
      "CV = 'split'\n",
      "boot = 200\n",
      "ncomp = 8\n",
      "Fr2 = np.empty((6,boot,200,1,len(pthA)))\n",
      "Fr2null = np.empty((6,boot,200,1,len(pthA)))\n",
      "Kr2 = np.empty((10,boot,200,1,len(pthA)))\n",
      "Kr2null = np.empty((10,boot,200,1,len(pthA)))\n",
      "for indS, pth in enumerate(pthA):\n",
      "    blocks = blocksA[indS]\n",
      "    #elects = electsA[indS]\n",
      "    \n",
      "\n",
      "    window = np.array([-0.5,0.5])\n",
      "    [E,anat,stop_times,start_times] = makeD_multi(pth,blocks,tokens,align_window = window, dtype='HG')\n",
      "    Es = [E[d] for d in tokens]\n",
      "    [K,anat,stop_times,start_times] = makeD_multi(pth,blocks,tokens,align_window = window, dtype='kin')\n",
      "    Ks = [K[d] for d in tokens]\n",
      "    stops = [stop_times[d] for d in tokens]\n",
      "    starts = [start_times[d] for d in tokens]\n",
      "    Ks = process_kin(Ks,stops,starts,window,numTongue = 3,norm_length=False,wrt_start=True)\n",
      "    [F,anat,stop_times,start_times] = makeD_multi(pth,blocks,tokens,align_window = window, dtype='form')\n",
      "    Fs = [F[d] for d in tokens]\n",
      "    Fs = smooth_formants(Fs,starts,stops,window)\n",
      "    \n",
      "    notes = []\n",
      "    for ind,n in enumerate(tokens):\n",
      "        notes.append([n]*Es[ind].shape[2])\n",
      "    notes = np.concatenate(notes,axis=0) \n",
      "\n",
      "    elects = np.concatenate((np.where(anat=='preCG')[0],np.where(anat=='postCG')[0]))\n",
      "    \n",
      "    #Formants\n",
      "    prog = ProgressBar(200)\n",
      "    for indt,t in enumerate(np.linspace(0,396,200)):\n",
      "        erange = np.arange(t,t+4)   #Try playing with window size\n",
      "\n",
      "        #Organize data into X and y\n",
      "        X,y,yrnd = Ds2Xy(Es,Fs,anat,dtype='formants',ncomp = ncomp,erange = erange.astype(int),elects = elects)\n",
      "\n",
      "        #Ridge regression\n",
      "        for inda,a in enumerate(np.logspace(0,1,1)):\n",
      "            Fr2[:,:,indt,inda,indS],yhat,score = Ridge_MLR(X, y, alpha = a, CV = CV, boot = boot)\n",
      "            Fr2null[:,:,indt,inda,indS],yhat,score = Ridge_MLR(X, yrnd, alpha = a, CV = CV, boot = boot)\n",
      "        prog.animate(indt)\n",
      "    \n",
      "    #Kinematics\n",
      "    prog = ProgressBar(200)\n",
      "    for indt,t in enumerate(np.linspace(0,396,200)):\n",
      "        erange = np.arange(t,t+4)   #Try playing with window size\n",
      "\n",
      "        #Organize data into X and y\n",
      "        X,y,yrnd = Ds2Xy(Es,Ks,anat,dtype='kinematics',ncomp = ncomp,erange = erange.astype(int),elects = elects)\n",
      "\n",
      "        #Ridge regression\n",
      "        for inda,a in enumerate(np.logspace(0,1,1)):\n",
      "            Kr2[:,:,indt,inda,indS],yhat,score = Ridge_MLR(X, y, alpha = a, CV = CV, boot = boot)\n",
      "            Kr2null[:,:,indt,inda,indS],yhat,score = Ridge_MLR(X, yrnd, alpha = a, CV = CV, boot = boot)\n",
      "        prog.animate(indt)"
     ],
     "language": "python",
     "metadata": {},
     "outputs": [],
     "prompt_number": 2
    },
    {
     "cell_type": "code",
     "collapsed": false,
     "input": [],
     "language": "python",
     "metadata": {},
     "outputs": [],
     "prompt_number": 2
    },
    {
     "cell_type": "code",
     "collapsed": false,
     "input": [],
     "language": "python",
     "metadata": {},
     "outputs": [],
     "prompt_number": 2
    },
    {
     "cell_type": "code",
     "collapsed": false,
     "input": [],
     "language": "python",
     "metadata": {},
     "outputs": [],
     "prompt_number": 2
    },
    {
     "cell_type": "code",
     "collapsed": false,
     "input": [],
     "language": "python",
     "metadata": {},
     "outputs": [],
     "prompt_number": 2
    },
    {
     "cell_type": "code",
     "collapsed": false,
     "input": [],
     "language": "python",
     "metadata": {},
     "outputs": [],
     "prompt_number": 2
    },
    {
     "cell_type": "code",
     "collapsed": false,
     "input": [],
     "language": "python",
     "metadata": {},
     "outputs": [],
     "prompt_number": 2
    },
    {
     "cell_type": "code",
     "collapsed": false,
     "input": [],
     "language": "python",
     "metadata": {},
     "outputs": [],
     "prompt_number": 2
    },
    {
     "cell_type": "code",
     "collapsed": false,
     "input": [],
     "language": "python",
     "metadata": {},
     "outputs": [],
     "prompt_number": 2
    },
    {
     "cell_type": "code",
     "collapsed": false,
     "input": [],
     "language": "python",
     "metadata": {},
     "outputs": [],
     "prompt_number": 2
    },
    {
     "cell_type": "code",
     "collapsed": false,
     "input": [],
     "language": "python",
     "metadata": {},
     "outputs": [],
     "prompt_number": 2
    },
    {
     "cell_type": "code",
     "collapsed": false,
     "input": [],
     "language": "python",
     "metadata": {},
     "outputs": [],
     "prompt_number": 2
    },
    {
     "cell_type": "code",
     "collapsed": false,
     "input": [],
     "language": "python",
     "metadata": {},
     "outputs": []
    }
   ],
   "metadata": {}
  }
 ]
}