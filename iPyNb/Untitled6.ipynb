{
 "metadata": {
  "name": "",
  "signature": "sha256:ddd6e04df3122296a3fcc5e71d691428cbde3347df5778b2126ac5c43d02d603"
 },
 "nbformat": 3,
 "nbformat_minor": 0,
 "worksheets": [
  {
   "cells": [
    {
     "cell_type": "code",
     "collapsed": false,
     "input": [
      "#Intitialize\n",
      "%load_ext autoreload\n",
      "%autoreload 2\n",
      "%matplotlib inline\n",
      "import scipy as sp\n",
      "import scipy.stats as stats\n",
      "import numpy as np\n",
      "from sklearn.cross_validation import train_test_split, LeaveOneOut, LeaveOneLabelOut, ShuffleSplit\n",
      "from sklearn.decomposition import PCA\n",
      "from sklearn.linear_model import Lars, Ridge\n",
      "import pandas as pd\n",
      "import pdb\n",
      "import prettyplotlib as ppl\n",
      "from BDutils import ProgressBar\n",
      "from scipy.signal import savgol_filter\n",
      "import seaborn as sns\n",
      "import matplotlib.gridspec as gridspec\n",
      "from ECoGstats import makeD_multi, smooth_formants, shuffle_df\n",
      "from __future__ import division"
     ],
     "language": "python",
     "metadata": {},
     "outputs": [
      {
       "output_type": "stream",
       "stream": "stdout",
       "text": [
        "The autoreload extension is already loaded. To reload it, use:\n",
        "  %reload_ext autoreload\n"
       ]
      }
     ],
     "prompt_number": 84
    },
    {
     "cell_type": "code",
     "collapsed": false,
     "input": [
      "def Ds2Xy(Es,Fs,anat,ncomp = 10,erange = np.arange(366,370),frange = np.arange(105,115)):\n",
      "    #Feature labels\n",
      "    forms = ['F0','F1','F2','F3','F4']\n",
      "    \n",
      "    #Anatomy\n",
      "    vSMC = np.concatenate((np.where(anat=='preCG')[0],np.where(anat=='postCG')[0]))\n",
      "\n",
      "    #Formants\n",
      "    Fall = np.concatenate(Fs,axis=2)\n",
      "    dat = dict(zip(forms,np.nanmean(Fall[:,frange,:],axis = 1)))\n",
      "    Fmid = pd.DataFrame.from_dict(dat)\n",
      "    Fmid = Fmid.fillna(Fmid.median(),inplace=True)\n",
      "    F2_1 = pd.Series(Fmid['F2']/Fmid['F1'],name = 'F2/F1')\n",
      "    y = pd.concat((Fmid,F2_1),axis=1)\n",
      "    ##Adjacent Points\n",
      "    #tmp = pd.concat((y,y),axis = 0,ignore_index=True)\n",
      "    #y = pd.concat((tmp,y),axis = 0,ignore_index=True)\n",
      "    ##\n",
      "    y.apply(np.log10,axis = 0)\n",
      "    y = (y - y.mean())/y.std(ddof=0)\n",
      "    yrnd = shuffle_df(y,10,axis=0)\n",
      "    y = y.values\n",
      "    yrnd = yrnd.values\n",
      "    \n",
      "    Eall = np.concatenate(Es,axis=2)\n",
      "    Eall = Eall[vSMC,:,:]\n",
      "    X = np.nanmean(Eall[:,erange,:],axis = 1).transpose()\n",
      "    ##Adjacent Points\n",
      "    #X1 = np.nanmean(Eall[:,erange-4,:],axis = 1).transpose()\n",
      "    #X3 = np.nanmean(Eall[:,erange+4,:],axis = 1).transpose()\n",
      "    #X = np.concatenate((X,X1,X3),axis = 0)\n",
      "    ##\n",
      "    X = pd.DataFrame(X)\n",
      "    X = X.fillna(X.median(),inplace=True)\n",
      "    X = X.dropna(axis =1,how='any')\n",
      "    clf = PCA(n_components = ncomp) \n",
      "    clf.fit(X)\n",
      "    X = clf.transform(X)\n",
      "    return X,y"
     ],
     "language": "python",
     "metadata": {},
     "outputs": [],
     "prompt_number": 155
    },
    {
     "cell_type": "code",
     "collapsed": false,
     "input": [
      "def LARS_MLR(X,y,n_nonzero,CV = 'split',boot=200):\n",
      "    r2 = np.empty((y.shape[1],boot))\n",
      "    score = np.empty((y.shape[1],boot))\n",
      "    yhat = np.empty((y.shape))\n",
      "    for b in range(boot):\n",
      "        if CV is 'split':\n",
      "                X_train, X_test, y_train, y_test = train_test_split(X, y, test_size=0.2)\n",
      "                for c in range(y.shape[1]):\n",
      "                    clf = Lars(n_nonzero_coefs=n_nonzero)\n",
      "                    clf.fit(X_train,y_train[:,c])\n",
      "                    yhat = clf.predict(X_test)\n",
      "                    score[c,b] = clf.score(X_test,y_test[:,c])\n",
      "                    r = stats.pearsonr(yhat,y_test[:,c])[0]\n",
      "                    r2[c,b] = r**2\n",
      "        elif CV is 'LOLO':\n",
      "            trialLabel = np.tile(np.arange(y.shape[0]/3),3)\n",
      "            lol = LeaveOneLabelOut(trialLabel)\n",
      "            for c in range(y.shape[1]):\n",
      "                for train_index, test_index in lol:\n",
      "                    clf = Lars(n_nonzero_coefs=n_nonzero)\n",
      "                    clf.fit(X[train_index,:],y[train_index,c])\n",
      "                    yhat[test_index,c] = clf.predict(X[test_index,:])\n",
      "                    #score[c,b] = clf.score(X[train_index,:],y[train_index,c])\n",
      "                    \n",
      "                r = stats.pearsonr(yhat[:,c],y[:,c])[0]\n",
      "                r2[c,b] = r**2\n",
      "    return np.squeeze(r2), yhat, score"
     ],
     "language": "python",
     "metadata": {},
     "outputs": [],
     "prompt_number": 158
    },
    {
     "cell_type": "code",
     "collapsed": false,
     "input": [
      "def Ridge_MLR(X,y,alpha,CV = 'split',boot=200):\n",
      "    r2 = np.empty((y.shape[1],boot))\n",
      "    score = np.empty((y.shape[1],boot))\n",
      "    yhat = np.empty((y.shape))\n",
      "    for b in range(boot):\n",
      "        if CV is 'split':\n",
      "                X_train, X_test, y_train, y_test = train_test_split(X, y, test_size=0.2)\n",
      "                for c in range(y.shape[1]):\n",
      "                    clf = Ridge(alpha = alpha)\n",
      "                    clf.fit(X_train,y_train[:,c])\n",
      "                    yhat = clf.predict(X_test)\n",
      "                    score[c,b] = clf.score(X_test,y_test[:,c])\n",
      "                    r = stats.pearsonr(yhat,y_test[:,c])[0]\n",
      "                    r2[c,b] = r**2\n",
      "        elif CV is 'LOLO':\n",
      "            trialLabel = np.tile(np.arange(y.shape[0]/3),3)\n",
      "            lol = LeaveOneLabelOut(trialLabel)\n",
      "            for c in range(y.shape[1]):\n",
      "                for train_index, test_index in lol:\n",
      "                    clf = Ridge(alpha = alpha)\n",
      "                    clf.fit(X[train_index,:],y[train_index,c])\n",
      "                    yhat[test_index,c] = clf.predict(X[test_index,:])\n",
      "                    #score[c,b] = clf.score(X[train_index,:],y[train_index,c])\n",
      "                    \n",
      "                r = stats.pearsonr(yhat[:,c],y[:,c])[0]\n",
      "                r2[c,b] = r**2\n",
      "    return np.squeeze(r2), yhat, score"
     ],
     "language": "python",
     "metadata": {},
     "outputs": [],
     "prompt_number": 139
    },
    {
     "cell_type": "code",
     "collapsed": false,
     "input": [
      "np.linspace(0,500,101)"
     ],
     "language": "python",
     "metadata": {},
     "outputs": [
      {
       "metadata": {},
       "output_type": "pyout",
       "prompt_number": 114,
       "text": [
        "array([   0.,    5.,   10.,   15.,   20.,   25.,   30.,   35.,   40.,\n",
        "         45.,   50.,   55.,   60.,   65.,   70.,   75.,   80.,   85.,\n",
        "         90.,   95.,  100.,  105.,  110.,  115.,  120.,  125.,  130.,\n",
        "        135.,  140.,  145.,  150.,  155.,  160.,  165.,  170.,  175.,\n",
        "        180.,  185.,  190.,  195.,  200.,  205.,  210.,  215.,  220.,\n",
        "        225.,  230.,  235.,  240.,  245.,  250.,  255.,  260.,  265.,\n",
        "        270.,  275.,  280.,  285.,  290.,  295.,  300.,  305.,  310.,\n",
        "        315.,  320.,  325.,  330.,  335.,  340.,  345.,  350.,  355.,\n",
        "        360.,  365.,  370.,  375.,  380.,  385.,  390.,  395.,  400.,\n",
        "        405.,  410.,  415.,  420.,  425.,  430.,  435.,  440.,  445.,\n",
        "        450.,  455.,  460.,  465.,  470.,  475.,  480.,  485.,  490.,\n",
        "        495.,  500.])"
       ]
      }
     ],
     "prompt_number": 114
    },
    {
     "cell_type": "code",
     "collapsed": false,
     "input": [
      "#Load data\n",
      "pth = '/Users/david_conant/Documents/EC41/'\n",
      "blocks = [19,20,22,27]\n",
      "tokens = ['AAA','AEE','AHH','EHH','ERR','IHH','UHH']\n",
      "CV = 'split'\n",
      "boot = 10\n",
      "ncomp = 10\n",
      "\n",
      "window = np.array([-1, 1])\n",
      "[E,anat,stop_times,start_times] = makeD_multi(pth,blocks,tokens,align_window = window, dtype='HG')\n",
      "Es = [E[d] for d in tokens]\n",
      "window = np.array([-1, 1])\n",
      "[F,anat,stop_times,start_times] = makeD_multi(pth,blocks,tokens,align_window = window, dtype='form')\n",
      "Fs = [F[d] for d in tokens]\n",
      "stops = [stop_times[d] for d in tokens]\n",
      "starts = [start_times[d] for d in tokens]\n",
      "Fs = smooth_formants(Fs,starts,stops,window)\n",
      "\n",
      "#Over time\n",
      "r2 = np.empty((6,boot,101,50))\n",
      "prog = ProgressBar(101)\n",
      "for indt,t in enumerate(np.linspace(0,500,101)):\n",
      "    erange = np.arange(t,t+4)\n",
      "\n",
      "    #Organize data into X and y\n",
      "    X,y = Ds2Xy(Es,Fs,anat,ncomp = ncomp,erange = erange.astype(int),frange = np.arange(105,115),)\n",
      "\n",
      "    #LARS regression\n",
      "    #r2 = np.empty((6,30))\n",
      "    #for nz in range(1,30):\n",
      "        #r2[:,nz-1],yhat,score = LARS_MLR(X, y, n_nonzero = nz, CV = CV, boot = boot)\n",
      "    #Ridge regression\n",
      "\n",
      "    for inda,a in enumerate(np.logspace(-10,10,50)):\n",
      "        r2[:,:,indt,inda],yhat,score = Ridge_MLR(X, y, alpha = a, CV = CV, boot = boot)\n",
      "    prog.animate(indt)"
     ],
     "language": "python",
     "metadata": {},
     "outputs": [
      {
       "output_type": "stream",
       "stream": "stdout",
       "text": [
        "File found; Loading...\n",
        "Loaded"
       ]
      },
      {
       "output_type": "stream",
       "stream": "stdout",
       "text": [
        "\n",
        "File found; Loading...\n",
        "Loaded\n",
        "\r"
       ]
      },
      {
       "output_type": "stream",
       "stream": "stdout",
       "text": [
        " [                       0%                       ]"
       ]
      },
      {
       "output_type": "stream",
       "stream": "stdout",
       "text": [
        "\r",
        " [                       1%                       ]  1 of 101 complete"
       ]
      },
      {
       "output_type": "stream",
       "stream": "stdout",
       "text": [
        "\r",
        " [*                      2%                       ]  2 of 101 complete"
       ]
      },
      {
       "output_type": "stream",
       "stream": "stdout",
       "text": [
        "\r",
        " [*                      3%                       ]  3 of 101 complete"
       ]
      },
      {
       "output_type": "stream",
       "stream": "stdout",
       "text": [
        "\r",
        " [**                     4%                       ]  4 of 101 complete"
       ]
      },
      {
       "output_type": "stream",
       "stream": "stdout",
       "text": [
        "\r",
        " [**                     5%                       ]  5 of 101 complete"
       ]
      },
      {
       "output_type": "stream",
       "stream": "stdout",
       "text": [
        "\r",
        " [***                    6%                       ]  6 of 101 complete"
       ]
      },
      {
       "output_type": "stream",
       "stream": "stdout",
       "text": [
        "\r",
        " [***                    7%                       ]  7 of 101 complete"
       ]
      },
      {
       "output_type": "stream",
       "stream": "stdout",
       "text": [
        "\r",
        " [****                   8%                       ]  8 of 101 complete"
       ]
      },
      {
       "output_type": "stream",
       "stream": "stdout",
       "text": [
        "\r",
        " [****                   9%                       ]  9 of 101 complete"
       ]
      },
      {
       "output_type": "stream",
       "stream": "stdout",
       "text": [
        "\r",
        " [*****                 10%                       ]  10 of 101 complete"
       ]
      },
      {
       "output_type": "stream",
       "stream": "stdout",
       "text": [
        "\r",
        " [*****                 11%                       ]  11 of 101 complete"
       ]
      },
      {
       "output_type": "stream",
       "stream": "stdout",
       "text": [
        "\r",
        " [******                12%                       ]  12 of 101 complete"
       ]
      },
      {
       "output_type": "stream",
       "stream": "stdout",
       "text": [
        "\r",
        " [******                13%                       ]  13 of 101 complete"
       ]
      },
      {
       "output_type": "stream",
       "stream": "stdout",
       "text": [
        "\r",
        " [*******               14%                       ]  14 of 101 complete"
       ]
      },
      {
       "output_type": "stream",
       "stream": "stdout",
       "text": [
        "\r",
        " [*******               15%                       ]  15 of 101 complete"
       ]
      },
      {
       "output_type": "stream",
       "stream": "stdout",
       "text": [
        "\r",
        " [********              16%                       ]  16 of 101 complete"
       ]
      },
      {
       "output_type": "stream",
       "stream": "stdout",
       "text": [
        "\r",
        " [********              17%                       ]  17 of 101 complete"
       ]
      },
      {
       "output_type": "stream",
       "stream": "stdout",
       "text": [
        "\r",
        " [*********             18%                       ]  18 of 101 complete"
       ]
      },
      {
       "output_type": "stream",
       "stream": "stdout",
       "text": [
        "\r",
        " [*********             19%                       ]  19 of 101 complete"
       ]
      },
      {
       "output_type": "stream",
       "stream": "stdout",
       "text": [
        "\r",
        " [**********            20%                       ]  20 of 101 complete"
       ]
      },
      {
       "output_type": "stream",
       "stream": "stdout",
       "text": [
        "\r",
        " [**********            21%                       ]  21 of 101 complete"
       ]
      },
      {
       "output_type": "stream",
       "stream": "stdout",
       "text": [
        "\r",
        " [***********           22%                       ]  22 of 101 complete"
       ]
      },
      {
       "output_type": "stream",
       "stream": "stdout",
       "text": [
        "\r",
        " [***********           23%                       ]  23 of 101 complete"
       ]
      },
      {
       "output_type": "stream",
       "stream": "stdout",
       "text": [
        "\r",
        " [************          24%                       ]  24 of 101 complete"
       ]
      },
      {
       "output_type": "stream",
       "stream": "stdout",
       "text": [
        "\r",
        " [************          25%                       ]  25 of 101 complete"
       ]
      },
      {
       "output_type": "stream",
       "stream": "stdout",
       "text": [
        "\r",
        " [************          26%                       ]  26 of 101 complete"
       ]
      },
      {
       "output_type": "stream",
       "stream": "stdout",
       "text": [
        "\r",
        " [*************         27%                       ]  27 of 101 complete"
       ]
      },
      {
       "output_type": "stream",
       "stream": "stdout",
       "text": [
        "\r",
        " [*************         28%                       ]  28 of 101 complete"
       ]
      },
      {
       "output_type": "stream",
       "stream": "stdout",
       "text": [
        "\r",
        " [**************        29%                       ]  29 of 101 complete"
       ]
      },
      {
       "output_type": "stream",
       "stream": "stdout",
       "text": [
        "\r",
        " [**************        30%                       ]  30 of 101 complete"
       ]
      },
      {
       "output_type": "stream",
       "stream": "stdout",
       "text": [
        "\r",
        " [***************       31%                       ]  31 of 101 complete"
       ]
      },
      {
       "output_type": "stream",
       "stream": "stdout",
       "text": [
        "\r",
        " [***************       32%                       ]  32 of 101 complete"
       ]
      },
      {
       "output_type": "stream",
       "stream": "stdout",
       "text": [
        "\r",
        " [****************      33%                       ]  33 of 101 complete"
       ]
      },
      {
       "output_type": "stream",
       "stream": "stdout",
       "text": [
        "\r",
        " [****************      34%                       ]  34 of 101 complete"
       ]
      },
      {
       "output_type": "stream",
       "stream": "stdout",
       "text": [
        "\r",
        " [*****************     35%                       ]  35 of 101 complete"
       ]
      },
      {
       "output_type": "stream",
       "stream": "stdout",
       "text": [
        "\r",
        " [*****************     36%                       ]  36 of 101 complete"
       ]
      },
      {
       "output_type": "stream",
       "stream": "stdout",
       "text": [
        "\r",
        " [******************    37%                       ]  37 of 101 complete"
       ]
      },
      {
       "output_type": "stream",
       "stream": "stdout",
       "text": [
        "\r",
        " [******************    38%                       ]  38 of 101 complete"
       ]
      },
      {
       "output_type": "stream",
       "stream": "stdout",
       "text": [
        "\r",
        " [*******************   39%                       ]  39 of 101 complete"
       ]
      },
      {
       "output_type": "stream",
       "stream": "stdout",
       "text": [
        "\r",
        " [*******************   40%                       ]  40 of 101 complete"
       ]
      },
      {
       "output_type": "stream",
       "stream": "stdout",
       "text": [
        "\r",
        " [********************  41%                       ]  41 of 101 complete"
       ]
      },
      {
       "output_type": "stream",
       "stream": "stdout",
       "text": [
        "\r",
        " [********************  42%                       ]  42 of 101 complete"
       ]
      },
      {
       "output_type": "stream",
       "stream": "stdout",
       "text": [
        "\r",
        " [********************* 43%                       ]  43 of 101 complete"
       ]
      },
      {
       "output_type": "stream",
       "stream": "stdout",
       "text": [
        "\r",
        " [********************* 44%                       ]  44 of 101 complete"
       ]
      },
      {
       "output_type": "stream",
       "stream": "stdout",
       "text": [
        "\r",
        " [**********************45%                       ]  45 of 101 complete"
       ]
      },
      {
       "output_type": "stream",
       "stream": "stdout",
       "text": [
        "\r",
        " [**********************46%                       ]  46 of 101 complete"
       ]
      },
      {
       "output_type": "stream",
       "stream": "stdout",
       "text": [
        "\r",
        " [**********************47%                       ]  47 of 101 complete"
       ]
      },
      {
       "output_type": "stream",
       "stream": "stdout",
       "text": [
        "\r",
        " [**********************48%                       ]  48 of 101 complete"
       ]
      },
      {
       "output_type": "stream",
       "stream": "stdout",
       "text": [
        "\r",
        " [**********************49%                       ]  49 of 101 complete"
       ]
      },
      {
       "output_type": "stream",
       "stream": "stdout",
       "text": [
        "\r",
        " [**********************50%                       ]  50 of 101 complete"
       ]
      },
      {
       "output_type": "stream",
       "stream": "stdout",
       "text": [
        "\r",
        " [**********************50%                       ]  51 of 101 complete"
       ]
      },
      {
       "output_type": "stream",
       "stream": "stdout",
       "text": [
        "\r",
        " [**********************51%                       ]  52 of 101 complete"
       ]
      },
      {
       "output_type": "stream",
       "stream": "stdout",
       "text": [
        "\r",
        " [**********************52%                       ]  53 of 101 complete"
       ]
      },
      {
       "output_type": "stream",
       "stream": "stdout",
       "text": [
        "\r",
        " [**********************53%                       ]  54 of 101 complete"
       ]
      },
      {
       "output_type": "stream",
       "stream": "stdout",
       "text": [
        "\r",
        " [**********************54%*                      ]  55 of 101 complete"
       ]
      },
      {
       "output_type": "stream",
       "stream": "stdout",
       "text": [
        "\r",
        " [**********************55%*                      ]  56 of 101 complete"
       ]
      },
      {
       "output_type": "stream",
       "stream": "stdout",
       "text": [
        "\r",
        " [**********************56%**                     ]  57 of 101 complete"
       ]
      },
      {
       "output_type": "stream",
       "stream": "stdout",
       "text": [
        "\r",
        " [**********************57%**                     ]  58 of 101 complete"
       ]
      },
      {
       "output_type": "stream",
       "stream": "stdout",
       "text": [
        "\r",
        " [**********************58%***                    ]  59 of 101 complete"
       ]
      },
      {
       "output_type": "stream",
       "stream": "stdout",
       "text": [
        "\r",
        " [**********************59%***                    ]  60 of 101 complete"
       ]
      },
      {
       "output_type": "stream",
       "stream": "stdout",
       "text": [
        "\r",
        " [**********************60%****                   ]  61 of 101 complete"
       ]
      },
      {
       "output_type": "stream",
       "stream": "stdout",
       "text": [
        "\r",
        " [**********************61%****                   ]  62 of 101 complete"
       ]
      },
      {
       "output_type": "stream",
       "stream": "stdout",
       "text": [
        "\r",
        " [**********************62%*****                  ]  63 of 101 complete"
       ]
      },
      {
       "output_type": "stream",
       "stream": "stdout",
       "text": [
        "\r",
        " [**********************63%*****                  ]  64 of 101 complete"
       ]
      },
      {
       "output_type": "stream",
       "stream": "stdout",
       "text": [
        "\r",
        " [**********************64%******                 ]  65 of 101 complete"
       ]
      },
      {
       "output_type": "stream",
       "stream": "stdout",
       "text": [
        "\r",
        " [**********************65%******                 ]  66 of 101 complete"
       ]
      },
      {
       "output_type": "stream",
       "stream": "stdout",
       "text": [
        "\r",
        " [**********************66%*******                ]  67 of 101 complete"
       ]
      },
      {
       "output_type": "stream",
       "stream": "stdout",
       "text": [
        "\r",
        " [**********************67%*******                ]  68 of 101 complete"
       ]
      },
      {
       "output_type": "stream",
       "stream": "stdout",
       "text": [
        "\r",
        " [**********************68%********               ]  69 of 101 complete"
       ]
      },
      {
       "output_type": "stream",
       "stream": "stdout",
       "text": [
        "\r",
        " [**********************69%********               ]  70 of 101 complete"
       ]
      },
      {
       "output_type": "stream",
       "stream": "stdout",
       "text": [
        "\r",
        " [**********************70%*********              ]  71 of 101 complete"
       ]
      },
      {
       "output_type": "stream",
       "stream": "stdout",
       "text": [
        "\r",
        " [**********************71%*********              ]  72 of 101 complete"
       ]
      },
      {
       "output_type": "stream",
       "stream": "stdout",
       "text": [
        "\r",
        " [**********************72%**********             ]  73 of 101 complete"
       ]
      },
      {
       "output_type": "stream",
       "stream": "stdout",
       "text": [
        "\r",
        " [**********************73%**********             ]  74 of 101 complete"
       ]
      },
      {
       "output_type": "stream",
       "stream": "stdout",
       "text": [
        "\r",
        " [**********************74%***********            ]  75 of 101 complete"
       ]
      },
      {
       "output_type": "stream",
       "stream": "stdout",
       "text": [
        "\r",
        " [**********************75%***********            ]  76 of 101 complete"
       ]
      },
      {
       "output_type": "stream",
       "stream": "stdout",
       "text": [
        "\r",
        " [**********************76%***********            ]  77 of 101 complete"
       ]
      },
      {
       "output_type": "stream",
       "stream": "stdout",
       "text": [
        "\r",
        " [**********************77%************           ]  78 of 101 complete"
       ]
      },
      {
       "output_type": "stream",
       "stream": "stdout",
       "text": [
        "\r",
        " [**********************78%************           ]  79 of 101 complete"
       ]
      },
      {
       "output_type": "stream",
       "stream": "stdout",
       "text": [
        "\r",
        " [**********************79%*************          ]  80 of 101 complete"
       ]
      },
      {
       "output_type": "stream",
       "stream": "stdout",
       "text": [
        "\r",
        " [**********************80%*************          ]  81 of 101 complete"
       ]
      },
      {
       "output_type": "stream",
       "stream": "stdout",
       "text": [
        "\r",
        " [**********************81%**************         ]  82 of 101 complete"
       ]
      },
      {
       "output_type": "stream",
       "stream": "stdout",
       "text": [
        "\r",
        " [**********************82%**************         ]  83 of 101 complete"
       ]
      },
      {
       "output_type": "stream",
       "stream": "stdout",
       "text": [
        "\r",
        " [**********************83%***************        ]  84 of 101 complete"
       ]
      },
      {
       "output_type": "stream",
       "stream": "stdout",
       "text": [
        "\r",
        " [**********************84%***************        ]  85 of 101 complete"
       ]
      },
      {
       "output_type": "stream",
       "stream": "stdout",
       "text": [
        "\r",
        " [**********************85%****************       ]  86 of 101 complete"
       ]
      },
      {
       "output_type": "stream",
       "stream": "stdout",
       "text": [
        "\r",
        " [**********************86%****************       ]  87 of 101 complete"
       ]
      },
      {
       "output_type": "stream",
       "stream": "stdout",
       "text": [
        "\r",
        " [**********************87%*****************      ]  88 of 101 complete"
       ]
      },
      {
       "output_type": "stream",
       "stream": "stdout",
       "text": [
        "\r",
        " [**********************88%*****************      ]  89 of 101 complete"
       ]
      },
      {
       "output_type": "stream",
       "stream": "stdout",
       "text": [
        "\r",
        " [**********************89%******************     ]  90 of 101 complete"
       ]
      },
      {
       "output_type": "stream",
       "stream": "stdout",
       "text": [
        "\r",
        " [**********************90%******************     ]  91 of 101 complete"
       ]
      },
      {
       "output_type": "stream",
       "stream": "stdout",
       "text": [
        "\r",
        " [**********************91%*******************    ]  92 of 101 complete"
       ]
      },
      {
       "output_type": "stream",
       "stream": "stdout",
       "text": [
        "\r",
        " [**********************92%*******************    ]  93 of 101 complete"
       ]
      },
      {
       "output_type": "stream",
       "stream": "stdout",
       "text": [
        "\r",
        " [**********************93%********************   ]  94 of 101 complete"
       ]
      },
      {
       "output_type": "stream",
       "stream": "stdout",
       "text": [
        "\r",
        " [**********************94%********************   ]  95 of 101 complete"
       ]
      },
      {
       "output_type": "stream",
       "stream": "stdout",
       "text": [
        "\r",
        " [**********************95%*********************  ]  96 of 101 complete"
       ]
      },
      {
       "output_type": "stream",
       "stream": "stdout",
       "text": [
        "\r",
        " [**********************96%*********************  ]  97 of 101 complete"
       ]
      },
      {
       "output_type": "stream",
       "stream": "stdout",
       "text": [
        "\r",
        " [**********************97%********************** ]  98 of 101 complete"
       ]
      },
      {
       "output_type": "stream",
       "stream": "stdout",
       "text": [
        "\r",
        " [**********************98%********************** ]  99 of 101 complete"
       ]
      },
      {
       "output_type": "stream",
       "stream": "stdout",
       "text": [
        "\r",
        " [**********************99%***********************]  100 of 101 complete"
       ]
      }
     ],
     "prompt_number": 176
    },
    {
     "cell_type": "code",
     "collapsed": false,
     "input": [
      "#Ridge -10:10, splitCV, no repeats 0:800\n",
      "plt.pcolor(np.mean(r2[5,:,:,:],axis = 0))\n",
      "plt.colorbar()"
     ],
     "language": "python",
     "metadata": {},
     "outputs": [
      {
       "metadata": {},
       "output_type": "pyout",
       "prompt_number": 175,
       "text": [
        "<matplotlib.colorbar.Colorbar instance at 0x11ab321b8>"
       ]
      },
      {
       "metadata": {},
       "output_type": "display_data",
       "png": "[encoded data removed]",
       "text": [
        "<matplotlib.figure.Figure at 0x1188fa350>"
       ]
      }
     ],
     "prompt_number": 175
    },
    {
     "cell_type": "code",
     "collapsed": false,
     "input": [
      "#Ridge -10:10, splitCV, no repeats, 0:500\n",
      "plt.pcolor(np.mean(r2[5,:,:100,:],axis = 0))\n",
      "plt.colorbar()"
     ],
     "language": "python",
     "metadata": {},
     "outputs": [
      {
       "metadata": {},
       "output_type": "pyout",
       "prompt_number": 182,
       "text": [
        "<matplotlib.colorbar.Colorbar instance at 0x13b9105f0>"
       ]
      },
      {
       "metadata": {},
       "output_type": "display_data",
       "png": "[encoded data removed]",
       "text": [
        "<matplotlib.figure.Figure at 0x124e48450>"
       ]
      }
     ],
     "prompt_number": 182
    },
    {
     "cell_type": "code",
     "collapsed": false,
     "input": [
      "#Ridge -10:10, splitCV, no repeats\n",
      "plt.pcolor(np.mean(r2[5,:,:,:],axis = 0))\n",
      "plt.colorbar()"
     ],
     "language": "python",
     "metadata": {},
     "outputs": [
      {
       "metadata": {},
       "output_type": "pyout",
       "prompt_number": 163,
       "text": [
        "<matplotlib.colorbar.Colorbar instance at 0x120d9d908>"
       ]
      },
      {
       "metadata": {},
       "output_type": "display_data",
       "png": "[encoded data removed]",
       "text": [
        "<matplotlib.figure.Figure at 0x12042a8d0>"
       ]
      }
     ],
     "prompt_number": 163
    },
    {
     "cell_type": "code",
     "collapsed": false,
     "input": [
      "#Ridge -10:10, splitCV, no repeats, All vowels\n",
      "plt.pcolor(np.mean(r2[5,:,:,:],axis = 0))\n",
      "plt.colorbar()"
     ],
     "language": "python",
     "metadata": {},
     "outputs": [
      {
       "metadata": {},
       "output_type": "pyout",
       "prompt_number": 165,
       "text": [
        "<matplotlib.colorbar.Colorbar instance at 0x1426d1fc8>"
       ]
      },
      {
       "metadata": {},
       "output_type": "display_data",
       "png": "[encoded data removed]",
       "text": [
        "<matplotlib.figure.Figure at 0x120da92d0>"
       ]
      }
     ],
     "prompt_number": 165
    },
    {
     "cell_type": "code",
     "collapsed": false,
     "input": [
      "#Ridge -10:10, splitCV, no repeats, All but vowels\n",
      "plt.pcolor(np.mean(r2[5,:,:,:],axis = 0))\n",
      "plt.colorbar()"
     ],
     "language": "python",
     "metadata": {},
     "outputs": [
      {
       "metadata": {},
       "output_type": "pyout",
       "prompt_number": 167,
       "text": [
        "<matplotlib.colorbar.Colorbar instance at 0x11889f128>"
       ]
      },
      {
       "metadata": {},
       "output_type": "display_data",
       "png": "[encoded data removed]",
       "text": [
        "<matplotlib.figure.Figure at 0x142837810>"
       ]
      }
     ],
     "prompt_number": 167
    },
    {
     "cell_type": "code",
     "collapsed": false,
     "input": [
      "#Ridge -10:10, split CV, yes repeats\n",
      "plt.pcolor(np.mean(r2[5,:,:,:],axis = 0))\n",
      "plt.colorbar()"
     ],
     "language": "python",
     "metadata": {},
     "outputs": [
      {
       "metadata": {},
       "output_type": "pyout",
       "prompt_number": 143,
       "text": [
        "<matplotlib.colorbar.Colorbar instance at 0x1386a5bd8>"
       ]
      },
      {
       "metadata": {},
       "output_type": "display_data",
       "png": "[encoded data removed]",
       "text": [
        "<matplotlib.figure.Figure at 0x137d76890>"
       ]
      }
     ],
     "prompt_number": 143
    },
    {
     "cell_type": "code",
     "collapsed": false,
     "input": [
      "#Ridge -10:10, LOLO CV, yes repeats\n",
      "plt.pcolor(np.mean(r2[5,:,:,:30],axis = 0))\n",
      "plt.colorbar()"
     ],
     "language": "python",
     "metadata": {},
     "outputs": [
      {
       "metadata": {},
       "output_type": "pyout",
       "prompt_number": 150,
       "text": [
        "<matplotlib.colorbar.Colorbar instance at 0x13b627170>"
       ]
      },
      {
       "metadata": {},
       "output_type": "display_data",
       "png": "[encoded data removed]",
       "text": [
        "<matplotlib.figure.Figure at 0x137da8bd0>"
       ]
      }
     ],
     "prompt_number": 150
    },
    {
     "cell_type": "code",
     "collapsed": false,
     "input": [],
     "language": "python",
     "metadata": {},
     "outputs": []
    },
    {
     "cell_type": "code",
     "collapsed": false,
     "input": [
      "np.mean(r2[5,:,:,:],axis = 0).shape"
     ],
     "language": "python",
     "metadata": {},
     "outputs": [
      {
       "metadata": {},
       "output_type": "pyout",
       "prompt_number": 180,
       "text": [
        "(101, 50)"
       ]
      }
     ],
     "prompt_number": 180
    },
    {
     "cell_type": "code",
     "collapsed": false,
     "input": [
      "r2.shape"
     ],
     "language": "python",
     "metadata": {},
     "outputs": [
      {
       "metadata": {},
       "output_type": "pyout",
       "prompt_number": 177,
       "text": [
        "(6, 10, 101, 50)"
       ]
      }
     ],
     "prompt_number": 177
    },
    {
     "cell_type": "code",
     "collapsed": false,
     "input": [
      "plt.pcolor(r2[:,1:-1])\n",
      "plt.colorbar()"
     ],
     "language": "python",
     "metadata": {},
     "outputs": [
      {
       "metadata": {},
       "output_type": "pyout",
       "prompt_number": 77,
       "text": [
        "<matplotlib.colorbar.Colorbar instance at 0x131877518>"
       ]
      },
      {
       "metadata": {},
       "output_type": "display_data",
       "png": "[encoded data removed]",
       "text": [
        "<matplotlib.figure.Figure at 0x131701d10>"
       ]
      }
     ],
     "prompt_number": 77
    },
    {
     "cell_type": "code",
     "collapsed": false,
     "input": [
      "sns.set_palette('Set1',n_colors=9)\n",
      "mid = np.arange(100,110)\n",
      "labels = tokens\n",
      "align_window=window\n",
      "tt = np.linspace(align_window[0],align_window[1],Fs[0].shape[1])\n",
      "sns.set_context('talk')\n",
      "sns.set_style('dark')\n",
      "fig, axes = plt.subplots(figsize=(12,12))\n",
      "for cnt,f in enumerate(Fs):\n",
      "    ppl.scatter(np.nanmean(f[1,mid,:],axis = 0),np.nanmean(f[2,mid,:],axis = 0), alpha = 1, s=60)\n",
      "plt.xlabel('F1')\n",
      "plt.ylabel('F2')\n",
      "ppl.legend(labels, bbox_to_anchor=(1, 1))"
     ],
     "language": "python",
     "metadata": {},
     "outputs": [
      {
       "metadata": {},
       "output_type": "pyout",
       "prompt_number": 169,
       "text": [
        "<matplotlib.legend.Legend at 0x118cffb50>"
       ]
      },
      {
       "metadata": {},
       "output_type": "display_data",
       "png": "[encoded data removed]",
       "text": [
        "<matplotlib.figure.Figure at 0x13b69a210>"
       ]
      }
     ],
     "prompt_number": 169
    },
    {
     "cell_type": "code",
     "collapsed": false,
     "input": [
      "vSMC = np.concatenate((np.where(anat=='preCG')[0],np.where(anat=='postCG')[0]))\n",
      "vSMC"
     ],
     "language": "python",
     "metadata": {},
     "outputs": [
      {
       "metadata": {},
       "output_type": "pyout",
       "prompt_number": 171,
       "text": [
        "array([  8,   9,  21,  22,  23,  24,  25,  26,  27,  35,  36,  37,  38,\n",
        "        39,  40,  41,  42,  43,  44,  51,  52,  53,  54,  55,  56,  57,\n",
        "        58,  59,  60,  61,  67,  68,  69,  70,  71,  72,  73,  74,  75,\n",
        "        76,  77,  78,  79,  84,  85,  93,  94,  95,  87,  88,  89,  90,\n",
        "        91,  92, 100, 101, 102, 103, 104, 105, 106, 107, 108, 109, 110,\n",
        "       111, 117, 118, 119, 120, 121, 122, 123, 124, 125, 126, 127, 134,\n",
        "       135, 136, 137, 143, 150, 151, 152, 167])"
       ]
      }
     ],
     "prompt_number": 171
    },
    {
     "cell_type": "code",
     "collapsed": false,
     "input": [],
     "language": "python",
     "metadata": {},
     "outputs": [
      {
       "metadata": {},
       "output_type": "pyout",
       "prompt_number": 173,
       "text": [
        "u'preCG'"
       ]
      }
     ],
     "prompt_number": 173
    },
    {
     "cell_type": "code",
     "collapsed": false,
     "input": [
      "plt.pcolor(np.nanmean(r2[:,:,:],axis = 1))\n",
      "plt.colorbar()"
     ],
     "language": "python",
     "metadata": {},
     "outputs": [
      {
       "metadata": {},
       "output_type": "pyout",
       "prompt_number": 99,
       "text": [
        "<matplotlib.colorbar.Colorbar instance at 0x116b6c488>"
       ]
      },
      {
       "metadata": {},
       "output_type": "display_data",
       "png": "[encoded data removed]",
       "text": [
        "<matplotlib.figure.Figure at 0x1169e4a50>"
       ]
      }
     ],
     "prompt_number": 99
    },
    {
     "cell_type": "code",
     "collapsed": false,
     "input": [
      "plt.pcolor(np.nanmean(r2[:,:,:],axis = 1))\n",
      "plt.colorbar()"
     ],
     "language": "python",
     "metadata": {},
     "outputs": [
      {
       "metadata": {},
       "output_type": "pyout",
       "prompt_number": 101,
       "text": [
        "<matplotlib.colorbar.Colorbar instance at 0x1172334d0>"
       ]
      },
      {
       "metadata": {},
       "output_type": "display_data",
       "png": "[encoded data removed]",
       "text": [
        "<matplotlib.figure.Figure at 0x116646690>"
       ]
      }
     ],
     "prompt_number": 101
    },
    {
     "cell_type": "code",
     "collapsed": false,
     "input": [
      "plt.pcolor(np.nanmean(r2[:,:,:],axis = 1))\n",
      "plt.colorbar()"
     ],
     "language": "python",
     "metadata": {},
     "outputs": [
      {
       "metadata": {},
       "output_type": "pyout",
       "prompt_number": 103,
       "text": [
        "<matplotlib.colorbar.Colorbar instance at 0x1126967a0>"
       ]
      },
      {
       "metadata": {},
       "output_type": "display_data",
       "png": "[encoded data removed]",
       "text": [
        "<matplotlib.figure.Figure at 0x117248a90>"
       ]
      }
     ],
     "prompt_number": 103
    },
    {
     "cell_type": "code",
     "collapsed": false,
     "input": [],
     "language": "python",
     "metadata": {},
     "outputs": []
    },
    {
     "cell_type": "code",
     "collapsed": false,
     "input": [
      "plt.pcolor(np.nanmean(r2[:,:,:],axis = 1))\n",
      "plt.colorbar()"
     ],
     "language": "python",
     "metadata": {},
     "outputs": [
      {
       "metadata": {},
       "output_type": "pyout",
       "prompt_number": 111,
       "text": [
        "<matplotlib.colorbar.Colorbar instance at 0x11552e248>"
       ]
      },
      {
       "metadata": {},
       "output_type": "display_data",
       "png": "[encoded data removed]",
       "text": [
        "<matplotlib.figure.Figure at 0x114f49e50>"
       ]
      }
     ],
     "prompt_number": 111
    },
    {
     "cell_type": "code",
     "collapsed": false,
     "input": [],
     "language": "python",
     "metadata": {},
     "outputs": []
    },
    {
     "cell_type": "code",
     "collapsed": false,
     "input": [],
     "language": "python",
     "metadata": {},
     "outputs": []
    },
    {
     "cell_type": "code",
     "collapsed": false,
     "input": [],
     "language": "python",
     "metadata": {},
     "outputs": []
    },
    {
     "cell_type": "code",
     "collapsed": false,
     "input": [],
     "language": "python",
     "metadata": {},
     "outputs": []
    }
   ],
   "metadata": {}
  }
 ]
}