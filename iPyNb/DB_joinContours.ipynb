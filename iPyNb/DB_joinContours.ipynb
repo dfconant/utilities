{
 "metadata": {
  "name": "",
  "signature": "sha256:794deeff3bac6802c4fe6b642139e308ba9ad7e032e2d4de6ff34929003c37a1"
 },
 "nbformat": 3,
 "nbformat_minor": 0,
 "worksheets": [
  {
   "cells": [
    {
     "cell_type": "code",
     "collapsed": false,
     "input": [
      "cd EC56/"
     ],
     "language": "python",
     "metadata": {},
     "outputs": [
      {
       "output_type": "stream",
       "stream": "stdout",
       "text": [
        "/Users/david_conant/Dropbox/EC56\n"
       ]
      }
     ],
     "prompt_number": 3
    },
    {
     "cell_type": "code",
     "collapsed": false,
     "input": [
      "sys.path.append('/Users/david_conant/Dropbox/Python/data-wrangle')\n",
      "\n",
      "pth = 'EC56_B77_USvid_frames/'\n",
      "import scipy as sp\n",
      "import scipy.io\n",
      "import glob\n",
      "import numpy as np\n",
      "import csv\n",
      "import unicodedata\n",
      "conFiles = glob.glob(pth+'/*.con')\n",
      "numPoints = 100\n",
      "scale = 'mm'\n",
      "f_range = [];\n",
      "f=1;"
     ],
     "language": "python",
     "metadata": {},
     "outputs": [],
     "prompt_number": 20
    },
    {
     "cell_type": "code",
     "collapsed": false,
     "input": [
      "avg = 0;\n",
      "underscores = [i for i ,ltr in enumerate(conFiles[f]) if ltr == '_']\n",
      "start = int(conFiles[f][underscores[-2]+1:underscores[-1]])\n",
      "stop = int(conFiles[f][underscores[-1]+1:-4])\n",
      "f_range.append(np.arange(start,stop)) \n",
      "\n",
      "if f>0 & f_range[f].size > 0:\n",
      "    overlap = np.intersect1d(f_range[f],f_range[f-1])\n",
      "    avg = 1\n",
      "\n",
      "with open(conFiles[f],'rb') as tsvin:\n",
      "    content = csv.reader(open(conFiles[f],'rb'),delimiter='\\t')"
     ],
     "language": "python",
     "metadata": {},
     "outputs": [],
     "prompt_number": 11
    },
    {
     "cell_type": "code",
     "collapsed": false,
     "input": [
      "x = [];\n",
      "y = [];\n",
      "for row in content:\n",
      "    contour = row\n",
      "    #contour = np.array([tmp.strip(' ') for tmp in row])\n",
      "    x.append(contour[0:-2:2])\n",
      "    y.append(contour[1:-2:2])\n",
      "x = np.array(x)\n",
      "y = np.array(y)"
     ],
     "language": "python",
     "metadata": {},
     "outputs": [],
     "prompt_number": 13
    },
    {
     "cell_type": "code",
     "collapsed": false,
     "input": [
      "#Smooth across items\n",
      "if avg:\n",
      "    numavg = overlap.size\n",
      "    #kern = cos(numavg\n",
      "    x2 = x(np.arange(0,numavg))\n",
      "    y2 = y(np.arange(0,numavg))\n",
      "    joinedx[-numavg:-1] = [];\n",
      "    joinedy[-numavg:-1] = [];\n",
      "    x(1:numavg) = conv(x1,x2,kern)\n",
      "    y(1:numavg) = conv(y1,y2,kern)"
     ],
     "language": "python",
     "metadata": {},
     "outputs": [
      {
       "ename": "SyntaxError",
       "evalue": "invalid syntax (<ipython-input-17-470ca906d94e>, line 9)",
       "output_type": "pyerr",
       "traceback": [
        "\u001b[0;36m  File \u001b[0;32m\"<ipython-input-17-470ca906d94e>\"\u001b[0;36m, line \u001b[0;32m9\u001b[0m\n\u001b[0;31m    x(1:numavg) = conv(x1,x2,kern)\u001b[0m\n\u001b[0m       ^\u001b[0m\n\u001b[0;31mSyntaxError\u001b[0m\u001b[0;31m:\u001b[0m invalid syntax\n"
       ]
      }
     ],
     "prompt_number": 17
    },
    {
     "cell_type": "code",
     "collapsed": false,
     "input": [],
     "language": "python",
     "metadata": {},
     "outputs": [],
     "prompt_number": 19
    },
    {
     "cell_type": "code",
     "collapsed": false,
     "input": [],
     "language": "python",
     "metadata": {},
     "outputs": []
    }
   ],
   "metadata": {}
  }
 ]
}