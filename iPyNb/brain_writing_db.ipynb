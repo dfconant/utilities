{
 "metadata": {
  "name": "",
  "signature": "sha256:6b90541798785f23ac455d41f90e42f7b8310b104812761d8f41ab24f1536146"
 },
 "nbformat": 3,
 "nbformat_minor": 0,
 "worksheets": [
  {
   "cells": [
    {
     "cell_type": "code",
     "collapsed": false,
     "input": [
      "import sys\n",
      "sys.path.append(\"/Users/david_conant/Dropbox/changrepo/python/brain\")\n",
      "from brain.dataformat.brainformat import *\n",
      "pth = '/Users/david_conant/Dropbox/NeuroSpeech/EC56/'"
     ],
     "language": "python",
     "metadata": {},
     "outputs": [],
     "prompt_number": 3
    },
    {
     "cell_type": "code",
     "collapsed": false,
     "input": [
      "i = pth+'EC56.prod.hVd.B75_77.align1_2.neural.mat'\n",
      "o = pth+'EC56.prod.hVd.B75_77.align1_2.neural.h5'\n",
      "a = pth+'EC56_anat.mat'\n",
      "\n",
      "brainformat/brain/tools/convert_sgmnd_braindata.py -i i -o o -a a -l DEBUG"
     ],
     "language": "python",
     "metadata": {},
     "outputs": [
      {
       "ename": "SyntaxError",
       "evalue": "invalid syntax (<ipython-input-10-5e564acee659>, line 5)",
       "output_type": "pyerr",
       "traceback": [
        "\u001b[0;36m  File \u001b[0;32m\"<ipython-input-10-5e564acee659>\"\u001b[0;36m, line \u001b[0;32m5\u001b[0m\n\u001b[0;31m    brainformat/brain/tools/convert_sgmnd_braindata.py -i i -o o -a a -l DEBUG\u001b[0m\n\u001b[0m                                                          ^\u001b[0m\n\u001b[0;31mSyntaxError\u001b[0m\u001b[0;31m:\u001b[0m invalid syntax\n"
       ]
      }
     ],
     "prompt_number": 10
    },
    {
     "cell_type": "code",
     "collapsed": false,
     "input": [
      "pth+'EC56.prod.hVd.B75_77.align1_2.neural.h5'"
     ],
     "language": "python",
     "metadata": {},
     "outputs": [
      {
       "metadata": {},
       "output_type": "pyout",
       "prompt_number": 6,
       "text": [
        "'/Users/david_conant/Dropbox/NeuroSpeech/EC56/EC56.prod.hVd.B75_77.align1_2.neural.matEC56.prod.hVd.B75_77.align1_2.neural.h5'"
       ]
      }
     ],
     "prompt_number": 6
    },
    {
     "cell_type": "code",
     "collapsed": false,
     "input": [
      "python /Users/david_conant/Dropbox/changrepo/python/brain/tools/convert_sgmnd_braindata.py -i EC56.prod.hVd.B75_77.align1_2.neural.mat -o EC56.prod.hVd.B75_77.align1_2.neural.h5 -a EC56_anat.mat -l DEBUG"
     ],
     "language": "python",
     "metadata": {},
     "outputs": []
    }
   ],
   "metadata": {}
  }
 ]
}