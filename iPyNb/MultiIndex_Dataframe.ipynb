{
 "metadata": {
  "name": "",
  "signature": "sha256:54b6af47144777ddf2c97dc580a22336abe527d39abef0a377c5ea7f0b8a02d5"
 },
 "nbformat": 3,
 "nbformat_minor": 0,
 "worksheets": [
  {
   "cells": [
    {
     "cell_type": "code",
     "collapsed": false,
     "input": [
      "#Intitialize\n",
      "%load_ext autoreload\n",
      "%autoreload 2\n",
      "%matplotlib inline\n",
      "import scipy as sp\n",
      "import scipy.stats as stats\n",
      "import numpy as np\n",
      "from sklearn.cross_validation import train_test_split, LeaveOneOut, LeaveOneLabelOut, ShuffleSplit\n",
      "from sklearn.decomposition import PCA\n",
      "from sklearn.lda import LDA\n",
      "from sklearn.linear_model import Lars, Ridge\n",
      "import pandas as pd\n",
      "import pdb\n",
      "import prettyplotlib as ppl\n",
      "from BDutils import ProgressBar, moving_average\n",
      "from scipy.signal import savgol_filter\n",
      "import seaborn as sns\n",
      "import matplotlib.gridspec as gridspec\n",
      "from ECoGstats import makeD_multi, process_kin, shuffle_df, smooth_formants, Ridge_MLR, Ds2Xy, smooth_derivative,ClusterSeparability\n",
      "from ecog_viz import LDA_proj_scatter, gestural_score, separability_timecourse\n",
      "from __future__ import division\n",
      "from matplotlib.backends.backend_agg import (FigureCanvasAgg as FigureCanvas)\n",
      "from scipy.stats import mstats"
     ],
     "language": "python",
     "metadata": {},
     "outputs": [
      {
       "ename": "SyntaxError",
       "evalue": "non-keyword arg after keyword arg (ecog_viz.py, line 327)",
       "output_type": "pyerr",
       "traceback": [
        "\u001b[0;36m  File \u001b[0;32m\"/Users/david_conant/Dropbox/changrepo/python/visualization/ecog_viz.py\"\u001b[0;36m, line \u001b[0;32m327\u001b[0m\n\u001b[0;31m    data = savgol_filter(Dall[cnt,:,:].transpose(),axis=1,5,3)\u001b[0m\n\u001b[0;31mSyntaxError\u001b[0m\u001b[0;31m:\u001b[0m non-keyword arg after keyword arg\n"
       ]
      }
     ],
     "prompt_number": 1
    },
    {
     "cell_type": "code",
     "collapsed": false,
     "input": [
      "subj = 'EC41'\n",
      "blocks = [19,20,22,27]\n",
      "pth = '/Users/david_conant/Dropbox/Vowels/'+subj + '/'\n",
      "tokens = ['AAA','IYY','UWW','AEE','AHH','EHH','ERR','IHH','UHH']\n",
      "window = np.array([-1,2])\n",
      "[D,anat,stop_times,start_times] = makeD_multi(pth,blocks,tokens,dtype= 'kin',align_window = window)\n",
      "Ds = [D[d].copy() for d in tokens]\n",
      "Ds = process_kin(Ks,stops,starts,window, norm_length=False,velocity = False,wrt_start=True)"
     ],
     "language": "python",
     "metadata": {},
     "outputs": [
      {
       "output_type": "stream",
       "stream": "stdout",
       "text": [
        "File found; Loading...\n",
        "Loaded"
       ]
      },
      {
       "output_type": "stream",
       "stream": "stdout",
       "text": [
        "\n"
       ]
      },
      {
       "ename": "NameError",
       "evalue": "name 'Ks' is not defined",
       "output_type": "pyerr",
       "traceback": [
        "\u001b[0;31m---------------------------------------------------------------------------\u001b[0m\n\u001b[0;31mNameError\u001b[0m                                 Traceback (most recent call last)",
        "\u001b[0;32m<ipython-input-2-0e7ee30fcaf6>\u001b[0m in \u001b[0;36m<module>\u001b[0;34m()\u001b[0m\n\u001b[1;32m      6\u001b[0m \u001b[0;34m[\u001b[0m\u001b[0mD\u001b[0m\u001b[0;34m,\u001b[0m\u001b[0manat\u001b[0m\u001b[0;34m,\u001b[0m\u001b[0mstop_times\u001b[0m\u001b[0;34m,\u001b[0m\u001b[0mstart_times\u001b[0m\u001b[0;34m]\u001b[0m \u001b[0;34m=\u001b[0m \u001b[0mmakeD_multi\u001b[0m\u001b[0;34m(\u001b[0m\u001b[0mpth\u001b[0m\u001b[0;34m,\u001b[0m\u001b[0mblocks\u001b[0m\u001b[0;34m,\u001b[0m\u001b[0mtokens\u001b[0m\u001b[0;34m,\u001b[0m\u001b[0mdtype\u001b[0m\u001b[0;34m=\u001b[0m \u001b[0;34m'kin'\u001b[0m\u001b[0;34m,\u001b[0m\u001b[0malign_window\u001b[0m \u001b[0;34m=\u001b[0m \u001b[0mwindow\u001b[0m\u001b[0;34m)\u001b[0m\u001b[0;34m\u001b[0m\u001b[0m\n\u001b[1;32m      7\u001b[0m \u001b[0mDs\u001b[0m \u001b[0;34m=\u001b[0m \u001b[0;34m[\u001b[0m\u001b[0mD\u001b[0m\u001b[0;34m[\u001b[0m\u001b[0md\u001b[0m\u001b[0;34m]\u001b[0m\u001b[0;34m.\u001b[0m\u001b[0mcopy\u001b[0m\u001b[0;34m(\u001b[0m\u001b[0;34m)\u001b[0m \u001b[0;32mfor\u001b[0m \u001b[0md\u001b[0m \u001b[0;32min\u001b[0m \u001b[0mtokens\u001b[0m\u001b[0;34m]\u001b[0m\u001b[0;34m\u001b[0m\u001b[0m\n\u001b[0;32m----> 8\u001b[0;31m \u001b[0mDs\u001b[0m \u001b[0;34m=\u001b[0m \u001b[0mprocess_kin\u001b[0m\u001b[0;34m(\u001b[0m\u001b[0mKs\u001b[0m\u001b[0;34m,\u001b[0m\u001b[0mstops\u001b[0m\u001b[0;34m,\u001b[0m\u001b[0mstarts\u001b[0m\u001b[0;34m,\u001b[0m\u001b[0mwindow\u001b[0m\u001b[0;34m,\u001b[0m \u001b[0mnorm_length\u001b[0m\u001b[0;34m=\u001b[0m\u001b[0mFalse\u001b[0m\u001b[0;34m,\u001b[0m\u001b[0mvelocity\u001b[0m \u001b[0;34m=\u001b[0m \u001b[0mFalse\u001b[0m\u001b[0;34m,\u001b[0m\u001b[0mwrt_start\u001b[0m\u001b[0;34m=\u001b[0m\u001b[0mTrue\u001b[0m\u001b[0;34m)\u001b[0m\u001b[0;34m\u001b[0m\u001b[0m\n\u001b[0m\u001b[1;32m      9\u001b[0m \u001b[0mseparability_timecourse\u001b[0m\u001b[0;34m(\u001b[0m\u001b[0mKs\u001b[0m\u001b[0;34m,\u001b[0m\u001b[0mtokens\u001b[0m\u001b[0;34m,\u001b[0m\u001b[0mLD\u001b[0m\u001b[0;34m=\u001b[0m\u001b[0;36m3\u001b[0m\u001b[0;34m)\u001b[0m\u001b[0;34m\u001b[0m\u001b[0m\n",
        "\u001b[0;31mNameError\u001b[0m: name 'Ks' is not defined"
       ]
      }
     ],
     "prompt_number": 2
    },
    {
     "cell_type": "code",
     "collapsed": false,
     "input": [
      "nTrials = Dall.shape[2]\n",
      "nTimes= Dall.shape[1]\n",
      "nFeats = Dall.shape[0]\n",
      "strung_out = Dall.reshape((nFeats,-1),order='F')\n",
      "\n",
      "trials = map(str.__add__,['Trial ']*nTrials, map(str,range(nTrials)))\n",
      "times = map(str.__add__,['Timepoint ']*nTimes, map(str,range(nTimes)))\n",
      "#pd.MultiIndex(levels = [trials,times],\n",
      "#              labels = )"
     ],
     "language": "python",
     "metadata": {},
     "outputs": []
    },
    {
     "cell_type": "code",
     "collapsed": false,
     "input": [
      "plot(strung_out[0,0:90])\n",
      "plot(Dall[0,:,0])"
     ],
     "language": "python",
     "metadata": {},
     "outputs": []
    }
   ],
   "metadata": {}
  }
 ]
}