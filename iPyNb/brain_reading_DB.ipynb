{
 "metadata": {
  "name": "",
  "signature": "sha256:112924d3791674b84e41edfd67ca5fb0e1dc024c9133dd06cb205abd63285010"
 },
 "nbformat": 3,
 "nbformat_minor": 0,
 "worksheets": [
  {
   "cells": [
    {
     "cell_type": "code",
     "collapsed": false,
     "input": [
      "import sys\n",
      "sys.path.append(\"/Users/david_conant/Dropbox/changrepo/python/brain\")\n",
      "from brain.dataformat.brainformat import *\n",
      "pth = '/Users/david_conant/Dropbox/NeuroSpeech/EC2.prod.CV.B1_8_9_15_76_89_105.align1_2.neural.h5'"
     ],
     "language": "python",
     "metadata": {},
     "outputs": [],
     "prompt_number": 6
    },
    {
     "cell_type": "code",
     "collapsed": false,
     "input": [
      "f = BrainDataFile(pth , 'r')\n",
      "i = f.data().internal()\n",
      "e = i.ecog_data_processed(0)\n",
      "all_dims = e.dims(False)"
     ],
     "language": "python",
     "metadata": {},
     "outputs": [],
     "prompt_number": 7
    },
    {
     "cell_type": "code",
     "collapsed": false,
     "input": [
      "dims = e.dims(get_hdf = False)\n",
      "dims"
     ],
     "language": "python",
     "metadata": {},
     "outputs": [
      {
       "metadata": {},
       "output_type": "pyout",
       "prompt_number": 41,
       "text": [
        "[[{'axis': 0,\n",
        "   'dataset': <HDF5 dataset \"spatial_id\": shape (256,), type \"|S13\">,\n",
        "   'description': 'Id of the recording electrode',\n",
        "   'name': u'space',\n",
        "   'unit': u'id'},\n",
        "  {'axis': 0,\n",
        "   'dataset': <HDF5 dataset \"anatomy_name\": shape (256,), type \"|S7\">,\n",
        "   'description': 'Integer id of the region location of the electrodes',\n",
        "   'name': u'space',\n",
        "   'unit': u'region name'},\n",
        "  {'axis': 0,\n",
        "   'dataset': <HDF5 dataset \"anatomy_id\": shape (256,), type \"<i8\">,\n",
        "   'description': '',\n",
        "   'name': u'space',\n",
        "   'unit': u'region id'}],\n",
        " [{'axis': 1,\n",
        "   'dataset': <HDF5 dataset \"time_axis\": shape (367,), type \"<f8\">,\n",
        "   'description': 'Sample time in ns',\n",
        "   'name': u'time',\n",
        "   'unit': u'ms'}],\n",
        " [{'axis': 2,\n",
        "   'dataset': <HDF5 dataset \"token_id\": shape (2580,), type \"<u8\">,\n",
        "   'description': 'Integer Id of the token type',\n",
        "   'name': u'channels',\n",
        "   'unit': u'token id'},\n",
        "  {'axis': 2,\n",
        "   'dataset': <HDF5 dataset \"token_name\": shape (2580,), type \"|S4\">,\n",
        "   'description': 'Name of the token type',\n",
        "   'name': u'channels',\n",
        "   'unit': u'token name'},\n",
        "  {'axis': 2,\n",
        "   'dataset': <HDF5 dataset \"baseline_method\": shape (2580,), type \"|S7\">,\n",
        "   'description': 'The method by which the baseline as generated',\n",
        "   'name': u'channels',\n",
        "   'unit': u'method name'},\n",
        "  {'axis': 2,\n",
        "   'dataset': <HDF5 dataset \"baseline_start_time\": shape (2580,), type \"<f8\">,\n",
        "   'description': 'Start time for the data range used for the baseline correction. See also baseline_block for information about the block that is referenced.',\n",
        "   'name': u'channels',\n",
        "   'unit': u'ms'},\n",
        "  {'axis': 2,\n",
        "   'dataset': <HDF5 dataset \"baseline_stop_time\": shape (2580,), type \"<f8\">,\n",
        "   'description': 'Start time for the data range used for the baseline correction. See also baseline_block for information about the block that is referenced.',\n",
        "   'name': u'channels',\n",
        "   'unit': u'ms'},\n",
        "  {'axis': 2,\n",
        "   'dataset': <HDF5 dataset \"baseline_block_name\": shape (2580,), type \"|S8\">,\n",
        "   'description': 'Description of the block the baseline came from.',\n",
        "   'name': u'channels',\n",
        "   'unit': u'block name'},\n",
        "  {'axis': 2,\n",
        "   'dataset': <HDF5 dataset \"baseline_std\": shape (2580, 256), type \"<f8\">,\n",
        "   'description': 'The standard deviation value for the baseline',\n",
        "   'name': u'channels',\n",
        "   'unit': u'undefined'},\n",
        "  {'axis': 2,\n",
        "   'dataset': <HDF5 dataset \"baseline_mean\": shape (2580, 256), type \"<f8\">,\n",
        "   'description': 'The standard deviation value for the baseline',\n",
        "   'name': u'channels',\n",
        "   'unit': u'undefined'},\n",
        "  {'axis': 2,\n",
        "   'dataset': <HDF5 dataset \"token_abs_start_time\": shape (2580,), type \"<f8\">,\n",
        "   'description': 'Start time for the data range used for the baseline correction. See also baseline_block for information about the block that is referenced.',\n",
        "   'name': u'channels',\n",
        "   'unit': u'ms'},\n",
        "  {'axis': 2,\n",
        "   'dataset': <HDF5 dataset \"token_abs_stop_time\": shape (2580,), type \"<f8\">,\n",
        "   'description': 'Start time for the data range used for the baseline correction. See also baseline_block for information about the block that is referenced.',\n",
        "   'name': u'channels',\n",
        "   'unit': u'ms'},\n",
        "  {'axis': 2,\n",
        "   'dataset': <HDF5 dataset \"block\": shape (2580,), type \"|S8\">,\n",
        "   'description': 'Description of the block the baseline came from.',\n",
        "   'name': u'channels',\n",
        "   'unit': u'block name'}]]"
       ]
      }
     ],
     "prompt_number": 41
    },
    {
     "cell_type": "code",
     "collapsed": false,
     "input": [],
     "language": "python",
     "metadata": {},
     "outputs": []
    },
    {
     "cell_type": "code",
     "collapsed": false,
     "input": [
      "a = np.array(e.dims(axis = 'channels', get_hdf = False)[7]['dataset'])\n",
      "a"
     ],
     "language": "python",
     "metadata": {},
     "outputs": [
      {
       "metadata": {},
       "output_type": "pyout",
       "prompt_number": 59,
       "text": [
        "array([[ 1.58177814,  1.21184469,  0.75547044, ...,  1.1371551 ,\n",
        "         1.16498026,  0.72309102],\n",
        "       [ 1.58177814,  1.21184469,  0.75547044, ...,  1.1371551 ,\n",
        "         1.16498026,  0.72309102],\n",
        "       [ 1.58177814,  1.21184469,  0.75547044, ...,  1.1371551 ,\n",
        "         1.16498026,  0.72309102],\n",
        "       ..., \n",
        "       [ 1.57209728,  1.14756133,  0.97721967, ...,  0.88462119,\n",
        "         0.78815598,  0.6654289 ],\n",
        "       [ 1.57209728,  1.14756133,  0.97721967, ...,  0.88462119,\n",
        "         0.78815598,  0.6654289 ],\n",
        "       [ 1.57209728,  1.14756133,  0.97721967, ...,  0.88462119,\n",
        "         0.78815598,  0.6654289 ]])"
       ]
      }
     ],
     "prompt_number": 59
    },
    {
     "cell_type": "code",
     "collapsed": false,
     "input": [],
     "language": "python",
     "metadata": {},
     "outputs": []
    },
    {
     "cell_type": "code",
     "collapsed": false,
     "input": [],
     "language": "python",
     "metadata": {},
     "outputs": []
    },
    {
     "cell_type": "code",
     "collapsed": false,
     "input": [
      "annot = e.annotations(1)"
     ],
     "language": "python",
     "metadata": {},
     "outputs": [],
     "prompt_number": 8
    },
    {
     "cell_type": "code",
     "collapsed": true,
     "input": [
      "annot.descriptions[:]"
     ],
     "language": "python",
     "metadata": {},
     "outputs": [
      {
       "metadata": {},
       "output_type": "pyout",
       "prompt_number": 9,
       "text": [
        "array([u'BAA', u'BEE', u'BOO', ..., u'YOO', u'YOO', u'YOO'], dtype=object)"
       ]
      }
     ],
     "prompt_number": 9
    },
    {
     "cell_type": "code",
     "collapsed": false,
     "input": [
      "len(annot)"
     ],
     "language": "python",
     "metadata": {},
     "outputs": [
      {
       "metadata": {},
       "output_type": "pyout",
       "prompt_number": 150,
       "text": [
        "195"
       ]
      }
     ],
     "prompt_number": 150
    },
    {
     "cell_type": "code",
     "collapsed": false,
     "input": [
      "filter1 = annot.description_contains_filter('BAA')\n",
      "filter2 = annot.description_contains_filter('YOO')\n",
      "#filter3 = annot.description_contains"
     ],
     "language": "python",
     "metadata": {},
     "outputs": [],
     "prompt_number": 10
    },
    {
     "cell_type": "code",
     "collapsed": false,
     "input": [
      "filter1."
     ],
     "language": "python",
     "metadata": {},
     "outputs": [
      {
       "metadata": {},
       "output_type": "pyout",
       "prompt_number": 76,
       "text": [
        "array([False,  True, False, False, False, False, False], dtype=bool)"
       ]
      }
     ],
     "prompt_number": 76
    },
    {
     "cell_type": "code",
     "collapsed": false,
     "input": [
      "a = annot[filter1]"
     ],
     "language": "python",
     "metadata": {},
     "outputs": [],
     "prompt_number": 11
    },
    {
     "cell_type": "code",
     "collapsed": false,
     "input": [
      "f = a.get_annotations()\n",
      "anno_data, anno_types, anno_descriptions, annos = a.data(stack=True)"
     ],
     "language": "python",
     "metadata": {},
     "outputs": [],
     "prompt_number": 27
    },
    {
     "cell_type": "code",
     "collapsed": false,
     "input": [
      "anno_data, anno_types, anno_descriptions, annos = a.data()"
     ],
     "language": "python",
     "metadata": {},
     "outputs": [],
     "prompt_number": 123
    },
    {
     "cell_type": "code",
     "collapsed": false,
     "input": [
      "union_data = a.merge_xor().data()"
     ],
     "language": "python",
     "metadata": {},
     "outputs": [],
     "prompt_number": 20
    },
    {
     "cell_type": "code",
     "collapsed": false,
     "input": [
      "len(select)"
     ],
     "language": "python",
     "metadata": {},
     "outputs": [
      {
       "metadata": {},
       "output_type": "pyout",
       "prompt_number": 120,
       "text": [
        "2"
       ]
      }
     ],
     "prompt_number": 120
    },
    {
     "cell_type": "code",
     "collapsed": false,
     "input": [
      "anno_data.shape"
     ],
     "language": "python",
     "metadata": {},
     "outputs": [
      {
       "metadata": {},
       "output_type": "pyout",
       "prompt_number": 30,
       "text": [
        "(256, 367, 90)"
       ]
      }
     ],
     "prompt_number": 30
    },
    {
     "cell_type": "code",
     "collapsed": false,
     "input": [],
     "language": "python",
     "metadata": {},
     "outputs": [],
     "prompt_number": 30
    },
    {
     "cell_type": "code",
     "collapsed": false,
     "input": [
      "a = annot[filter1]\n",
      "d = a.data(stack=True)"
     ],
     "language": "python",
     "metadata": {},
     "outputs": [],
     "prompt_number": 31
    },
    {
     "cell_type": "code",
     "collapsed": false,
     "input": [],
     "language": "python",
     "metadata": {},
     "outputs": [
      {
       "metadata": {},
       "output_type": "pyout",
       "prompt_number": 35,
       "text": [
        "array([[[ 2.20090092,  1.2410336 ,  1.34522851, ...,  1.36557448,\n",
        "          1.17010749,  1.40837812],\n",
        "        [ 2.07363872,  1.18517455,  1.4781645 , ...,  1.49166589,\n",
        "          1.19139156,  1.30458942],\n",
        "        [ 1.93160566,  1.16336318,  1.61085516, ...,  1.60264815,\n",
        "          1.21440734,  1.19839748],\n",
        "        ..., \n",
        "        [        nan,         nan,         nan, ...,         nan,\n",
        "                 nan,         nan],\n",
        "        [        nan,         nan,         nan, ...,         nan,\n",
        "                 nan,         nan],\n",
        "        [ 0.        ,  0.        ,  0.        , ...,         nan,\n",
        "                 nan,         nan]],\n",
        "\n",
        "       [[ 1.59133392,  1.08944921,  0.72997366, ...,  0.60463252,\n",
        "          1.40776925,  0.67898715],\n",
        "        [ 1.70299227,  1.09557352,  0.69042908, ...,  0.61088911,\n",
        "          1.43894973,  0.68360836],\n",
        "        [ 1.80962485,  1.09391602,  0.66835602, ...,  0.61544518,\n",
        "          1.47999199,  0.68110372],\n",
        "        ..., \n",
        "        [        nan,         nan,         nan, ...,         nan,\n",
        "                 nan,         nan],\n",
        "        [        nan,         nan,         nan, ...,         nan,\n",
        "                 nan,         nan],\n",
        "        [ 0.        ,  0.        ,  0.        , ...,         nan,\n",
        "                 nan,         nan]],\n",
        "\n",
        "       [[ 0.80129054,  0.97115941,  0.772332  , ...,  0.45114021,\n",
        "          0.50601854,  0.76641755],\n",
        "        [ 0.78708174,  0.91737136,  0.79760867, ...,  0.47801864,\n",
        "          0.49570486,  0.7582328 ],\n",
        "        [ 0.78144073,  0.8523924 ,  0.82177122, ...,  0.50497844,\n",
        "          0.49535385,  0.73661649],\n",
        "        ..., \n",
        "        [        nan,         nan,         nan, ...,         nan,\n",
        "                 nan,         nan],\n",
        "        [        nan,         nan,         nan, ...,         nan,\n",
        "                 nan,         nan],\n",
        "        [ 0.        ,  0.        ,  0.        , ...,         nan,\n",
        "                 nan,         nan]],\n",
        "\n",
        "       ..., \n",
        "       [[ 1.28542513,  0.81466779,  1.82854157, ...,  0.70496034,\n",
        "          0.68561565,  0.68839959],\n",
        "        [ 1.2620214 ,  0.75136244,  1.85165125, ...,  0.69149977,\n",
        "          0.69874811,  0.6662898 ],\n",
        "        [ 1.24700914,  0.69886554,  1.84743398, ...,  0.69393085,\n",
        "          0.71644608,  0.63968057],\n",
        "        ..., \n",
        "        [        nan,         nan,         nan, ...,         nan,\n",
        "                 nan,         nan],\n",
        "        [        nan,         nan,         nan, ...,         nan,\n",
        "                 nan,         nan],\n",
        "        [ 0.        ,  0.        ,  0.        , ...,         nan,\n",
        "                 nan,         nan]],\n",
        "\n",
        "       [[ 1.77507254,  1.07061131,  0.57664028, ...,  0.86807653,\n",
        "          0.48572596,  0.74698415],\n",
        "        [ 1.64169033,  1.0871379 ,  0.5986916 , ...,  0.89190368,\n",
        "          0.51167619,  0.74257242],\n",
        "        [ 1.51223078,  1.09816427,  0.64109238, ...,  0.91469535,\n",
        "          0.53511041,  0.73032229],\n",
        "        ..., \n",
        "        [        nan,         nan,         nan, ...,         nan,\n",
        "                 nan,         nan],\n",
        "        [        nan,         nan,         nan, ...,         nan,\n",
        "                 nan,         nan],\n",
        "        [ 0.        ,  0.        ,  0.        , ...,         nan,\n",
        "                 nan,         nan]],\n",
        "\n",
        "       [[ 0.80939864,  0.66582646,  0.54267607, ...,  0.74969341,\n",
        "          0.34686994,  0.38653025],\n",
        "        [ 0.79196912,  0.65843832,  0.59123859, ...,  0.8122168 ,\n",
        "          0.34091328,  0.39072751],\n",
        "        [ 0.76589819,  0.64100242,  0.64690571, ...,  0.87578025,\n",
        "          0.33668386,  0.39085826],\n",
        "        ..., \n",
        "        [        nan,         nan,         nan, ...,         nan,\n",
        "                 nan,         nan],\n",
        "        [        nan,         nan,         nan, ...,         nan,\n",
        "                 nan,         nan],\n",
        "        [ 0.        ,  0.        ,  0.        , ...,         nan,\n",
        "                 nan,         nan]]])"
       ]
      }
     ],
     "prompt_number": 35
    },
    {
     "cell_type": "code",
     "collapsed": false,
     "input": [
      "import numpy as np"
     ],
     "language": "python",
     "metadata": {},
     "outputs": [],
     "prompt_number": 2
    },
    {
     "cell_type": "code",
     "collapsed": false,
     "input": [
      "import sys\n",
      "sys.path.append(\"/Users/david_conant/Dropbox/changrepo/python/brain\")\n",
      "from brain.dataformat.brainformat import *\n",
      "pth = '/Users/david_conant/Dropbox/EC56/EC56.prod.hVd.B75_77.align1_2.neural.h5'\n",
      "f = BrainDataFile(pth , 'r')\n",
      "i = f.data().internal()\n",
      "e = i.ecog_data_processed(0)\n",
      "all_dims = e.dims(False)"
     ],
     "language": "python",
     "metadata": {},
     "outputs": [],
     "prompt_number": 76
    },
    {
     "cell_type": "code",
     "collapsed": false,
     "input": [
      "all_dims"
     ],
     "language": "python",
     "metadata": {},
     "outputs": [
      {
       "metadata": {},
       "output_type": "pyout",
       "prompt_number": 136,
       "text": [
        "[[{'axis': 0,\n",
        "   'dataset': <HDF5 dataset \"spatial_id\": shape (256,), type \"|S13\">,\n",
        "   'description': 'Id of the recording electrode',\n",
        "   'name': u'space',\n",
        "   'unit': u'id'},\n",
        "  {'axis': 0,\n",
        "   'dataset': <HDF5 dataset \"anatomy_name\": shape (256,), type \"|S7\">,\n",
        "   'description': 'Integer id of the region location of the electrodes',\n",
        "   'name': u'space',\n",
        "   'unit': u'region name'},\n",
        "  {'axis': 0,\n",
        "   'dataset': <HDF5 dataset \"anatomy_id\": shape (256,), type \"<i8\">,\n",
        "   'description': '',\n",
        "   'name': u'space',\n",
        "   'unit': u'region id'}],\n",
        " [{'axis': 1,\n",
        "   'dataset': <HDF5 dataset \"time_axis\": shape (657,), type \"<f8\">,\n",
        "   'description': 'Sample time in ns',\n",
        "   'name': u'time',\n",
        "   'unit': u'ms'}],\n",
        " [{'axis': 2,\n",
        "   'dataset': <HDF5 dataset \"token_id\": shape (186,), type \"<u8\">,\n",
        "   'description': 'Integer Id of the token type',\n",
        "   'name': u'channels',\n",
        "   'unit': u'token id'},\n",
        "  {'axis': 2,\n",
        "   'dataset': <HDF5 dataset \"token_name\": shape (186,), type \"|S5\">,\n",
        "   'description': 'Name of the token type',\n",
        "   'name': u'channels',\n",
        "   'unit': u'token name'},\n",
        "  {'axis': 2,\n",
        "   'dataset': <HDF5 dataset \"baseline_method\": shape (186,), type \"|S7\">,\n",
        "   'description': 'The method by which the baseline as generated',\n",
        "   'name': u'channels',\n",
        "   'unit': u'method name'},\n",
        "  {'axis': 2,\n",
        "   'dataset': <HDF5 dataset \"baseline_start_time\": shape (186,), type \"<f8\">,\n",
        "   'description': 'Start time for the data range used for the baseline correction. See also baseline_block for information about the block that is referenced.',\n",
        "   'name': u'channels',\n",
        "   'unit': u'ms'},\n",
        "  {'axis': 2,\n",
        "   'dataset': <HDF5 dataset \"baseline_stop_time\": shape (186,), type \"<f8\">,\n",
        "   'description': 'Start time for the data range used for the baseline correction. See also baseline_block for information about the block that is referenced.',\n",
        "   'name': u'channels',\n",
        "   'unit': u'ms'},\n",
        "  {'axis': 2,\n",
        "   'dataset': <HDF5 dataset \"baseline_block_name\": shape (186,), type \"|S8\">,\n",
        "   'description': 'Description of the block the baseline came from.',\n",
        "   'name': u'channels',\n",
        "   'unit': u'block name'},\n",
        "  {'axis': 2,\n",
        "   'dataset': <HDF5 dataset \"baseline_std\": shape (186, 256), type \"<f8\">,\n",
        "   'description': 'The standard deviation value for the baseline',\n",
        "   'name': u'channels',\n",
        "   'unit': u'undefined'},\n",
        "  {'axis': 2,\n",
        "   'dataset': <HDF5 dataset \"baseline_mean\": shape (186, 256), type \"<f8\">,\n",
        "   'description': 'The standard deviation value for the baseline',\n",
        "   'name': u'channels',\n",
        "   'unit': u'undefined'},\n",
        "  {'axis': 2,\n",
        "   'dataset': <HDF5 dataset \"token_abs_start_time\": shape (186,), type \"<f8\">,\n",
        "   'description': 'Start time for the data range used for the baseline correction. See also baseline_block for information about the block that is referenced.',\n",
        "   'name': u'channels',\n",
        "   'unit': u'ms'},\n",
        "  {'axis': 2,\n",
        "   'dataset': <HDF5 dataset \"token_abs_stop_time\": shape (186,), type \"<f8\">,\n",
        "   'description': 'Start time for the data range used for the baseline correction. See also baseline_block for information about the block that is referenced.',\n",
        "   'name': u'channels',\n",
        "   'unit': u'ms'},\n",
        "  {'axis': 2,\n",
        "   'dataset': <HDF5 dataset \"block\": shape (186,), type \"|S8\">,\n",
        "   'description': 'Description of the block the baseline came from.',\n",
        "   'name': u'channels',\n",
        "   'unit': u'block name'}]]"
       ]
      }
     ],
     "prompt_number": 136
    },
    {
     "cell_type": "code",
     "collapsed": false,
     "input": [
      "a = np.array(e.dims(axis = 'channels', get_hdf = False)[1]['dataset']) y 'HEAD'\n",
      "a"
     ],
     "language": "python",
     "metadata": {},
     "outputs": [
      {
       "metadata": {},
       "output_type": "pyout",
       "prompt_number": 139,
       "text": [
        "False"
       ]
      }
     ],
     "prompt_number": 139
    },
    {
     "cell_type": "code",
     "collapsed": false,
     "input": [
      "np.array(e.dims(axis = 'space', get_hdf = False)[2]['dataset'])"
     ],
     "language": "python",
     "metadata": {},
     "outputs": [
      {
       "metadata": {},
       "output_type": "pyout",
       "prompt_number": 5,
       "text": [
        "array([0, 0, 0, 0, 3, 3, 3, 3, 3, 3, 3, 3, 3, 3, 3, 3, 0, 0, 0, 0, 0, 3, 3,\n",
        "       3, 3, 3, 3, 3, 3, 3, 3, 3, 0, 0, 0, 0, 0, 3, 3, 3, 3, 3, 3, 3, 3, 3,\n",
        "       3, 3, 0, 0, 0, 0, 0, 2, 2, 2, 2, 2, 2, 2, 2, 2, 3, 3, 0, 0, 0, 0, 0,\n",
        "       2, 2, 2, 2, 2, 2, 2, 2, 2, 3, 3, 0, 0, 0, 0, 0, 2, 2, 2, 2, 2, 2, 2,\n",
        "       2, 2, 2, 3, 0, 0, 0, 0, 0, 1, 1, 1, 1, 1, 1, 1, 3, 2, 2, 3, 0, 0, 0,\n",
        "       0, 0, 1, 1, 1, 1, 1, 1, 1, 1, 1, 2, 2, 0, 0, 0, 0, 0, 3, 3, 3, 1, 1,\n",
        "       1, 1, 1, 1, 2, 2, 0, 0, 0, 0, 0, 3, 3, 3, 3, 1, 1, 1, 1, 1, 1, 2, 0,\n",
        "       0, 0, 0, 0, 3, 3, 3, 3, 3, 3, 1, 1, 1, 1, 3, 0, 0, 0, 0, 0, 3, 3, 3,\n",
        "       3, 3, 3, 3, 1, 1, 1, 1, 0, 0, 0, 0, 0, 3, 3, 3, 3, 3, 3, 3, 3, 1, 1,\n",
        "       1, 0, 0, 0, 0, 0, 3, 3, 3, 3, 3, 3, 3, 3, 3, 1, 1, 0, 0, 0, 0, 0, 3,\n",
        "       3, 3, 3, 3, 3, 3, 3, 3, 1, 1, 0, 0, 0, 0, 0, 3, 3, 3, 3, 3, 3, 3, 3,\n",
        "       3, 3, 1])"
       ]
      }
     ],
     "prompt_number": 5
    },
    {
     "cell_type": "code",
     "collapsed": false,
     "input": [
      "annot = e.annotations(1)"
     ],
     "language": "python",
     "metadata": {},
     "outputs": [],
     "prompt_number": 158
    },
    {
     "cell_type": "code",
     "collapsed": false,
     "input": [
      "annot.descriptions[1]"
     ],
     "language": "python",
     "metadata": {},
     "outputs": [
      {
       "metadata": {},
       "output_type": "pyout",
       "prompt_number": 162,
       "text": [
        "u'HAWED'"
       ]
      }
     ],
     "prompt_number": 162
    },
    {
     "cell_type": "code",
     "collapsed": false,
     "input": [],
     "language": "python",
     "metadata": {},
     "outputs": [],
     "prompt_number": 35
    },
    {
     "cell_type": "code",
     "collapsed": false,
     "input": [],
     "language": "python",
     "metadata": {},
     "outputs": [],
     "prompt_number": 35
    },
    {
     "cell_type": "code",
     "collapsed": false,
     "input": [
      "baseline_mu = np.array(e.dims(axis = 'channels', get_hdf = False)[7]['dataset'])\n",
      "baseline_mu.shape"
     ],
     "language": "python",
     "metadata": {},
     "outputs": [
      {
       "metadata": {},
       "output_type": "pyout",
       "prompt_number": 46,
       "text": [
        "(186, 256)"
       ]
      }
     ],
     "prompt_number": 46
    },
    {
     "cell_type": "code",
     "collapsed": false,
     "input": [
      "baseline_std = np.array(e.dims(axis = 'channels', get_hdf = False)[6]['dataset'])\n",
      "baseline_std.shape"
     ],
     "language": "python",
     "metadata": {},
     "outputs": [
      {
       "metadata": {},
       "output_type": "pyout",
       "prompt_number": 45,
       "text": [
        "(186, 256)"
       ]
      }
     ],
     "prompt_number": 45
    },
    {
     "cell_type": "code",
     "collapsed": false,
     "input": [],
     "language": "python",
     "metadata": {},
     "outputs": [],
     "prompt_number": 35
    },
    {
     "cell_type": "code",
     "collapsed": false,
     "input": [],
     "language": "python",
     "metadata": {},
     "outputs": [],
     "prompt_number": 35
    },
    {
     "cell_type": "code",
     "collapsed": false,
     "input": [
      "e_baseline = np.empty(e.ecog_data().shape)\n",
      "baseline_mu = np.array(e.dims(axis = 'channels', get_hdf = False)[7]['dataset'])\n",
      "baseline_std = np.array(e.dims(axis = 'channels', get_hdf = False)[6]['dataset'])"
     ],
     "language": "python",
     "metadata": {},
     "outputs": [],
     "prompt_number": 47
    },
    {
     "cell_type": "code",
     "collapsed": false,
     "input": [
      "m = np.reshape(np.tile(baseline_mu,(e.ecog_data().shape[1],1,1)),e.ecog_data().shape, order = 'F')\n",
      "s = np.reshape(np.tile(baseline_std,(e.ecog_data().shape[1],1,1)),e.ecog_data().shape, order = 'F')\n",
      "\n",
      "z = np.divide((e.ecog_data() - m),s)"
     ],
     "language": "python",
     "metadata": {},
     "outputs": [],
     "prompt_number": 66
    },
    {
     "cell_type": "code",
     "collapsed": false,
     "input": [
      "test = np.reshape(np.tile(baseline_mu,(e.ecog_data().shape[1],1,1)),e.ecog_data().shape, order = 'F')\n",
      "test.shape"
     ],
     "language": "python",
     "metadata": {},
     "outputs": [
      {
       "metadata": {},
       "output_type": "pyout",
       "prompt_number": 64,
       "text": [
        "(256, 657, 186)"
       ]
      }
     ],
     "prompt_number": 64
    },
    {
     "cell_type": "code",
     "collapsed": false,
     "input": [
      "test[1,:,1]"
     ],
     "language": "python",
     "metadata": {},
     "outputs": [
      {
       "metadata": {},
       "output_type": "pyout",
       "prompt_number": 65,
       "text": [
        "array([ 1.84218389,  1.84218389,  1.84218389,  1.84218389,  1.84218389,\n",
        "        1.84218389,  1.84218389,  1.84218389,  1.84218389,  1.84218389,\n",
        "        1.84218389,  1.84218389,  1.84218389,  1.84218389,  1.84218389,\n",
        "        1.84218389,  1.84218389,  1.84218389,  1.84218389,  1.84218389,\n",
        "        1.84218389,  1.84218389,  1.84218389,  1.84218389,  1.84218389,\n",
        "        1.84218389,  1.84218389,  1.84218389,  1.84218389,  1.84218389,\n",
        "        1.84218389,  1.84218389,  1.84218389,  1.84218389,  1.84218389,\n",
        "        1.84218389,  1.84218389,  1.84218389,  1.84218389,  1.84218389,\n",
        "        1.84218389,  1.84218389,  1.84218389,  1.84218389,  1.84218389,\n",
        "        1.84218389,  1.84218389,  1.84218389,  1.84218389,  1.84218389,\n",
        "        1.84218389,  1.84218389,  1.84218389,  1.84218389,  1.84218389,\n",
        "        1.84218389,  1.84218389,  1.84218389,  1.84218389,  1.84218389,\n",
        "        1.84218389,  1.84218389,  1.84218389,  1.84218389,  1.84218389,\n",
        "        1.84218389,  1.84218389,  1.84218389,  1.84218389,  1.84218389,\n",
        "        1.84218389,  1.84218389,  1.84218389,  1.84218389,  1.84218389,\n",
        "        1.84218389,  1.84218389,  1.84218389,  1.84218389,  1.84218389,\n",
        "        1.84218389,  1.84218389,  1.84218389,  1.84218389,  1.84218389,\n",
        "        1.84218389,  1.84218389,  1.84218389,  1.84218389,  1.84218389,\n",
        "        1.84218389,  1.84218389,  1.84218389,  1.84218389,  1.84218389,\n",
        "        2.12496315,  2.12496315,  2.12496315,  2.12496315,  2.12496315,\n",
        "        2.12496315,  2.12496315,  2.12496315,  2.12496315,  2.12496315,\n",
        "        2.12496315,  2.12496315,  2.12496315,  2.12496315,  2.12496315,\n",
        "        2.12496315,  2.12496315,  2.12496315,  2.12496315,  2.12496315,\n",
        "        2.12496315,  2.12496315,  2.12496315,  2.12496315,  2.12496315,\n",
        "        2.12496315,  2.12496315,  2.12496315,  2.12496315,  2.12496315,\n",
        "        2.12496315,  2.12496315,  2.12496315,  2.12496315,  2.12496315,\n",
        "        2.12496315,  2.12496315,  2.12496315,  2.12496315,  2.12496315,\n",
        "        2.12496315,  2.12496315,  2.12496315,  2.12496315,  2.12496315,\n",
        "        2.12496315,  2.12496315,  2.12496315,  2.12496315,  2.12496315,\n",
        "        2.12496315,  2.12496315,  2.12496315,  2.12496315,  2.12496315,\n",
        "        2.12496315,  2.12496315,  2.12496315,  2.12496315,  2.12496315,\n",
        "        2.12496315,  2.12496315,  2.12496315,  2.12496315,  2.12496315,\n",
        "        2.12496315,  2.12496315,  2.12496315,  2.12496315,  2.12496315,\n",
        "        2.12496315,  2.12496315,  2.12496315,  2.12496315,  2.12496315,\n",
        "        2.12496315,  2.12496315,  2.12496315,  2.12496315,  2.12496315,\n",
        "        2.12496315,  2.12496315,  2.12496315,  2.12496315,  2.12496315,\n",
        "        2.12496315,  2.12496315,  2.12496315,  2.12496315,  2.12496315,\n",
        "        2.12496315,  2.12496315,  2.12496315,  2.12496315,  2.12496315,\n",
        "        2.12496315,  2.12496315,  2.12496315,  2.12496315,  2.12496315,\n",
        "        2.12496315,  2.12496315,  2.12496315,  2.12496315,  2.12496315,\n",
        "        2.12496315,  2.12496315,  2.12496315,  2.12496315,  2.12496315,\n",
        "        2.12496315,  2.12496315,  2.12496315,  2.12496315,  2.12496315,\n",
        "        2.12496315,  2.12496315,  2.12496315,  2.12496315,  2.12496315,\n",
        "        2.12496315,  2.12496315,  2.12496315,  2.12496315,  2.12496315,\n",
        "        2.12496315,  2.12496315,  2.12496315,  2.12496315,  2.12496315,\n",
        "        2.12496315,  2.12496315,  2.12496315,  2.12496315,  2.12496315,\n",
        "        2.12496315,  2.12496315,  2.12496315,  2.12496315,  2.12496315,\n",
        "        2.12496315,  2.12496315,  2.12496315,  2.12496315,  2.12496315,\n",
        "        2.12496315,  2.12496315,  2.12496315,  2.12496315,  2.12496315,\n",
        "        2.12496315,  2.12496315,  2.12496315,  2.12496315,  2.12496315,\n",
        "        2.12496315,  2.12496315,  2.12496315,  2.12496315,  2.12496315,\n",
        "        2.12496315,  2.12496315,  2.12496315,  2.12496315,  2.12496315,\n",
        "        2.12496315,  2.12496315,  2.12496315,  2.12496315,  2.12496315,\n",
        "        2.12496315,  2.12496315,  2.12496315,  2.12496315,  2.12496315,\n",
        "        2.12496315,  2.12496315,  2.12496315,  2.12496315,  2.12496315,\n",
        "        2.12496315,  2.12496315,  2.12496315,  2.12496315,  2.12496315,\n",
        "        2.12496315,  2.12496315,  2.12496315,  2.12496315,  2.12496315,\n",
        "        2.12496315,  2.12496315,  2.12496315,  2.12496315,  2.12496315,\n",
        "        2.12496315,  2.12496315,  2.12496315,  2.12496315,  2.12496315,\n",
        "        2.12496315,  2.12496315,  2.12496315,  1.85695611,  1.85695611,\n",
        "        1.85695611,  1.85695611,  1.85695611,  1.85695611,  1.85695611,\n",
        "        1.85695611,  1.85695611,  1.85695611,  1.85695611,  1.85695611,\n",
        "        1.85695611,  1.85695611,  1.85695611,  1.85695611,  1.85695611,\n",
        "        1.85695611,  1.85695611,  1.85695611,  1.85695611,  1.85695611,\n",
        "        1.85695611,  1.85695611,  1.85695611,  1.85695611,  1.85695611,\n",
        "        1.85695611,  1.85695611,  1.85695611,  1.85695611,  1.85695611,\n",
        "        1.85695611,  1.85695611,  1.85695611,  1.85695611,  1.85695611,\n",
        "        1.85695611,  1.85695611,  1.85695611,  1.85695611,  1.85695611,\n",
        "        1.85695611,  1.85695611,  1.85695611,  1.85695611,  1.85695611,\n",
        "        1.85695611,  1.85695611,  1.85695611,  1.85695611,  1.85695611,\n",
        "        1.85695611,  1.85695611,  1.85695611,  1.85695611,  1.85695611,\n",
        "        1.85695611,  1.85695611,  1.85695611,  1.85695611,  1.85695611,\n",
        "        1.85695611,  1.85695611,  1.85695611,  1.85695611,  1.85695611,\n",
        "        1.85695611,  1.85695611,  1.85695611,  1.85695611,  1.85695611,\n",
        "        1.85695611,  1.85695611,  1.85695611,  1.85695611,  1.85695611,\n",
        "        1.85695611,  1.85695611,  1.85695611,  1.85695611,  1.85695611,\n",
        "        1.85695611,  1.85695611,  1.85695611,  1.85695611,  1.85695611,\n",
        "        1.85695611,  1.85695611,  1.85695611,  1.85695611,  1.85695611,\n",
        "        1.85695611,  1.85695611,  1.85695611,  1.85695611,  1.85695611,\n",
        "        1.85695611,  1.85695611,  1.85695611,  1.85695611,  1.85695611,\n",
        "        1.85695611,  1.85695611,  1.85695611,  1.85695611,  1.85695611,\n",
        "        1.85695611,  1.85695611,  1.85695611,  1.85695611,  1.85695611,\n",
        "        1.85695611,  1.85695611,  1.85695611,  1.85695611,  1.85695611,\n",
        "        1.85695611,  1.85695611,  1.85695611,  1.85695611,  1.85695611,\n",
        "        1.85695611,  1.85695611,  1.85695611,  1.85695611,  1.85695611,\n",
        "        1.85695611,  1.85695611,  1.85695611,  1.85695611,  1.85695611,\n",
        "        1.85695611,  1.85695611,  1.85695611,  1.85695611,  1.85695611,\n",
        "        1.85695611,  1.85695611,  1.85695611,  1.85695611,  1.85695611,\n",
        "        1.85695611,  1.85695611,  1.85695611,  1.85695611,  1.85695611,\n",
        "        1.85695611,  1.85695611,  1.85695611,  1.85695611,  1.85695611,\n",
        "        1.85695611,  1.85695611,  1.85695611,  1.85695611,  1.85695611,\n",
        "        1.85695611,  1.85695611,  1.85695611,  1.85695611,  1.85695611,\n",
        "        1.85695611,  1.85695611,  1.85695611,  1.85695611,  1.85695611,\n",
        "        1.85695611,  1.85695611,  1.85695611,  1.85695611,  1.85695611,\n",
        "        1.85695611,  1.85695611,  1.85695611,  1.85695611,  1.85695611,\n",
        "        1.85695611,  1.85695611,  1.85695611,  1.85695611,  1.85695611,\n",
        "        1.85695611,  1.85695611,  1.85695611,  1.85695611,  1.85695611,\n",
        "        1.85695611,  1.85695611,  1.85695611,  1.85695611,  1.85695611,\n",
        "        1.85695611,  1.85695611,  1.85695611,  1.85695611,  1.85695611,\n",
        "        1.85695611,  1.85695611,  1.85695611,  1.85695611,  1.85695611,\n",
        "        1.85695611,  1.85695611,  1.85695611,  1.85695611,  1.85695611,\n",
        "        1.85695611,  1.85695611,  1.85695611,  1.85695611,  1.85695611,\n",
        "        1.85695611,  1.85695611,  1.85695611,  1.85695611,  1.85695611,\n",
        "        1.85695611,  1.85695611,  1.85695611,  1.85695611,  1.85695611,\n",
        "        1.85695611,  1.85695611,  1.85695611,  1.85695611,  1.85695611,\n",
        "        1.85695611,  1.85695611,  1.85695611,  1.85695611,  1.85695611,\n",
        "        1.85695611,  1.85695611,  1.85695611,  1.85695611,  1.85695611,\n",
        "        1.85695611,  1.85695611,  1.85695611,  1.85695611,  1.85695611,\n",
        "        1.85695611,  1.85695611,  1.85695611,  1.85695611,  1.85695611,\n",
        "        1.85695611,  1.85695611,  1.85695611,  1.85695611,  1.85695611,\n",
        "        1.85695611,  1.85695611,  1.85695611,  1.85695611,  1.85695611,\n",
        "        1.85695611,  1.85695611,  1.85695611,  1.85695611,  1.85695611,\n",
        "        1.85695611,  1.85695611,  1.85695611,  1.85695611,  1.85695611,\n",
        "        1.85695611,  1.85695611,  1.85695611,  1.85695611,  1.85695611,\n",
        "        1.85695611,  1.85695611,  1.85695611,  2.48016706,  2.48016706,\n",
        "        2.48016706,  2.48016706,  2.48016706,  2.48016706,  2.48016706,\n",
        "        2.48016706,  2.48016706,  2.48016706,  2.48016706,  2.48016706,\n",
        "        2.48016706,  2.48016706,  2.48016706,  2.48016706,  2.48016706,\n",
        "        2.48016706,  2.48016706,  2.48016706,  2.48016706,  2.48016706,\n",
        "        2.48016706,  2.48016706,  2.48016706,  2.48016706,  2.48016706,\n",
        "        2.48016706,  2.48016706,  2.48016706,  2.48016706,  2.48016706,\n",
        "        2.48016706,  2.48016706,  2.48016706,  2.48016706,  2.48016706,\n",
        "        2.48016706,  2.48016706,  2.48016706,  2.48016706,  2.48016706,\n",
        "        2.48016706,  2.48016706,  2.48016706,  2.48016706,  2.48016706,\n",
        "        2.48016706,  2.48016706,  2.48016706,  2.48016706,  2.48016706,\n",
        "        2.48016706,  2.48016706,  2.48016706,  2.48016706,  2.48016706,\n",
        "        2.48016706,  2.48016706,  2.48016706,  2.48016706,  2.48016706,\n",
        "        2.48016706,  2.48016706,  2.48016706,  2.48016706,  2.48016706,\n",
        "        2.48016706,  2.48016706,  2.48016706,  2.48016706,  2.48016706,\n",
        "        2.48016706,  2.48016706,  2.48016706,  2.48016706,  2.48016706,\n",
        "        2.48016706,  2.48016706,  2.48016706,  2.48016706,  2.48016706,\n",
        "        2.48016706,  2.48016706])"
       ]
      }
     ],
     "prompt_number": 65
    },
    {
     "cell_type": "code",
     "collapsed": false,
     "input": [
      "z.shape"
     ],
     "language": "python",
     "metadata": {},
     "outputs": [
      {
       "metadata": {},
       "output_type": "pyout",
       "prompt_number": 67,
       "text": [
        "(256, 657, 186)"
       ]
      }
     ],
     "prompt_number": 67
    },
    {
     "cell_type": "code",
     "collapsed": false,
     "input": [
      "import matplotlib.pyplot as plt\n",
      "plt.plot(z[1,:,1])\n",
      "plt.plot(e.ecog_data()[1,:,1])"
     ],
     "language": "python",
     "metadata": {},
     "outputs": [
      {
       "metadata": {},
       "output_type": "pyout",
       "prompt_number": 77,
       "text": [
        "[<matplotlib.lines.Line2D at 0x10faf00d0>]"
       ]
      },
      {
       "metadata": {},
       "output_type": "display_data",
       "png": "[encoded data removed]",
       "text": [
        "<matplotlib.figure.Figure at 0x10faf0e10>"
       ]
      }
     ],
     "prompt_number": 77
    },
    {
     "cell_type": "code",
     "collapsed": false,
     "input": [
      "%matplotlib inline"
     ],
     "language": "python",
     "metadata": {},
     "outputs": [],
     "prompt_number": 74
    },
    {
     "cell_type": "code",
     "collapsed": false,
     "input": [],
     "language": "python",
     "metadata": {},
     "outputs": []
    }
   ],
   "metadata": {}
  }
 ]
}