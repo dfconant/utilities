{
 "metadata": {
  "name": "",
  "signature": "sha256:5671a0173c102a38df7b5db27c1a1aef0269c093dc72209bf5bff84b8df4683f"
 },
 "nbformat": 3,
 "nbformat_minor": 0,
 "worksheets": [
  {
   "cells": [
    {
     "cell_type": "markdown",
     "metadata": {},
     "source": [
      "##Raw Data"
     ]
    },
    {
     "cell_type": "code",
     "collapsed": false,
     "input": [
      "%load_ext autoreload\n",
      "%autoreload 2\n",
      "import ecog_zscore as ez\n",
      "ez.kin2txt(41,22)"
     ],
     "language": "python",
     "metadata": {},
     "outputs": [
      {
       "output_type": "stream",
       "stream": "stdout",
       "text": [
        "The autoreload extension is already loaded. To reload it, use:\n",
        "  %reload_ext autoreload\n",
        ">"
       ]
      },
      {
       "output_type": "stream",
       "stream": "stdout",
       "text": [
        " /Users/david_conant/Dropbox/changrepo/python/analysis/ecog_tools/ecog_zscore.py(70)kin2txt()\n",
        "-> np.savetxt(ktxt, K.transpose(), delimiter=\" \", header = ' '.join(fullfeats))\n"
       ]
      },
      {
       "name": "stdout",
       "output_type": "stream",
       "stream": "stdout",
       "text": [
        "(Pdb) fullfeats\n"
       ]
      },
      {
       "output_type": "stream",
       "stream": "stdout",
       "text": [
        "['tonguex1', 'tonguex2', 'tonguex3', 'tonguex4', 'tonguex5', 'tonguex6', 'tonguex7', 'tonguex8', 'tonguex9', 'tonguex10', 'tonguex11', 'tonguex12', 'tonguex13', 'tonguex14', 'tonguex15', 'tonguex16', 'tonguex17', 'tonguex18', 'tonguex19', 'tonguex20', 'tonguex21', 'tonguex22', 'tonguex23', 'tonguex24', 'tonguex25', 'tonguex26', 'tonguex27', 'tonguex28', 'tonguex29', 'tonguex30', 'tonguex31', 'tonguex32', 'tonguex33', 'tonguex34', 'tonguex35', 'tonguex36', 'tonguex37', 'tonguex38', 'tonguex39', 'tonguex40', 'tonguex41', 'tonguex42', 'tonguex43', 'tonguex44', 'tonguex45', 'tonguex46', 'tonguex47', 'tonguex48', 'tonguex49', 'tonguex50', 'tonguex51', 'tonguex52', 'tonguex53', 'tonguex54', 'tonguex55', 'tonguex56', 'tonguex57', 'tonguex58', 'tonguex59', 'tonguex60', 'tonguex61', 'tonguex62', 'tonguex63', 'tonguex64', 'tonguex65', 'tonguex66', 'tonguex67', 'tonguex68', 'tonguex69', 'tonguex70', 'tonguex71', 'tonguex72', 'tonguex73', 'tonguex74', 'tonguex75', 'tonguex76', 'tonguex77', 'tonguex78', 'tonguex79', 'tonguex80', 'tonguex81', 'tonguex82', 'tonguex83', 'tonguex84', 'tonguex85', 'tonguex86', 'tonguex87', 'tonguex88', 'tonguex89', 'tonguex90', 'tonguex91', 'tonguex92', 'tonguex93', 'tonguex94', 'tonguex95', 'tonguex96', 'tonguex97', 'tonguex98', 'tonguex99', 'tonguex100', 'tonguey1', 'tonguey2', 'tonguey3', 'tonguey4', 'tonguey5', 'tonguey6', 'tonguey7', 'tonguey8', 'tonguey9', 'tonguey10', 'tonguey11', 'tonguey12', 'tonguey13', 'tonguey14', 'tonguey15', 'tonguey16', 'tonguey17', 'tonguey18', 'tonguey19', 'tonguey20', 'tonguey21', 'tonguey22', 'tonguey23', 'tonguey24', 'tonguey25', 'tonguey26', 'tonguey27', 'tonguey28', 'tonguey29', 'tonguey30', 'tonguey31', 'tonguey32', 'tonguey33', 'tonguey34', 'tonguey35', 'tonguey36', 'tonguey37', 'tonguey38', 'tonguey39', 'tonguey40', 'tonguey41', 'tonguey42', 'tonguey43', 'tonguey44', 'tonguey45', 'tonguey46', 'tonguey47', 'tonguey48', 'tonguey49', 'tonguey50', 'tonguey51', 'tonguey52', 'tonguey53', 'tonguey54', 'tonguey55', 'tonguey56', 'tonguey57', 'tonguey58', 'tonguey59', 'tonguey60', 'tonguey61', 'tonguey62', 'tonguey63', 'tonguey64', 'tonguey65', 'tonguey66', 'tonguey67', 'tonguey68', 'tonguey69', 'tonguey70', 'tonguey71', 'tonguey72', 'tonguey73', 'tonguey74', 'tonguey75', 'tonguey76', 'tonguey77', 'tonguey78', 'tonguey79', 'tonguey80', 'tonguey81', 'tonguey82', 'tonguey83', 'tonguey84', 'tonguey85', 'tonguey86', 'tonguey87', 'tonguey88', 'tonguey89', 'tonguey90', 'tonguey91', 'tonguey92', 'tonguey93', 'tonguey94', 'tonguey95', 'tonguey96', 'tonguey97', 'tonguey98', 'tonguey99', 'tonguey100', 'lipsx1', 'lipsx2', 'lipsy1', 'lipsy2', 'ellipseOpen1', 'ellipseWidth1', 'jawxy1', 'jawxy2', 'nosexy1', 'nosexy2']\n"
       ]
      },
      {
       "name": "stdout",
       "output_type": "stream",
       "stream": "stdout",
       "text": [
        "(Pdb) continue\n"
       ]
      }
     ],
     "prompt_number": 4
    },
    {
     "cell_type": "code",
     "collapsed": false,
     "input": [],
     "language": "python",
     "metadata": {},
     "outputs": [],
     "prompt_number": 3
    },
    {
     "cell_type": "code",
     "collapsed": false,
     "input": [],
     "language": "python",
     "metadata": {},
     "outputs": []
    }
   ],
   "metadata": {}
  }
 ]
}