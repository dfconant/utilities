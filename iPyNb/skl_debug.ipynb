{
 "metadata": {
  "name": "",
  "signature": "sha256:e3838b33a3689ee0a885136cf868461f63b5fde058cb74fc80c0349d9edbb436"
 },
 "nbformat": 3,
 "nbformat_minor": 0,
 "worksheets": [
  {
   "cells": [
    {
     "cell_type": "code",
     "collapsed": false,
     "input": [
      "#def formant_encoding_ridge(pth1,pth2):\n",
      "#Load Data\n",
      "\n",
      "import sklearn as skl\n",
      "from sklearn.pipeline import make_pipeline\n",
      "from sklearn.cross_validation import cross_val_score\n",
      "from sklearn.preprocessing import StandardScaler\n",
      "from sklearn import datasets\n",
      "from sklearn.linear_model import LinearRegression\n",
      "from sklearn.linear_model import Ridge\n",
      "import seaborn as sns\n",
      "\n",
      "d = skl.datasets.load_diabetes()\n",
      "\n",
      "X = d['data']\n",
      "y = d['target']\n",
      "\n",
      "\n",
      "est = make_pipeline(StandardScaler(), LinearRegression())\n",
      "\n",
      "\n",
      "n_alphas = 2000\n",
      "alphas = np.logspace(-100,100, n_alphas)\n",
      "\n",
      "scores = cross_val_score(est, X, y, cv=10, scoring='r2')\n",
      "print scores"
     ],
     "language": "python",
     "metadata": {},
     "outputs": [
      {
       "output_type": "stream",
       "stream": "stdout",
       "text": [
        "[ 0.55614411  0.23056092  0.35357777  0.62190498  0.26587602  0.61819338\n",
        "  0.41815916  0.43515232  0.43436983  0.68568514]\n"
       ]
      }
     ],
     "prompt_number": 24
    },
    {
     "cell_type": "code",
     "collapsed": false,
     "input": [
      "np.logic"
     ],
     "language": "python",
     "metadata": {},
     "outputs": [
      {
       "metadata": {},
       "output_type": "pyout",
       "prompt_number": 17,
       "text": [
        "array([ 162.,  110.,  101.,  105.,  155.,  101.,  101.,  125.,  200.,\n",
        "        251.,  120.,  210.,  215.,   50.,   70.,  210.,   60.,  230.,\n",
        "        225.,  110.])"
       ]
      }
     ],
     "prompt_number": 17
    },
    {
     "cell_type": "code",
     "collapsed": false,
     "input": [
      "y.shape"
     ],
     "language": "python",
     "metadata": {},
     "outputs": [
      {
       "metadata": {},
       "output_type": "pyout",
       "prompt_number": 9,
       "text": [
        "(442,)"
       ]
      }
     ],
     "prompt_number": 9
    },
    {
     "cell_type": "code",
     "collapsed": false,
     "input": [
      "sns.jointplot(X[:,1], y[:,0])"
     ],
     "language": "python",
     "metadata": {},
     "outputs": [
      {
       "metadata": {},
       "output_type": "pyout",
       "prompt_number": 4,
       "text": [
        "<seaborn.axisgrid.JointGrid at 0x10e5bc690>"
       ]
      },
      {
       "metadata": {},
       "output_type": "display_data",
       "png": "[encoded data removed]",
       "text": [
        "<matplotlib.figure.Figure at 0x10e5bc6d0>"
       ]
      }
     ],
     "prompt_number": 4
    },
    {
     "cell_type": "code",
     "collapsed": false,
     "input": [],
     "language": "python",
     "metadata": {},
     "outputs": [],
     "prompt_number": 4
    },
    {
     "cell_type": "code",
     "collapsed": false,
     "input": [],
     "language": "python",
     "metadata": {},
     "outputs": [],
     "prompt_number": 4
    },
    {
     "cell_type": "code",
     "collapsed": false,
     "input": [],
     "language": "python",
     "metadata": {},
     "outputs": [],
     "prompt_number": 4
    },
    {
     "cell_type": "code",
     "collapsed": false,
     "input": [],
     "language": "python",
     "metadata": {},
     "outputs": [],
     "prompt_number": 4
    },
    {
     "cell_type": "code",
     "collapsed": false,
     "input": [
      "#def formant_encoding_ridge(pth1,pth2):\n",
      "#Load Data\n",
      "\n",
      "import sklearn as skl\n",
      "from sklearn.pipeline import make_pipeline\n",
      "from sklearn.cross_validation import cross_val_score\n",
      "from sklearn.preprocessing import StandardScaler\n",
      "from sklearn import datasets\n",
      "from sklearn.linear_model import LinearRegression\n",
      "from sklearn.linear_model import Ridge\n",
      "import seaborn as sns\n",
      "#Intitialize\n",
      "%load_ext autoreload\n",
      "%autoreload 2\n",
      "%matplotlib inline\n",
      "\n",
      "import ecog_viz as ev\n",
      "import numpy as np\n",
      "import scipy as sp\n",
      "from brain.dataformat.brainformat import *\n",
      "import numpy as np\n",
      "from brain_utils import brainBaseline\n",
      "from brain_utils import smooth_formants\n",
      "import pandas as pd\n",
      "\n",
      "import matplotlib as mpl\n",
      "from BDutils import ProgressBar\n",
      "from Smooth import savitzky_golay\n",
      "import prettyplotlib as ppl\n",
      "import brewer2mpl\n",
      "import matplotlib.gridspec as gridspec\n",
      "import seaborn as sns\n",
      "from matplotlib import pyplot as plt\n",
      "\n",
      "from sklearn import preprocessing\n",
      "from sklearn.linear_model import LinearRegression\n",
      "from sklearn.linear_model import Ridge\n",
      "from sklearn.cross_validation import train_test_split\n",
      "pth1 = '/Users/david_conant/Dropbox/EC50/EC50.prod.hVd.B21_22_25_76.align1_2.neural.h5'\n",
      "pth2 = '/Users/david_conant/Dropbox/EC50/EC50.prod.hVd.B21_22_25_76.align1_2.form.h5'\n",
      "\n",
      "f = BrainDataFile(pth1 , 'r')\n",
      "i = f.data().internal()\n",
      "e = i.ecog_data_processed(0)\n",
      "e_z = brainBaseline(e)\n",
      "\n",
      "f = BrainDataFile(pth2 , 'r')\n",
      "i = f.data().internal()\n",
      "a = i.ecog_data_processed(0)\n",
      "\n",
      "f_proj = pd.DataFrame(np.nanmean(a[:,100:125,:],axis = 1).transpose(),columns = forms, index = notes)\n",
      "f_proj = f_proj.fillna(f_proj.median(),inplace=True)\n",
      "f_proj = f_proj.dropna(axis =1,how='any')\n",
      "\n",
      "e_proj = pd.DataFrame(np.nanmean(e_z[:,175:200,:],axis = 1).transpose(),columns = chans, index = notes)\n",
      "e_proj = e_proj.fillna(e_proj.median(),inplace=True)\n",
      "e_proj = e_proj.dropna(axis =1,how='any')\n",
      "\n",
      "chans = np.array(e.dims(axis = 'space',get_hdf = False)[0]['dataset'])\n",
      "notes = np.array(e.dims(axis = 'channels', get_hdf = False)[1]['dataset'])\n",
      "forms = np.array(a.dims(axis = 'space', get_hdf = False)[0]['dataset'])\n",
      "anat = np.array(e.dims(axis = 'space', get_hdf = False)[2]['dataset']);\n",
      "vSMC = np.where(anat==1|2)[0]\n",
      "\n",
      "y = f_proj.values[:,1]\n",
      "y = sp.stats.mstats.zscore(y)\n",
      "X = e_proj.values[:,vSMC]\n",
      "from sklearn.decomposition import PCA\n",
      "pca = PCA(n_components=11)\n",
      "pca.fit(X.transpose())\n",
      "Xp = pca.components_\n",
      "\n",
      "est = make_pipeline(LinearRegression())\n",
      "\n",
      "\n",
      "n_alphas = 2000\n",
      "alphas = np.logspace(-100,100, n_alphas)\n",
      "\n",
      "scores = cross_val_score(est, Xp.transpose(), y, cv=2, scoring='r2')\n",
      "print scores"
     ],
     "language": "python",
     "metadata": {},
     "outputs": [
      {
       "output_type": "stream",
       "stream": "stdout",
       "text": [
        "The autoreload extension is already loaded. To reload it, use:\n",
        "  %reload_ext autoreload\n",
        "[ 0.03088261  0.11801204]"
       ]
      },
      {
       "output_type": "stream",
       "stream": "stdout",
       "text": [
        "\n"
       ]
      }
     ],
     "prompt_number": 81
    },
    {
     "cell_type": "code",
     "collapsed": false,
     "input": [
      "sns.jointplot(Xp[0,:].transpose(), y)"
     ],
     "language": "python",
     "metadata": {},
     "outputs": [
      {
       "metadata": {},
       "output_type": "pyout",
       "prompt_number": 72,
       "text": [
        "<seaborn.axisgrid.JointGrid at 0x113707d10>"
       ]
      },
      {
       "metadata": {},
       "output_type": "display_data",
       "png": "[encoded data removed]",
       "text": [
        "<matplotlib.figure.Figure at 0x1132c61d0>"
       ]
      }
     ],
     "prompt_number": 72
    },
    {
     "cell_type": "code",
     "collapsed": false,
     "input": [],
     "language": "python",
     "metadata": {},
     "outputs": [
      {
       "metadata": {},
       "output_type": "pyout",
       "prompt_number": 40,
       "text": [
        "(123,)"
       ]
      }
     ],
     "prompt_number": 40
    },
    {
     "cell_type": "code",
     "collapsed": false,
     "input": [
      "from sklearn.decomposition import PCA\n",
      "pca = PCA(n_components=3)\n",
      "pca.fit(X.transpose())\n",
      "Xp = pca.components_\n",
      "print(pca.explained_variance_ratio_)"
     ],
     "language": "python",
     "metadata": {},
     "outputs": [
      {
       "output_type": "stream",
       "stream": "stdout",
       "text": [
        "[ 0.37416642  0.08995207  0.03440558]\n"
       ]
      }
     ],
     "prompt_number": 57
    },
    {
     "cell_type": "code",
     "collapsed": false,
     "input": [
      "sum(pca.explained_variance_ratio_)"
     ],
     "language": "python",
     "metadata": {},
     "outputs": [
      {
       "metadata": {},
       "output_type": "pyout",
       "prompt_number": 58,
       "text": [
        "0.49852407117532149"
       ]
      }
     ],
     "prompt_number": 58
    },
    {
     "cell_type": "code",
     "collapsed": false,
     "input": [
      "Xp[]"
     ],
     "language": "python",
     "metadata": {},
     "outputs": [
      {
       "metadata": {},
       "output_type": "pyout",
       "prompt_number": 65,
       "text": [
        "array([ 0.07576635,  0.04643367,  0.09497672])"
       ]
      }
     ],
     "prompt_number": 65
    },
    {
     "cell_type": "code",
     "collapsed": false,
     "input": [
      "y.shape"
     ],
     "language": "python",
     "metadata": {},
     "outputs": [
      {
       "metadata": {},
       "output_type": "pyout",
       "prompt_number": 64,
       "text": [
        "(123,)"
       ]
      }
     ],
     "prompt_number": 64
    },
    {
     "cell_type": "code",
     "collapsed": false,
     "input": [],
     "language": "python",
     "metadata": {},
     "outputs": []
    }
   ],
   "metadata": {}
  }
 ]
}