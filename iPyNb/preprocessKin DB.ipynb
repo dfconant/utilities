{
 "metadata": {
  "name": "",
  "signature": "sha256:90fc88d6fc132048b75eb554ccbe3897f474006480b4f670ce40d897a23e4520"
 },
 "nbformat": 3,
 "nbformat_minor": 0,
 "worksheets": [
  {
   "cells": [
    {
     "cell_type": "code",
     "collapsed": false,
     "input": [
      "pth = '/Users/david_conant/Dropbox/EC56/EC56_B77/Kinematics/EC56_B77_US'\n",
      "import collections\n",
      "import glob\n",
      "import numpy as np\n",
      "import matplotlib.pyplot as plt\n",
      "import csv\n",
      "%matplotlib inline\n",
      "\n",
      "conFiles = glob.glob(pth+'/*.con')\n",
      "numPoints = 100\n",
      "scale = 'mm'\n",
      "f_range = [];\n",
      "maxF = [];\n",
      "allframes = []\n",
      "\n",
      "for f in range(len(conFiles)):\n",
      "    underscores = [i for i ,ltr in enumerate(conFiles[f]) if ltr == '_']\n",
      "    start = int(conFiles[f][underscores[-2]+1:underscores[-1]])\n",
      "    stop = int(conFiles[f][underscores[-1]+1:-4])\n",
      "    f_range.append(np.arange(start-1,stop))\n",
      "    allframes.extend(np.arange(start-1,stop))\n",
      "    maxF.append(stop)\n",
      "    \n",
      "joinedx = np.empty(shape=(100,max(maxF)))\n",
      "joinedx[:] = np.NAN\n",
      "joinedy = np.empty(shape=(100,max(maxF)))\n",
      "joinedy[:] = np.NAN\n",
      "#xall = np.empty(shape=(100,len(allframes)))\n",
      "#yall = np.empty(shape=(100,len(allframes)))\n",
      "over = [];\n",
      "for f in range(len(conFiles)):\n",
      "    \n",
      "    #Open files\n",
      "    with open(conFiles[f],'rb') as tsvin:\n",
      "        content = csv.reader(open(conFiles[f],'rb'),delimiter='\\t')\n",
      "        \n",
      "    #Transform content to a matrix    \n",
      "    fullmat = np.empty(shape = (100,len(f_range[f])*2))\n",
      "    c = 0\n",
      "    for row in content:\n",
      "        r = np.array(row[0:-1])\n",
      "        ind = np.char.strip(r) == ''\n",
      "        r[ind] = np.nan\n",
      "        fullmat[c,:] = r\n",
      "        c+=1\n",
      "    xall = fullmat[:,0::2]\n",
      "    yall = fullmat[:,1::2]\n",
      "    \n",
      "    #ID frames that overlap\n",
      "    if f>0:\n",
      "        overlap = np.intersect1d(f_range[f],f_range[f-1])\n",
      "        over.append(overlap.shape[0])\n",
      "        ov_kernel = np.linspace(0,1,overlap.shape[0])\n",
      "        inv_ov_kernel = 1-ov_kernel\n",
      "    #Average overlap with a linear kernel\n",
      "        x_prev = x_together\n",
      "        y_prev = y_together\n",
      "\n",
      "        x_ov = np.dstack((x_prev[:,-overlap.shape[0]:],xall[:,0:overlap.shape[0]]))\n",
      "        x_ov = np.sum(np.dstack((np.multiply(x_ov[:,:,0],inv_ov_kernel),np.multiply(x_ov[:,:,1],ov_kernel))),2)\n",
      "        y_ov = np.dstack((y_prev[:,-overlap.shape[0]:],yall[:,0:overlap.shape[0]]))\n",
      "        y_ov = np.sum(np.dstack((np.multiply(y_ov[:,:,0],ov_kernel),np.multiply(y_ov[:,:,1],inv_ov_kernel))),2)\n",
      "       \n",
      "        \n",
      "\n",
      "        x_together = np.concatenate((x_ov,xall[:,overlap.shape[0]:]),1)\n",
      "        y_together = np.concatenate((y_ov,yall[:,overlap.shape[0]:]),1)\n",
      "    else:\n",
      "        x_together = xall\n",
      "        y_together = yall\n",
      "        \n",
      "    #Put it all together\n",
      "    joinedx[:,f_range[f]-1] = x_together\n",
      "    joinedy[:,f_range[f]-1] = y_together\n"
     ],
     "language": "python",
     "metadata": {},
     "outputs": [],
     "prompt_number": 84
    },
    {
     "cell_type": "code",
     "collapsed": true,
     "input": [
      "f += 1\n",
      "with open(conFiles[f],'rb') as tsvin:\n",
      "    content = csv.reader(open(conFiles[f],'rb'),delimiter='\\t')\n",
      "\n",
      "#Transform content to a matrix    \n",
      "fullmat = np.empty(shape = (100,len(f_range[f])*2))\n",
      "c = 0\n",
      "for row in content:\n",
      "    r = np.array(row[0:-1])\n",
      "    ind = np.char.strip(r) == ''\n",
      "    r[ind] = np.nan\n",
      "    fullmat[c,:] = r\n",
      "    c+=1\n",
      "xall = fullmat[:,0::2]\n",
      "yall = fullmat[:,1::2]\n",
      "\n",
      "#ID frames that overlap\n",
      "if f>0:\n",
      "    overlap = np.intersect1d(f_range[f],f_range[f-1])\n",
      "    over.append(overlap.shape[0])\n",
      "    ov_kernel = np.linspace(0,1,overlap.shape[0])\n",
      "    inv_ov_kernel = 1-ov_kernel\n",
      "#Average overlap with a linear kernel\n",
      "    x_prev = x_together\n",
      "    y_prev = y_together\n",
      "\n",
      "    x_ov = np.dstack((x_prev[:,-overlap.shape[0]:],xall[:,0:overlap.shape[0]]))\n",
      "    x_ov = np.sum(np.dstack((np.multiply(x_ov[:,:,0],inv_ov_kernel),np.multiply(x_ov[:,:,1],ov_kernel))),2)\n",
      "    y_ov = np.dstack((y_prev[:,-overlap.shape[0]:],yall[:,0:overlap.shape[0]]))\n",
      "    y_ov = np.sum(np.dstack((np.multiply(y_ov[:,:,0],ov_kernel),np.multiply(y_ov[:,:,1],inv_ov_kernel))),2)\n",
      "\n",
      "\n",
      "\n",
      "    x_together = np.concatenate((x_ov,xall[:,overlap.shape[0]:]),1)\n",
      "    y_together = np.concatenate((y_ov,yall[:,overlap.shape[0]:]),1)\n",
      "else:\n",
      "    x_together = xall\n",
      "    y_together = yall\n",
      "\n",
      "#Put it all together\n",
      "joinedx[:,f_range[f]-1] = x_together\n",
      "joinedy[:,f_range[f]-1] = y_together"
     ],
     "language": "python",
     "metadata": {},
     "outputs": [],
     "prompt_number": 77
    },
    {
     "cell_type": "code",
     "collapsed": false,
     "input": [
      "x_together.shape, f_range[f].shape, joinedx.shape"
     ],
     "language": "python",
     "metadata": {},
     "outputs": [
      {
       "metadata": {},
       "output_type": "pyout",
       "prompt_number": 85,
       "text": [
        "((100, 611), (611,), (100, 25010))"
       ]
      }
     ],
     "prompt_number": 85
    },
    {
     "cell_type": "code",
     "collapsed": false,
     "input": [
      "plt.figure(figsize = (15,10))\n",
      "plt.plot(joinedx[1,:])\n",
      "plt.plot(f_range[f],x_together[1,:])\n",
      "plt.plot(f_range[f],xall[1,:])"
     ],
     "language": "python",
     "metadata": {},
     "outputs": [
      {
       "metadata": {},
       "output_type": "pyout",
       "prompt_number": 79,
       "text": [
        "[<matplotlib.lines.Line2D at 0x117984990>]"
       ]
      },
      {
       "metadata": {},
       "output_type": "display_data",
       "png": "[encoded data removed]",
       "text": [
        "<matplotlib.figure.Figure at 0x1178f38d0>"
       ]
      }
     ],
     "prompt_number": 79
    },
    {
     "cell_type": "code",
     "collapsed": false,
     "input": [
      "plt.plot(x_together[1,:])"
     ],
     "language": "python",
     "metadata": {},
     "outputs": [
      {
       "metadata": {},
       "output_type": "pyout",
       "prompt_number": 76,
       "text": [
        "[<matplotlib.lines.Line2D at 0x117979850>]"
       ]
      },
      {
       "metadata": {},
       "output_type": "display_data",
       "png": "[encoded data removed]",
       "text": [
        "<matplotlib.figure.Figure at 0x115e17150>"
       ]
      }
     ],
     "prompt_number": 76
    },
    {
     "cell_type": "code",
     "collapsed": false,
     "input": [
      "joinedx"
     ],
     "language": "python",
     "metadata": {},
     "outputs": []
    },
    {
     "cell_type": "code",
     "collapsed": false,
     "input": [
      "%matplotlib inline\n",
      "import preprocessKin as pK\n",
      "import scipy\n",
      "import scipy.io.wavfile as wavfile\n",
      "from scipy import signal\n",
      "import matplotlib.pyplot as plt\n",
      "import numpy as np\n",
      "from __future__ import division\n",
      "import math\n",
      "pth = '/Users/david_conant/Dropbox/EC56/EC56_B77/Kinematics/EC56_B77'\n",
      "face = 0\n",
      "tongue =1\n",
      "\n",
      "#if face:\n",
      "#    FT = joinFT(pth+'_FT')\n",
      "\n",
      "joinedx,joinedy = pK.join_contours(pth+'_US')\n",
      "#USfs = 30\n",
      "\n",
      "#scipy.io.savemat(pth+'_US/allcon.mat', mdict={'joinedx': joinedx, 'joinedy':joinedy})\n",
      "[USfs,US] = wavfile.read('/Users/david_conant/Dropbox/EC56/EC56_B77/Kinematics/EC56_B77_USanalog.wav')\n",
      "[TDTfs,TDT] = wavfile.read('/Users/david_conant/Dropbox/EC56/EC56_B77/Analog/analog1.wav')\n",
      "#[tlag,tlag_secs] = pK.kinXcovar(US,USfs,TDT,TDTfs);\n"
     ],
     "language": "python",
     "metadata": {},
     "outputs": [],
     "prompt_number": 69
    },
    {
     "cell_type": "code",
     "collapsed": false,
     "input": [
      "#downsample US \n",
      "reduced = int(round(US.shape[0]/10))\n",
      "US = US[np.arange(reduced)]\n",
      "TDT = TDT[np.arange(int(np.round(reduced*TDTfs/USfs)))]\n",
      "US = signal.resample(US[:,1],np.round(US.shape[0]*(TDTfs/USfs)))"
     ],
     "language": "python",
     "metadata": {},
     "outputs": []
    },
    {
     "cell_type": "code",
     "collapsed": false,
     "input": [
      "#Cross Correlate\n",
      "%timeit c1 = np.correlate(US, TDT);\n"
     ],
     "language": "python",
     "metadata": {},
     "outputs": [
      {
       "output_type": "stream",
       "stream": "stdout",
       "text": [
        "100 loops, best of 3: 4.8 ms per loop\n"
       ]
      }
     ],
     "prompt_number": 68
    },
    {
     "cell_type": "code",
     "collapsed": false,
     "input": [
      "%timeit c2 = signal.fftconvolve(TDT, US[::-1], mode='valid') "
     ],
     "language": "python",
     "metadata": {},
     "outputs": [
      {
       "output_type": "stream",
       "stream": "stdout",
       "text": [
        "1 loops, best of 3: 666 ms per loop\n"
       ]
      }
     ],
     "prompt_number": 11
    },
    {
     "cell_type": "code",
     "collapsed": false,
     "input": [
      "\n",
      "reduced/USfs"
     ],
     "language": "python",
     "metadata": {},
     "outputs": [
      {
       "metadata": {},
       "output_type": "pyout",
       "prompt_number": 60,
       "text": [
        "49.10106575963719"
       ]
      }
     ],
     "prompt_number": 60
    },
    {
     "cell_type": "code",
     "collapsed": false,
     "input": [
      ".005*30*TDTfs/60"
     ],
     "language": "python",
     "metadata": {},
     "outputs": [
      {
       "metadata": {},
       "output_type": "pyout",
       "prompt_number": 66,
       "text": [
        "40.0"
       ]
      }
     ],
     "prompt_number": 66
    },
    {
     "cell_type": "code",
     "collapsed": false,
     "input": [
      "US.shape"
     ],
     "language": "python",
     "metadata": {},
     "outputs": [
      {
       "metadata": {},
       "output_type": "pyout",
       "prompt_number": 63,
       "text": [
        "(785617,)"
       ]
      }
     ],
     "prompt_number": 63
    },
    {
     "cell_type": "code",
     "collapsed": false,
     "input": [
      "#Calculate offset\n",
      "[cmax,icmax] = max(c);\n",
      "tlag = icmax - max(US.shape[0],TDT.shape[0]) - .1*TDTfs\n",
      "tlag_secs = tlag/TDTfs - .1;"
     ],
     "language": "python",
     "metadata": {},
     "outputs": [],
     "prompt_number": 380
    },
    {
     "cell_type": "code",
     "collapsed": false,
     "input": [
      "#correct US to be exactly 30fps\n",
      "USlength = fix((length(US)/USfs)*30);\n",
      "USratio(ii) = USlength/length(contours(ii).joinedx);     #If USratio is >1, US frame rate <30\n",
      "if length(contours(ii).joinedx) not USlength:\n",
      "    for i = 1:size(contours(ii).joinedx,1):\n",
      "    tmpx(i,:) = resample(contours(ii).joinedx(i,:),USlength,length(contours(ii).joinedx));\n",
      "    tmpy(i,:) = resample(contours(ii).joinedy(i,:),USlength,length(contours(ii).joinedx));\n",
      "resamp(ii).joinedx = tmpx;\n",
      "resamp(ii).joinedy = tmpy;\n",
      "clear tmpx tmpy"
     ],
     "language": "python",
     "metadata": {},
     "outputs": [],
     "prompt_number": 380
    },
    {
     "cell_type": "code",
     "collapsed": false,
     "input": [],
     "language": "python",
     "metadata": {},
     "outputs": [],
     "prompt_number": 380
    },
    {
     "cell_type": "code",
     "collapsed": false,
     "input": [],
     "language": "python",
     "metadata": {},
     "outputs": [],
     "prompt_number": 380
    },
    {
     "cell_type": "code",
     "collapsed": false,
     "input": [],
     "language": "python",
     "metadata": {},
     "outputs": [],
     "prompt_number": 380
    },
    {
     "cell_type": "code",
     "collapsed": false,
     "input": [
      "import subprocess\n",
      "\n",
      "command = \"/Applications/ffmpeg -i /Users/david_conant/Dropbox/EC56/EC56_B77/Kinematics/EC56_B77_USvid.avi -ab 160k -ac 2 -ar 44100 -vn /Users/david_conant/Dropbox/EC56/EC56_B77/Kinematics/EC56_B77_USanalog.wav\"\n",
      "\n",
      "subprocess.call(command, shell=True)"
     ],
     "language": "python",
     "metadata": {},
     "outputs": [
      {
       "metadata": {},
       "output_type": "pyout",
       "prompt_number": 12,
       "text": [
        "0"
       ]
      }
     ],
     "prompt_number": 12
    },
    {
     "cell_type": "code",
     "collapsed": false,
     "input": [],
     "language": "python",
     "metadata": {},
     "outputs": [],
     "prompt_number": 380
    },
    {
     "cell_type": "code",
     "collapsed": false,
     "input": [],
     "language": "python",
     "metadata": {},
     "outputs": [],
     "prompt_number": 380
    },
    {
     "cell_type": "code",
     "collapsed": false,
     "input": [],
     "language": "python",
     "metadata": {},
     "outputs": [],
     "prompt_number": 380
    },
    {
     "cell_type": "code",
     "collapsed": false,
     "input": [],
     "language": "python",
     "metadata": {},
     "outputs": [],
     "prompt_number": 380
    },
    {
     "cell_type": "code",
     "collapsed": false,
     "input": [],
     "language": "python",
     "metadata": {},
     "outputs": [],
     "prompt_number": 380
    },
    {
     "cell_type": "code",
     "collapsed": false,
     "input": [],
     "language": "python",
     "metadata": {},
     "outputs": [],
     "prompt_number": 380
    },
    {
     "cell_type": "code",
     "collapsed": false,
     "input": [],
     "language": "python",
     "metadata": {},
     "outputs": [],
     "prompt_number": 380
    },
    {
     "cell_type": "code",
     "collapsed": false,
     "input": [],
     "language": "python",
     "metadata": {},
     "outputs": [],
     "prompt_number": 380
    },
    {
     "cell_type": "code",
     "collapsed": false,
     "input": [],
     "language": "python",
     "metadata": {},
     "outputs": [],
     "prompt_number": 380
    },
    {
     "cell_type": "code",
     "collapsed": false,
     "input": [],
     "language": "python",
     "metadata": {},
     "outputs": []
    }
   ],
   "metadata": {}
  }
 ]
}