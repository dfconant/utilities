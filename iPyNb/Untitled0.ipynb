{
 "metadata": {
  "name": "",
  "signature": "sha256:7da2215b46ece65b0fca4cbb68a017edc588b3bb72d375aaa99c086befa2af2c"
 },
 "nbformat": 3,
 "nbformat_minor": 0,
 "worksheets": [
  {
   "cells": [
    {
     "cell_type": "code",
     "collapsed": false,
     "input": [
      "import scipy as sp\n",
      "import scipy.io\n",
      "import h5py"
     ],
     "language": "python",
     "metadata": {},
     "outputs": [],
     "prompt_number": 3
    },
    {
     "cell_type": "code",
     "collapsed": false,
     "input": [
      "cd /Users/david_conant/Dropbox/NeuroSpeech/Coart/"
     ],
     "language": "python",
     "metadata": {},
     "outputs": [
      {
       "output_type": "stream",
       "stream": "stdout",
       "text": [
        "/Users/david_conant/Dropbox/neurospeech/Coart\n"
       ]
      }
     ],
     "prompt_number": 2
    },
    {
     "cell_type": "code",
     "collapsed": false,
     "input": [
      "dataFile = 'EC6.prod.Coart2.B50_55_58_64_65.align2_-3.neural.mat'\n",
      "f = h5py.File(dataFile)\n",
      "neuralY = np.transpose(np.array(f['neuralY']))"
     ],
     "language": "python",
     "metadata": {},
     "outputs": [],
     "prompt_number": 9
    },
    {
     "cell_type": "code",
     "collapsed": false,
     "input": [
      "f.keys()"
     ],
     "language": "python",
     "metadata": {},
     "outputs": [
      {
       "metadata": {},
       "output_type": "pyout",
       "prompt_number": 11,
       "text": [
        "[u'#refs#',\n",
        " u'AlignTimes',\n",
        " u'OffsetTimes',\n",
        " u'OnsetTimes',\n",
        " u'baseline',\n",
        " u'block',\n",
        " u'evntTrial',\n",
        " u'labs',\n",
        " u'neuralY',\n",
        " u'notes',\n",
        " u'timing',\n",
        " u'wlist']"
       ]
      }
     ],
     "prompt_number": 11
    },
    {
     "cell_type": "code",
     "collapsed": false,
     "input": [
      "neuralY.shape"
     ],
     "language": "python",
     "metadata": {},
     "outputs": [
      {
       "metadata": {},
       "output_type": "pyout",
       "prompt_number": 10,
       "text": [
        "(256, 801, 205)"
       ]
      }
     ],
     "prompt_number": 10
    },
    {
     "cell_type": "code",
     "collapsed": false,
     "input": [],
     "language": "python",
     "metadata": {},
     "outputs": []
    }
   ],
   "metadata": {}
  }
 ]
}