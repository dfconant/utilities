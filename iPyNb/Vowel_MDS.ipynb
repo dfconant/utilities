{
 "metadata": {
  "name": "",
  "signature": "sha256:10b63b82d7bf3cdcfd705ca2b6e7ec00ad42d6cfe45d4d4b0355ae8d7a0a9709"
 },
 "nbformat": 3,
 "nbformat_minor": 0,
 "worksheets": [
  {
   "cells": [
    {
     "cell_type": "code",
     "collapsed": false,
     "input": [
      "#Intitialize\n",
      "%load_ext autoreload\n",
      "%autoreload 2\n",
      "%matplotlib inline\n",
      "import ecog_viz as ev\n",
      "import numpy as np\n",
      "import scipy as sp\n",
      "import matplotlib as mpl\n",
      "from brain.dataformat.brainformat import *\n",
      "from matplotlib import pyplot as plt\n",
      "import numpy as np\n",
      "from brain_utils import brainBaseline\n",
      "from brain_utils import smooth_formants\n",
      "import pandas as pd\n",
      "from BDutils import ProgressBar\n",
      "from DCstats import LDA_class\n",
      "from Smooth import savitzky_golay\n",
      "import prettyplotlib as ppl\n",
      "import brewer2mpl\n",
      "import matplotlib.gridspec as gridspec\n",
      "import seaborn as sns\n",
      "import scipy.spatial.distance as spd\n",
      "import scipy.cluster.hierarchy as sch\n",
      "from sklearn import manifold\n",
      "from scipy.stats import mstats\n",
      "from IPython.display import Image\n",
      "import pdb\n",
      "sns.set_style('white')\n",
      "sns.set_context('talk')\n",
      "sns.set_palette('Set1', n_colors = 9)\n",
      "pth1 = '/Users/david_conant/Dropbox/EC84/EC84.prod.vow.B65_78_82_85_93_95.align1_1.neural.h5'\n",
      "pth2 = '/Users/david_conant/Dropbox/EC84/EC84.prod.vow.B65_78_82_85_93_95.align1_1.form.h5'"
     ],
     "language": "python",
     "metadata": {},
     "outputs": [],
     "prompt_number": 2
    },
    {
     "cell_type": "code",
     "collapsed": false,
     "input": [
      "#def euclid_LDA_similarity(pth1,pth2):\n",
      "#Load Data\n",
      "f = BrainDataFile(pth1 , 'r')\n",
      "i = f.data().internal()\n",
      "e = i.ecog_data_processed(0)\n",
      "e_z = brainBaseline(e)\n",
      "\n",
      "f = BrainDataFile(pth2 , 'r')\n",
      "i = f.data().internal()\n",
      "a = i.ecog_data_processed(0)\n",
      "a_sm = smooth_formants(a)\n",
      "chans = np.array(e.dims(axis = 'space',get_hdf = False)[0]['dataset'])\n",
      "notes = np.array(e.dims(axis = 'channels', get_hdf = False)[1]['dataset'])\n",
      "forms = np.array(a.dims(axis = 'space', get_hdf = False)[0]['dataset'])\n",
      "anat = np.array(e.dims(axis = 'space', get_hdf = False)[2]['dataset']);\n",
      "vSMC = np.where(anat==1|2)[0]\n",
      "e_z = e_z[vSMC,:,:]\n",
      "\n",
      "f_ranges =[np.arange(85,95),np.arange(95,105),np.arange(105,115)]\n",
      "e_ranges =[np.arange(175,185),np.arange(195,205),np.arange(115,125)]\n",
      "pos_f = []\n",
      "pos_e = []\n",
      "for ind,(rf,re) in enumerate(zip(f_ranges,e_ranges)):\n",
      "    f_proj = pd.DataFrame(np.nanmean(a.ecog_data()[:,rf,:],axis = 1).transpose(),columns = forms, index = notes)\n",
      "    f_proj = f_proj.fillna(f_proj.median(),inplace=True)\n",
      "    f_proj = f_proj.dropna(axis =1,how='any')\n",
      "    f_proj = f_proj.apply(mstats.zscore)\n",
      "    f_centroids = f_proj.groupby(f_proj.index).aggregate(np.median)\n",
      "\n",
      "    e_proj = pd.DataFrame(np.nanmean(e_z[:,re,:],axis = 1).transpose(),columns = chans[vSMC], index = notes)\n",
      "    e_proj = e_proj.fillna(e_proj.median(),inplace=True)\n",
      "    e_proj = e_proj.dropna(axis =1,how='any')\n",
      "    e_centroids = e_proj.groupby(e_proj.index).aggregate(np.median)\n",
      "    \n",
      "    #Distance Matrices\n",
      "    f_dist = spd.squareform(spd.pdist(f_centroids.values[:,0:2]))\n",
      "    e_dist = spd.squareform(spd.pdist(e_centroids.values[:,0:2]))\n",
      "    \n",
      "    #MDS\n",
      "    mds = manifold.MDS(n_components=2, max_iter=10000,dissimilarity = 'precomputed')\n",
      "    pos_f.append(mds.fit_transform(f_dist))\n",
      "    pos_e.append(mds.fit_transform(e_dist))\n",
      "    \n",
      "sns.set_style('white')\n",
      "sns.set_context('talk')\n",
      "sns.set_palette('Set1', n_colors = 9)\n",
      "\n",
      "fig = plt.figure(figsize = (20,10))\n",
      "gs1 = gridspec.GridSpec(3,4)\n",
      "\n",
      "'''\n",
      "ax1 = plt.subplot(gs1[1:2,1:2])\n",
      "ax1.set_ylabel('MDS2')\n",
      "for ind,n in enumerate(np.unique(notes)):\n",
      "    ppl.scatter(pos_f[0][ind,0],pos_f[0][ind,1], alpha = 1, s=60)\n",
      "    annotate(n, (pos_f[0][ind,0],pos_f[0][ind,1]))\n",
      "\n",
      "ax2 = plt.subplot(gs1[1:2,2:3])\n",
      "for ind,n in enumerate(np.unique(notes)):\n",
      "    ppl.scatter(pos_f[1][ind,0],pos_f[1][ind,1], alpha = 1, s=60)\n",
      "    annotate(n, (pos_f[1][ind,0],pos_f[1][ind,1]))\n",
      "\n",
      "ax3 = plt.subplot(gs1[1:2,3:4])\n",
      "for ind,n in enumerate(np.unique(notes)):\n",
      "    ppl.scatter(pos_f[2][ind,0],pos_f[2][ind,1], alpha = 1, s=60)\n",
      "    annotate(n, (pos_f[2][ind,0],pos_f[2][ind,1]))\n",
      "'''\n",
      "ax4 = plt.subplot(gs1[1:2,1:2])\n",
      "ax4.set_ylabel('vSMC MDS2')\n",
      "ax4.set_xlabel('vSMC MDS1')\n",
      "for ind,n in enumerate(np.unique(notes)):\n",
      "    ppl.scatter(pos_e[0][ind,0],pos_e[0][ind,1], alpha = 1, s=60)\n",
      "    annotate(n, (pos_e[0][ind,0],pos_e[0][ind,1]))\n",
      "\n",
      "ax5 = plt.subplot(gs1[1:2,2:3])\n",
      "ax5.set_xlabel('vSMC MDS1')\n",
      "for ind,n in enumerate(np.unique(notes)):\n",
      "    ppl.scatter(pos_e[1][ind,0],pos_e[1][ind,1], alpha = 1, s=60)\n",
      "    annotate(n, (pos_e[1][ind,0],pos_e[1][ind,1]))\n",
      "\n",
      "ax6 = plt.subplot(gs1[1:2,3:4])\n",
      "ax6.set_xlabel('vSMC MDS1')\n",
      "for ind,n in enumerate(np.unique(notes)):\n",
      "    ppl.scatter(pos_e[2][ind,0],pos_e[2][ind,1], alpha = 1, s=60)\n",
      "    annotate(n, (pos_e[2][ind,0],pos_e[2][ind,1]))\n",
      "    \n",
      "    \n",
      "Image(url = 'http://teachingpronunciation.weebly.com/uploads/9/5/9/1/9591739/7165648.jpg?441')"
     ],
     "language": "python",
     "metadata": {},
     "outputs": [
      {
       "html": [
        "<img src=\"http://teachingpronunciation.weebly.com/uploads/9/5/9/1/9591739/7165648.jpg?441\"/>"
       ],
       "metadata": {},
       "output_type": "pyout",
       "prompt_number": 8,
       "text": [
        "<IPython.core.display.Image at 0x11304aa90>"
       ]
      },
      {
       "metadata": {},
       "output_type": "display_data",
       "png": "[encoded data removed]",
       "text": [
        "<matplotlib.figure.Figure at 0x1135f3c50>"
       ]
      }
     ],
     "prompt_number": 8
    },
    {
     "cell_type": "code",
     "collapsed": false,
     "input": [
      "e_z = e_z[vSMC,:,:]\n",
      "\n",
      "f_ranges =[np.arange(85,95),np.arange(95,105),np.arange(105,115)]\n",
      "e_ranges =[np.arange(175,185),np.arange(195,205),np.arange(115,125)]\n",
      "pos_f = []\n",
      "pos_e = []\n",
      "for ind,(rf,re) in enumerate(zip(f_ranges,e_ranges)):\n",
      "    f_proj = pd.DataFrame(np.nanmean(a.ecog_data()[:,rf,:],axis = 1).transpose(),columns = forms, index = notes)\n",
      "    f_proj = f_proj.fillna(f_proj.median(),inplace=True)\n",
      "    f_proj = f_proj.dropna(axis =1,how='any')\n",
      "    f_proj = f_proj.apply(mstats.zscore)\n",
      "    f_centroids = f_proj.groupby(f_proj.index).aggregate(np.median)\n",
      "\n",
      "    e_proj = pd.DataFrame(np.nanmean(e_z[:,re,:],axis = 1).transpose(),columns = chans[vSMC], index = notes)\n",
      "    e_proj = e_proj.fillna(e_proj.median(),inplace=True)\n",
      "    e_proj = e_proj.dropna(axis =1,how='any')\n",
      "    e_centroids = e_proj.groupby(e_proj.index).aggregate(np.median)\n",
      "\n",
      "    #MDS\n",
      "    mds = manifold.MDS(n_components=2, max_iter=3000)\n",
      "    pos_f.append(mds.fit(f_centroids).embedding_)\n",
      "    pos_e.append(mds.fit(e_centroids).embedding_)"
     ],
     "language": "python",
     "metadata": {},
     "outputs": [
      {
       "output_type": "stream",
       "stream": "stdout",
       "text": [
        "0 [85 86 87 88 89 90 91 92 93 94] [175 176 177 178 179 180 181 182 183 184]\n",
        "1"
       ]
      },
      {
       "output_type": "stream",
       "stream": "stdout",
       "text": [
        " [ 95  96  97  98  99 100 101 102 103 104] [195 196 197 198 199 200 201 202 203 204]\n",
        "2"
       ]
      },
      {
       "output_type": "stream",
       "stream": "stdout",
       "text": [
        " [105 106 107 108 109 110 111 112 113 114] [115 116 117 118 119 120 121 122 123 124]\n"
       ]
      }
     ],
     "prompt_number": 84
    },
    {
     "cell_type": "code",
     "collapsed": false,
     "input": [
      "f_proj = pd.DataFrame(a.ecog_data()[:,np.arange(85,95),:].transpose(),columns = forms, index = notes)"
     ],
     "language": "python",
     "metadata": {},
     "outputs": [
      {
       "ename": "ValueError",
       "evalue": "Must pass 2-d input",
       "output_type": "pyerr",
       "traceback": [
        "\u001b[0;31m---------------------------------------------------------------------------\u001b[0m\n\u001b[0;31mValueError\u001b[0m                                Traceback (most recent call last)",
        "\u001b[0;32m<ipython-input-91-e878bc0a5e9a>\u001b[0m in \u001b[0;36m<module>\u001b[0;34m()\u001b[0m\n\u001b[0;32m----> 1\u001b[0;31m \u001b[0mf_proj\u001b[0m \u001b[0;34m=\u001b[0m \u001b[0mpd\u001b[0m\u001b[0;34m.\u001b[0m\u001b[0mDataFrame\u001b[0m\u001b[0;34m(\u001b[0m\u001b[0ma\u001b[0m\u001b[0;34m.\u001b[0m\u001b[0mecog_data\u001b[0m\u001b[0;34m(\u001b[0m\u001b[0;34m)\u001b[0m\u001b[0;34m[\u001b[0m\u001b[0;34m:\u001b[0m\u001b[0;34m,\u001b[0m\u001b[0mnp\u001b[0m\u001b[0;34m.\u001b[0m\u001b[0marange\u001b[0m\u001b[0;34m(\u001b[0m\u001b[0;36m85\u001b[0m\u001b[0;34m,\u001b[0m\u001b[0;36m95\u001b[0m\u001b[0;34m)\u001b[0m\u001b[0;34m,\u001b[0m\u001b[0;34m:\u001b[0m\u001b[0;34m]\u001b[0m\u001b[0;34m.\u001b[0m\u001b[0mtranspose\u001b[0m\u001b[0;34m(\u001b[0m\u001b[0;34m)\u001b[0m\u001b[0;34m,\u001b[0m\u001b[0mcolumns\u001b[0m \u001b[0;34m=\u001b[0m \u001b[0mforms\u001b[0m\u001b[0;34m,\u001b[0m \u001b[0mindex\u001b[0m \u001b[0;34m=\u001b[0m \u001b[0mnotes\u001b[0m\u001b[0;34m)\u001b[0m\u001b[0;34m\u001b[0m\u001b[0m\n\u001b[0m",
        "\u001b[0;32m/Users/david_conant/Library/Enthought/Canopy_64bit/User/lib/python2.7/site-packages/pandas/core/frame.pyc\u001b[0m in \u001b[0;36m__init__\u001b[0;34m(self, data, index, columns, dtype, copy)\u001b[0m\n\u001b[1;32m    237\u001b[0m             \u001b[0;32melse\u001b[0m\u001b[0;34m:\u001b[0m\u001b[0;34m\u001b[0m\u001b[0m\n\u001b[1;32m    238\u001b[0m                 mgr = self._init_ndarray(data, index, columns, dtype=dtype,\n\u001b[0;32m--> 239\u001b[0;31m                                          copy=copy)\n\u001b[0m\u001b[1;32m    240\u001b[0m         \u001b[0;32melif\u001b[0m \u001b[0misinstance\u001b[0m\u001b[0;34m(\u001b[0m\u001b[0mdata\u001b[0m\u001b[0;34m,\u001b[0m \u001b[0;34m(\u001b[0m\u001b[0mlist\u001b[0m\u001b[0;34m,\u001b[0m \u001b[0mtypes\u001b[0m\u001b[0;34m.\u001b[0m\u001b[0mGeneratorType\u001b[0m\u001b[0;34m)\u001b[0m\u001b[0;34m)\u001b[0m\u001b[0;34m:\u001b[0m\u001b[0;34m\u001b[0m\u001b[0m\n\u001b[1;32m    241\u001b[0m             \u001b[0;32mif\u001b[0m \u001b[0misinstance\u001b[0m\u001b[0;34m(\u001b[0m\u001b[0mdata\u001b[0m\u001b[0;34m,\u001b[0m \u001b[0mtypes\u001b[0m\u001b[0;34m.\u001b[0m\u001b[0mGeneratorType\u001b[0m\u001b[0;34m)\u001b[0m\u001b[0;34m:\u001b[0m\u001b[0;34m\u001b[0m\u001b[0m\n",
        "\u001b[0;32m/Users/david_conant/Library/Enthought/Canopy_64bit/User/lib/python2.7/site-packages/pandas/core/frame.pyc\u001b[0m in \u001b[0;36m_init_ndarray\u001b[0;34m(self, values, index, columns, dtype, copy)\u001b[0m\n\u001b[1;32m    384\u001b[0m         \u001b[0;31m# by definition an array here\u001b[0m\u001b[0;34m\u001b[0m\u001b[0;34m\u001b[0m\u001b[0m\n\u001b[1;32m    385\u001b[0m         \u001b[0;31m# the dtypes will be coerced to a single dtype\u001b[0m\u001b[0;34m\u001b[0m\u001b[0;34m\u001b[0m\u001b[0m\n\u001b[0;32m--> 386\u001b[0;31m         \u001b[0mvalues\u001b[0m \u001b[0;34m=\u001b[0m \u001b[0m_prep_ndarray\u001b[0m\u001b[0;34m(\u001b[0m\u001b[0mvalues\u001b[0m\u001b[0;34m,\u001b[0m \u001b[0mcopy\u001b[0m\u001b[0;34m=\u001b[0m\u001b[0mcopy\u001b[0m\u001b[0;34m)\u001b[0m\u001b[0;34m\u001b[0m\u001b[0m\n\u001b[0m\u001b[1;32m    387\u001b[0m \u001b[0;34m\u001b[0m\u001b[0m\n\u001b[1;32m    388\u001b[0m         \u001b[0;32mif\u001b[0m \u001b[0mdtype\u001b[0m \u001b[0;32mis\u001b[0m \u001b[0;32mnot\u001b[0m \u001b[0mNone\u001b[0m\u001b[0;34m:\u001b[0m\u001b[0;34m\u001b[0m\u001b[0m\n",
        "\u001b[0;32m/Users/david_conant/Library/Enthought/Canopy_64bit/User/lib/python2.7/site-packages/pandas/core/frame.pyc\u001b[0m in \u001b[0;36m_prep_ndarray\u001b[0;34m(values, copy)\u001b[0m\n\u001b[1;32m   4843\u001b[0m         \u001b[0mvalues\u001b[0m \u001b[0;34m=\u001b[0m \u001b[0mvalues\u001b[0m\u001b[0;34m.\u001b[0m\u001b[0mreshape\u001b[0m\u001b[0;34m(\u001b[0m\u001b[0;34m(\u001b[0m\u001b[0mvalues\u001b[0m\u001b[0;34m.\u001b[0m\u001b[0mshape\u001b[0m\u001b[0;34m[\u001b[0m\u001b[0;36m0\u001b[0m\u001b[0;34m]\u001b[0m\u001b[0;34m,\u001b[0m \u001b[0;36m1\u001b[0m\u001b[0;34m)\u001b[0m\u001b[0;34m)\u001b[0m\u001b[0;34m\u001b[0m\u001b[0m\n\u001b[1;32m   4844\u001b[0m     \u001b[0;32melif\u001b[0m \u001b[0mvalues\u001b[0m\u001b[0;34m.\u001b[0m\u001b[0mndim\u001b[0m \u001b[0;34m!=\u001b[0m \u001b[0;36m2\u001b[0m\u001b[0;34m:\u001b[0m\u001b[0;34m\u001b[0m\u001b[0m\n\u001b[0;32m-> 4845\u001b[0;31m         \u001b[0;32mraise\u001b[0m \u001b[0mValueError\u001b[0m\u001b[0;34m(\u001b[0m\u001b[0;34m'Must pass 2-d input'\u001b[0m\u001b[0;34m)\u001b[0m\u001b[0;34m\u001b[0m\u001b[0m\n\u001b[0m\u001b[1;32m   4846\u001b[0m \u001b[0;34m\u001b[0m\u001b[0m\n\u001b[1;32m   4847\u001b[0m     \u001b[0;32mreturn\u001b[0m \u001b[0mvalues\u001b[0m\u001b[0;34m\u001b[0m\u001b[0m\n",
        "\u001b[0;31mValueError\u001b[0m: Must pass 2-d input"
       ]
      }
     ],
     "prompt_number": 91
    },
    {
     "cell_type": "code",
     "collapsed": false,
     "input": [
      "a.ecog_data()[:,np.arange(85,95),:].transpose()"
     ],
     "language": "python",
     "metadata": {},
     "outputs": [
      {
       "metadata": {},
       "output_type": "pyout",
       "prompt_number": 95,
       "text": [
        "array([[[  107.4,   575.3,  1429.5,  2425. ,  3332.1],\n",
        "        [  108.4,   574.3,  1404.2,  2508.5,  3363.8],\n",
        "        [  104.4,   525.5,  1574. ,  2485.6,  3167.1],\n",
        "        ..., \n",
        "        [  100. ,   671. ,  1605.8,  2635.5,  3489.7],\n",
        "        [  103.1,   747.4,  1630.2,  2607.7,  3534.7],\n",
        "        [  104.7,   773.2,  1648.8,  2620.8,  3424. ]],\n",
        "\n",
        "       [[    0. ,   456.5,  1398.5,  2496. ,  3199.2],\n",
        "        [    0. ,   850.3,  1551.7,  2612.5,  3391.3],\n",
        "        [    0. ,   789. ,  1435.6,  2555.7,  3345.2],\n",
        "        ..., \n",
        "        [    0. ,   386. ,  1480.3,  2516.7,  3427.7],\n",
        "        [    0. ,   498.5,  1393.2,  2474.9,  3443.5],\n",
        "        [    0. ,   509. ,  1486. ,  2539.6,  3288.3]],\n",
        "\n",
        "       [[    0. ,   527. ,  1492.4,  2534.5,  3249.8],\n",
        "        [    0. ,   623.9,  1483.5,  2605.2,  3361.7],\n",
        "        [  146.3,   578.9,  1516.5,  2588. ,  3375.9],\n",
        "        ..., \n",
        "        [    0. ,   515.6,  1346.1,  2411.7,  3268.3],\n",
        "        [    0. ,   530. ,  1493.8,  2359.6,  3320.5],\n",
        "        [    0. ,   758. ,  1773.7,  2424.9,  3338.7]],\n",
        "\n",
        "       ..., \n",
        "       [[    0. ,   309.8,  1521.4,  2561.2,  3117. ],\n",
        "        [   73.6,   339.3,  1496.2,  2509.6,  3133.5],\n",
        "        [    0. ,   332.4,  1444.7,  2642.6,  3194.4],\n",
        "        ..., \n",
        "        [    0. ,   327. ,  1467.8,  2710.6,  3279.2],\n",
        "        [    0. ,   295.5,  1628.5,  2631.1,  3388.5],\n",
        "        [    0. ,   316.2,  1601. ,  2567.7,  3284.2]],\n",
        "\n",
        "       [[    0. ,   352.4,  1621. ,  2683. ,  3385.7],\n",
        "        [    0. ,   322.4,  1496.4,  2602.1,  3250.9],\n",
        "        [    0. ,   333.1,  1578.8,  2556.7,  3201.1],\n",
        "        ..., \n",
        "        [    0. ,   334.4,  1409.8,  2632.4,  3141.8],\n",
        "        [    0. ,   313.2,  1426.6,  2675.4,  3271.5],\n",
        "        [    0. ,   314.1,  1433.4,  2625.5,  3364.5]],\n",
        "\n",
        "       [[    0. ,   317.6,  1448.5,  2523.3,  3211.1],\n",
        "        [    0. ,   313.7,  1384.1,  2579.2,  3224.6],\n",
        "        [    0. ,   337.6,  1467.6,  2587. ,  3206.1],\n",
        "        ..., \n",
        "        [    0. ,   307.2,  1527.9,  2645.9,  3282. ],\n",
        "        [    0. ,   324.2,  1435.5,  2561.1,  3180.1],\n",
        "        [    0. ,   354.3,  1450. ,  2508.7,  3134.8]]])"
       ]
      }
     ],
     "prompt_number": 95
    },
    {
     "cell_type": "code",
     "collapsed": false,
     "input": [
      "    ax1.set_xlabel('Formant MDS1')\n",
      "    ax1.set_ylabel('Formant MDS2')\n",
      "    for n in np.unique(d.index):\n",
      "        ax.append(text(pos_f[n,0],pos_f[n,1],n)"
     ],
     "language": "python",
     "metadata": {},
     "outputs": [],
     "prompt_number": 7
    },
    {
     "cell_type": "code",
     "collapsed": false,
     "input": [
      "enumerate(zip(f_ranges,e_ranges))"
     ],
     "language": "python",
     "metadata": {},
     "outputs": [
      {
       "metadata": {},
       "output_type": "pyout",
       "prompt_number": 77,
       "text": [
        "<enumerate at 0x11497aeb0>"
       ]
      }
     ],
     "prompt_number": 77
    },
    {
     "cell_type": "code",
     "collapsed": false,
     "input": [],
     "language": "python",
     "metadata": {},
     "outputs": []
    }
   ],
   "metadata": {}
  }
 ]
}