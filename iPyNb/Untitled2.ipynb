{
 "metadata": {
  "name": "",
  "signature": "sha256:e5325f3ee17d5d1624be1782235b1b4701872708eb3adf99a2ae366380bb6523"
 },
 "nbformat": 3,
 "nbformat_minor": 0,
 "worksheets": [
  {
   "cells": [
    {
     "cell_type": "markdown",
     "metadata": {},
     "source": [
      "for a speaker\n",
      "-behavioral scatter plots with kinematics and acoustics\n",
      "-**Categorical ERP in as many subjects as possible**\n",
      "    -What is each electrode doing\n",
      "-Neural Spaces vs Kinematic and Acoustic Spaces\n",
      "-trial by trial variability\n",
      "-preparation and planning\n",
      "    -raster of single trial erps from stimulus to go cue to execution\n"
     ]
    },
    {
     "cell_type": "code",
     "collapsed": false,
     "input": [],
     "language": "python",
     "metadata": {},
     "outputs": []
    }
   ],
   "metadata": {}
  }
 ]
}