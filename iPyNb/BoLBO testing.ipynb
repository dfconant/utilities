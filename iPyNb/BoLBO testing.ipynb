{
 "metadata": {
  "name": "",
  "signature": "sha256:4b40b25fc0b90d91722b38efe8ee48a1f0f342eddb500f7d5620765d3f6fd472"
 },
 "nbformat": 3,
 "nbformat_minor": 0,
 "worksheets": [
  {
   "cells": [
    {
     "cell_type": "code",
     "collapsed": false,
     "input": [
      "#Intitialize\n",
      "%load_ext autoreload\n",
      "%autoreload 2\n",
      "%matplotlib inline\n",
      "import scipy as sp\n",
      "import scipy.stats as stats\n",
      "import numpy as np\n",
      "from sklearn.cross_validation import train_test_split, LeaveOneOut, LeaveOneLabelOut, ShuffleSplit\n",
      "from sklearn.decomposition import PCA\n",
      "from sklearn.lda import LDA\n",
      "from sklearn.linear_model import Lars, Ridge\n",
      "import pandas as pd\n",
      "import pdb\n",
      "import prettyplotlib as ppl\n",
      "from BDutils import ProgressBar, moving_average\n",
      "from scipy.signal import savgol_filter\n",
      "import seaborn as sns\n",
      "import matplotlib.gridspec as gridspec\n",
      "from ECoGstats import makeD_multi, process_kin, shuffle_df, smooth_formants, Ridge_MLR, Ds2Xy, smooth_derivative,ClusterSeparability\n",
      "from ecog_viz import LDA_proj_scatter, gestural_score, separability_timecourse,feature_correlations,vowel_svm\n",
      "from __future__ import division\n",
      "from matplotlib.backends.backend_agg import (FigureCanvasAgg as FigureCanvas)\n",
      "from scipy.stats import mstats\n",
      "from BoLASSO_BgdOLS import BoLASSO_BgdOLS as BoLBO"
     ],
     "language": "python",
     "metadata": {},
     "outputs": [],
     "prompt_number": 6
    },
    {
     "cell_type": "markdown",
     "metadata": {},
     "source": [
      "Create hdf5 data groups"
     ]
    },
    {
     "cell_type": "code",
     "collapsed": false,
     "input": [
      "#Neural Decoding\n",
      "subj = 'EC41'\n",
      "blocks = [19,20,22,27]\n",
      "elects = [21,25,35,37,43,53,55,58,59,67,72,73,86,90,102]\n",
      "pth = '/Users/david_conant/Dropbox/Vowels/'+subj + '/'\n",
      "savpth = pth + 'BoLBO_out/out' \n",
      "tokens = ['AAA','IYY','UWW','AEE','AHH','EHH','ERR','IHH','UHH']\n",
      "#tokens = ['AAA','IYY','UWW']\n",
      "window = np.array([-0.5,0.5])\n",
      "[E,anat,stop_times,start_times] = makeD_multi(pth,blocks,tokens,align_window = window, dtype='HG')\n",
      "Es = [E[d] for d in tokens]\n",
      "[K,anat,stop_times,start_times] = makeD_multi(pth,blocks,tokens,align_window = window, dtype='kin')\n",
      "Ks = [K[d].copy() for d in tokens]\n",
      "stops = [stop_times[d] for d in tokens]\n",
      "starts = [start_times[d] for d in tokens]\n",
      "Ks = process_kin(Ks,stops,starts,window,numTongue=3, norm_length=True, velocity = False, wrt_start=True)\n",
      "\n",
      "CV = 'split'\n",
      "boot = 100\n",
      "ncomp = 8\n",
      "alphas = np.logspace(0,10,20)\n",
      "Kr2 = np.empty((Ks[0].shape[0],boot,200,len(alphas)))\n",
      "Kr2null = np.empty((Ks[0].shape[0],boot,200,len(alphas)))\n",
      "prog = ProgressBar(200)\n",
      "for indt,t in enumerate(np.linspace(0,396,200)):\n",
      "    erange = np.arange(t,t+4)   \n",
      "\n",
      "    #Organize data into X and y\n",
      "    X,y,yrnd = Ds2Xy(Es,Ks,dt1='HG',dt2='kin',ncomp = ncomp,erange = erange.astype(int),elects = elects,frange=np.arange(55,65),krange=np.arange(22,25))\n",
      "    for feat in range(y.shape[1]):\n",
      "        outpth = savpth+str(indt)+'_'+str(feat)\n",
      "        BoLBO(X,y[:,feat],name=outpth)\n",
      "    prog.animate(indt)"
     ],
     "language": "python",
     "metadata": {},
     "outputs": []
    },
    {
     "cell_type": "code",
     "collapsed": false,
     "input": [
      "y.shape[2]"
     ],
     "language": "python",
     "metadata": {},
     "outputs": [
      {
       "ename": "IndexError",
       "evalue": "tuple index out of range",
       "output_type": "pyerr",
       "traceback": [
        "\u001b[0;31m---------------------------------------------------------------------------\u001b[0m\n\u001b[0;31mIndexError\u001b[0m                                Traceback (most recent call last)",
        "\u001b[0;32m<ipython-input-16-19ccfa0bae7c>\u001b[0m in \u001b[0;36m<module>\u001b[0;34m()\u001b[0m\n\u001b[0;32m----> 1\u001b[0;31m \u001b[0my\u001b[0m\u001b[0;34m.\u001b[0m\u001b[0mshape\u001b[0m\u001b[0;34m[\u001b[0m\u001b[0;36m2\u001b[0m\u001b[0;34m]\u001b[0m\u001b[0;34m\u001b[0m\u001b[0m\n\u001b[0m",
        "\u001b[0;31mIndexError\u001b[0m: tuple index out of range"
       ]
      }
     ],
     "prompt_number": 16
    },
    {
     "cell_type": "code",
     "collapsed": false,
     "input": [
      "y.shape"
     ],
     "language": "python",
     "metadata": {},
     "outputs": [
      {
       "metadata": {},
       "output_type": "pyout",
       "prompt_number": 13,
       "text": [
        "(57, 10)"
       ]
      }
     ],
     "prompt_number": 13
    },
    {
     "cell_type": "code",
     "collapsed": false,
     "input": [],
     "language": "python",
     "metadata": {},
     "outputs": []
    }
   ],
   "metadata": {}
  }
 ]
}