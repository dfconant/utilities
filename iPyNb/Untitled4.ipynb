{
 "metadata": {
  "name": "",
  "signature": "sha256:8456615daf55abf01476dc06cbf2a7e56d5c98a02d852b2770fc8a718590649d"
 },
 "nbformat": 3,
 "nbformat_minor": 0,
 "worksheets": [
  {
   "cells": [
    {
     "cell_type": "code",
     "collapsed": false,
     "input": [],
     "language": "python",
     "metadata": {},
     "outputs": []
    },
    {
     "cell_type": "code",
     "collapsed": false,
     "input": [],
     "language": "python",
     "metadata": {},
     "outputs": []
    },
    {
     "cell_type": "code",
     "collapsed": false,
     "input": [],
     "language": "python",
     "metadata": {},
     "outputs": []
    },
    {
     "cell_type": "code",
     "collapsed": false,
     "input": [
      "#Intitialize\n",
      "%load_ext autoreload\n",
      "%autoreload 2\n",
      "%matplotlib inline\n",
      "import scipy as sp\n",
      "import numpy as np\n",
      "import sklearn as skl\n",
      "from sklearn.pipeline import make_pipeline\n",
      "from sklearn.cross_validation import cross_val_score\n",
      "from sklearn.preprocessing import StandardScaler\n",
      "from sklearn import datasets\n",
      "from sklearn.linear_model import LinearRegression\n",
      "from sklearn.linear_model import Ridge\n",
      "from sklearn.cross_validation import train_test_split, LeaveOneOut\n",
      "import seaborn as sns\n",
      "from ECoGstats import makeD_multi, smooth_formants\n",
      "from sklearn.decomposition import PCA\n",
      "import pandas as pd\n",
      "import prettyplotlib as ppl\n",
      "import pdb\n",
      "from BDutils import ProgressBar\n",
      "from scipy.signal import savgol_filter"
     ],
     "language": "python",
     "metadata": {},
     "outputs": [
      {
       "output_type": "stream",
       "stream": "stdout",
       "text": [
        "The autoreload extension is already loaded. To reload it, use:\n",
        "  %reload_ext autoreload\n"
       ]
      }
     ],
     "prompt_number": 3
    },
    {
     "cell_type": "code",
     "collapsed": false,
     "input": [
      "#LOOCV\n",
      "pth = '/Users/david_conant/Documents/EC41/'\n",
      "blocks = [19,20,22,27]\n",
      "tokens = ['AAA','IYY','UWW']\n",
      "window = np.array([-1, 1])\n",
      "[E,anat,stop_times,start_times] = makeD_multi(pth,blocks,tokens,align_window = window, dtype='HG')\n",
      "Es = [E[d] for d in tokens]\n",
      "\n",
      "window = np.array([-1, 1])\n",
      "[F,anat,stop_times,start_times] = makeD_multi(pth,blocks,tokens,align_window = window, dtype='form')\n",
      "Fs = [F[d] for d in tokens]\n",
      "stops = [stop_times[d] for d in tokens]\n",
      "starts = [start_times[d] for d in tokens]\n",
      "Fs = smooth_formants(Fs,starts,stops,window)\n",
      "#[R2,R2ste,snsR2,best_alphas,best_times,yhat] = formant_ridge_decode_timecourse(Es,Fs,tokens,anat)\n",
      "#plt.pcolor(R2[:,5,:])\n",
      "#plt.colorbar()"
     ],
     "language": "python",
     "metadata": {},
     "outputs": [
      {
       "output_type": "stream",
       "stream": "stdout",
       "text": [
        "File found; Loading...\n",
        "Loaded"
       ]
      },
      {
       "output_type": "stream",
       "stream": "stdout",
       "text": [
        "\n",
        "File found; Loading...\n",
        "Loaded\n"
       ]
      }
     ],
     "prompt_number": 4
    },
    {
     "cell_type": "code",
     "collapsed": false,
     "input": [
      "#def formant_ridge_decode_timecourse(Es,Fs,tokens,anat,alphas = np.tile(np.logspace(2,10,10),(6,1))):\n",
      "#Trial labels\n",
      "alphas = np.tile(np.logspace(-10,10,100),(6,1))\n",
      "notes = []\n",
      "for ind,n in enumerate(tokens):\n",
      "    notes.append([n]*Fs[ind].shape[2])\n",
      "notes = np.concatenate(notes,axis=1)\n",
      "#Feature labels\n",
      "forms = ['F0','F1','F2','F3','F4']\n",
      "chans = np.arange(1,256)\n",
      "#Anatomy\n",
      "vSMC = np.concatenate((np.where(anat=='preCG')[0],np.where(anat=='postCG')[0]))\n",
      "\n",
      "#Formants = central 20% of each vowel utterance \n",
      "mid = np.arange(105,115)\n",
      "Fall = np.concatenate(Fs,axis=2)\n",
      "dat = dict(zip(forms,np.nanmean(Fall[:,mid,:],axis = 1)))\n",
      "#dat['label'] = notes\n",
      "Fmid = pd.DataFrame.from_dict(dat)\n",
      "Fmid = Fmid.fillna(Fmid.median(),inplace=True)\n",
      "F2_1 = pd.Series(Fmid['F2']/Fmid['F1'],name = 'F2/F1')\n",
      "y = pd.concat((Fmid,F2_1),axis=1)\n",
      "#y.apply(np.log10,axis = 0)\n",
      "y = (y - y.mean())/y.std(ddof=0)\n",
      "\n",
      "\n",
      "#Rolling average of vSMC HG   \n",
      "centers = np.round(np.linspace(150,600,num = 75))     #10 ms window. From -650 to 500\n",
      "half_width = 10\n",
      "Ebins = [None]*centers.shape[0]\n",
      "Eall = np.concatenate(Es,axis=2)\n",
      "Eall = Eall[vSMC,:,:]\n",
      "\n",
      "\n",
      "\n",
      "boot = 10\n",
      "r2 = np.empty((len(Ebins),y.shape[1],alphas.shape[1]))\n",
      "R2 = np.empty((len(Ebins),y.shape[1],alphas.shape[1]))\n",
      "R2ste = np.empty((len(Ebins),y.shape[1],alphas.shape[1]))\n",
      "prog = ProgressBar(len(centers))\n",
      "yhat = np.empty((y.shape))\n",
      "for ind,cent in enumerate(centers.astype(int)):\n",
      "    erange = np.arange(cent-half_width,cent+half_width)\n",
      "    X = np.nanmean(Eall[:,erange,:],axis = 1).transpose()\n",
      "    X = pd.DataFrame(X)\n",
      "    X = X.fillna(X.median(),inplace=True)\n",
      "    X = X.dropna(axis =1,how='any')\n",
      "\n",
      "    for inda,alph in enumerate(alphas.transpose()):\n",
      "        loo = LeaveOneOut(X.shape[0])\n",
      "        for train_index, test_index in loo:\n",
      "            X_train, X_test = X.iloc[train_index,:], X.iloc[test_index,:]\n",
      "            y_train, y_test = y.iloc[train_index,:], y.iloc[test_index,:]\n",
      "            #Ridge Regression\n",
      "            for c,f in enumerate(y.columns.values):\n",
      "                clf = Ridge(alpha = alph[c], fit_intercept = False, normalize = True)   \n",
      "                clf.fit(X_train,y_train.loc[:,f])\n",
      "\n",
      "                #B = clf.coef_\n",
      "                yhat[test_index,c] = clf.predict(X_test)\n",
      "\n",
      "                #r = sp.stats.pearsonr(yhat[test_index,c],y_test.loc[:,f])[0]\n",
      "                #r2[test_index,ind,c,inda] = r**2\n",
      "                #r2[b,t,c] = clf.score(X_test,y_test.loc[:,f])  \n",
      "\n",
      "        for c,f in enumerate(y.columns.values):\n",
      "            r = sp.stats.pearsonr(yhat[:,c],y.loc[:,f])[0]\n",
      "            r2[ind,c,inda] = r**2\n",
      "        #R2[ind,:,inda] = np.mean(r2[:,ind,:,inda],axis = 0)\n",
      "        #R2ste[ind,:,inda] = np.std(r2[:,ind,:,inda],axis = 0)/boot\n",
      "    prog.animate(ind)\n",
      "\n",
      "#Best performing \n",
      "best_times = centers[np.argmax(np.nanmean(R2,axis = 2),axis = 0)]\n",
      "best_alphas = alphas[0,np.argmax(np.nanmean(R2,axis = 0),axis = 1)]\n",
      "\n",
      "#return R2,R2ste,r2,best_alphas,best_times,yhat"
     ],
     "language": "python",
     "metadata": {},
     "outputs": [
      {
       "output_type": "stream",
       "stream": "stdout",
       "text": [
        "\r",
        " [                       0%                       ]"
       ]
      },
      {
       "output_type": "stream",
       "stream": "stdout",
       "text": [
        "\r",
        " [                       1%                       ]  1 of 75 complete"
       ]
      },
      {
       "output_type": "stream",
       "stream": "stdout",
       "text": [
        "\r",
        " [*                      3%                       ]  2 of 75 complete"
       ]
      },
      {
       "output_type": "stream",
       "stream": "stdout",
       "text": [
        "\r",
        " [**                     4%                       ]  3 of 75 complete"
       ]
      },
      {
       "output_type": "stream",
       "stream": "stdout",
       "text": [
        "\r",
        " [**                     5%                       ]  4 of 75 complete"
       ]
      },
      {
       "output_type": "stream",
       "stream": "stdout",
       "text": [
        "\r",
        " [***                    7%                       ]  5 of 75 complete"
       ]
      },
      {
       "output_type": "stream",
       "stream": "stdout",
       "text": [
        "\r",
        " [****                   8%                       ]  6 of 75 complete"
       ]
      },
      {
       "output_type": "stream",
       "stream": "stdout",
       "text": [
        "\r",
        " [****                   9%                       ]  7 of 75 complete"
       ]
      },
      {
       "output_type": "stream",
       "stream": "stdout",
       "text": [
        "\r",
        " [*****                 11%                       ]  8 of 75 complete"
       ]
      },
      {
       "output_type": "stream",
       "stream": "stdout",
       "text": [
        "\r",
        " [******                12%                       ]  9 of 75 complete"
       ]
      },
      {
       "output_type": "stream",
       "stream": "stdout",
       "text": [
        "\r",
        " [******                13%                       ]  10 of 75 complete"
       ]
      },
      {
       "output_type": "stream",
       "stream": "stdout",
       "text": [
        "\r",
        " [*******               15%                       ]  11 of 75 complete"
       ]
      },
      {
       "output_type": "stream",
       "stream": "stdout",
       "text": [
        "\r",
        " [********              16%                       ]  12 of 75 complete"
       ]
      },
      {
       "output_type": "stream",
       "stream": "stdout",
       "text": [
        "\r",
        " [********              17%                       ]  13 of 75 complete"
       ]
      },
      {
       "output_type": "stream",
       "stream": "stdout",
       "text": [
        "\r",
        " [*********             19%                       ]  14 of 75 complete"
       ]
      },
      {
       "output_type": "stream",
       "stream": "stdout",
       "text": [
        "\r",
        " [**********            20%                       ]  15 of 75 complete"
       ]
      },
      {
       "output_type": "stream",
       "stream": "stdout",
       "text": [
        "\r",
        " [**********            21%                       ]  16 of 75 complete"
       ]
      },
      {
       "output_type": "stream",
       "stream": "stdout",
       "text": [
        "\r",
        " [***********           23%                       ]  17 of 75 complete"
       ]
      },
      {
       "output_type": "stream",
       "stream": "stdout",
       "text": [
        "\r",
        " [************          24%                       ]  18 of 75 complete"
       ]
      },
      {
       "output_type": "stream",
       "stream": "stdout",
       "text": [
        "\r",
        " [************          25%                       ]  19 of 75 complete"
       ]
      },
      {
       "output_type": "stream",
       "stream": "stdout",
       "text": [
        "\r",
        " [*************         27%                       ]  20 of 75 complete"
       ]
      },
      {
       "output_type": "stream",
       "stream": "stdout",
       "text": [
        "\r",
        " [*************         28%                       ]  21 of 75 complete"
       ]
      },
      {
       "output_type": "stream",
       "stream": "stdout",
       "text": [
        "\r",
        " [**************        29%                       ]  22 of 75 complete"
       ]
      },
      {
       "output_type": "stream",
       "stream": "stdout",
       "text": [
        "\r",
        " [***************       31%                       ]  23 of 75 complete"
       ]
      },
      {
       "output_type": "stream",
       "stream": "stdout",
       "text": [
        "\r",
        " [***************       32%                       ]  24 of 75 complete"
       ]
      },
      {
       "output_type": "stream",
       "stream": "stdout",
       "text": [
        "\r",
        " [****************      33%                       ]  25 of 75 complete"
       ]
      },
      {
       "output_type": "stream",
       "stream": "stdout",
       "text": [
        "\r",
        " [*****************     35%                       ]  26 of 75 complete"
       ]
      },
      {
       "output_type": "stream",
       "stream": "stdout",
       "text": [
        "\r",
        " [*****************     36%                       ]  27 of 75 complete"
       ]
      },
      {
       "output_type": "stream",
       "stream": "stdout",
       "text": [
        "\r",
        " [******************    37%                       ]  28 of 75 complete"
       ]
      },
      {
       "output_type": "stream",
       "stream": "stdout",
       "text": [
        "\r",
        " [*******************   39%                       ]  29 of 75 complete"
       ]
      },
      {
       "output_type": "stream",
       "stream": "stdout",
       "text": [
        "\r",
        " [*******************   40%                       ]  30 of 75 complete"
       ]
      },
      {
       "output_type": "stream",
       "stream": "stdout",
       "text": [
        "\r",
        " [********************  41%                       ]  31 of 75 complete"
       ]
      },
      {
       "output_type": "stream",
       "stream": "stdout",
       "text": [
        "\r",
        " [********************* 43%                       ]  32 of 75 complete"
       ]
      },
      {
       "output_type": "stream",
       "stream": "stdout",
       "text": [
        "\r",
        " [********************* 44%                       ]  33 of 75 complete"
       ]
      },
      {
       "output_type": "stream",
       "stream": "stdout",
       "text": [
        "\r",
        " [**********************45%                       ]  34 of 75 complete"
       ]
      },
      {
       "output_type": "stream",
       "stream": "stdout",
       "text": [
        "\r",
        " [**********************47%                       ]  35 of 75 complete"
       ]
      },
      {
       "output_type": "stream",
       "stream": "stdout",
       "text": [
        "\r",
        " [**********************48%                       ]  36 of 75 complete"
       ]
      },
      {
       "output_type": "stream",
       "stream": "stdout",
       "text": [
        "\r",
        " [**********************49%                       ]  37 of 75 complete"
       ]
      },
      {
       "output_type": "stream",
       "stream": "stdout",
       "text": [
        "\r",
        " [**********************51%                       ]  38 of 75 complete"
       ]
      },
      {
       "output_type": "stream",
       "stream": "stdout",
       "text": [
        "\r",
        " [**********************52%                       ]  39 of 75 complete"
       ]
      },
      {
       "output_type": "stream",
       "stream": "stdout",
       "text": [
        "\r",
        " [**********************53%                       ]  40 of 75 complete"
       ]
      },
      {
       "output_type": "stream",
       "stream": "stdout",
       "text": [
        "\r",
        " [**********************55%*                      ]  41 of 75 complete"
       ]
      },
      {
       "output_type": "stream",
       "stream": "stdout",
       "text": [
        "\r",
        " [**********************56%**                     ]  42 of 75 complete"
       ]
      },
      {
       "output_type": "stream",
       "stream": "stdout",
       "text": [
        "\r",
        " [**********************57%**                     ]  43 of 75 complete"
       ]
      },
      {
       "output_type": "stream",
       "stream": "stdout",
       "text": [
        "\r",
        " [**********************59%***                    ]  44 of 75 complete"
       ]
      },
      {
       "output_type": "stream",
       "stream": "stdout",
       "text": [
        "\r",
        " [**********************60%****                   ]  45 of 75 complete"
       ]
      },
      {
       "output_type": "stream",
       "stream": "stdout",
       "text": [
        "\r",
        " [**********************61%****                   ]  46 of 75 complete"
       ]
      },
      {
       "output_type": "stream",
       "stream": "stdout",
       "text": [
        "\r",
        " [**********************63%*****                  ]  47 of 75 complete"
       ]
      },
      {
       "output_type": "stream",
       "stream": "stdout",
       "text": [
        "\r",
        " [**********************64%******                 ]  48 of 75 complete"
       ]
      },
      {
       "output_type": "stream",
       "stream": "stdout",
       "text": [
        "\r",
        " [**********************65%******                 ]  49 of 75 complete"
       ]
      },
      {
       "output_type": "stream",
       "stream": "stdout",
       "text": [
        "\r",
        " [**********************67%*******                ]  50 of 75 complete"
       ]
      },
      {
       "output_type": "stream",
       "stream": "stdout",
       "text": [
        "\r",
        " [**********************68%********               ]  51 of 75 complete"
       ]
      },
      {
       "output_type": "stream",
       "stream": "stdout",
       "text": [
        "\r",
        " [**********************69%********               ]  52 of 75 complete"
       ]
      },
      {
       "output_type": "stream",
       "stream": "stdout",
       "text": [
        "\r",
        " [**********************71%*********              ]  53 of 75 complete"
       ]
      },
      {
       "output_type": "stream",
       "stream": "stdout",
       "text": [
        "\r",
        " [**********************72%**********             ]  54 of 75 complete"
       ]
      },
      {
       "output_type": "stream",
       "stream": "stdout",
       "text": [
        "\r",
        " [**********************73%**********             ]  55 of 75 complete"
       ]
      },
      {
       "output_type": "stream",
       "stream": "stdout",
       "text": [
        "\r",
        " [**********************75%***********            ]  56 of 75 complete"
       ]
      },
      {
       "output_type": "stream",
       "stream": "stdout",
       "text": [
        "\r",
        " [**********************76%***********            ]  57 of 75 complete"
       ]
      },
      {
       "output_type": "stream",
       "stream": "stdout",
       "text": [
        "\r",
        " [**********************77%************           ]  58 of 75 complete"
       ]
      },
      {
       "output_type": "stream",
       "stream": "stdout",
       "text": [
        "\r",
        " [**********************79%*************          ]  59 of 75 complete"
       ]
      },
      {
       "output_type": "stream",
       "stream": "stdout",
       "text": [
        "\r",
        " [**********************80%*************          ]  60 of 75 complete"
       ]
      },
      {
       "output_type": "stream",
       "stream": "stdout",
       "text": [
        "\r",
        " [**********************81%**************         ]  61 of 75 complete"
       ]
      },
      {
       "output_type": "stream",
       "stream": "stdout",
       "text": [
        "\r",
        " [**********************83%***************        ]  62 of 75 complete"
       ]
      },
      {
       "output_type": "stream",
       "stream": "stdout",
       "text": [
        "\r",
        " [**********************84%***************        ]  63 of 75 complete"
       ]
      },
      {
       "output_type": "stream",
       "stream": "stdout",
       "text": [
        "\r",
        " [**********************85%****************       ]  64 of 75 complete"
       ]
      },
      {
       "output_type": "stream",
       "stream": "stdout",
       "text": [
        "\r",
        " [**********************87%*****************      ]  65 of 75 complete"
       ]
      },
      {
       "output_type": "stream",
       "stream": "stdout",
       "text": [
        "\r",
        " [**********************88%*****************      ]  66 of 75 complete"
       ]
      },
      {
       "output_type": "stream",
       "stream": "stdout",
       "text": [
        "\r",
        " [**********************89%******************     ]  67 of 75 complete"
       ]
      },
      {
       "output_type": "stream",
       "stream": "stdout",
       "text": [
        "\r",
        " [**********************91%*******************    ]  68 of 75 complete"
       ]
      },
      {
       "output_type": "stream",
       "stream": "stdout",
       "text": [
        "\r",
        " [**********************92%*******************    ]  69 of 75 complete"
       ]
      },
      {
       "output_type": "stream",
       "stream": "stdout",
       "text": [
        "\r",
        " [**********************93%********************   ]  70 of 75 complete"
       ]
      },
      {
       "output_type": "stream",
       "stream": "stdout",
       "text": [
        "\r",
        " [**********************95%*********************  ]  71 of 75 complete"
       ]
      },
      {
       "output_type": "stream",
       "stream": "stdout",
       "text": [
        "\r",
        " [**********************96%*********************  ]  72 of 75 complete"
       ]
      },
      {
       "output_type": "stream",
       "stream": "stdout",
       "text": [
        "\r",
        " [**********************97%********************** ]  73 of 75 complete"
       ]
      },
      {
       "output_type": "stream",
       "stream": "stdout",
       "text": [
        "\r",
        " [**********************99%***********************]  74 of 75 complete"
       ]
      }
     ],
     "prompt_number": 8
    },
    {
     "cell_type": "code",
     "collapsed": false,
     "input": [
      "clf = Ridge(alpha = .000001, fit_intercept = False, normalize = True)   \n",
      "clf.fit(X_train,y_train.loc[:,'F1'])\n",
      "\n",
      "#B = clf.coef_\n",
      "clf.predict(X_test)"
     ],
     "language": "python",
     "metadata": {},
     "outputs": [
      {
       "metadata": {},
       "output_type": "pyout",
       "prompt_number": 55,
       "text": [
        "array([-1.01172095])"
       ]
      }
     ],
     "prompt_number": 55
    },
    {
     "cell_type": "code",
     "collapsed": false,
     "input": [
      "X_train.shape"
     ],
     "language": "python",
     "metadata": {},
     "outputs": [
      {
       "metadata": {},
       "output_type": "pyout",
       "prompt_number": 86,
       "text": [
        "(56, 85)"
       ]
      }
     ],
     "prompt_number": 86
    },
    {
     "cell_type": "code",
     "collapsed": false,
     "input": [
      "plt.pcolor(r2[:,5,])\n",
      "plt.colorbar()"
     ],
     "language": "python",
     "metadata": {},
     "outputs": [
      {
       "metadata": {},
       "output_type": "pyout",
       "prompt_number": 12,
       "text": [
        "<matplotlib.colorbar.Colorbar instance at 0x1201fcc68>"
       ]
      },
      {
       "metadata": {},
       "output_type": "display_data",
       "png": "[encoded data removed]",
       "text": [
        "<matplotlib.figure.Figure at 0x10be11890>"
       ]
      }
     ],
     "prompt_number": 12
    },
    {
     "cell_type": "code",
     "collapsed": false,
     "input": [
      "loo = LeaveOneOut(X.shape[0])\n",
      "for train_index, test_index in loo:\n",
      "    X_train, X_test = X.iloc[train_index,:], X.iloc[test_index,:]\n",
      "    y_train, y_test = y.iloc[train_index,:], y.iloc[test_index,:]\n",
      "    #Ridge Regression\n",
      "    for c,f in enumerate(y.columns.values):\n",
      "        clf = Ridge(alpha = .000001, fit_intercept = False, normalize = True)   \n",
      "        clf.fit(X_train,y_train.loc[:,f])\n",
      "\n",
      "        #B = clf.coef_\n",
      "        yhat[test_index,c] = clf.predict(X_test)[0]\n",
      "\n",
      "for c,f in enumerate(y.columns.values):\n",
      "    r = sp.stats.pearsonr(yhat[:,c],y.loc[:,f])[0]\n",
      "    r2[test_index,ind,c,inda] = r**2\n",
      "#R2[ind,:,inda] = np.mean(r2[:,ind,:,inda],axis = 0)\n",
      "#R2ste[ind,:,inda] = np.std(r2[:,ind,:,inda],axis = 0)/boot"
     ],
     "language": "python",
     "metadata": {},
     "outputs": [],
     "prompt_number": 79
    },
    {
     "cell_type": "code",
     "collapsed": false,
     "input": [
      "yhat[test_index,c][0]"
     ],
     "language": "python",
     "metadata": {},
     "outputs": [
      {
       "metadata": {},
       "output_type": "pyout",
       "prompt_number": 71,
       "text": [
        "0.85474362743660426"
       ]
      }
     ],
     "prompt_number": 71
    },
    {
     "cell_type": "code",
     "collapsed": false,
     "input": [
      "y_test.loc[:,f]"
     ],
     "language": "python",
     "metadata": {},
     "outputs": [
      {
       "metadata": {},
       "output_type": "pyout",
       "prompt_number": 62,
       "text": [
        "56   -0.336121\n",
        "Name: F2/F1, dtype: float64"
       ]
      }
     ],
     "prompt_number": 62
    },
    {
     "cell_type": "code",
     "collapsed": false,
     "input": [
      "sp.stats.pearsonr(yhat[test_index,c],y_test.loc[:,f].values)"
     ],
     "language": "python",
     "metadata": {},
     "outputs": [
      {
       "metadata": {},
       "output_type": "pyout",
       "prompt_number": 78,
       "text": [
        "(nan, nan)"
       ]
      }
     ],
     "prompt_number": 78
    },
    {
     "cell_type": "code",
     "collapsed": false,
     "input": [
      "yhat[test_index,c][0]"
     ],
     "language": "python",
     "metadata": {},
     "outputs": [
      {
       "metadata": {},
       "output_type": "pyout",
       "prompt_number": 72,
       "text": [
        "0.85474362743660426"
       ]
      }
     ],
     "prompt_number": 72
    },
    {
     "cell_type": "code",
     "collapsed": false,
     "input": [
      "r"
     ],
     "language": "python",
     "metadata": {},
     "outputs": [
      {
       "metadata": {},
       "output_type": "pyout",
       "prompt_number": 80,
       "text": [
        "0.10633909753657753"
       ]
      }
     ],
     "prompt_number": 80
    },
    {
     "cell_type": "code",
     "collapsed": false,
     "input": [],
     "language": "python",
     "metadata": {},
     "outputs": [],
     "prompt_number": 0
    },
    {
     "cell_type": "code",
     "collapsed": false,
     "input": [
      "def formant_ridge_decode_timepoint(Es,Fs,tokens,anat,alphas = best_alphas,timepoint = 448):\n",
      "    \n",
      "    #Trial labels\n",
      "    notes = []\n",
      "    for ind,n in enumerate(tokens):\n",
      "        notes.append([n]*Fs[ind].shape[2])\n",
      "    notes = np.concatenate(notes,axis=1)\n",
      "    #Feature labels\n",
      "    forms = ['F0','F1','F2','F3','F4']\n",
      "    chans = np.arange(1,256)\n",
      "    #Anatomy\n",
      "    vSMC = np.concatenate((np.where(anat=='preCG')[0],np.where(anat=='postCG')[0]))\n",
      "\n",
      "    #Formants = central 20% of each vowel utterance \n",
      "    mid = np.arange(105,115)\n",
      "    Fall = np.concatenate(Fs,axis=2)\n",
      "    dat = dict(zip(forms,np.nanmean(Fall[:,mid,:],axis = 1)))\n",
      "    #dat['label'] = notes\n",
      "    Fmid = pd.DataFrame.from_dict(dat)\n",
      "    Fmid = Fmid.fillna(Fmid.median(),inplace=True)\n",
      "    F2_1 = pd.Series(Fmid['F2']/Fmid['F1'],name = 'F2/F1')\n",
      "    y = pd.concat((Fmid,F2_1),axis=1)\n",
      "    #y.apply(np.log10,axis = 0)\n",
      "    y = (y - y.mean())/y.std(ddof=0)\n",
      "\n",
      "\n",
      "    #Rolling average of vSMC HG   \n",
      "    centers = np.round(np.linspace(150,600,num = 75))     #10 ms window. From -650 to 100\n",
      "    half_width = 10\n",
      "    Ebins = [None]*centers.shape[0]\n",
      "    Eall = np.concatenate(Es,axis=2)\n",
      "    Eall = Eall[vSMC,:,:]\n",
      "\n",
      "\n",
      "\n",
      "    boot = 50\n",
      "    r2 = np.empty((boot,y.shape[1],alphas.shape[1]))\n",
      "    R2 = np.empty((y.shape[1],alphas.shape[1]))\n",
      "    R2ste = np.empty((y.shape[1],alphas.shape[1]))\n",
      "    #prog = ProgressBar(len(centers))\n",
      "    yhat = pd.DataFrame(index=[1], columns=y.columns)\n",
      "    #for ind,cent in enumerate(centers.astype(int)):\n",
      "    erange = np.arange(timepoint-half_width,timepoint+half_width)\n",
      "    X = np.nanmean(Eall[:,erange,:],axis = 1).transpose()\n",
      "    X = pd.DataFrame(X)\n",
      "    X = X.fillna(X.median(),inplace=True)\n",
      "    X = X.dropna(axis =1,how='any')\n",
      "\n",
      "    for inda,alph in enumerate(alphas.transpose()):\n",
      "        for b in range(boot):\n",
      "\n",
      "            X_train, X_test, y_train, y_test = train_test_split(\n",
      "                X, y, test_size=0.2)\n",
      "\n",
      "            #Ridge Regression\n",
      "            for c,f in enumerate(y.columns.values):\n",
      "                clf = Ridge(alpha = alph[c], fit_intercept = False, normalize = True)   \n",
      "                clf.fit(X_train,y_train.loc[:,f])\n",
      "\n",
      "                #B = clf.coef_\n",
      "\n",
      "\n",
      "                yh = pd.DataFrame(clf.predict(X_test),index = y_test.index,columns = [f])\n",
      "                yhat = yhat.append(yh)\n",
      "\n",
      "                r = sp.stats.pearsonr(np.squeeze(yh.values),y_test.loc[:,f].values)[0]\n",
      "                r2[b,c,inda] = r**2\n",
      "                #r2[b,t,c] = clf.score(X_test,y_test.loc[:,f])  \n",
      "\n",
      "\n",
      "        R2[:,inda] = np.mean(r2[:,:,inda],axis = 0)\n",
      "        R2ste[:,inda] = np.std(r2[:,:,inda],axis = 0)/boot\n",
      "        #prog.animate(ind)\n",
      "\n",
      "    #Best performing \n",
      "    #best_times = centers[np.argmax(np.nanmean(R2,axis = 2),axis = 0)]\n",
      "    #best_alphas = alphas[0,np.argmax(np.nanmean(R2,axis = 0),axis = 1)]\n",
      "    '''\n",
      "    for c,f in enumerate(y.columns.values):\n",
      "        erange = np.arange(best_times[c]-half_width,best_times[c]+half_width)\n",
      "        X = np.nanmean(Eall[:,erange,:],axis = 1).transpose()\n",
      "        X = pd.DataFrame(X)\n",
      "        X = X.fillna(e.median(),inplace=True)\n",
      "        X = X.dropna(axis =1,how='any')\n",
      "        for b in range(boot):\n",
      "            X_train, X_test, y_train, y_test = train_test_split(\n",
      "                X, y, test_size=0.2)\n",
      "                clf = Ridge(alpha = best_alphas[c], fit_intercept = False, normalize = True)   \n",
      "                clf.fit(X_train,y_train.loc[:,f])\n",
      "                yhat = clf.predict(X_test)\n",
      "\n",
      "\n",
      "\n",
      "    sns.jointplot(\"\", \"Y\", data, kind=\"hex\");\n",
      "\n",
      "\n",
      "    ##Plot it\n",
      "    #Targets in F1 v F2\n",
      "    fig = plt.figure(figsize = (20,10))\n",
      "    gs1 = gridspec.GridSpec(2,4)\n",
      "    for cnt,f in enumerate(Fs):\n",
      "        ppl.scatter(np.nanmean(f[1,mid,:],axis = 0),np.nanmean(f[2,mid,:],axis = 0), alpha = 1, s=60)\n",
      "    plt.xlabel('F1')\n",
      "    plt.ylabel('F2')\n",
      "    ppl.legend(tokens, bbox_to_anchor=(1, 1))\n",
      "    plt.title('Actual v Predicted F1 v F2')\n",
      "    '''\n",
      "\n",
      "    return R2,R2ste,r2"
     ],
     "language": "python",
     "metadata": {},
     "outputs": [],
     "prompt_number": 48
    },
    {
     "cell_type": "code",
     "collapsed": false,
     "input": [
      "pth = '/Users/david_conant/Documents/EC41/'\n",
      "blocks = [19,20,22,27]\n",
      "tokens = ['AAA','AEE','AHH','EHH','ERR','IHH','IYY','UHH','UWW']\n",
      "window = np.array([-1, 1])\n",
      "[E,anat,stop_times,start_times] = makeD_multi(pth,blocks,tokens,align_window = window, dtype='HG')\n",
      "Es = [E[d] for d in tokens]\n",
      "\n",
      "window = np.array([-1, 1])\n",
      "[F,anat,stop_times,start_times] = makeD_multi(pth,blocks,tokens,align_window = window, dtype='form')\n",
      "Fs = [F[d] for d in tokens]\n",
      "stops = [stop_times[d] for d in tokens]\n",
      "starts = [start_times[d] for d in tokens]\n",
      "Fs = smooth_formants(Fs,starts,stops,window)\n",
      "[R2,R2ste,snsR2] = formant_ridge_decode_timepoint(Es,Fs,tokens,anat,alphas = np.tile(np.logspace(2,10,50),(6,1)))\n",
      "plt.pcolor(R2)\n",
      "plt.colorbar()"
     ],
     "language": "python",
     "metadata": {},
     "outputs": [
      {
       "output_type": "stream",
       "stream": "stdout",
       "text": [
        "File found; Loading...\n",
        "Loaded"
       ]
      },
      {
       "output_type": "stream",
       "stream": "stdout",
       "text": [
        "\n",
        "File found; Loading...\n",
        "Loaded\n"
       ]
      },
      {
       "metadata": {},
       "output_type": "pyout",
       "prompt_number": 52,
       "text": [
        "<matplotlib.colorbar.Colorbar instance at 0x11eb37908>"
       ]
      },
      {
       "metadata": {},
       "output_type": "display_data",
       "png": "[encoded data removed]",
       "text": [
        "<matplotlib.figure.Figure at 0x11e89efd0>"
       ]
      }
     ],
     "prompt_number": 52
    },
    {
     "cell_type": "code",
     "collapsed": false,
     "input": [
      "plt.pcolor(R2)\n",
      "plt.colorbar()"
     ],
     "language": "python",
     "metadata": {},
     "outputs": [
      {
       "metadata": {},
       "output_type": "pyout",
       "prompt_number": 51,
       "text": [
        "<matplotlib.colorbar.Colorbar instance at 0x11e84ecb0>"
       ]
      },
      {
       "metadata": {},
       "output_type": "display_data",
       "png": "[encoded data removed]",
       "text": [
        "<matplotlib.figure.Figure at 0x11ea5c650>"
       ]
      }
     ],
     "prompt_number": 51
    },
    {
     "cell_type": "code",
     "collapsed": false,
     "input": [
      "best_alphas"
     ],
     "language": "python",
     "metadata": {},
     "outputs": [
      {
       "metadata": {},
       "output_type": "pyout",
       "prompt_number": 32,
       "text": [
        "array([  3.08884360e+02,   3.08884360e+02,   8.28642773e+05,\n",
        "         1.75751062e+06,   1.32571137e+04,   8.28642773e+05])"
       ]
      }
     ],
     "prompt_number": 32
    },
    {
     "cell_type": "code",
     "collapsed": false,
     "input": [
      "centers[49]"
     ],
     "language": "python",
     "metadata": {},
     "outputs": [
      {
       "metadata": {},
       "output_type": "pyout",
       "prompt_number": 35,
       "text": [
        "448.0"
       ]
      }
     ],
     "prompt_number": 35
    },
    {
     "cell_type": "code",
     "collapsed": false,
     "input": [
      "150+448"
     ],
     "language": "python",
     "metadata": {},
     "outputs": [
      {
       "metadata": {},
       "output_type": "pyout",
       "prompt_number": 40,
       "text": [
        "598"
       ]
      }
     ],
     "prompt_number": 40
    },
    {
     "cell_type": "code",
     "collapsed": false,
     "input": [
      "centers"
     ],
     "language": "python",
     "metadata": {},
     "outputs": [
      {
       "metadata": {},
       "output_type": "pyout",
       "prompt_number": 41,
       "text": [
        "array([ 150.,  156.,  162.,  168.,  174.,  180.,  186.,  193.,  199.,\n",
        "        205.,  211.,  217.,  223.,  229.,  235.,  241.,  247.,  253.,\n",
        "        259.,  266.,  272.,  278.,  284.,  290.,  296.,  302.,  308.,\n",
        "        314.,  320.,  326.,  332.,  339.,  345.,  351.,  357.,  363.,\n",
        "        369.,  375.,  381.,  387.,  393.,  399.,  405.,  411.,  418.,\n",
        "        424.,  430.,  436.,  442.,  448.,  454.,  460.,  466.,  472.,\n",
        "        478.,  484.,  491.,  497.,  503.,  509.,  515.,  521.,  527.,\n",
        "        533.,  539.,  545.,  551.,  557.,  564.,  570.,  576.,  582.,\n",
        "        588.,  594.,  600.])"
       ]
      }
     ],
     "prompt_number": 41
    },
    {
     "cell_type": "code",
     "collapsed": false,
     "input": [],
     "language": "python",
     "metadata": {},
     "outputs": []
    }
   ],
   "metadata": {}
  }
 ]
}