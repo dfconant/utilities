{
 "metadata": {
  "name": "",
  "signature": "sha256:5209d1b03f91cdfb6400b5393c43827b3cbec8b6242cb474fe547af8c2507258"
 },
 "nbformat": 3,
 "nbformat_minor": 0,
 "worksheets": [
  {
   "cells": [
    {
     "cell_type": "code",
     "collapsed": false,
     "input": [
      "#TODO "
     ],
     "language": "python",
     "metadata": {},
     "outputs": []
    },
    {
     "cell_type": "code",
     "collapsed": false,
     "input": [
      "%load_ext autoreload\n",
      "%autoreload 2\n",
      "from ECoGstats import makeD_multi, smooth_formants, smooth_warp_formants, process_kin, normalize_contour_length\n",
      "import seaborn as sns\n",
      "import prettyplotlib as ppl\n",
      "from matplotlib.backends.backend_agg import (FigureCanvasAgg as FigureCanvas)\n",
      "from scipy.signal import savgol_filter\n",
      "import pandas as pd\n",
      "from BDutils import ProgressBar, resample_array, smart_toeplitz, smooth_derivative\n",
      "from sklearn.cross_validation import train_test_split\n",
      "from sklearn.decomposition import PCA\n",
      "from sklearn.lda import LDA\n",
      "from sklearn.linear_model import Ridge\n",
      "import scipy.stats as stats\n",
      "import matplotlib.gridspec as gridspec"
     ],
     "language": "python",
     "metadata": {},
     "outputs": [
      {
       "output_type": "stream",
       "stream": "stdout",
       "text": [
        "The autoreload extension is already loaded. To reload it, use:\n",
        "  %reload_ext autoreload\n"
       ]
      }
     ],
     "prompt_number": 142
    },
    {
     "cell_type": "code",
     "collapsed": false,
     "input": [
      "def Ridge_MLR(X,y,alpha,CV = 'split',boot=200,notes=None,Xtest=None,ytest=None):\n",
      "    r2 = np.empty((y.shape[1],boot))\n",
      "    score = np.empty((y.shape[1],boot))\n",
      "    yhat = np.empty((y.shape))\n",
      "    cnt = 0\n",
      "    for b in range(boot):\n",
      "        if CV is 'split':\n",
      "                X_train, X_test, y_train, y_test = train_test_split(X, y, test_size=0.2)\n",
      "                for c in range(y.shape[1]):\n",
      "                    clf = Ridge(alpha = alpha)\n",
      "                    \n",
      "                    clf.fit(X_train,y_train[:,c])\n",
      "                    yhat = clf.predict(X_test)\n",
      "                    score[c,b] = clf.score(X_test,y_test[:,c])\n",
      "                    r = stats.pearsonr(yhat,y_test[:,c])[0]\n",
      "                    r2[c,b] = r**2\n",
      "        elif CV is 'LOLO':\n",
      "            #trialLabel = np.tile(np.arange(y.shape[0]/3),3)\n",
      "            trialLabel = range(y.shape[0])\n",
      "            lol = LeaveOneLabelOut(trialLabel)\n",
      "            for c in range(y.shape[1]):\n",
      "                for train_index, test_index in lol:\n",
      "                    clf = Ridge(alpha = alpha)\n",
      "                    #pdb.set_trace()\n",
      "                    clf.fit(X[train_index,:],y[train_index,c])\n",
      "                    yhat[test_index,c] = clf.predict(X[test_index,:])\n",
      "                    #score[c,b] = clf.score(X[train_index,:],y[train_index,c])\n",
      "                    \n",
      "                r = stats.pearsonr(yhat[:,c],y[:,c])[0]\n",
      "                r2[c,b] = r**2\n",
      "                \n",
      "        elif CV is 'split aiu':\n",
      "            aiu = [i for i, x in enumerate(notes[0]) if x == \"AAA\" or notes == 'IYY' or notes == 'UWW']\n",
      "            X_aiu = X[aiu]\n",
      "            y_aiu = y[aiu]\n",
      "            X_train_aiu, X_test, y_train_aiu, y_test = train_test_split(X[aiu], y[aiu], test_size=0.2)\n",
      "            X_train = np.concatenate((X[~aiu],X_train_aiu),axis=0)\n",
      "            y_train = np.concatenate((y[~aiu],y_train_aiu),axis=0)\n",
      "            \n",
      "            for c in range(y.shape[1]):\n",
      "                clf = Ridge(alpha = alpha)\n",
      "                \n",
      "                clf.fit(X_train,y_train[:,c])\n",
      "                yhat = clf.predict(X_test)\n",
      "                score[c,b] = clf.score(X_test,y_test[:,c])\n",
      "                r = stats.pearsonr(yhat,y_test[:,c])[0]\n",
      "                r2[c,b] = r**2\n",
      "        elif CV is 'split unseen':\n",
      "            for v in np.unique(notes):\n",
      "                thisvow = [i for i, x in enumerate(notes[0]) if x == v]\n",
      "                X_train = X[~thisvow]\n",
      "                X_test = Xtest[thisvow]\n",
      "                y_train = y[~thisvow]\n",
      "                y_test = ytest[thisvow]\n",
      "                pdb.set_trace()\n",
      "                for c in range(y.shape[1]):\n",
      "                    clf = Ridge(alpha = alpha)\n",
      "\n",
      "                    clf.fit(X_train,y_train[:,c])\n",
      "                    yhat = clf.predict(X_test)\n",
      "                    score[c,b] = clf.score(X_test,y_test[:,c])\n",
      "                    r = stats.pearsonr(yhat,y_test[:,c])[0]\n",
      "                    r2[c,cnt] = r**2\n",
      "                cnt = cnt+1\n",
      "            \n",
      "    return np.squeeze(r2), yhat, score"
     ],
     "language": "python",
     "metadata": {},
     "outputs": [],
     "prompt_number": 75
    },
    {
     "cell_type": "code",
     "collapsed": false,
     "input": [
      "pth = '/Users/david_conant/Dropbox/Vowels/EC41/'\n",
      "blocks = [19,20,22,27]\n",
      "tokens = ['AAA','IYY','UWW','AEE','AHH','EHH','ERR','IHH','UHH']\n",
      "feats = ['Front Tongue X','Mid Tongue X', 'Back Tongue X','Front Tongue Y','Mid Tongue Y',\n",
      "         'Back Tongue Y']\n",
      "\n",
      "## Generate Data\n",
      "# Electrodes\n",
      "window = np.array([-1.5,1.5])   #TODO: try wider window for more timepoints\n",
      "[E,anat,stop_times,start_times] = makeD_multi(pth,blocks,tokens,align_window = window, dtype='HG')\n",
      "Es = [E[d] for d in tokens]\n",
      "vSMC = np.concatenate((np.where(anat=='preCG')[0],np.where(anat=='postCG')[0]))\n",
      "Eall = np.concatenate(Es,axis=2)\n",
      "Eall = resample_array(Eall,[Eall.shape[0],np.diff(window)*100,Eall.shape[2]])\n",
      "#Eall = np.reshape(Eall,(Eall.shape[0],-1),order='F').transpose()\n",
      "#tmp = pd.DataFrame(Eall[:,vSMC])\n",
      "#tmp = tmp.fillna(tmp.median(),inplace=True)\n",
      "#tmp = tmp.dropna(axis =1,how='any')\n",
      "#vSMC_HG = tmp.values\n",
      "#nchans = resp.shape[1]\n",
      "\n",
      "#Kinematics\n",
      "window = np.array([-1,1.5])   #TODO: try wider window for more timepoints\n",
      "[K,anat,stop_times,start_times] = makeD_multi(pth,blocks,tokens,dtype='kin',align_window = window)\n",
      "Ks = [K[d] for d in tokens]\n",
      "stops = [stop_times[d] for d in tokens]\n",
      "starts = [start_times[d] for d in tokens]\n",
      "Ks = process_kin(Ks,stops,starts,window,numTongue=5,wrt_start=True,norm_length=False)\n",
      "Kall = np.concatenate(Ks,axis=2)\n",
      "#Velocity\n",
      "#for n in range(Kall.shape[2]):\n",
      "#    Kall[:,:-1,n] = np.array([smooth_derivative(Kall[f,:,n],3) for f in range(Kall.shape[0])])\n",
      "#np.delete(Kall,[Kall.shape[1]-1],1)\n",
      "Kall = resample_array(Kall,[Kall.shape[0],np.diff(window)*100,Kall.shape[2]])\n",
      "tmp = np.reshape(Kall,(Kall.shape[0],-1),order='F').transpose()\n",
      "tmp = pd.DataFrame(tmp)\n",
      "tmp = tmp.fillna(tmp.median(),inplace=True)\n",
      "Kinematics = tmp.values\n",
      "#clf = PCA(n_components=5)\n",
      "#Kinematics = clf.fit_transform(Kinematics)\n",
      "\n",
      "#Formants\n",
      "window = np.array([-1,1.5])   #TODO: try wider window for more timepoints\n",
      "[F,anat,stop_times,start_times] = makeD_multi(pth,blocks,tokens,dtype='form',align_window = window)\n",
      "Fs = [F[d] for d in tokens]\n",
      "stops = [stop_times[d] for d in tokens]\n",
      "starts = [start_times[d] for d in tokens]\n",
      "Fs = smooth_formants(Fs,stops,starts,window)\n",
      "Fall = np.concatenate(Fs,axis=2)\n",
      "Fall = resample_array(Fall,[Fall.shape[0],np.diff(window)*100,Fall.shape[2]])\n",
      "tmp = np.reshape(Fall,(Fall.shape[0],-1),order='F').transpose()\n",
      "tmp = pd.DataFrame(tmp)\n",
      "tmp = tmp.fillna(tmp.median(),inplace=True)\n",
      "Formants = tmp.values\n",
      "#clf = PCA(n_components=3)\n",
      "#Formants = clf.fit_transform(Formants)\n"
     ],
     "language": "python",
     "metadata": {},
     "outputs": [
      {
       "output_type": "stream",
       "stream": "stdout",
       "text": [
        "File found; Loading...\n",
        "Loaded"
       ]
      },
      {
       "output_type": "stream",
       "stream": "stdout",
       "text": [
        "\n",
        "File found; Loading..."
       ]
      },
      {
       "output_type": "stream",
       "stream": "stdout",
       "text": [
        "\n",
        "Loaded"
       ]
      },
      {
       "output_type": "stream",
       "stream": "stdout",
       "text": [
        "\n",
        "File found; Loading..."
       ]
      },
      {
       "output_type": "stream",
       "stream": "stdout",
       "text": [
        "\n",
        "Loaded\n"
       ]
      }
     ],
     "prompt_number": 211
    },
    {
     "cell_type": "code",
     "collapsed": false,
     "input": [
      "pth = '/Users/david_conant/Dropbox/Vowels/EC41/'\n",
      "blocks = [19,20,22,27]\n",
      "tokens = ['HAWED','HEED','WHOOD','HAD','HUD','HEAD','HEARD','HID','HOOD']\n",
      "feats = ['Front Tongue X','Mid Tongue X', 'Back Tongue X','Front Tongue Y','Mid Tongue Y',\n",
      "         'Back Tongue Y']\n",
      "\n",
      "## Generate Data\n",
      "# Electrodes\n",
      "window = np.array([-1,.5])   #TODO: try wider window for more timepoints\n",
      "[E,anat,stop_times,start_times] = makeD_multi(pth,blocks,tokens,align_window = window, dtype='HG')\n",
      "Es = [E[d] for d in tokens]\n",
      "vSMC = np.concatenate((np.where(anat=='preCG')[0],np.where(anat=='postCG')[0]))\n",
      "Eall = np.concatenate(Es,axis=2)\n",
      "Eall = resample_array(Eall,[Eall.shape[0],np.diff(window)*100,Eall.shape[2]])\n",
      "#Eall = np.reshape(Eall,(Eall.shape[0],-1),order='F').transpose()\n",
      "#tmp = pd.DataFrame(Eall[:,vSMC])\n",
      "#tmp = tmp.fillna(tmp.median(),inplace=True)\n",
      "#tmp = tmp.dropna(axis =1,how='any')\n",
      "#vSMC_HG = tmp.values\n",
      "#nchans = resp.shape[1]\n",
      "\n",
      "#Kinematics\n",
      "window = np.array([-.5,.5])   #TODO: try wider window for more timepoints\n",
      "[K,anat,stop_times,start_times] = makeD_multi(pth,blocks,tokens,dtype='kin',align_window = window)\n",
      "Ks = [K[d] for d in tokens]\n",
      "stops = [stop_times[d] for d in tokens]\n",
      "starts = [start_times[d] for d in tokens]\n",
      "Ks = process_kin(Ks,stops,starts,window,numTongue=5,wrt_start=False,norm_length=False)\n",
      "Kall = np.concatenate(Ks,axis=2)\n",
      "#Velocity\n",
      "#for n in range(Kall.shape[2]):\n",
      "#    Kall[:,:-1,n] = np.array([smooth_derivative(Kall[f,:,n],3) for f in range(Kall.shape[0])])\n",
      "#np.delete(Kall,[Kall.shape[1]-1],1)\n",
      "Kall = resample_array(Kall,[Kall.shape[0],np.diff(window)*100,Kall.shape[2]])\n",
      "tmp = np.reshape(Kall,(Kall.shape[0],-1),order='F').transpose()\n",
      "tmp = pd.DataFrame(tmp)\n",
      "tmp = tmp.fillna(tmp.median(),inplace=True)\n",
      "Kinematics = tmp.values\n",
      "#clf = PCA(n_components=5)\n",
      "#Kinematics = clf.fit_transform(Kinematics)\n",
      "\n",
      "#Formants\n",
      "window = np.array([-.5,.5])   #TODO: try wider window for more timepoints\n",
      "[F,anat,stop_times,start_times] = makeD_multi(pth,blocks,tokens,dtype='form',align_window = window)\n",
      "Fs = [F[d] for d in tokens]\n",
      "stops = [stop_times[d] for d in tokens]\n",
      "starts = [start_times[d] for d in tokens]\n",
      "Fs = smooth_formants(Fs,stops,starts,window)\n",
      "Fall = np.concatenate(Fs,axis=2)\n",
      "Fall = resample_array(Fall,[Fall.shape[0],np.diff(window)*100,Fall.shape[2]])\n",
      "tmp = np.reshape(Fall,(Fall.shape[0],-1),order='F').transpose()\n",
      "tmp = pd.DataFrame(tmp)\n",
      "tmp = tmp.fillna(tmp.median(),inplace=True)\n",
      "Formants = tmp.values\n",
      "#clf = PCA(n_components=3)\n",
      "#Formants = clf.fit_transform(Formants)\n"
     ],
     "language": "python",
     "metadata": {},
     "outputs": []
    },
    {
     "cell_type": "code",
     "collapsed": false,
     "input": [
      "pth = '/Users/david_conant/Dropbox/Vowels/EC34/'\n",
      "blocks = [19,21,32,34,36]\n",
      "tokens = ['AAA','IYY','UWW','AEE','AHH','EHH','ERR','IHH','UHH']\n",
      "feats = ['Front Tongue X','Mid Tongue X', 'Back Tongue X','Front Tongue Y','Mid Tongue Y',\n",
      "         'Back Tongue Y']\n",
      "\n",
      "## Generate Data\n",
      "# Electrodes\n",
      "window = np.array([-1,.5])   #TODO: try wider window for more timepoints\n",
      "[E,anat,stop_times,start_times] = makeD_multi(pth,blocks,tokens,align_window = window, dtype='HG')\n",
      "Es = [E[d] for d in tokens]\n",
      "vSMC = np.concatenate((np.where(anat=='preCG')[0],np.where(anat=='postCG')[0]))\n",
      "Eall = np.concatenate(Es,axis=2)\n",
      "Eall = resample_array(Eall,[Eall.shape[0],np.diff(window)*100,Eall.shape[2]])\n",
      "#Eall = np.reshape(Eall,(Eall.shape[0],-1),order='F').transpose()\n",
      "#tmp = pd.DataFrame(Eall[:,vSMC])\n",
      "#tmp = tmp.fillna(tmp.median(),inplace=True)\n",
      "#tmp = tmp.dropna(axis =1,how='any')\n",
      "#vSMC_HG = tmp.values\n",
      "#nchans = resp.shape[1]\n",
      "\n",
      "#Kinematics\n",
      "window = np.array([-.5,.5])   #TODO: try wider window for more timepoints\n",
      "[K,anat,stop_times,start_times] = makeD_multi(pth,blocks,tokens,dtype='kin',align_window = window)\n",
      "Ks = [K[d] for d in tokens]\n",
      "stops = [stop_times[d] for d in tokens]\n",
      "starts = [start_times[d] for d in tokens]\n",
      "Ks = process_kin(Ks,stops,starts,window)\n",
      "Kall = np.concatenate(Ks,axis=2)\n",
      "Kall = resample_array(Kall,[Kall.shape[0],np.diff(window)*100,Kall.shape[2]])\n",
      "tmp = np.reshape(Kall,(Kall.shape[0],-1),order='F').transpose()\n",
      "tmp = pd.DataFrame(tmp)\n",
      "tmp = tmp.fillna(tmp.median(),inplace=True)\n",
      "Kinematics = tmp.values\n",
      "#clf = PCA(n_components=5)\n",
      "#Kinematics = clf.fit_transform(Kinematics)\n",
      "\n",
      "#Formants\n",
      "window = np.array([-.5,.5])   #TODO: try wider window for more timepoints\n",
      "[F,anat,stop_times,start_times] = makeD_multi(pth,blocks,tokens,dtype='form',align_window = window)\n",
      "Fs = [F[d] for d in tokens]\n",
      "stops = [stop_times[d] for d in tokens]\n",
      "starts = [start_times[d] for d in tokens]\n",
      "Fs = smooth_formants(Fs,stops,starts,window)\n",
      "Fall = np.concatenate(Fs,axis=2)\n",
      "Fall = resample_array(Fall,[Fall.shape[0],np.diff(window)*100,Fall.shape[2]])\n",
      "tmp = np.reshape(Fall,(Fall.shape[0],-1),order='F').transpose()\n",
      "tmp = pd.DataFrame(tmp)\n",
      "tmp = tmp.fillna(tmp.median(),inplace=True)\n",
      "Formants = tmp.values\n",
      "#clf = PCA(n_components=3)\n",
      "#Formants = clf.fit_transform(Formants)\n"
     ],
     "language": "python",
     "metadata": {},
     "outputs": [
      {
       "output_type": "stream",
       "stream": "stdout",
       "text": [
        "Processing block 19\n",
        "Processing block 21"
       ]
      },
      {
       "output_type": "stream",
       "stream": "stdout",
       "text": [
        "\n",
        "Processing block 32"
       ]
      },
      {
       "output_type": "stream",
       "stream": "stdout",
       "text": [
        "\n",
        "Processing block 34"
       ]
      },
      {
       "output_type": "stream",
       "stream": "stdout",
       "text": [
        "\n"
       ]
      },
      {
       "ename": "KeyboardInterrupt",
       "evalue": "",
       "output_type": "pyerr",
       "traceback": [
        "\u001b[0;31m---------------------------------------------------------------------------\u001b[0m\n\u001b[0;31mKeyboardInterrupt\u001b[0m                         Traceback (most recent call last)",
        "\u001b[0;32m<ipython-input-194-500fe4680d5b>\u001b[0m in \u001b[0;36m<module>\u001b[0;34m()\u001b[0m\n\u001b[1;32m      8\u001b[0m \u001b[0;31m# Electrodes\u001b[0m\u001b[0;34m\u001b[0m\u001b[0;34m\u001b[0m\u001b[0m\n\u001b[1;32m      9\u001b[0m \u001b[0mwindow\u001b[0m \u001b[0;34m=\u001b[0m \u001b[0mnp\u001b[0m\u001b[0;34m.\u001b[0m\u001b[0marray\u001b[0m\u001b[0;34m(\u001b[0m\u001b[0;34m[\u001b[0m\u001b[0;34m-\u001b[0m\u001b[0;36m1\u001b[0m\u001b[0;34m,\u001b[0m\u001b[0;36m.5\u001b[0m\u001b[0;34m]\u001b[0m\u001b[0;34m)\u001b[0m   \u001b[0;31m#TODO: try wider window for more timepoints\u001b[0m\u001b[0;34m\u001b[0m\u001b[0m\n\u001b[0;32m---> 10\u001b[0;31m \u001b[0;34m[\u001b[0m\u001b[0mE\u001b[0m\u001b[0;34m,\u001b[0m\u001b[0manat\u001b[0m\u001b[0;34m,\u001b[0m\u001b[0mstop_times\u001b[0m\u001b[0;34m,\u001b[0m\u001b[0mstart_times\u001b[0m\u001b[0;34m]\u001b[0m \u001b[0;34m=\u001b[0m \u001b[0mmakeD_multi\u001b[0m\u001b[0;34m(\u001b[0m\u001b[0mpth\u001b[0m\u001b[0;34m,\u001b[0m\u001b[0mblocks\u001b[0m\u001b[0;34m,\u001b[0m\u001b[0mtokens\u001b[0m\u001b[0;34m,\u001b[0m\u001b[0malign_window\u001b[0m \u001b[0;34m=\u001b[0m \u001b[0mwindow\u001b[0m\u001b[0;34m,\u001b[0m \u001b[0mdtype\u001b[0m\u001b[0;34m=\u001b[0m\u001b[0;34m'HG'\u001b[0m\u001b[0;34m)\u001b[0m\u001b[0;34m\u001b[0m\u001b[0m\n\u001b[0m\u001b[1;32m     11\u001b[0m \u001b[0mEs\u001b[0m \u001b[0;34m=\u001b[0m \u001b[0;34m[\u001b[0m\u001b[0mE\u001b[0m\u001b[0;34m[\u001b[0m\u001b[0md\u001b[0m\u001b[0;34m]\u001b[0m \u001b[0;32mfor\u001b[0m \u001b[0md\u001b[0m \u001b[0;32min\u001b[0m \u001b[0mtokens\u001b[0m\u001b[0;34m]\u001b[0m\u001b[0;34m\u001b[0m\u001b[0m\n\u001b[1;32m     12\u001b[0m \u001b[0mvSMC\u001b[0m \u001b[0;34m=\u001b[0m \u001b[0mnp\u001b[0m\u001b[0;34m.\u001b[0m\u001b[0mconcatenate\u001b[0m\u001b[0;34m(\u001b[0m\u001b[0;34m(\u001b[0m\u001b[0mnp\u001b[0m\u001b[0;34m.\u001b[0m\u001b[0mwhere\u001b[0m\u001b[0;34m(\u001b[0m\u001b[0manat\u001b[0m\u001b[0;34m==\u001b[0m\u001b[0;34m'preCG'\u001b[0m\u001b[0;34m)\u001b[0m\u001b[0;34m[\u001b[0m\u001b[0;36m0\u001b[0m\u001b[0;34m]\u001b[0m\u001b[0;34m,\u001b[0m\u001b[0mnp\u001b[0m\u001b[0;34m.\u001b[0m\u001b[0mwhere\u001b[0m\u001b[0;34m(\u001b[0m\u001b[0manat\u001b[0m\u001b[0;34m==\u001b[0m\u001b[0;34m'postCG'\u001b[0m\u001b[0;34m)\u001b[0m\u001b[0;34m[\u001b[0m\u001b[0;36m0\u001b[0m\u001b[0;34m]\u001b[0m\u001b[0;34m)\u001b[0m\u001b[0;34m)\u001b[0m\u001b[0;34m\u001b[0m\u001b[0m\n",
        "\u001b[0;32m/Users/david_conant/Dropbox/changrepo/python/datautils/ECoGstats.pyc\u001b[0m in \u001b[0;36mmakeD_multi\u001b[0;34m(pth, blocks, tokens, align_window, dtype)\u001b[0m\n\u001b[1;32m    387\u001b[0m                 \u001b[0mstart_times\u001b[0m\u001b[0;34m[\u001b[0m\u001b[0mthis_label\u001b[0m\u001b[0;34m]\u001b[0m \u001b[0;34m=\u001b[0m \u001b[0mnp\u001b[0m\u001b[0;34m.\u001b[0m\u001b[0mhstack\u001b[0m\u001b[0;34m(\u001b[0m\u001b[0;34m(\u001b[0m\u001b[0mstart_times\u001b[0m\u001b[0;34m[\u001b[0m\u001b[0mthis_label\u001b[0m\u001b[0;34m]\u001b[0m\u001b[0;34m,\u001b[0m\u001b[0mstart\u001b[0m\u001b[0;34m.\u001b[0m\u001b[0mastype\u001b[0m\u001b[0;34m(\u001b[0m\u001b[0mfloat\u001b[0m\u001b[0;34m)\u001b[0m\u001b[0;34m)\u001b[0m\u001b[0;34m)\u001b[0m \u001b[0;32mif\u001b[0m \u001b[0mstart_times\u001b[0m\u001b[0;34m[\u001b[0m\u001b[0mthis_label\u001b[0m\u001b[0;34m]\u001b[0m\u001b[0;34m.\u001b[0m\u001b[0msize\u001b[0m \u001b[0;32melse\u001b[0m \u001b[0mstart\u001b[0m\u001b[0;34m.\u001b[0m\u001b[0mastype\u001b[0m\u001b[0;34m(\u001b[0m\u001b[0mfloat\u001b[0m\u001b[0;34m)\u001b[0m\u001b[0;34m\u001b[0m\u001b[0m\n\u001b[1;32m    388\u001b[0m                 D[this_label] = np.dstack((D[this_label],run_makeD(blockpath,event_times,\n\u001b[0;32m--> 389\u001b[0;31m                         align_window,dt = dtype))) if D[this_label].size else run_makeD(blockpath,event_times,align_window,dt = dtype)\n\u001b[0m\u001b[1;32m    390\u001b[0m \u001b[0;34m\u001b[0m\u001b[0m\n\u001b[1;32m    391\u001b[0m         \u001b[0msave_table_file\u001b[0m\u001b[0;34m(\u001b[0m\u001b[0mfname\u001b[0m\u001b[0;34m,\u001b[0m\u001b[0mdict\u001b[0m\u001b[0;34m(\u001b[0m\u001b[0mD\u001b[0m\u001b[0;34m)\u001b[0m\u001b[0;34m)\u001b[0m\u001b[0;34m\u001b[0m\u001b[0m\n",
        "\u001b[0;32m/Users/david_conant/Dropbox/changrepo/python/datautils/ECoGstats.pyc\u001b[0m in \u001b[0;36mrun_makeD\u001b[0;34m(blockpath, times, t_window, dt, zscr)\u001b[0m\n\u001b[1;32m    327\u001b[0m         'kin' : kin}\n\u001b[1;32m    328\u001b[0m \u001b[0;34m\u001b[0m\u001b[0m\n\u001b[0;32m--> 329\u001b[0;31m     \u001b[0mD\u001b[0m \u001b[0;34m=\u001b[0m \u001b[0moptions\u001b[0m\u001b[0;34m[\u001b[0m\u001b[0mdt\u001b[0m\u001b[0;34m]\u001b[0m\u001b[0;34m(\u001b[0m\u001b[0;34m)\u001b[0m\u001b[0;34m\u001b[0m\u001b[0m\n\u001b[0m\u001b[1;32m    330\u001b[0m \u001b[0;34m\u001b[0m\u001b[0m\n\u001b[1;32m    331\u001b[0m     \u001b[0;32mreturn\u001b[0m \u001b[0mD\u001b[0m\u001b[0;34m\u001b[0m\u001b[0m\n",
        "\u001b[0;32m/Users/david_conant/Dropbox/changrepo/python/datautils/ECoGstats.pyc\u001b[0m in \u001b[0;36mHG\u001b[0;34m()\u001b[0m\n\u001b[1;32m    301\u001b[0m \u001b[0;34m\u001b[0m\u001b[0m\n\u001b[1;32m    302\u001b[0m         \u001b[0;32mif\u001b[0m \u001b[0mzscr\u001b[0m \u001b[0;32mis\u001b[0m \u001b[0;34m'whole'\u001b[0m\u001b[0;34m:\u001b[0m\u001b[0;34m\u001b[0m\u001b[0m\n\u001b[0;32m--> 303\u001b[0;31m             \u001b[0mhg\u001b[0m \u001b[0;34m=\u001b[0m \u001b[0mstats\u001b[0m\u001b[0;34m.\u001b[0m\u001b[0mzscore\u001b[0m\u001b[0;34m(\u001b[0m\u001b[0mhg\u001b[0m\u001b[0;34m,\u001b[0m\u001b[0;36m1\u001b[0m\u001b[0;34m)\u001b[0m\u001b[0;34m\u001b[0m\u001b[0m\n\u001b[0m\u001b[1;32m    304\u001b[0m         \u001b[0;32melif\u001b[0m \u001b[0mzscr\u001b[0m \u001b[0;32mis\u001b[0m \u001b[0;34m'30s'\u001b[0m\u001b[0;34m:\u001b[0m\u001b[0;34m\u001b[0m\u001b[0m\n\u001b[1;32m    305\u001b[0m             \u001b[0;32mfor\u001b[0m \u001b[0mt\u001b[0m \u001b[0;32min\u001b[0m \u001b[0mrange\u001b[0m\u001b[0;34m(\u001b[0m\u001b[0mhg\u001b[0m\u001b[0;34m.\u001b[0m\u001b[0mshape\u001b[0m\u001b[0;34m[\u001b[0m\u001b[0;36m1\u001b[0m\u001b[0;34m]\u001b[0m\u001b[0;34m)\u001b[0m\u001b[0;34m:\u001b[0m\u001b[0;34m\u001b[0m\u001b[0m\n",
        "\u001b[0;32m/Users/david_conant/Library/Enthought/Canopy_64bit/User/lib/python2.7/site-packages/scipy/stats/stats.pyc\u001b[0m in \u001b[0;36mzscore\u001b[0;34m(a, axis, ddof)\u001b[0m\n\u001b[1;32m   2032\u001b[0m     \u001b[0;32mif\u001b[0m \u001b[0maxis\u001b[0m \u001b[0;32mand\u001b[0m \u001b[0mmns\u001b[0m\u001b[0;34m.\u001b[0m\u001b[0mndim\u001b[0m \u001b[0;34m<\u001b[0m \u001b[0ma\u001b[0m\u001b[0;34m.\u001b[0m\u001b[0mndim\u001b[0m\u001b[0;34m:\u001b[0m\u001b[0;34m\u001b[0m\u001b[0m\n\u001b[1;32m   2033\u001b[0m         return ((a - np.expand_dims(mns, axis=axis)) /\n\u001b[0;32m-> 2034\u001b[0;31m                  np.expand_dims(sstd,axis=axis))\n\u001b[0m\u001b[1;32m   2035\u001b[0m     \u001b[0;32melse\u001b[0m\u001b[0;34m:\u001b[0m\u001b[0;34m\u001b[0m\u001b[0m\n\u001b[1;32m   2036\u001b[0m         \u001b[0;32mreturn\u001b[0m \u001b[0;34m(\u001b[0m\u001b[0ma\u001b[0m \u001b[0;34m-\u001b[0m \u001b[0mmns\u001b[0m\u001b[0;34m)\u001b[0m \u001b[0;34m/\u001b[0m \u001b[0msstd\u001b[0m\u001b[0;34m\u001b[0m\u001b[0m\n",
        "\u001b[0;31mKeyboardInterrupt\u001b[0m: "
       ]
      }
     ],
     "prompt_number": 194
    },
    {
     "cell_type": "code",
     "collapsed": false,
     "input": [
      "Elagged.shape"
     ],
     "language": "python",
     "metadata": {},
     "outputs": [
      {
       "metadata": {},
       "output_type": "pyout",
       "prompt_number": 201,
       "text": [
        "(48250, 256)"
       ]
      }
     ],
     "prompt_number": 201
    },
    {
     "cell_type": "code",
     "collapsed": false,
     "input": [
      "lag_range = [-0.5, 0] # In seconds, how far back in the past to look (more delays = more time, more weights to fit, slower)\n",
      "window_size = 2.5\n",
      "num_lags = 50\n",
      "fs = 100\n",
      "lags = np.linspace(lag_range[1],lag_range[0],num_lags)\n",
      "boot = 5\n",
      "CV = 'split'\n",
      "Fr2 = np.empty((5,boot,num_lags,10))\n",
      "#Fr2null = np.empty((5,boot,200,50,len(pthA)))\n",
      "Kr2 = np.empty((14,boot,num_lags,10))\n",
      "#Kr2null = np.empty((10,boot,200,50,len(pthA)))\n",
      "prog = ProgressBar(num_lags)\n",
      "for ind,l in enumerate(lags):\n",
      "    nTP = Eall.shape[1]\n",
      "    start = np.floor(nTP - (window_size+abs(l))*fs)\n",
      "    stop = np.floor(nTP+(l*fs))\n",
      "    this_range = np.arange(start,stop).astype(int)\n",
      "    Elagged = Eall[:,this_range,:]\n",
      "    Elagged = np.reshape(Elagged,(Elagged.shape[0],-1),order='F').transpose()\n",
      "    \n",
      "    tmp = pd.DataFrame(Elagged[:,vSMC])\n",
      "    tmp = tmp.fillna(tmp.median(),inplace=True)\n",
      "    tmp = tmp.dropna(axis =1,how='any')\n",
      "    vSMC_HG = tmp.values\n",
      "    nchans = vSMC_HG.shape[1]\n",
      "    clf = PCA(n_components=30)\n",
      "    vSMC_HG = clf.fit_transform(vSMC_HG)\n",
      "\n",
      "    \n",
      "    #Ridge regression\n",
      "    for inda,a in enumerate(np.logspace(0,10,10)):\n",
      "        Fr2[:,:,ind,inda],yhat,score = Ridge_MLR(vSMC_HG, Formants, alpha = a, CV = CV, boot = boot)\n",
      "        #Fr2null[:,:,indt,inda,indS],yhat,score = Ridge_MLR(vSMC_HG, Formants, alpha = a, CV = CV, boot = boot)\n",
      "\n",
      "     #Ridge regression\n",
      "    for inda,a in enumerate(np.logspace(0,10,10)):\n",
      "        Kr2[:,:,ind,inda],yhat,score = Ridge_MLR(vSMC_HG, Kinematics, alpha = a, CV = CV, boot = boot)\n",
      "        #Kr2null[:,:,indt,inda,indS],yhat,score = Ridge_MLR(vSMC_HG, Formants, alpha = a, CV = CV, boot = boot)\n",
      "    prog.animate(ind+1)"
     ],
     "language": "python",
     "metadata": {},
     "outputs": [
      {
       "output_type": "stream",
       "stream": "stdout",
       "text": [
        "\r",
        " [                       0%                       ]"
       ]
      },
      {
       "output_type": "stream",
       "stream": "stdout",
       "text": [
        "\r",
        " [**                     4%                       ]  2 of 50 complete"
       ]
      },
      {
       "output_type": "stream",
       "stream": "stdout",
       "text": [
        "\r",
        " [***                    6%                       ]  3 of 50 complete"
       ]
      },
      {
       "output_type": "stream",
       "stream": "stdout",
       "text": [
        "\r",
        " [****                   8%                       ]  4 of 50 complete"
       ]
      },
      {
       "output_type": "stream",
       "stream": "stdout",
       "text": [
        "\r",
        " [*****                 10%                       ]  5 of 50 complete"
       ]
      },
      {
       "output_type": "stream",
       "stream": "stdout",
       "text": [
        "\r",
        " [******                12%                       ]  6 of 50 complete"
       ]
      },
      {
       "output_type": "stream",
       "stream": "stdout",
       "text": [
        "\r",
        " [*******               14%                       ]  7 of 50 complete"
       ]
      },
      {
       "output_type": "stream",
       "stream": "stdout",
       "text": [
        "\r",
        " [********              16%                       ]  8 of 50 complete"
       ]
      },
      {
       "output_type": "stream",
       "stream": "stdout",
       "text": [
        "\r",
        " [*********             18%                       ]  9 of 50 complete"
       ]
      },
      {
       "output_type": "stream",
       "stream": "stdout",
       "text": [
        "\r",
        " [**********            20%                       ]  10 of 50 complete"
       ]
      },
      {
       "output_type": "stream",
       "stream": "stdout",
       "text": [
        "\r",
        " [***********           22%                       ]  11 of 50 complete"
       ]
      },
      {
       "output_type": "stream",
       "stream": "stdout",
       "text": [
        "\r",
        " [************          24%                       ]  12 of 50 complete"
       ]
      },
      {
       "output_type": "stream",
       "stream": "stdout",
       "text": [
        "\r",
        " [************          26%                       ]  13 of 50 complete"
       ]
      },
      {
       "output_type": "stream",
       "stream": "stdout",
       "text": [
        "\r",
        " [*************         28%                       ]  14 of 50 complete"
       ]
      },
      {
       "output_type": "stream",
       "stream": "stdout",
       "text": [
        "\r",
        " [**************        30%                       ]  15 of 50 complete"
       ]
      },
      {
       "output_type": "stream",
       "stream": "stdout",
       "text": [
        "\r",
        " [***************       32%                       ]  16 of 50 complete"
       ]
      },
      {
       "output_type": "stream",
       "stream": "stdout",
       "text": [
        "\r",
        " [****************      34%                       ]  17 of 50 complete"
       ]
      },
      {
       "output_type": "stream",
       "stream": "stdout",
       "text": [
        "\r",
        " [*****************     36%                       ]  18 of 50 complete"
       ]
      },
      {
       "output_type": "stream",
       "stream": "stdout",
       "text": [
        "\r",
        " [******************    38%                       ]  19 of 50 complete"
       ]
      },
      {
       "output_type": "stream",
       "stream": "stdout",
       "text": [
        "\r",
        " [*******************   40%                       ]  20 of 50 complete"
       ]
      },
      {
       "output_type": "stream",
       "stream": "stdout",
       "text": [
        "\r",
        " [********************  42%                       ]  21 of 50 complete"
       ]
      },
      {
       "output_type": "stream",
       "stream": "stdout",
       "text": [
        "\r",
        " [********************* 44%                       ]  22 of 50 complete"
       ]
      },
      {
       "output_type": "stream",
       "stream": "stdout",
       "text": [
        "\r",
        " [**********************46%                       ]  23 of 50 complete"
       ]
      },
      {
       "output_type": "stream",
       "stream": "stdout",
       "text": [
        "\r",
        " [**********************48%                       ]  24 of 50 complete"
       ]
      },
      {
       "output_type": "stream",
       "stream": "stdout",
       "text": [
        "\r",
        " [**********************50%                       ]  25 of 50 complete"
       ]
      },
      {
       "output_type": "stream",
       "stream": "stdout",
       "text": [
        "\r",
        " [**********************52%                       ]  26 of 50 complete"
       ]
      },
      {
       "output_type": "stream",
       "stream": "stdout",
       "text": [
        "\r",
        " [**********************54%*                      ]  27 of 50 complete"
       ]
      },
      {
       "output_type": "stream",
       "stream": "stdout",
       "text": [
        "\r",
        " [**********************56%**                     ]  28 of 50 complete"
       ]
      },
      {
       "output_type": "stream",
       "stream": "stdout",
       "text": [
        "\r",
        " [**********************58%***                    ]  29 of 50 complete"
       ]
      },
      {
       "output_type": "stream",
       "stream": "stdout",
       "text": [
        "\r",
        " [**********************60%****                   ]  30 of 50 complete"
       ]
      },
      {
       "output_type": "stream",
       "stream": "stdout",
       "text": [
        "\r",
        " [**********************62%*****                  ]  31 of 50 complete"
       ]
      },
      {
       "output_type": "stream",
       "stream": "stdout",
       "text": [
        "\r",
        " [**********************64%******                 ]  32 of 50 complete"
       ]
      },
      {
       "output_type": "stream",
       "stream": "stdout",
       "text": [
        "\r",
        " [**********************66%*******                ]  33 of 50 complete"
       ]
      },
      {
       "output_type": "stream",
       "stream": "stdout",
       "text": [
        "\r",
        " [**********************68%********               ]  34 of 50 complete"
       ]
      },
      {
       "output_type": "stream",
       "stream": "stdout",
       "text": [
        "\r",
        " [**********************70%*********              ]  35 of 50 complete"
       ]
      },
      {
       "output_type": "stream",
       "stream": "stdout",
       "text": [
        "\r",
        " [**********************72%**********             ]  36 of 50 complete"
       ]
      },
      {
       "output_type": "stream",
       "stream": "stdout",
       "text": [
        "\r",
        " [**********************74%***********            ]  37 of 50 complete"
       ]
      },
      {
       "output_type": "stream",
       "stream": "stdout",
       "text": [
        "\r",
        " [**********************76%***********            ]  38 of 50 complete"
       ]
      },
      {
       "output_type": "stream",
       "stream": "stdout",
       "text": [
        "\r",
        " [**********************78%************           ]  39 of 50 complete"
       ]
      },
      {
       "output_type": "stream",
       "stream": "stdout",
       "text": [
        "\r",
        " [**********************80%*************          ]  40 of 50 complete"
       ]
      },
      {
       "output_type": "stream",
       "stream": "stdout",
       "text": [
        "\r",
        " [**********************82%**************         ]  41 of 50 complete"
       ]
      },
      {
       "output_type": "stream",
       "stream": "stdout",
       "text": [
        "\r",
        " [**********************84%***************        ]  42 of 50 complete"
       ]
      },
      {
       "output_type": "stream",
       "stream": "stdout",
       "text": [
        "\r",
        " [**********************86%****************       ]  43 of 50 complete"
       ]
      },
      {
       "output_type": "stream",
       "stream": "stdout",
       "text": [
        "\r",
        " [**********************88%*****************      ]  44 of 50 complete"
       ]
      },
      {
       "output_type": "stream",
       "stream": "stdout",
       "text": [
        "\r",
        " [**********************90%******************     ]  45 of 50 complete"
       ]
      },
      {
       "output_type": "stream",
       "stream": "stdout",
       "text": [
        "\r",
        " [**********************92%*******************    ]  46 of 50 complete"
       ]
      },
      {
       "output_type": "stream",
       "stream": "stdout",
       "text": [
        "\r",
        " [**********************94%********************   ]  47 of 50 complete"
       ]
      },
      {
       "output_type": "stream",
       "stream": "stdout",
       "text": [
        "\r",
        " [**********************96%*********************  ]  48 of 50 complete"
       ]
      },
      {
       "output_type": "stream",
       "stream": "stdout",
       "text": [
        "\r",
        " [**********************98%********************** ]  49 of 50 complete"
       ]
      },
      {
       "output_type": "stream",
       "stream": "stdout",
       "text": [
        "\r",
        " [*********************100%***********************]  50 of 50 complete"
       ]
      }
     ],
     "prompt_number": 212
    },
    {
     "cell_type": "code",
     "collapsed": false,
     "input": [
      "fig = plt.figure(figsize = (10,10))\n",
      "gs1 = gridspec.GridSpec(10,5)\n",
      "\n",
      "\n",
      "ax1 = plt.subplot(gs1[1:5,1:5])\n",
      "plt.pcolor(np.mean(Kr2[:,:,:,0],axis = 1))\n",
      "plt.colorbar()\n",
      "\n",
      "ax2 = plt.subplot(gs1[6:10,1:5])\n",
      "plt.pcolor(np.mean(Kr2[5,:,:,:],axis = 0))\n",
      "plt.colorbar()"
     ],
     "language": "python",
     "metadata": {},
     "outputs": [
      {
       "metadata": {},
       "output_type": "pyout",
       "prompt_number": 213,
       "text": [
        "<matplotlib.colorbar.Colorbar instance at 0x11d566a70>"
       ]
      },
      {
       "metadata": {},
       "output_type": "display_data",
       "png": "[encoded data removed]",
       "text": [
        "<matplotlib.figure.Figure at 0x11a579790>"
       ]
      }
     ],
     "prompt_number": 213
    },
    {
     "cell_type": "code",
     "collapsed": false,
     "input": [
      "fig = plt.figure(figsize = (10,10))\n",
      "gs1 = gridspec.GridSpec(10,5)\n",
      "\n",
      "\n",
      "ax1 = plt.subplot(gs1[1:5,1:5])\n",
      "plt.pcolor(np.mean(Fr2[:,:,:,0],axis = 1))\n",
      "plt.colorbar()\n",
      "\n",
      "ax2 = plt.subplot(gs1[6:10,1:5])\n",
      "plt.pcolor(np.mean(Fr2[0,:,:,:],axis = 0))\n",
      "plt.colorbar()"
     ],
     "language": "python",
     "metadata": {},
     "outputs": [
      {
       "metadata": {},
       "output_type": "pyout",
       "prompt_number": 214,
       "text": [
        "<matplotlib.colorbar.Colorbar instance at 0x11e506440>"
       ]
      },
      {
       "metadata": {},
       "output_type": "display_data",
       "png": "[encoded data removed]",
       "text": [
        "<matplotlib.figure.Figure at 0x11d57a250>"
       ]
      }
     ],
     "prompt_number": 214
    },
    {
     "cell_type": "code",
     "collapsed": false,
     "input": [],
     "language": "python",
     "metadata": {},
     "outputs": []
    }
   ],
   "metadata": {}
  }
 ]
}